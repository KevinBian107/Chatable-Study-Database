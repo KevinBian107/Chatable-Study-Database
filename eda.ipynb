{
 "cells": [
  {
   "cell_type": "markdown",
   "metadata": {},
   "source": [
    "# Explorative Data Analysis\n",
    "For Visualization of the Dataset and some initial transfromation neccessary"
   ]
  },
  {
   "cell_type": "code",
   "execution_count": 157,
   "metadata": {},
   "outputs": [
    {
     "name": "stdout",
     "output_type": "stream",
     "text": [
      "The autoreload extension is already loaded. To reload it, use:\n",
      "  %reload_ext autoreload\n"
     ]
    }
   ],
   "source": [
    "%load_ext autoreload\n",
    "%autoreload 2"
   ]
  },
  {
   "cell_type": "code",
   "execution_count": 158,
   "metadata": {},
   "outputs": [
    {
     "name": "stderr",
     "output_type": "stream",
     "text": [
      "[nltk_data] Downloading package punkt to /Users/kevinb/nltk_data...\n",
      "[nltk_data]   Package punkt is already up-to-date!\n"
     ]
    }
   ],
   "source": [
    "import pandas as pd\n",
    "import numpy as np\n",
    "from pathlib import Path\n",
    "import plotly.express as px\n",
    "pd.options.plotting.backend = 'plotly'\n",
    "from itertools import chain\n",
    "import re\n",
    "import nltk\n",
    "nltk.download('punkt')\n",
    "\n",
    "from utils.eda import *"
   ]
  },
  {
   "cell_type": "code",
   "execution_count": 159,
   "metadata": {},
   "outputs": [],
   "source": [
    "# study time\n",
    "fall_2022 = pd.read_csv('data/2022_fall_study.csv')\n",
    "winter_2023 = pd.read_csv('data/2023_winter_study.csv')\n",
    "spring_2023 = pd.read_csv('data/2023_spring_study.csv')\n",
    "summer_2023 = pd.read_csv('data/2023_summer_study.csv')\n",
    "fall_2023 = pd.read_csv('data/2023_fall_study.csv')\n",
    "winter_2024 = pd.read_csv('data/2024_winter_study.csv')\n",
    "spring_2024 = pd.read_csv('data/2024_spring_study.csv')\n",
    "\n",
    "# text data\n",
    "fall_2022_text = pd.read_csv('data/2022_fall_text.csv')\n",
    "winter_2023_text = pd.read_csv('data/2023_winter_text.csv')\n",
    "spring_2023_text = pd.read_csv('data/2023_spring_text.csv')\n",
    "summer_2023_text = pd.read_csv('data/2023_summer_text.csv')\n",
    "fall_2023_text = pd.read_csv('data/2023_fall_text.csv')\n",
    "winter_2024_text = pd.read_csv('data/2024_winter_text.csv')"
   ]
  },
  {
   "cell_type": "code",
   "execution_count": 160,
   "metadata": {},
   "outputs": [],
   "source": [
    "# Initial Concat\n",
    "study = pd.concat([fall_2022, winter_2023, spring_2023, summer_2023, fall_2023, winter_2024, spring_2024], axis=0)\n",
    "text = pd.concat([fall_2022_text, winter_2023_text, spring_2023_text, summer_2023_text, fall_2023_text, winter_2024_text], axis=0)"
   ]
  },
  {
   "cell_type": "code",
   "execution_count": 161,
   "metadata": {},
   "outputs": [],
   "source": [
    "clean_study = study.pipe(transform_study)\n",
    "clean_text = text.pipe(transform_text)"
   ]
  },
  {
   "cell_type": "code",
   "execution_count": 162,
   "metadata": {},
   "outputs": [
    {
     "data": {
      "text/plain": [
       "Index(['date', 'total', 'doc1', 'cogs9', 'pp_fall22', 'exam',\n",
       "       'reading_winter23', 'pp_winter23', 'math20c', 'dsc20', 'bild1',\n",
       "       'bild22', 'cogs87', 'doc2', 'training_spring23', 'reading_spring23',\n",
       "       'pp_spring23', 'cogs14a', 'cogs17', 'dsc30', 'math20e', 'doc3',\n",
       "       'training_summer23', 'reading_summer23', 'pp_summer23',\n",
       "       'ds_summer_project', 'dsc40a', 'week', 'training_fall23', 'ex_phys',\n",
       "       'fmp_fall23', 'cogs153', 'cogs107a', 'cogs14b', 'dsc40b', 'math180a',\n",
       "       'kdd/ds3/tnt', 'pp_fall23', 'training_winter24', 'salk_winter24',\n",
       "       'cse257', 'dsc80', 'cogs107b', 'math180b', 'fmp_winter24',\n",
       "       'pp_winter24', 'salk_spring24', 'dsc140a', 'dsc140b', 'math180c',\n",
       "       'math181a', 'cogs107c', 'psyc137', 'dsc106', 'cse150b', 'fmp_spring24',\n",
       "       'pp_spring24', 'math18', 'dsc10', 'math20b'],\n",
       "      dtype='object')"
      ]
     },
     "execution_count": 162,
     "metadata": {},
     "output_type": "execute_result"
    }
   ],
   "source": [
    "clean_study.columns"
   ]
  },
  {
   "cell_type": "code",
   "execution_count": 163,
   "metadata": {},
   "outputs": [
    {
     "data": {
      "text/plain": [
       "['book',\n",
       " 'read',\n",
       " '',\n",
       " 'doc_2',\n",
       " 'p3',\n",
       " 'part2',\n",
       " '',\n",
       " 'terms',\n",
       " 'of',\n",
       " 'organic',\n",
       " 'body',\n",
       " '',\n",
       " 'cogs_87',\n",
       " '',\n",
       " 'dsc_20',\n",
       " 'complexity',\n",
       " '',\n",
       " 'math_20c',\n",
       " 'question',\n",
       " '']"
      ]
     },
     "execution_count": 163,
     "metadata": {},
     "output_type": "execute_result"
    }
   ],
   "source": [
    "clean_text.pipe(tokenize)[:20]"
   ]
  },
  {
   "cell_type": "code",
   "execution_count": 164,
   "metadata": {},
   "outputs": [
    {
     "data": {
      "text/plain": [
       "8268"
      ]
     },
     "execution_count": 164,
     "metadata": {},
     "output_type": "execute_result"
    }
   ],
   "source": [
    "pre_process = (clean_text['Study Materials']\n",
    "              .str.lower()\n",
    "              .str.replace(r'\\([\\d]*m\\)','',regex=True)\n",
    "              .str.replace(',','')\n",
    "              .str.strip())\n",
    "\n",
    "corpus = ' '.join(pre_process.astype(str).to_list())\n",
    "tokens = nltk.tokenize.word_tokenize(corpus, language='english')\n",
    "len(tokens)"
   ]
  },
  {
   "cell_type": "code",
   "execution_count": 165,
   "metadata": {},
   "outputs": [
    {
     "data": {
      "text/html": [
       "<div>\n",
       "<style scoped>\n",
       "    .dataframe tbody tr th:only-of-type {\n",
       "        vertical-align: middle;\n",
       "    }\n",
       "\n",
       "    .dataframe tbody tr th {\n",
       "        vertical-align: top;\n",
       "    }\n",
       "\n",
       "    .dataframe thead th {\n",
       "        text-align: right;\n",
       "    }\n",
       "</style>\n",
       "<table border=\"1\" class=\"dataframe\">\n",
       "  <thead>\n",
       "    <tr style=\"text-align: right;\">\n",
       "      <th></th>\n",
       "      <th>date</th>\n",
       "      <th>total</th>\n",
       "      <th>doc1</th>\n",
       "      <th>cogs9</th>\n",
       "      <th>pp_fall22</th>\n",
       "      <th>exam</th>\n",
       "      <th>reading_winter23</th>\n",
       "      <th>pp_winter23</th>\n",
       "      <th>math20c</th>\n",
       "      <th>dsc20</th>\n",
       "      <th>...</th>\n",
       "      <th>math181a</th>\n",
       "      <th>cogs107c</th>\n",
       "      <th>psyc137</th>\n",
       "      <th>dsc106</th>\n",
       "      <th>cse150b</th>\n",
       "      <th>fmp_spring24</th>\n",
       "      <th>pp_spring24</th>\n",
       "      <th>math18</th>\n",
       "      <th>dsc10</th>\n",
       "      <th>math20b</th>\n",
       "    </tr>\n",
       "  </thead>\n",
       "  <tbody>\n",
       "    <tr>\n",
       "      <th>0</th>\n",
       "      <td>2022-10-21</td>\n",
       "      <td>1.800000</td>\n",
       "      <td>0.000000</td>\n",
       "      <td>0.000000</td>\n",
       "      <td>0.000000</td>\n",
       "      <td>0.525</td>\n",
       "      <td>0.0</td>\n",
       "      <td>0.0</td>\n",
       "      <td>0.0</td>\n",
       "      <td>0.0</td>\n",
       "      <td>...</td>\n",
       "      <td>0.000000</td>\n",
       "      <td>0.000000</td>\n",
       "      <td>0.0</td>\n",
       "      <td>0.0</td>\n",
       "      <td>0.0</td>\n",
       "      <td>0.0</td>\n",
       "      <td>0.000000</td>\n",
       "      <td>1.025000</td>\n",
       "      <td>0.225</td>\n",
       "      <td>0.208333</td>\n",
       "    </tr>\n",
       "    <tr>\n",
       "      <th>1</th>\n",
       "      <td>2022-10-22</td>\n",
       "      <td>4.550000</td>\n",
       "      <td>0.000000</td>\n",
       "      <td>0.000000</td>\n",
       "      <td>0.000000</td>\n",
       "      <td>0.000</td>\n",
       "      <td>0.0</td>\n",
       "      <td>0.0</td>\n",
       "      <td>0.0</td>\n",
       "      <td>0.0</td>\n",
       "      <td>...</td>\n",
       "      <td>0.000000</td>\n",
       "      <td>0.000000</td>\n",
       "      <td>0.0</td>\n",
       "      <td>0.0</td>\n",
       "      <td>0.0</td>\n",
       "      <td>0.0</td>\n",
       "      <td>0.000000</td>\n",
       "      <td>0.608333</td>\n",
       "      <td>1.700</td>\n",
       "      <td>1.125000</td>\n",
       "    </tr>\n",
       "    <tr>\n",
       "      <th>2</th>\n",
       "      <td>2022-10-23</td>\n",
       "      <td>2.375000</td>\n",
       "      <td>0.208333</td>\n",
       "      <td>0.000000</td>\n",
       "      <td>0.000000</td>\n",
       "      <td>0.000</td>\n",
       "      <td>0.0</td>\n",
       "      <td>0.0</td>\n",
       "      <td>0.0</td>\n",
       "      <td>0.0</td>\n",
       "      <td>...</td>\n",
       "      <td>0.000000</td>\n",
       "      <td>0.000000</td>\n",
       "      <td>0.0</td>\n",
       "      <td>0.0</td>\n",
       "      <td>0.0</td>\n",
       "      <td>0.0</td>\n",
       "      <td>0.000000</td>\n",
       "      <td>0.612500</td>\n",
       "      <td>0.875</td>\n",
       "      <td>0.558333</td>\n",
       "    </tr>\n",
       "    <tr>\n",
       "      <th>3</th>\n",
       "      <td>2022-10-24</td>\n",
       "      <td>2.450000</td>\n",
       "      <td>0.250000</td>\n",
       "      <td>0.158333</td>\n",
       "      <td>0.000000</td>\n",
       "      <td>0.000</td>\n",
       "      <td>0.0</td>\n",
       "      <td>0.0</td>\n",
       "      <td>0.0</td>\n",
       "      <td>0.0</td>\n",
       "      <td>...</td>\n",
       "      <td>0.000000</td>\n",
       "      <td>0.000000</td>\n",
       "      <td>0.0</td>\n",
       "      <td>0.0</td>\n",
       "      <td>0.0</td>\n",
       "      <td>0.0</td>\n",
       "      <td>0.000000</td>\n",
       "      <td>1.475000</td>\n",
       "      <td>0.250</td>\n",
       "      <td>0.191667</td>\n",
       "    </tr>\n",
       "    <tr>\n",
       "      <th>4</th>\n",
       "      <td>2022-10-25</td>\n",
       "      <td>3.691667</td>\n",
       "      <td>0.100000</td>\n",
       "      <td>0.000000</td>\n",
       "      <td>0.483333</td>\n",
       "      <td>0.000</td>\n",
       "      <td>0.0</td>\n",
       "      <td>0.0</td>\n",
       "      <td>0.0</td>\n",
       "      <td>0.0</td>\n",
       "      <td>...</td>\n",
       "      <td>0.000000</td>\n",
       "      <td>0.000000</td>\n",
       "      <td>0.0</td>\n",
       "      <td>0.0</td>\n",
       "      <td>0.0</td>\n",
       "      <td>0.0</td>\n",
       "      <td>0.000000</td>\n",
       "      <td>1.125000</td>\n",
       "      <td>0.750</td>\n",
       "      <td>1.216667</td>\n",
       "    </tr>\n",
       "    <tr>\n",
       "      <th>...</th>\n",
       "      <td>...</td>\n",
       "      <td>...</td>\n",
       "      <td>...</td>\n",
       "      <td>...</td>\n",
       "      <td>...</td>\n",
       "      <td>...</td>\n",
       "      <td>...</td>\n",
       "      <td>...</td>\n",
       "      <td>...</td>\n",
       "      <td>...</td>\n",
       "      <td>...</td>\n",
       "      <td>...</td>\n",
       "      <td>...</td>\n",
       "      <td>...</td>\n",
       "      <td>...</td>\n",
       "      <td>...</td>\n",
       "      <td>...</td>\n",
       "      <td>...</td>\n",
       "      <td>...</td>\n",
       "      <td>...</td>\n",
       "      <td>...</td>\n",
       "    </tr>\n",
       "    <tr>\n",
       "      <th>497</th>\n",
       "      <td>2024-06-10</td>\n",
       "      <td>11.833333</td>\n",
       "      <td>0.000000</td>\n",
       "      <td>0.000000</td>\n",
       "      <td>0.000000</td>\n",
       "      <td>0.000</td>\n",
       "      <td>0.0</td>\n",
       "      <td>0.0</td>\n",
       "      <td>0.0</td>\n",
       "      <td>0.0</td>\n",
       "      <td>...</td>\n",
       "      <td>0.000000</td>\n",
       "      <td>3.833333</td>\n",
       "      <td>0.0</td>\n",
       "      <td>0.0</td>\n",
       "      <td>0.0</td>\n",
       "      <td>0.0</td>\n",
       "      <td>3.833333</td>\n",
       "      <td>0.000000</td>\n",
       "      <td>0.000</td>\n",
       "      <td>0.000000</td>\n",
       "    </tr>\n",
       "    <tr>\n",
       "      <th>498</th>\n",
       "      <td>2024-06-11</td>\n",
       "      <td>11.833333</td>\n",
       "      <td>0.000000</td>\n",
       "      <td>0.000000</td>\n",
       "      <td>0.000000</td>\n",
       "      <td>0.000</td>\n",
       "      <td>0.0</td>\n",
       "      <td>0.0</td>\n",
       "      <td>0.0</td>\n",
       "      <td>0.0</td>\n",
       "      <td>...</td>\n",
       "      <td>2.500000</td>\n",
       "      <td>1.500000</td>\n",
       "      <td>0.0</td>\n",
       "      <td>0.0</td>\n",
       "      <td>0.0</td>\n",
       "      <td>0.0</td>\n",
       "      <td>0.000000</td>\n",
       "      <td>0.000000</td>\n",
       "      <td>0.000</td>\n",
       "      <td>0.000000</td>\n",
       "    </tr>\n",
       "    <tr>\n",
       "      <th>499</th>\n",
       "      <td>2024-06-12</td>\n",
       "      <td>12.583333</td>\n",
       "      <td>0.000000</td>\n",
       "      <td>0.000000</td>\n",
       "      <td>0.000000</td>\n",
       "      <td>0.000</td>\n",
       "      <td>0.0</td>\n",
       "      <td>0.0</td>\n",
       "      <td>0.0</td>\n",
       "      <td>0.0</td>\n",
       "      <td>...</td>\n",
       "      <td>7.000000</td>\n",
       "      <td>0.000000</td>\n",
       "      <td>0.0</td>\n",
       "      <td>0.0</td>\n",
       "      <td>0.0</td>\n",
       "      <td>0.0</td>\n",
       "      <td>0.000000</td>\n",
       "      <td>0.000000</td>\n",
       "      <td>0.000</td>\n",
       "      <td>0.000000</td>\n",
       "    </tr>\n",
       "    <tr>\n",
       "      <th>500</th>\n",
       "      <td>2024-06-13</td>\n",
       "      <td>10.666667</td>\n",
       "      <td>0.000000</td>\n",
       "      <td>0.000000</td>\n",
       "      <td>0.000000</td>\n",
       "      <td>0.000</td>\n",
       "      <td>0.0</td>\n",
       "      <td>0.0</td>\n",
       "      <td>0.0</td>\n",
       "      <td>0.0</td>\n",
       "      <td>...</td>\n",
       "      <td>9.166667</td>\n",
       "      <td>0.000000</td>\n",
       "      <td>0.0</td>\n",
       "      <td>0.0</td>\n",
       "      <td>0.0</td>\n",
       "      <td>0.0</td>\n",
       "      <td>0.000000</td>\n",
       "      <td>0.000000</td>\n",
       "      <td>0.000</td>\n",
       "      <td>0.000000</td>\n",
       "    </tr>\n",
       "    <tr>\n",
       "      <th>501</th>\n",
       "      <td>2024-06-14</td>\n",
       "      <td>9.666667</td>\n",
       "      <td>0.000000</td>\n",
       "      <td>0.000000</td>\n",
       "      <td>0.000000</td>\n",
       "      <td>0.000</td>\n",
       "      <td>0.0</td>\n",
       "      <td>0.0</td>\n",
       "      <td>0.0</td>\n",
       "      <td>0.0</td>\n",
       "      <td>...</td>\n",
       "      <td>6.833333</td>\n",
       "      <td>2.000000</td>\n",
       "      <td>0.0</td>\n",
       "      <td>0.0</td>\n",
       "      <td>0.0</td>\n",
       "      <td>0.0</td>\n",
       "      <td>0.000000</td>\n",
       "      <td>0.000000</td>\n",
       "      <td>0.000</td>\n",
       "      <td>0.000000</td>\n",
       "    </tr>\n",
       "  </tbody>\n",
       "</table>\n",
       "<p>502 rows × 60 columns</p>\n",
       "</div>"
      ],
      "text/plain": [
       "          date      total      doc1     cogs9  pp_fall22   exam  \\\n",
       "0   2022-10-21   1.800000  0.000000  0.000000   0.000000  0.525   \n",
       "1   2022-10-22   4.550000  0.000000  0.000000   0.000000  0.000   \n",
       "2   2022-10-23   2.375000  0.208333  0.000000   0.000000  0.000   \n",
       "3   2022-10-24   2.450000  0.250000  0.158333   0.000000  0.000   \n",
       "4   2022-10-25   3.691667  0.100000  0.000000   0.483333  0.000   \n",
       "..         ...        ...       ...       ...        ...    ...   \n",
       "497 2024-06-10  11.833333  0.000000  0.000000   0.000000  0.000   \n",
       "498 2024-06-11  11.833333  0.000000  0.000000   0.000000  0.000   \n",
       "499 2024-06-12  12.583333  0.000000  0.000000   0.000000  0.000   \n",
       "500 2024-06-13  10.666667  0.000000  0.000000   0.000000  0.000   \n",
       "501 2024-06-14   9.666667  0.000000  0.000000   0.000000  0.000   \n",
       "\n",
       "     reading_winter23  pp_winter23  math20c  dsc20  ...  math181a  cogs107c  \\\n",
       "0                 0.0          0.0      0.0    0.0  ...  0.000000  0.000000   \n",
       "1                 0.0          0.0      0.0    0.0  ...  0.000000  0.000000   \n",
       "2                 0.0          0.0      0.0    0.0  ...  0.000000  0.000000   \n",
       "3                 0.0          0.0      0.0    0.0  ...  0.000000  0.000000   \n",
       "4                 0.0          0.0      0.0    0.0  ...  0.000000  0.000000   \n",
       "..                ...          ...      ...    ...  ...       ...       ...   \n",
       "497               0.0          0.0      0.0    0.0  ...  0.000000  3.833333   \n",
       "498               0.0          0.0      0.0    0.0  ...  2.500000  1.500000   \n",
       "499               0.0          0.0      0.0    0.0  ...  7.000000  0.000000   \n",
       "500               0.0          0.0      0.0    0.0  ...  9.166667  0.000000   \n",
       "501               0.0          0.0      0.0    0.0  ...  6.833333  2.000000   \n",
       "\n",
       "     psyc137  dsc106  cse150b  fmp_spring24  pp_spring24    math18  dsc10  \\\n",
       "0        0.0     0.0      0.0           0.0     0.000000  1.025000  0.225   \n",
       "1        0.0     0.0      0.0           0.0     0.000000  0.608333  1.700   \n",
       "2        0.0     0.0      0.0           0.0     0.000000  0.612500  0.875   \n",
       "3        0.0     0.0      0.0           0.0     0.000000  1.475000  0.250   \n",
       "4        0.0     0.0      0.0           0.0     0.000000  1.125000  0.750   \n",
       "..       ...     ...      ...           ...          ...       ...    ...   \n",
       "497      0.0     0.0      0.0           0.0     3.833333  0.000000  0.000   \n",
       "498      0.0     0.0      0.0           0.0     0.000000  0.000000  0.000   \n",
       "499      0.0     0.0      0.0           0.0     0.000000  0.000000  0.000   \n",
       "500      0.0     0.0      0.0           0.0     0.000000  0.000000  0.000   \n",
       "501      0.0     0.0      0.0           0.0     0.000000  0.000000  0.000   \n",
       "\n",
       "      math20b  \n",
       "0    0.208333  \n",
       "1    1.125000  \n",
       "2    0.558333  \n",
       "3    0.191667  \n",
       "4    1.216667  \n",
       "..        ...  \n",
       "497  0.000000  \n",
       "498  0.000000  \n",
       "499  0.000000  \n",
       "500  0.000000  \n",
       "501  0.000000  \n",
       "\n",
       "[502 rows x 60 columns]"
      ]
     },
     "execution_count": 165,
     "metadata": {},
     "output_type": "execute_result"
    }
   ],
   "source": [
    "clean_study"
   ]
  },
  {
   "cell_type": "code",
   "execution_count": 166,
   "metadata": {},
   "outputs": [],
   "source": [
    "df = clean_study.drop(columns=['total','exam','week'])\n",
    "\n",
    "# Selecting 77 entries from the start of non-zero values for each column\n",
    "relevant_data = pd.DataFrame(index=range(77))  # Empty DataFrame with 77 rows\n",
    "\n",
    "for column in df.columns:\n",
    "    if df[column].dtype in [np.float64, np.int64]:  # Only apply to numeric columns\n",
    "        start_index = df[column].ne(0).idxmax()  # Find first non-zero index\n",
    "        # Check if there are at least 77 entries to slice, if not, adjust the range\n",
    "        end_index = min(start_index + 77, len(df))\n",
    "        relevant_data[column] = df[column][start_index:end_index].reset_index(drop=True)\n",
    "\n",
    "# Calculating median, mean, max, min, and standard deviation\n",
    "statistics = {}\n",
    "for column in relevant_data.columns:\n",
    "    if relevant_data[column].dtype in [np.float64, np.int64]:  # Apply only to numeric columns\n",
    "        statistics[column] = {\n",
    "            'Mean': relevant_data[column].mean(),\n",
    "            'Median': relevant_data[column].median(),\n",
    "            'Max': relevant_data[column].max(),\n",
    "            'Min': relevant_data[column].min(),\n",
    "            'Standard Deviation': relevant_data[column].std()\n",
    "        }\n",
    "\n",
    "# Convert the dictionary to DataFrame for better visualization\n",
    "stats_df = pd.DataFrame(statistics).T  # Transpose to get columns as Mean, Median, etc.\n",
    "\n",
    "stats_df = stats_df.sort_index()"
   ]
  },
  {
   "cell_type": "code",
   "execution_count": 167,
   "metadata": {},
   "outputs": [],
   "source": [
    "# df = clean_study.drop(columns=['total','exam','week'])\n",
    "\n",
    "# # Selecting 77 entries from the start of non-zero values for each column\n",
    "# relevant_data = pd.DataFrame()\n",
    "\n",
    "# for column in df.columns:\n",
    "#     if df[column].dtype in [np.float64, np.int64]:  # Only apply to numeric columns\n",
    "#         start_index = df[column].ne(0).idxmax()  # First non-zero index\n",
    "#         end_index = min(start_index + 77, len(df))\n",
    "#         relevant_data[column] = df[column][start_index:end_index].reset_index(drop=True)\n",
    "\n",
    "# # Calculate statistics\n",
    "# stats_df = pd.DataFrame({\n",
    "#     'Max': relevant_data.max(),\n",
    "#     'Min': relevant_data.min(),\n",
    "#     'Mean': relevant_data.mean(),\n",
    "#     'Median': relevant_data.median(),\n",
    "#     'Standard Deviation': relevant_data.std()\n",
    "# })\n",
    "\n",
    "# stats_df = stats_df.sort_index()\n",
    "\n",
    "# stats_df.sort_index()"
   ]
  },
  {
   "cell_type": "code",
   "execution_count": 168,
   "metadata": {},
   "outputs": [
    {
     "data": {
      "application/vnd.plotly.v1+json": {
       "config": {
        "plotlyServerURL": "https://plot.ly"
       },
       "data": [
        {
         "name": "Max",
         "orientation": "h",
         "type": "bar",
         "x": [
          1.8333333333333333,
          3,
          2.5,
          3.3333333333333335,
          3.8333333333333335,
          1.5,
          2.55,
          2.25,
          7,
          2,
          2.5833333333333335,
          8.75,
          3,
          1.8333333333333333,
          2,
          4,
          5.333333333333333,
          3.033333333333333,
          6.833333333333333,
          6.5,
          7.75,
          4.683333333333334,
          8.333333333333334,
          5,
          5.583333333333333,
          9.633333333333333,
          3.75,
          4.166666666666667,
          4.333333333333333,
          2,
          2.6333333333333333,
          5.166666666666667,
          5,
          6.166666666666667,
          4.333333333333333,
          9.166666666666666,
          4.133333333333334,
          3.3333333333333335,
          3,
          5.1,
          5.833333333333333,
          8.333333333333334,
          8.833333333333334,
          6.833333333333333,
          5.166666666666667,
          5,
          1.8333333333333333,
          5.5,
          4,
          3.4166666666666665,
          7.5,
          8.916666666666666,
          12,
          3.8333333333333335,
          4,
          2
         ],
         "xaxis": "x",
         "y": [
          "bild1",
          "bild22",
          "cogs107a",
          "cogs107b",
          "cogs107c",
          "cogs14a",
          "cogs14b",
          "cogs153",
          "cogs17",
          "cogs87",
          "cogs9",
          "cse150b",
          "cse257",
          "doc1",
          "doc2",
          "doc3",
          "ds_summer_project",
          "dsc10",
          "dsc106",
          "dsc140a",
          "dsc140b",
          "dsc20",
          "dsc30",
          "dsc40a",
          "dsc40b",
          "dsc80",
          "ex_phys",
          "fmp_fall23",
          "fmp_spring24",
          "fmp_winter24",
          "kdd/ds3/tnt",
          "math18",
          "math180a",
          "math180b",
          "math180c",
          "math181a",
          "math20b",
          "math20c",
          "math20e",
          "pp_fall22",
          "pp_fall23",
          "pp_spring23",
          "pp_spring24",
          "pp_summer23",
          "pp_winter23",
          "pp_winter24",
          "psyc137",
          "reading_spring23",
          "reading_summer23",
          "reading_winter23",
          "salk_spring24",
          "salk_winter24",
          "training_fall23",
          "training_spring23",
          "training_summer23",
          "training_winter24"
         ],
         "yaxis": "y"
        },
        {
         "name": "Min",
         "orientation": "h",
         "type": "bar",
         "x": [
          0,
          0,
          0,
          0,
          0,
          0,
          0,
          0,
          0,
          0,
          0,
          0,
          0,
          0,
          0,
          0,
          0,
          0,
          0,
          0,
          0,
          0,
          0,
          0,
          0,
          0,
          0,
          0,
          0,
          0,
          0,
          0,
          0,
          0,
          0,
          0,
          0,
          0,
          0,
          0,
          0,
          0,
          0,
          0,
          0,
          0,
          0,
          0,
          0,
          0,
          0,
          0,
          0,
          0,
          0,
          0
         ],
         "xaxis": "x2",
         "y": [
          "bild1",
          "bild22",
          "cogs107a",
          "cogs107b",
          "cogs107c",
          "cogs14a",
          "cogs14b",
          "cogs153",
          "cogs17",
          "cogs87",
          "cogs9",
          "cse150b",
          "cse257",
          "doc1",
          "doc2",
          "doc3",
          "ds_summer_project",
          "dsc10",
          "dsc106",
          "dsc140a",
          "dsc140b",
          "dsc20",
          "dsc30",
          "dsc40a",
          "dsc40b",
          "dsc80",
          "ex_phys",
          "fmp_fall23",
          "fmp_spring24",
          "fmp_winter24",
          "kdd/ds3/tnt",
          "math18",
          "math180a",
          "math180b",
          "math180c",
          "math181a",
          "math20b",
          "math20c",
          "math20e",
          "pp_fall22",
          "pp_fall23",
          "pp_spring23",
          "pp_spring24",
          "pp_summer23",
          "pp_winter23",
          "pp_winter24",
          "psyc137",
          "reading_spring23",
          "reading_summer23",
          "reading_winter23",
          "salk_spring24",
          "salk_winter24",
          "training_fall23",
          "training_spring23",
          "training_summer23",
          "training_winter24"
         ],
         "yaxis": "y2"
        },
        {
         "name": "Mean",
         "orientation": "h",
         "type": "bar",
         "x": [
          0.2783549783549783,
          0.2495670995670996,
          0.2727272727272727,
          0.6266233766233766,
          0.7927927927927929,
          0.1158008658008658,
          0.23484848484848483,
          0.28614718614718615,
          0.4372294372294372,
          0.09567099567099567,
          0.26594516594516593,
          1.1452380952380952,
          0.32142857142857145,
          0.1268939393939394,
          0.20303030303030303,
          0.30043290043290044,
          0.5898268398268398,
          0.6255050505050506,
          0.668918918918919,
          1.9844444444444447,
          1.6283783783783783,
          1.429004329004329,
          2.0883116883116886,
          0.9123376623376623,
          1.1320346320346322,
          3.7106060606060605,
          0.875974025974026,
          0.7316017316017316,
          0.15427927927927926,
          0.12337662337662338,
          0.19220779220779216,
          0.719462481962482,
          0.9818181818181819,
          1.2543290043290043,
          0.5585585585585585,
          1.461111111111111,
          0.44202741702741705,
          0.7583333333333333,
          0.5909090909090909,
          0.3275974025974026,
          0.7651515151515151,
          1.8268398268398267,
          0.8896103896103896,
          1.4047619047619047,
          1.3598484848484849,
          0.6525974025974027,
          0.12387387387387387,
          0.5670995670995671,
          0.2359307359307359,
          0.3097402597402597,
          1.5476190476190477,
          2.672510822510822,
          1.0259740259740258,
          0.1601731601731602,
          0.8095238095238095,
          0.7976190476190476
         ],
         "xaxis": "x3",
         "y": [
          "bild1",
          "bild22",
          "cogs107a",
          "cogs107b",
          "cogs107c",
          "cogs14a",
          "cogs14b",
          "cogs153",
          "cogs17",
          "cogs87",
          "cogs9",
          "cse150b",
          "cse257",
          "doc1",
          "doc2",
          "doc3",
          "ds_summer_project",
          "dsc10",
          "dsc106",
          "dsc140a",
          "dsc140b",
          "dsc20",
          "dsc30",
          "dsc40a",
          "dsc40b",
          "dsc80",
          "ex_phys",
          "fmp_fall23",
          "fmp_spring24",
          "fmp_winter24",
          "kdd/ds3/tnt",
          "math18",
          "math180a",
          "math180b",
          "math180c",
          "math181a",
          "math20b",
          "math20c",
          "math20e",
          "pp_fall22",
          "pp_fall23",
          "pp_spring23",
          "pp_spring24",
          "pp_summer23",
          "pp_winter23",
          "pp_winter24",
          "psyc137",
          "reading_spring23",
          "reading_summer23",
          "reading_winter23",
          "salk_spring24",
          "salk_winter24",
          "training_fall23",
          "training_spring23",
          "training_summer23",
          "training_winter24"
         ],
         "yaxis": "y3"
        },
        {
         "name": "Median",
         "orientation": "h",
         "type": "bar",
         "x": [
          0,
          0,
          0,
          0,
          0,
          0,
          0,
          0,
          0,
          0,
          0,
          0,
          0,
          0,
          0,
          0,
          0,
          0,
          0,
          1.8333333333333333,
          1.5,
          1.3333333333333333,
          1.5,
          0,
          0.6666666666666666,
          3.75,
          0.4166666666666667,
          0,
          0,
          0,
          0,
          0,
          0.75,
          1,
          0,
          1,
          0,
          0.5833333333333334,
          0.16666666666666666,
          0,
          0,
          1.4166666666666667,
          0,
          0.75,
          1,
          0.3333333333333333,
          0,
          0,
          0,
          0,
          1,
          2,
          1,
          0,
          0,
          1
         ],
         "xaxis": "x4",
         "y": [
          "bild1",
          "bild22",
          "cogs107a",
          "cogs107b",
          "cogs107c",
          "cogs14a",
          "cogs14b",
          "cogs153",
          "cogs17",
          "cogs87",
          "cogs9",
          "cse150b",
          "cse257",
          "doc1",
          "doc2",
          "doc3",
          "ds_summer_project",
          "dsc10",
          "dsc106",
          "dsc140a",
          "dsc140b",
          "dsc20",
          "dsc30",
          "dsc40a",
          "dsc40b",
          "dsc80",
          "ex_phys",
          "fmp_fall23",
          "fmp_spring24",
          "fmp_winter24",
          "kdd/ds3/tnt",
          "math18",
          "math180a",
          "math180b",
          "math180c",
          "math181a",
          "math20b",
          "math20c",
          "math20e",
          "pp_fall22",
          "pp_fall23",
          "pp_spring23",
          "pp_spring24",
          "pp_summer23",
          "pp_winter23",
          "pp_winter24",
          "psyc137",
          "reading_spring23",
          "reading_summer23",
          "reading_winter23",
          "salk_spring24",
          "salk_winter24",
          "training_fall23",
          "training_spring23",
          "training_summer23",
          "training_winter24"
         ],
         "yaxis": "y4"
        },
        {
         "name": "Standard Deviation",
         "orientation": "h",
         "type": "bar",
         "x": [
          0.39895756834304313,
          0.5807396852818081,
          0.5427008285059378,
          0.9065037091537471,
          1.0015440175979835,
          0.3141857584581994,
          0.5423051690070255,
          0.4999883229440748,
          1.0102866252143299,
          0.3192004196045957,
          0.5160572245467986,
          1.6637465792629602,
          0.7783053318850952,
          0.32579647221511626,
          0.41339705996366605,
          0.7324055835303002,
          1.2556717984917298,
          0.9100164112143719,
          1.2026395510854615,
          1.8611068531169075,
          1.6323049826986513,
          1.267458208930189,
          2.0320460135014953,
          1.5420457158421388,
          1.3399882337621845,
          2.657986020718893,
          1.020450585269709,
          0.9761055526025472,
          0.6284240200220879,
          0.3688854294894527,
          0.5222504189695986,
          1.1020218164895692,
          1.1559728625295826,
          1.3667613429909642,
          1.0371458730443521,
          1.807575677483471,
          0.7654486137537552,
          0.7627354396363086,
          0.8174116967463038,
          0.8607913405590629,
          1.2926727316179378,
          1.9013387016809793,
          1.6968991304941852,
          1.7921875153637143,
          1.3000173801643573,
          0.9658271647134531,
          0.42205268739422813,
          1.0806342017387969,
          0.6792134303944911,
          0.6439572391078051,
          1.7406511231426909,
          2.4702243876013834,
          1.495928913787666,
          0.5273524005978771,
          1.0485175715000492,
          0.7062570927331795
         ],
         "xaxis": "x5",
         "y": [
          "bild1",
          "bild22",
          "cogs107a",
          "cogs107b",
          "cogs107c",
          "cogs14a",
          "cogs14b",
          "cogs153",
          "cogs17",
          "cogs87",
          "cogs9",
          "cse150b",
          "cse257",
          "doc1",
          "doc2",
          "doc3",
          "ds_summer_project",
          "dsc10",
          "dsc106",
          "dsc140a",
          "dsc140b",
          "dsc20",
          "dsc30",
          "dsc40a",
          "dsc40b",
          "dsc80",
          "ex_phys",
          "fmp_fall23",
          "fmp_spring24",
          "fmp_winter24",
          "kdd/ds3/tnt",
          "math18",
          "math180a",
          "math180b",
          "math180c",
          "math181a",
          "math20b",
          "math20c",
          "math20e",
          "pp_fall22",
          "pp_fall23",
          "pp_spring23",
          "pp_spring24",
          "pp_summer23",
          "pp_winter23",
          "pp_winter24",
          "psyc137",
          "reading_spring23",
          "reading_summer23",
          "reading_winter23",
          "salk_spring24",
          "salk_winter24",
          "training_fall23",
          "training_spring23",
          "training_summer23",
          "training_winter24"
         ],
         "yaxis": "y5"
        }
       ],
       "layout": {
        "annotations": [
         {
          "font": {
           "size": 16
          },
          "showarrow": false,
          "text": "Maximum Study Time Per Day",
          "x": 0.5,
          "xanchor": "center",
          "xref": "paper",
          "y": 1,
          "yanchor": "bottom",
          "yref": "paper"
         },
         {
          "font": {
           "size": 16
          },
          "showarrow": false,
          "text": "Minimum Study Time Per Day",
          "x": 0.5,
          "xanchor": "center",
          "xref": "paper",
          "y": 0.796,
          "yanchor": "bottom",
          "yref": "paper"
         },
         {
          "font": {
           "size": 16
          },
          "showarrow": false,
          "text": "Mean Study Time Per Day",
          "x": 0.5,
          "xanchor": "center",
          "xref": "paper",
          "y": 0.592,
          "yanchor": "bottom",
          "yref": "paper"
         },
         {
          "font": {
           "size": 16
          },
          "showarrow": false,
          "text": "Median Study Time Per Day",
          "x": 0.5,
          "xanchor": "center",
          "xref": "paper",
          "y": 0.388,
          "yanchor": "bottom",
          "yref": "paper"
         },
         {
          "font": {
           "size": 16
          },
          "showarrow": false,
          "text": "Standard Deviation Study Time Per Day",
          "x": 0.5,
          "xanchor": "center",
          "xref": "paper",
          "y": 0.184,
          "yanchor": "bottom",
          "yref": "paper"
         }
        ],
        "height": 7000,
        "showlegend": false,
        "template": {
         "data": {
          "bar": [
           {
            "error_x": {
             "color": "#2a3f5f"
            },
            "error_y": {
             "color": "#2a3f5f"
            },
            "marker": {
             "line": {
              "color": "#E5ECF6",
              "width": 0.5
             },
             "pattern": {
              "fillmode": "overlay",
              "size": 10,
              "solidity": 0.2
             }
            },
            "type": "bar"
           }
          ],
          "barpolar": [
           {
            "marker": {
             "line": {
              "color": "#E5ECF6",
              "width": 0.5
             },
             "pattern": {
              "fillmode": "overlay",
              "size": 10,
              "solidity": 0.2
             }
            },
            "type": "barpolar"
           }
          ],
          "carpet": [
           {
            "aaxis": {
             "endlinecolor": "#2a3f5f",
             "gridcolor": "white",
             "linecolor": "white",
             "minorgridcolor": "white",
             "startlinecolor": "#2a3f5f"
            },
            "baxis": {
             "endlinecolor": "#2a3f5f",
             "gridcolor": "white",
             "linecolor": "white",
             "minorgridcolor": "white",
             "startlinecolor": "#2a3f5f"
            },
            "type": "carpet"
           }
          ],
          "choropleth": [
           {
            "colorbar": {
             "outlinewidth": 0,
             "ticks": ""
            },
            "type": "choropleth"
           }
          ],
          "contour": [
           {
            "colorbar": {
             "outlinewidth": 0,
             "ticks": ""
            },
            "colorscale": [
             [
              0,
              "#0d0887"
             ],
             [
              0.1111111111111111,
              "#46039f"
             ],
             [
              0.2222222222222222,
              "#7201a8"
             ],
             [
              0.3333333333333333,
              "#9c179e"
             ],
             [
              0.4444444444444444,
              "#bd3786"
             ],
             [
              0.5555555555555556,
              "#d8576b"
             ],
             [
              0.6666666666666666,
              "#ed7953"
             ],
             [
              0.7777777777777778,
              "#fb9f3a"
             ],
             [
              0.8888888888888888,
              "#fdca26"
             ],
             [
              1,
              "#f0f921"
             ]
            ],
            "type": "contour"
           }
          ],
          "contourcarpet": [
           {
            "colorbar": {
             "outlinewidth": 0,
             "ticks": ""
            },
            "type": "contourcarpet"
           }
          ],
          "heatmap": [
           {
            "colorbar": {
             "outlinewidth": 0,
             "ticks": ""
            },
            "colorscale": [
             [
              0,
              "#0d0887"
             ],
             [
              0.1111111111111111,
              "#46039f"
             ],
             [
              0.2222222222222222,
              "#7201a8"
             ],
             [
              0.3333333333333333,
              "#9c179e"
             ],
             [
              0.4444444444444444,
              "#bd3786"
             ],
             [
              0.5555555555555556,
              "#d8576b"
             ],
             [
              0.6666666666666666,
              "#ed7953"
             ],
             [
              0.7777777777777778,
              "#fb9f3a"
             ],
             [
              0.8888888888888888,
              "#fdca26"
             ],
             [
              1,
              "#f0f921"
             ]
            ],
            "type": "heatmap"
           }
          ],
          "heatmapgl": [
           {
            "colorbar": {
             "outlinewidth": 0,
             "ticks": ""
            },
            "colorscale": [
             [
              0,
              "#0d0887"
             ],
             [
              0.1111111111111111,
              "#46039f"
             ],
             [
              0.2222222222222222,
              "#7201a8"
             ],
             [
              0.3333333333333333,
              "#9c179e"
             ],
             [
              0.4444444444444444,
              "#bd3786"
             ],
             [
              0.5555555555555556,
              "#d8576b"
             ],
             [
              0.6666666666666666,
              "#ed7953"
             ],
             [
              0.7777777777777778,
              "#fb9f3a"
             ],
             [
              0.8888888888888888,
              "#fdca26"
             ],
             [
              1,
              "#f0f921"
             ]
            ],
            "type": "heatmapgl"
           }
          ],
          "histogram": [
           {
            "marker": {
             "pattern": {
              "fillmode": "overlay",
              "size": 10,
              "solidity": 0.2
             }
            },
            "type": "histogram"
           }
          ],
          "histogram2d": [
           {
            "colorbar": {
             "outlinewidth": 0,
             "ticks": ""
            },
            "colorscale": [
             [
              0,
              "#0d0887"
             ],
             [
              0.1111111111111111,
              "#46039f"
             ],
             [
              0.2222222222222222,
              "#7201a8"
             ],
             [
              0.3333333333333333,
              "#9c179e"
             ],
             [
              0.4444444444444444,
              "#bd3786"
             ],
             [
              0.5555555555555556,
              "#d8576b"
             ],
             [
              0.6666666666666666,
              "#ed7953"
             ],
             [
              0.7777777777777778,
              "#fb9f3a"
             ],
             [
              0.8888888888888888,
              "#fdca26"
             ],
             [
              1,
              "#f0f921"
             ]
            ],
            "type": "histogram2d"
           }
          ],
          "histogram2dcontour": [
           {
            "colorbar": {
             "outlinewidth": 0,
             "ticks": ""
            },
            "colorscale": [
             [
              0,
              "#0d0887"
             ],
             [
              0.1111111111111111,
              "#46039f"
             ],
             [
              0.2222222222222222,
              "#7201a8"
             ],
             [
              0.3333333333333333,
              "#9c179e"
             ],
             [
              0.4444444444444444,
              "#bd3786"
             ],
             [
              0.5555555555555556,
              "#d8576b"
             ],
             [
              0.6666666666666666,
              "#ed7953"
             ],
             [
              0.7777777777777778,
              "#fb9f3a"
             ],
             [
              0.8888888888888888,
              "#fdca26"
             ],
             [
              1,
              "#f0f921"
             ]
            ],
            "type": "histogram2dcontour"
           }
          ],
          "mesh3d": [
           {
            "colorbar": {
             "outlinewidth": 0,
             "ticks": ""
            },
            "type": "mesh3d"
           }
          ],
          "parcoords": [
           {
            "line": {
             "colorbar": {
              "outlinewidth": 0,
              "ticks": ""
             }
            },
            "type": "parcoords"
           }
          ],
          "pie": [
           {
            "automargin": true,
            "type": "pie"
           }
          ],
          "scatter": [
           {
            "fillpattern": {
             "fillmode": "overlay",
             "size": 10,
             "solidity": 0.2
            },
            "type": "scatter"
           }
          ],
          "scatter3d": [
           {
            "line": {
             "colorbar": {
              "outlinewidth": 0,
              "ticks": ""
             }
            },
            "marker": {
             "colorbar": {
              "outlinewidth": 0,
              "ticks": ""
             }
            },
            "type": "scatter3d"
           }
          ],
          "scattercarpet": [
           {
            "marker": {
             "colorbar": {
              "outlinewidth": 0,
              "ticks": ""
             }
            },
            "type": "scattercarpet"
           }
          ],
          "scattergeo": [
           {
            "marker": {
             "colorbar": {
              "outlinewidth": 0,
              "ticks": ""
             }
            },
            "type": "scattergeo"
           }
          ],
          "scattergl": [
           {
            "marker": {
             "colorbar": {
              "outlinewidth": 0,
              "ticks": ""
             }
            },
            "type": "scattergl"
           }
          ],
          "scattermapbox": [
           {
            "marker": {
             "colorbar": {
              "outlinewidth": 0,
              "ticks": ""
             }
            },
            "type": "scattermapbox"
           }
          ],
          "scatterpolar": [
           {
            "marker": {
             "colorbar": {
              "outlinewidth": 0,
              "ticks": ""
             }
            },
            "type": "scatterpolar"
           }
          ],
          "scatterpolargl": [
           {
            "marker": {
             "colorbar": {
              "outlinewidth": 0,
              "ticks": ""
             }
            },
            "type": "scatterpolargl"
           }
          ],
          "scatterternary": [
           {
            "marker": {
             "colorbar": {
              "outlinewidth": 0,
              "ticks": ""
             }
            },
            "type": "scatterternary"
           }
          ],
          "surface": [
           {
            "colorbar": {
             "outlinewidth": 0,
             "ticks": ""
            },
            "colorscale": [
             [
              0,
              "#0d0887"
             ],
             [
              0.1111111111111111,
              "#46039f"
             ],
             [
              0.2222222222222222,
              "#7201a8"
             ],
             [
              0.3333333333333333,
              "#9c179e"
             ],
             [
              0.4444444444444444,
              "#bd3786"
             ],
             [
              0.5555555555555556,
              "#d8576b"
             ],
             [
              0.6666666666666666,
              "#ed7953"
             ],
             [
              0.7777777777777778,
              "#fb9f3a"
             ],
             [
              0.8888888888888888,
              "#fdca26"
             ],
             [
              1,
              "#f0f921"
             ]
            ],
            "type": "surface"
           }
          ],
          "table": [
           {
            "cells": {
             "fill": {
              "color": "#EBF0F8"
             },
             "line": {
              "color": "white"
             }
            },
            "header": {
             "fill": {
              "color": "#C8D4E3"
             },
             "line": {
              "color": "white"
             }
            },
            "type": "table"
           }
          ]
         },
         "layout": {
          "annotationdefaults": {
           "arrowcolor": "#2a3f5f",
           "arrowhead": 0,
           "arrowwidth": 1
          },
          "autotypenumbers": "strict",
          "coloraxis": {
           "colorbar": {
            "outlinewidth": 0,
            "ticks": ""
           }
          },
          "colorscale": {
           "diverging": [
            [
             0,
             "#8e0152"
            ],
            [
             0.1,
             "#c51b7d"
            ],
            [
             0.2,
             "#de77ae"
            ],
            [
             0.3,
             "#f1b6da"
            ],
            [
             0.4,
             "#fde0ef"
            ],
            [
             0.5,
             "#f7f7f7"
            ],
            [
             0.6,
             "#e6f5d0"
            ],
            [
             0.7,
             "#b8e186"
            ],
            [
             0.8,
             "#7fbc41"
            ],
            [
             0.9,
             "#4d9221"
            ],
            [
             1,
             "#276419"
            ]
           ],
           "sequential": [
            [
             0,
             "#0d0887"
            ],
            [
             0.1111111111111111,
             "#46039f"
            ],
            [
             0.2222222222222222,
             "#7201a8"
            ],
            [
             0.3333333333333333,
             "#9c179e"
            ],
            [
             0.4444444444444444,
             "#bd3786"
            ],
            [
             0.5555555555555556,
             "#d8576b"
            ],
            [
             0.6666666666666666,
             "#ed7953"
            ],
            [
             0.7777777777777778,
             "#fb9f3a"
            ],
            [
             0.8888888888888888,
             "#fdca26"
            ],
            [
             1,
             "#f0f921"
            ]
           ],
           "sequentialminus": [
            [
             0,
             "#0d0887"
            ],
            [
             0.1111111111111111,
             "#46039f"
            ],
            [
             0.2222222222222222,
             "#7201a8"
            ],
            [
             0.3333333333333333,
             "#9c179e"
            ],
            [
             0.4444444444444444,
             "#bd3786"
            ],
            [
             0.5555555555555556,
             "#d8576b"
            ],
            [
             0.6666666666666666,
             "#ed7953"
            ],
            [
             0.7777777777777778,
             "#fb9f3a"
            ],
            [
             0.8888888888888888,
             "#fdca26"
            ],
            [
             1,
             "#f0f921"
            ]
           ]
          },
          "colorway": [
           "#636efa",
           "#EF553B",
           "#00cc96",
           "#ab63fa",
           "#FFA15A",
           "#19d3f3",
           "#FF6692",
           "#B6E880",
           "#FF97FF",
           "#FECB52"
          ],
          "font": {
           "color": "#2a3f5f"
          },
          "geo": {
           "bgcolor": "white",
           "lakecolor": "white",
           "landcolor": "#E5ECF6",
           "showlakes": true,
           "showland": true,
           "subunitcolor": "white"
          },
          "hoverlabel": {
           "align": "left"
          },
          "hovermode": "closest",
          "mapbox": {
           "style": "light"
          },
          "paper_bgcolor": "white",
          "plot_bgcolor": "#E5ECF6",
          "polar": {
           "angularaxis": {
            "gridcolor": "white",
            "linecolor": "white",
            "ticks": ""
           },
           "bgcolor": "#E5ECF6",
           "radialaxis": {
            "gridcolor": "white",
            "linecolor": "white",
            "ticks": ""
           }
          },
          "scene": {
           "xaxis": {
            "backgroundcolor": "#E5ECF6",
            "gridcolor": "white",
            "gridwidth": 2,
            "linecolor": "white",
            "showbackground": true,
            "ticks": "",
            "zerolinecolor": "white"
           },
           "yaxis": {
            "backgroundcolor": "#E5ECF6",
            "gridcolor": "white",
            "gridwidth": 2,
            "linecolor": "white",
            "showbackground": true,
            "ticks": "",
            "zerolinecolor": "white"
           },
           "zaxis": {
            "backgroundcolor": "#E5ECF6",
            "gridcolor": "white",
            "gridwidth": 2,
            "linecolor": "white",
            "showbackground": true,
            "ticks": "",
            "zerolinecolor": "white"
           }
          },
          "shapedefaults": {
           "line": {
            "color": "#2a3f5f"
           }
          },
          "ternary": {
           "aaxis": {
            "gridcolor": "white",
            "linecolor": "white",
            "ticks": ""
           },
           "baxis": {
            "gridcolor": "white",
            "linecolor": "white",
            "ticks": ""
           },
           "bgcolor": "#E5ECF6",
           "caxis": {
            "gridcolor": "white",
            "linecolor": "white",
            "ticks": ""
           }
          },
          "title": {
           "x": 0.05
          },
          "xaxis": {
           "automargin": true,
           "gridcolor": "white",
           "linecolor": "white",
           "ticks": "",
           "title": {
            "standoff": 15
           },
           "zerolinecolor": "white",
           "zerolinewidth": 2
          },
          "yaxis": {
           "automargin": true,
           "gridcolor": "white",
           "linecolor": "white",
           "ticks": "",
           "title": {
            "standoff": 15
           },
           "zerolinecolor": "white",
           "zerolinewidth": 2
          }
         }
        },
        "title": {
         "text": "Statistical Measures for Each Column"
        },
        "width": 800,
        "xaxis": {
         "anchor": "y",
         "domain": [
          0,
          1
         ],
         "showgrid": true
        },
        "xaxis2": {
         "anchor": "y2",
         "domain": [
          0,
          1
         ],
         "showgrid": true
        },
        "xaxis3": {
         "anchor": "y3",
         "domain": [
          0,
          1
         ],
         "showgrid": true
        },
        "xaxis4": {
         "anchor": "y4",
         "domain": [
          0,
          1
         ],
         "showgrid": true
        },
        "xaxis5": {
         "anchor": "y5",
         "domain": [
          0,
          1
         ],
         "showgrid": true
        },
        "yaxis": {
         "anchor": "x",
         "domain": [
          0.816,
          1
         ]
        },
        "yaxis2": {
         "anchor": "x2",
         "domain": [
          0.6120000000000001,
          0.796
         ]
        },
        "yaxis3": {
         "anchor": "x3",
         "domain": [
          0.408,
          0.592
         ]
        },
        "yaxis4": {
         "anchor": "x4",
         "domain": [
          0.204,
          0.388
         ]
        },
        "yaxis5": {
         "anchor": "x5",
         "domain": [
          0,
          0.184
         ]
        }
       }
      }
     },
     "metadata": {},
     "output_type": "display_data"
    }
   ],
   "source": [
    "import plotly.graph_objects as go\n",
    "from plotly.subplots import make_subplots\n",
    "# Create subplots\n",
    "fig = make_subplots(\n",
    "    rows=5, cols=1,\n",
    "    subplot_titles=(\"Maximum Study Time Per Day\", \"Minimum Study Time Per Day\", \"Mean Study Time Per Day\", \"Median Study Time Per Day\", \"Standard Deviation Study Time Per Day\"),\n",
    "    vertical_spacing=0.02  # Adjust spacing to your preference\n",
    ")\n",
    "\n",
    "# Plotting each statistic on a separate subplot as horizontal bar\n",
    "fig.add_trace(go.Bar(x=stats_df['Max'], y=stats_df.index, orientation='h', name='Max'), row=1, col=1)\n",
    "fig.add_trace(go.Bar(x=stats_df['Min'], y=stats_df.index, orientation='h', name='Min'), row=2, col=1)\n",
    "fig.add_trace(go.Bar(x=stats_df['Mean'], y=stats_df.index, orientation='h', name='Mean'), row=3, col=1)\n",
    "fig.add_trace(go.Bar(x=stats_df['Median'], y=stats_df.index, orientation='h', name='Median'), row=4, col=1)\n",
    "fig.add_trace(go.Bar(x=stats_df['Standard Deviation'], y=stats_df.index, orientation='h', name='Standard Deviation'), row=5, col=1)\n",
    "\n",
    "# Update layout for clear visualization\n",
    "fig.update_layout(height=7000, width=800, showlegend=False, title_text=\"Statistical Measures for Each Column\")\n",
    "fig.update_xaxes(showgrid=True)  # Optionally, show grid on x-axis for better readability\n",
    "fig.show()"
   ]
  },
  {
   "cell_type": "code",
   "execution_count": 169,
   "metadata": {},
   "outputs": [],
   "source": [
    "# Define group color map\n",
    "group_color_map = {\n",
    "    'ds': 'blue',\n",
    "    'cogs': 'green',\n",
    "    'math': 'red',\n",
    "    'pp':'orange',\n",
    "    'ge':'purple',\n",
    "    'research':'yellow'\n",
    "}\n",
    "\n",
    "# Define column to group mapping\n",
    "column_group = {\n",
    "    'doc1':'ge',\n",
    "    'cogs9':'cogs',\n",
    "    'pp_fall22':'pp',\n",
    "    'reading_winter23':'pp',\n",
    "    'pp_winter23':'pp',\n",
    "    'math20c':'math',\n",
    "    'dsc20':'ds',\n",
    "    'bild1':'cogs',\n",
    "    'bild22':'cogs',\n",
    "    'cogs87':'cogs',\n",
    "    'doc2':'ge',\n",
    "    'training_spring23':'pp',\n",
    "    'reading_spring23':'pp',\n",
    "    'pp_spring23':'pp',\n",
    "    'cogs14a':'cogs',\n",
    "    'cogs17':'cogs',\n",
    "    'dsc30':'ds',\n",
    "    'math20e':'math',\n",
    "    'doc3':'ge',\n",
    "    'training_summer23':'pp',\n",
    "    'reading_summer23':'pp',\n",
    "    'pp_summer23':'pp',\n",
    "    'ds_summer_project':'ds',\n",
    "    'dsc40a':'ds',\n",
    "    'training_fall23':'pp',\n",
    "    'ex_phys':'cogs',\n",
    "    'fmp_fall23':'research',\n",
    "    'cogs153':'cogs',\n",
    "    'cogs107a':'cogs',\n",
    "    'cogs14b':'cogs',\n",
    "    'dsc40b':'ds',\n",
    "    'math180a':'math',\n",
    "    'kdd/ds3/tnt':'pp',\n",
    "    'pp_fall23':'pp',\n",
    "    'training_winter24':'pp',\n",
    "    'salk_winter24':'research',\n",
    "    'cse257':'ds',\n",
    "    'dsc80':'ds',\n",
    "    'cogs107b':'cogs',\n",
    "    'math180b':'math',\n",
    "    'fmp_winter24':'research',\n",
    "    'pp_winter24':'pp',\n",
    "    'salk_spring24':'research',\n",
    "    'dsc140a':'ds',\n",
    "    'dsc140b':'ds',\n",
    "    'math180c':'math',\n",
    "    'math181a':'math',\n",
    "    'cogs107c':'cogs',\n",
    "    'psyc137':'cogs',\n",
    "    'dsc106':'ds',\n",
    "    'cse150b':'research',\n",
    "    'fmp_spring24':'research',\n",
    "    'pp_spring24':'pp',\n",
    "    'math18':'math',\n",
    "    'dsc10':'ds',\n",
    "    'math20b':'ds',\n",
    "}"
   ]
  },
  {
   "cell_type": "code",
   "execution_count": 175,
   "metadata": {},
   "outputs": [
    {
     "data": {
      "application/vnd.plotly.v1+json": {
       "config": {
        "plotlyServerURL": "https://plot.ly"
       },
       "data": [
        {
         "marker": {
          "color": [
           "blue",
           "blue",
           "blue",
           "blue",
           "blue",
           "blue",
           "blue",
           "blue",
           "blue",
           "blue",
           "blue",
           "blue",
           "green",
           "green",
           "green",
           "green",
           "green",
           "green",
           "green",
           "green",
           "green",
           "green",
           "green",
           "green",
           "green",
           "orange",
           "orange",
           "orange",
           "orange",
           "orange",
           "orange",
           "orange",
           "orange",
           "orange",
           "orange",
           "orange",
           "orange",
           "orange",
           "orange",
           "orange",
           "purple",
           "purple",
           "purple",
           "red",
           "red",
           "red",
           "red",
           "red",
           "red",
           "red",
           "yellow",
           "yellow",
           "yellow",
           "yellow",
           "yellow",
           "yellow"
          ]
         },
         "name": "Max",
         "orientation": "h",
         "type": "bar",
         "x": [
          6.833333333333333,
          5,
          7.75,
          4.133333333333334,
          6.5,
          5.583333333333333,
          3,
          8.333333333333334,
          9.633333333333333,
          4.683333333333334,
          3.033333333333333,
          5.333333333333333,
          2.25,
          1.8333333333333333,
          7,
          3,
          2.5,
          2.55,
          1.5,
          3.8333333333333335,
          2.5833333333333335,
          3.3333333333333335,
          2,
          3.75,
          1.8333333333333333,
          5.833333333333333,
          5.1,
          8.333333333333334,
          4,
          4,
          2,
          6.833333333333333,
          12,
          5,
          3.4166666666666665,
          3.8333333333333335,
          5.166666666666667,
          2.6333333333333333,
          5.5,
          8.833333333333334,
          4,
          2,
          1.8333333333333333,
          3,
          9.166666666666666,
          5,
          6.166666666666667,
          4.333333333333333,
          5.166666666666667,
          3.3333333333333335,
          8.75,
          4.333333333333333,
          7.5,
          2,
          8.916666666666666,
          4.166666666666667
         ],
         "xaxis": "x",
         "y": [
          "dsc106",
          "dsc40a",
          "dsc140b",
          "math20b",
          "dsc140a",
          "dsc40b",
          "cse257",
          "dsc30",
          "dsc80",
          "dsc20",
          "dsc10",
          "ds_summer_project",
          "cogs153",
          "psyc137",
          "cogs17",
          "bild22",
          "cogs107a",
          "cogs14b",
          "cogs14a",
          "cogs107c",
          "cogs9",
          "cogs107b",
          "cogs87",
          "ex_phys",
          "bild1",
          "pp_fall23",
          "pp_fall22",
          "pp_spring23",
          "reading_summer23",
          "training_summer23",
          "training_winter24",
          "pp_summer23",
          "training_fall23",
          "pp_winter24",
          "reading_winter23",
          "training_spring23",
          "pp_winter23",
          "kdd/ds3/tnt",
          "reading_spring23",
          "pp_spring24",
          "doc3",
          "doc2",
          "doc1",
          "math20e",
          "math181a",
          "math180a",
          "math180b",
          "math180c",
          "math18",
          "math20c",
          "cse150b",
          "fmp_spring24",
          "salk_spring24",
          "fmp_winter24",
          "salk_winter24",
          "fmp_fall23"
         ],
         "yaxis": "y"
        },
        {
         "marker": {
          "color": [
           "blue",
           "blue",
           "blue",
           "blue",
           "blue",
           "blue",
           "blue",
           "blue",
           "blue",
           "blue",
           "blue",
           "blue",
           "green",
           "green",
           "green",
           "green",
           "green",
           "green",
           "green",
           "green",
           "green",
           "green",
           "green",
           "green",
           "green",
           "orange",
           "orange",
           "orange",
           "orange",
           "orange",
           "orange",
           "orange",
           "orange",
           "orange",
           "orange",
           "orange",
           "orange",
           "orange",
           "orange",
           "orange",
           "purple",
           "purple",
           "purple",
           "red",
           "red",
           "red",
           "red",
           "red",
           "red",
           "red",
           "yellow",
           "yellow",
           "yellow",
           "yellow",
           "yellow",
           "yellow"
          ]
         },
         "name": "Mean",
         "orientation": "h",
         "type": "bar",
         "x": [
          0.668918918918919,
          0.9123376623376623,
          1.6283783783783783,
          0.44202741702741705,
          1.9844444444444447,
          1.1320346320346322,
          0.32142857142857145,
          2.0883116883116886,
          3.7106060606060605,
          1.429004329004329,
          0.6255050505050506,
          0.5898268398268398,
          0.28614718614718615,
          0.12387387387387387,
          0.4372294372294372,
          0.2495670995670996,
          0.2727272727272727,
          0.23484848484848483,
          0.1158008658008658,
          0.7927927927927929,
          0.26594516594516593,
          0.6266233766233766,
          0.09567099567099567,
          0.875974025974026,
          0.2783549783549783,
          0.7651515151515151,
          0.3275974025974026,
          1.8268398268398267,
          0.2359307359307359,
          0.8095238095238095,
          0.7976190476190476,
          1.4047619047619047,
          1.0259740259740258,
          0.6525974025974027,
          0.3097402597402597,
          0.1601731601731602,
          1.3598484848484849,
          0.19220779220779216,
          0.5670995670995671,
          0.8896103896103896,
          0.30043290043290044,
          0.20303030303030303,
          0.1268939393939394,
          0.5909090909090909,
          1.461111111111111,
          0.9818181818181819,
          1.2543290043290043,
          0.5585585585585585,
          0.719462481962482,
          0.7583333333333333,
          1.1452380952380952,
          0.15427927927927926,
          1.5476190476190477,
          0.12337662337662338,
          2.672510822510822,
          0.7316017316017316
         ],
         "xaxis": "x2",
         "y": [
          "dsc106",
          "dsc40a",
          "dsc140b",
          "math20b",
          "dsc140a",
          "dsc40b",
          "cse257",
          "dsc30",
          "dsc80",
          "dsc20",
          "dsc10",
          "ds_summer_project",
          "cogs153",
          "psyc137",
          "cogs17",
          "bild22",
          "cogs107a",
          "cogs14b",
          "cogs14a",
          "cogs107c",
          "cogs9",
          "cogs107b",
          "cogs87",
          "ex_phys",
          "bild1",
          "pp_fall23",
          "pp_fall22",
          "pp_spring23",
          "reading_summer23",
          "training_summer23",
          "training_winter24",
          "pp_summer23",
          "training_fall23",
          "pp_winter24",
          "reading_winter23",
          "training_spring23",
          "pp_winter23",
          "kdd/ds3/tnt",
          "reading_spring23",
          "pp_spring24",
          "doc3",
          "doc2",
          "doc1",
          "math20e",
          "math181a",
          "math180a",
          "math180b",
          "math180c",
          "math18",
          "math20c",
          "cse150b",
          "fmp_spring24",
          "salk_spring24",
          "fmp_winter24",
          "salk_winter24",
          "fmp_fall23"
         ],
         "yaxis": "y2"
        },
        {
         "marker": {
          "color": [
           "blue",
           "blue",
           "blue",
           "blue",
           "blue",
           "blue",
           "blue",
           "blue",
           "blue",
           "blue",
           "blue",
           "blue",
           "green",
           "green",
           "green",
           "green",
           "green",
           "green",
           "green",
           "green",
           "green",
           "green",
           "green",
           "green",
           "green",
           "orange",
           "orange",
           "orange",
           "orange",
           "orange",
           "orange",
           "orange",
           "orange",
           "orange",
           "orange",
           "orange",
           "orange",
           "orange",
           "orange",
           "orange",
           "purple",
           "purple",
           "purple",
           "red",
           "red",
           "red",
           "red",
           "red",
           "red",
           "red",
           "yellow",
           "yellow",
           "yellow",
           "yellow",
           "yellow",
           "yellow"
          ]
         },
         "name": "Standard Deviation",
         "orientation": "h",
         "type": "bar",
         "x": [
          1.2026395510854615,
          1.5420457158421388,
          1.6323049826986513,
          0.7654486137537552,
          1.8611068531169075,
          1.3399882337621845,
          0.7783053318850952,
          2.0320460135014953,
          2.657986020718893,
          1.267458208930189,
          0.9100164112143719,
          1.2556717984917298,
          0.4999883229440748,
          0.42205268739422813,
          1.0102866252143299,
          0.5807396852818081,
          0.5427008285059378,
          0.5423051690070255,
          0.3141857584581994,
          1.0015440175979835,
          0.5160572245467986,
          0.9065037091537471,
          0.3192004196045957,
          1.020450585269709,
          0.39895756834304313,
          1.2926727316179378,
          0.8607913405590629,
          1.9013387016809793,
          0.6792134303944911,
          1.0485175715000492,
          0.7062570927331795,
          1.7921875153637143,
          1.495928913787666,
          0.9658271647134531,
          0.6439572391078051,
          0.5273524005978771,
          1.3000173801643573,
          0.5222504189695986,
          1.0806342017387969,
          1.6968991304941852,
          0.7324055835303002,
          0.41339705996366605,
          0.32579647221511626,
          0.8174116967463038,
          1.807575677483471,
          1.1559728625295826,
          1.3667613429909642,
          1.0371458730443521,
          1.1020218164895692,
          0.7627354396363086,
          1.6637465792629602,
          0.6284240200220879,
          1.7406511231426909,
          0.3688854294894527,
          2.4702243876013834,
          0.9761055526025472
         ],
         "xaxis": "x3",
         "y": [
          "dsc106",
          "dsc40a",
          "dsc140b",
          "math20b",
          "dsc140a",
          "dsc40b",
          "cse257",
          "dsc30",
          "dsc80",
          "dsc20",
          "dsc10",
          "ds_summer_project",
          "cogs153",
          "psyc137",
          "cogs17",
          "bild22",
          "cogs107a",
          "cogs14b",
          "cogs14a",
          "cogs107c",
          "cogs9",
          "cogs107b",
          "cogs87",
          "ex_phys",
          "bild1",
          "pp_fall23",
          "pp_fall22",
          "pp_spring23",
          "reading_summer23",
          "training_summer23",
          "training_winter24",
          "pp_summer23",
          "training_fall23",
          "pp_winter24",
          "reading_winter23",
          "training_spring23",
          "pp_winter23",
          "kdd/ds3/tnt",
          "reading_spring23",
          "pp_spring24",
          "doc3",
          "doc2",
          "doc1",
          "math20e",
          "math181a",
          "math180a",
          "math180b",
          "math180c",
          "math18",
          "math20c",
          "cse150b",
          "fmp_spring24",
          "salk_spring24",
          "fmp_winter24",
          "salk_winter24",
          "fmp_fall23"
         ],
         "yaxis": "y3"
        }
       ],
       "layout": {
        "annotations": [
         {
          "font": {
           "size": 16
          },
          "showarrow": false,
          "text": "Maximum Study Time Per Day",
          "x": 0.5,
          "xanchor": "center",
          "xref": "paper",
          "y": 1,
          "yanchor": "bottom",
          "yref": "paper"
         },
         {
          "font": {
           "size": 16
          },
          "showarrow": false,
          "text": "Mean Study Time Per Day",
          "x": 0.5,
          "xanchor": "center",
          "xref": "paper",
          "y": 0.66,
          "yanchor": "bottom",
          "yref": "paper"
         },
         {
          "font": {
           "size": 16
          },
          "showarrow": false,
          "text": "Standard Deviation Study Time Per Day",
          "x": 0.5,
          "xanchor": "center",
          "xref": "paper",
          "y": 0.32,
          "yanchor": "bottom",
          "yref": "paper"
         }
        ],
        "height": 5000,
        "showlegend": false,
        "template": {
         "data": {
          "bar": [
           {
            "error_x": {
             "color": "#2a3f5f"
            },
            "error_y": {
             "color": "#2a3f5f"
            },
            "marker": {
             "line": {
              "color": "#E5ECF6",
              "width": 0.5
             },
             "pattern": {
              "fillmode": "overlay",
              "size": 10,
              "solidity": 0.2
             }
            },
            "type": "bar"
           }
          ],
          "barpolar": [
           {
            "marker": {
             "line": {
              "color": "#E5ECF6",
              "width": 0.5
             },
             "pattern": {
              "fillmode": "overlay",
              "size": 10,
              "solidity": 0.2
             }
            },
            "type": "barpolar"
           }
          ],
          "carpet": [
           {
            "aaxis": {
             "endlinecolor": "#2a3f5f",
             "gridcolor": "white",
             "linecolor": "white",
             "minorgridcolor": "white",
             "startlinecolor": "#2a3f5f"
            },
            "baxis": {
             "endlinecolor": "#2a3f5f",
             "gridcolor": "white",
             "linecolor": "white",
             "minorgridcolor": "white",
             "startlinecolor": "#2a3f5f"
            },
            "type": "carpet"
           }
          ],
          "choropleth": [
           {
            "colorbar": {
             "outlinewidth": 0,
             "ticks": ""
            },
            "type": "choropleth"
           }
          ],
          "contour": [
           {
            "colorbar": {
             "outlinewidth": 0,
             "ticks": ""
            },
            "colorscale": [
             [
              0,
              "#0d0887"
             ],
             [
              0.1111111111111111,
              "#46039f"
             ],
             [
              0.2222222222222222,
              "#7201a8"
             ],
             [
              0.3333333333333333,
              "#9c179e"
             ],
             [
              0.4444444444444444,
              "#bd3786"
             ],
             [
              0.5555555555555556,
              "#d8576b"
             ],
             [
              0.6666666666666666,
              "#ed7953"
             ],
             [
              0.7777777777777778,
              "#fb9f3a"
             ],
             [
              0.8888888888888888,
              "#fdca26"
             ],
             [
              1,
              "#f0f921"
             ]
            ],
            "type": "contour"
           }
          ],
          "contourcarpet": [
           {
            "colorbar": {
             "outlinewidth": 0,
             "ticks": ""
            },
            "type": "contourcarpet"
           }
          ],
          "heatmap": [
           {
            "colorbar": {
             "outlinewidth": 0,
             "ticks": ""
            },
            "colorscale": [
             [
              0,
              "#0d0887"
             ],
             [
              0.1111111111111111,
              "#46039f"
             ],
             [
              0.2222222222222222,
              "#7201a8"
             ],
             [
              0.3333333333333333,
              "#9c179e"
             ],
             [
              0.4444444444444444,
              "#bd3786"
             ],
             [
              0.5555555555555556,
              "#d8576b"
             ],
             [
              0.6666666666666666,
              "#ed7953"
             ],
             [
              0.7777777777777778,
              "#fb9f3a"
             ],
             [
              0.8888888888888888,
              "#fdca26"
             ],
             [
              1,
              "#f0f921"
             ]
            ],
            "type": "heatmap"
           }
          ],
          "heatmapgl": [
           {
            "colorbar": {
             "outlinewidth": 0,
             "ticks": ""
            },
            "colorscale": [
             [
              0,
              "#0d0887"
             ],
             [
              0.1111111111111111,
              "#46039f"
             ],
             [
              0.2222222222222222,
              "#7201a8"
             ],
             [
              0.3333333333333333,
              "#9c179e"
             ],
             [
              0.4444444444444444,
              "#bd3786"
             ],
             [
              0.5555555555555556,
              "#d8576b"
             ],
             [
              0.6666666666666666,
              "#ed7953"
             ],
             [
              0.7777777777777778,
              "#fb9f3a"
             ],
             [
              0.8888888888888888,
              "#fdca26"
             ],
             [
              1,
              "#f0f921"
             ]
            ],
            "type": "heatmapgl"
           }
          ],
          "histogram": [
           {
            "marker": {
             "pattern": {
              "fillmode": "overlay",
              "size": 10,
              "solidity": 0.2
             }
            },
            "type": "histogram"
           }
          ],
          "histogram2d": [
           {
            "colorbar": {
             "outlinewidth": 0,
             "ticks": ""
            },
            "colorscale": [
             [
              0,
              "#0d0887"
             ],
             [
              0.1111111111111111,
              "#46039f"
             ],
             [
              0.2222222222222222,
              "#7201a8"
             ],
             [
              0.3333333333333333,
              "#9c179e"
             ],
             [
              0.4444444444444444,
              "#bd3786"
             ],
             [
              0.5555555555555556,
              "#d8576b"
             ],
             [
              0.6666666666666666,
              "#ed7953"
             ],
             [
              0.7777777777777778,
              "#fb9f3a"
             ],
             [
              0.8888888888888888,
              "#fdca26"
             ],
             [
              1,
              "#f0f921"
             ]
            ],
            "type": "histogram2d"
           }
          ],
          "histogram2dcontour": [
           {
            "colorbar": {
             "outlinewidth": 0,
             "ticks": ""
            },
            "colorscale": [
             [
              0,
              "#0d0887"
             ],
             [
              0.1111111111111111,
              "#46039f"
             ],
             [
              0.2222222222222222,
              "#7201a8"
             ],
             [
              0.3333333333333333,
              "#9c179e"
             ],
             [
              0.4444444444444444,
              "#bd3786"
             ],
             [
              0.5555555555555556,
              "#d8576b"
             ],
             [
              0.6666666666666666,
              "#ed7953"
             ],
             [
              0.7777777777777778,
              "#fb9f3a"
             ],
             [
              0.8888888888888888,
              "#fdca26"
             ],
             [
              1,
              "#f0f921"
             ]
            ],
            "type": "histogram2dcontour"
           }
          ],
          "mesh3d": [
           {
            "colorbar": {
             "outlinewidth": 0,
             "ticks": ""
            },
            "type": "mesh3d"
           }
          ],
          "parcoords": [
           {
            "line": {
             "colorbar": {
              "outlinewidth": 0,
              "ticks": ""
             }
            },
            "type": "parcoords"
           }
          ],
          "pie": [
           {
            "automargin": true,
            "type": "pie"
           }
          ],
          "scatter": [
           {
            "fillpattern": {
             "fillmode": "overlay",
             "size": 10,
             "solidity": 0.2
            },
            "type": "scatter"
           }
          ],
          "scatter3d": [
           {
            "line": {
             "colorbar": {
              "outlinewidth": 0,
              "ticks": ""
             }
            },
            "marker": {
             "colorbar": {
              "outlinewidth": 0,
              "ticks": ""
             }
            },
            "type": "scatter3d"
           }
          ],
          "scattercarpet": [
           {
            "marker": {
             "colorbar": {
              "outlinewidth": 0,
              "ticks": ""
             }
            },
            "type": "scattercarpet"
           }
          ],
          "scattergeo": [
           {
            "marker": {
             "colorbar": {
              "outlinewidth": 0,
              "ticks": ""
             }
            },
            "type": "scattergeo"
           }
          ],
          "scattergl": [
           {
            "marker": {
             "colorbar": {
              "outlinewidth": 0,
              "ticks": ""
             }
            },
            "type": "scattergl"
           }
          ],
          "scattermapbox": [
           {
            "marker": {
             "colorbar": {
              "outlinewidth": 0,
              "ticks": ""
             }
            },
            "type": "scattermapbox"
           }
          ],
          "scatterpolar": [
           {
            "marker": {
             "colorbar": {
              "outlinewidth": 0,
              "ticks": ""
             }
            },
            "type": "scatterpolar"
           }
          ],
          "scatterpolargl": [
           {
            "marker": {
             "colorbar": {
              "outlinewidth": 0,
              "ticks": ""
             }
            },
            "type": "scatterpolargl"
           }
          ],
          "scatterternary": [
           {
            "marker": {
             "colorbar": {
              "outlinewidth": 0,
              "ticks": ""
             }
            },
            "type": "scatterternary"
           }
          ],
          "surface": [
           {
            "colorbar": {
             "outlinewidth": 0,
             "ticks": ""
            },
            "colorscale": [
             [
              0,
              "#0d0887"
             ],
             [
              0.1111111111111111,
              "#46039f"
             ],
             [
              0.2222222222222222,
              "#7201a8"
             ],
             [
              0.3333333333333333,
              "#9c179e"
             ],
             [
              0.4444444444444444,
              "#bd3786"
             ],
             [
              0.5555555555555556,
              "#d8576b"
             ],
             [
              0.6666666666666666,
              "#ed7953"
             ],
             [
              0.7777777777777778,
              "#fb9f3a"
             ],
             [
              0.8888888888888888,
              "#fdca26"
             ],
             [
              1,
              "#f0f921"
             ]
            ],
            "type": "surface"
           }
          ],
          "table": [
           {
            "cells": {
             "fill": {
              "color": "#EBF0F8"
             },
             "line": {
              "color": "white"
             }
            },
            "header": {
             "fill": {
              "color": "#C8D4E3"
             },
             "line": {
              "color": "white"
             }
            },
            "type": "table"
           }
          ]
         },
         "layout": {
          "annotationdefaults": {
           "arrowcolor": "#2a3f5f",
           "arrowhead": 0,
           "arrowwidth": 1
          },
          "autotypenumbers": "strict",
          "coloraxis": {
           "colorbar": {
            "outlinewidth": 0,
            "ticks": ""
           }
          },
          "colorscale": {
           "diverging": [
            [
             0,
             "#8e0152"
            ],
            [
             0.1,
             "#c51b7d"
            ],
            [
             0.2,
             "#de77ae"
            ],
            [
             0.3,
             "#f1b6da"
            ],
            [
             0.4,
             "#fde0ef"
            ],
            [
             0.5,
             "#f7f7f7"
            ],
            [
             0.6,
             "#e6f5d0"
            ],
            [
             0.7,
             "#b8e186"
            ],
            [
             0.8,
             "#7fbc41"
            ],
            [
             0.9,
             "#4d9221"
            ],
            [
             1,
             "#276419"
            ]
           ],
           "sequential": [
            [
             0,
             "#0d0887"
            ],
            [
             0.1111111111111111,
             "#46039f"
            ],
            [
             0.2222222222222222,
             "#7201a8"
            ],
            [
             0.3333333333333333,
             "#9c179e"
            ],
            [
             0.4444444444444444,
             "#bd3786"
            ],
            [
             0.5555555555555556,
             "#d8576b"
            ],
            [
             0.6666666666666666,
             "#ed7953"
            ],
            [
             0.7777777777777778,
             "#fb9f3a"
            ],
            [
             0.8888888888888888,
             "#fdca26"
            ],
            [
             1,
             "#f0f921"
            ]
           ],
           "sequentialminus": [
            [
             0,
             "#0d0887"
            ],
            [
             0.1111111111111111,
             "#46039f"
            ],
            [
             0.2222222222222222,
             "#7201a8"
            ],
            [
             0.3333333333333333,
             "#9c179e"
            ],
            [
             0.4444444444444444,
             "#bd3786"
            ],
            [
             0.5555555555555556,
             "#d8576b"
            ],
            [
             0.6666666666666666,
             "#ed7953"
            ],
            [
             0.7777777777777778,
             "#fb9f3a"
            ],
            [
             0.8888888888888888,
             "#fdca26"
            ],
            [
             1,
             "#f0f921"
            ]
           ]
          },
          "colorway": [
           "#636efa",
           "#EF553B",
           "#00cc96",
           "#ab63fa",
           "#FFA15A",
           "#19d3f3",
           "#FF6692",
           "#B6E880",
           "#FF97FF",
           "#FECB52"
          ],
          "font": {
           "color": "#2a3f5f"
          },
          "geo": {
           "bgcolor": "white",
           "lakecolor": "white",
           "landcolor": "#E5ECF6",
           "showlakes": true,
           "showland": true,
           "subunitcolor": "white"
          },
          "hoverlabel": {
           "align": "left"
          },
          "hovermode": "closest",
          "mapbox": {
           "style": "light"
          },
          "paper_bgcolor": "white",
          "plot_bgcolor": "#E5ECF6",
          "polar": {
           "angularaxis": {
            "gridcolor": "white",
            "linecolor": "white",
            "ticks": ""
           },
           "bgcolor": "#E5ECF6",
           "radialaxis": {
            "gridcolor": "white",
            "linecolor": "white",
            "ticks": ""
           }
          },
          "scene": {
           "xaxis": {
            "backgroundcolor": "#E5ECF6",
            "gridcolor": "white",
            "gridwidth": 2,
            "linecolor": "white",
            "showbackground": true,
            "ticks": "",
            "zerolinecolor": "white"
           },
           "yaxis": {
            "backgroundcolor": "#E5ECF6",
            "gridcolor": "white",
            "gridwidth": 2,
            "linecolor": "white",
            "showbackground": true,
            "ticks": "",
            "zerolinecolor": "white"
           },
           "zaxis": {
            "backgroundcolor": "#E5ECF6",
            "gridcolor": "white",
            "gridwidth": 2,
            "linecolor": "white",
            "showbackground": true,
            "ticks": "",
            "zerolinecolor": "white"
           }
          },
          "shapedefaults": {
           "line": {
            "color": "#2a3f5f"
           }
          },
          "ternary": {
           "aaxis": {
            "gridcolor": "white",
            "linecolor": "white",
            "ticks": ""
           },
           "baxis": {
            "gridcolor": "white",
            "linecolor": "white",
            "ticks": ""
           },
           "bgcolor": "#E5ECF6",
           "caxis": {
            "gridcolor": "white",
            "linecolor": "white",
            "ticks": ""
           }
          },
          "title": {
           "x": 0.05
          },
          "xaxis": {
           "automargin": true,
           "gridcolor": "white",
           "linecolor": "white",
           "ticks": "",
           "title": {
            "standoff": 15
           },
           "zerolinecolor": "white",
           "zerolinewidth": 2
          },
          "yaxis": {
           "automargin": true,
           "gridcolor": "white",
           "linecolor": "white",
           "ticks": "",
           "title": {
            "standoff": 15
           },
           "zerolinecolor": "white",
           "zerolinewidth": 2
          }
         }
        },
        "title": {
         "text": "Statistical Measures for Each Column, Sorted by Color"
        },
        "width": 700,
        "xaxis": {
         "anchor": "y",
         "domain": [
          0,
          1
         ],
         "showgrid": true
        },
        "xaxis2": {
         "anchor": "y2",
         "domain": [
          0,
          1
         ],
         "showgrid": true
        },
        "xaxis3": {
         "anchor": "y3",
         "domain": [
          0,
          1
         ],
         "showgrid": true
        },
        "yaxis": {
         "anchor": "x",
         "domain": [
          0.68,
          1
         ]
        },
        "yaxis2": {
         "anchor": "x2",
         "domain": [
          0.34,
          0.66
         ]
        },
        "yaxis3": {
         "anchor": "x3",
         "domain": [
          0,
          0.32
         ]
        }
       }
      }
     },
     "metadata": {},
     "output_type": "display_data"
    }
   ],
   "source": [
    "# Map colors to the statistics DataFrame\n",
    "stats_df['Color'] = [group_color_map.get(column_group.get(col), 'gray') for col in stats_df.index]\n",
    "\n",
    "# Sort by Color\n",
    "stats_df.sort_values('Color', inplace=True)\n",
    "\n",
    "# Create subplots\n",
    "fig = make_subplots(\n",
    "    rows=3, cols=1,\n",
    "    subplot_titles=(\"Maximum Study Time Per Day\",\"Mean Study Time Per Day\",\"Standard Deviation Study Time Per Day\"),\n",
    "    vertical_spacing=0.02  # Adjust spacing to your preference\n",
    ")\n",
    "\n",
    "# Plotting each statistic with custom group colors, after sorting\n",
    "for i, stat in enumerate(['Max','Mean','Standard Deviation']):\n",
    "    fig.add_trace(\n",
    "        go.Bar(\n",
    "            x=stats_df[stat], \n",
    "            y=stats_df.index, \n",
    "            orientation='h', \n",
    "            marker_color=stats_df['Color'],  # Use sorted colors\n",
    "            name=stat\n",
    "        ), \n",
    "        row=i+1, col=1\n",
    "    )\n",
    "\n",
    "# Update layout for clear visualization\n",
    "fig.update_layout(height=5000, width=700, showlegend=False, title_text=\"Statistical Measures for Each Column, Sorted by Color\")\n",
    "fig.update_xaxes(showgrid=True)  # Optionally, show grid on x-axis for better readability\n",
    "fig.show()"
   ]
  },
  {
   "cell_type": "markdown",
   "metadata": {},
   "source": [
    "# Univariate & Bivariate Analysis"
   ]
  },
  {
   "cell_type": "code",
   "execution_count": 117,
   "metadata": {},
   "outputs": [
    {
     "data": {
      "text/html": [
       "<div>\n",
       "<style scoped>\n",
       "    .dataframe tbody tr th:only-of-type {\n",
       "        vertical-align: middle;\n",
       "    }\n",
       "\n",
       "    .dataframe tbody tr th {\n",
       "        vertical-align: top;\n",
       "    }\n",
       "\n",
       "    .dataframe thead th {\n",
       "        text-align: right;\n",
       "    }\n",
       "</style>\n",
       "<table border=\"1\" class=\"dataframe\">\n",
       "  <thead>\n",
       "    <tr style=\"text-align: right;\">\n",
       "      <th></th>\n",
       "      <th>date</th>\n",
       "      <th>total</th>\n",
       "      <th>doc1</th>\n",
       "      <th>cogs9</th>\n",
       "      <th>pp_fall22</th>\n",
       "      <th>exam</th>\n",
       "      <th>reading_winter23</th>\n",
       "      <th>pp_winter23</th>\n",
       "      <th>math20c</th>\n",
       "      <th>dsc20</th>\n",
       "      <th>...</th>\n",
       "      <th>math181a</th>\n",
       "      <th>cogs107c</th>\n",
       "      <th>psyc137</th>\n",
       "      <th>dsc106</th>\n",
       "      <th>cse150b</th>\n",
       "      <th>fmp_spring24</th>\n",
       "      <th>pp_spring24</th>\n",
       "      <th>math18</th>\n",
       "      <th>dsc10</th>\n",
       "      <th>math20b</th>\n",
       "    </tr>\n",
       "  </thead>\n",
       "  <tbody>\n",
       "    <tr>\n",
       "      <th>0</th>\n",
       "      <td>2022-10-21</td>\n",
       "      <td>1.800000</td>\n",
       "      <td>0.000000</td>\n",
       "      <td>0.000000</td>\n",
       "      <td>0.000000</td>\n",
       "      <td>0.525</td>\n",
       "      <td>0.0</td>\n",
       "      <td>0.0</td>\n",
       "      <td>0.0</td>\n",
       "      <td>0.0</td>\n",
       "      <td>...</td>\n",
       "      <td>0.000000</td>\n",
       "      <td>0.000000</td>\n",
       "      <td>0.0</td>\n",
       "      <td>0.0</td>\n",
       "      <td>0.0</td>\n",
       "      <td>0.0</td>\n",
       "      <td>0.000000</td>\n",
       "      <td>1.025000</td>\n",
       "      <td>0.225</td>\n",
       "      <td>0.208333</td>\n",
       "    </tr>\n",
       "    <tr>\n",
       "      <th>1</th>\n",
       "      <td>2022-10-22</td>\n",
       "      <td>4.550000</td>\n",
       "      <td>0.000000</td>\n",
       "      <td>0.000000</td>\n",
       "      <td>0.000000</td>\n",
       "      <td>0.000</td>\n",
       "      <td>0.0</td>\n",
       "      <td>0.0</td>\n",
       "      <td>0.0</td>\n",
       "      <td>0.0</td>\n",
       "      <td>...</td>\n",
       "      <td>0.000000</td>\n",
       "      <td>0.000000</td>\n",
       "      <td>0.0</td>\n",
       "      <td>0.0</td>\n",
       "      <td>0.0</td>\n",
       "      <td>0.0</td>\n",
       "      <td>0.000000</td>\n",
       "      <td>0.608333</td>\n",
       "      <td>1.700</td>\n",
       "      <td>1.125000</td>\n",
       "    </tr>\n",
       "    <tr>\n",
       "      <th>2</th>\n",
       "      <td>2022-10-23</td>\n",
       "      <td>2.375000</td>\n",
       "      <td>0.208333</td>\n",
       "      <td>0.000000</td>\n",
       "      <td>0.000000</td>\n",
       "      <td>0.000</td>\n",
       "      <td>0.0</td>\n",
       "      <td>0.0</td>\n",
       "      <td>0.0</td>\n",
       "      <td>0.0</td>\n",
       "      <td>...</td>\n",
       "      <td>0.000000</td>\n",
       "      <td>0.000000</td>\n",
       "      <td>0.0</td>\n",
       "      <td>0.0</td>\n",
       "      <td>0.0</td>\n",
       "      <td>0.0</td>\n",
       "      <td>0.000000</td>\n",
       "      <td>0.612500</td>\n",
       "      <td>0.875</td>\n",
       "      <td>0.558333</td>\n",
       "    </tr>\n",
       "    <tr>\n",
       "      <th>3</th>\n",
       "      <td>2022-10-24</td>\n",
       "      <td>2.450000</td>\n",
       "      <td>0.250000</td>\n",
       "      <td>0.158333</td>\n",
       "      <td>0.000000</td>\n",
       "      <td>0.000</td>\n",
       "      <td>0.0</td>\n",
       "      <td>0.0</td>\n",
       "      <td>0.0</td>\n",
       "      <td>0.0</td>\n",
       "      <td>...</td>\n",
       "      <td>0.000000</td>\n",
       "      <td>0.000000</td>\n",
       "      <td>0.0</td>\n",
       "      <td>0.0</td>\n",
       "      <td>0.0</td>\n",
       "      <td>0.0</td>\n",
       "      <td>0.000000</td>\n",
       "      <td>1.475000</td>\n",
       "      <td>0.250</td>\n",
       "      <td>0.191667</td>\n",
       "    </tr>\n",
       "    <tr>\n",
       "      <th>4</th>\n",
       "      <td>2022-10-25</td>\n",
       "      <td>3.691667</td>\n",
       "      <td>0.100000</td>\n",
       "      <td>0.000000</td>\n",
       "      <td>0.483333</td>\n",
       "      <td>0.000</td>\n",
       "      <td>0.0</td>\n",
       "      <td>0.0</td>\n",
       "      <td>0.0</td>\n",
       "      <td>0.0</td>\n",
       "      <td>...</td>\n",
       "      <td>0.000000</td>\n",
       "      <td>0.000000</td>\n",
       "      <td>0.0</td>\n",
       "      <td>0.0</td>\n",
       "      <td>0.0</td>\n",
       "      <td>0.0</td>\n",
       "      <td>0.000000</td>\n",
       "      <td>1.125000</td>\n",
       "      <td>0.750</td>\n",
       "      <td>1.216667</td>\n",
       "    </tr>\n",
       "    <tr>\n",
       "      <th>...</th>\n",
       "      <td>...</td>\n",
       "      <td>...</td>\n",
       "      <td>...</td>\n",
       "      <td>...</td>\n",
       "      <td>...</td>\n",
       "      <td>...</td>\n",
       "      <td>...</td>\n",
       "      <td>...</td>\n",
       "      <td>...</td>\n",
       "      <td>...</td>\n",
       "      <td>...</td>\n",
       "      <td>...</td>\n",
       "      <td>...</td>\n",
       "      <td>...</td>\n",
       "      <td>...</td>\n",
       "      <td>...</td>\n",
       "      <td>...</td>\n",
       "      <td>...</td>\n",
       "      <td>...</td>\n",
       "      <td>...</td>\n",
       "      <td>...</td>\n",
       "    </tr>\n",
       "    <tr>\n",
       "      <th>497</th>\n",
       "      <td>2024-06-10</td>\n",
       "      <td>11.833333</td>\n",
       "      <td>0.000000</td>\n",
       "      <td>0.000000</td>\n",
       "      <td>0.000000</td>\n",
       "      <td>0.000</td>\n",
       "      <td>0.0</td>\n",
       "      <td>0.0</td>\n",
       "      <td>0.0</td>\n",
       "      <td>0.0</td>\n",
       "      <td>...</td>\n",
       "      <td>0.000000</td>\n",
       "      <td>3.833333</td>\n",
       "      <td>0.0</td>\n",
       "      <td>0.0</td>\n",
       "      <td>0.0</td>\n",
       "      <td>0.0</td>\n",
       "      <td>3.833333</td>\n",
       "      <td>0.000000</td>\n",
       "      <td>0.000</td>\n",
       "      <td>0.000000</td>\n",
       "    </tr>\n",
       "    <tr>\n",
       "      <th>498</th>\n",
       "      <td>2024-06-11</td>\n",
       "      <td>11.833333</td>\n",
       "      <td>0.000000</td>\n",
       "      <td>0.000000</td>\n",
       "      <td>0.000000</td>\n",
       "      <td>0.000</td>\n",
       "      <td>0.0</td>\n",
       "      <td>0.0</td>\n",
       "      <td>0.0</td>\n",
       "      <td>0.0</td>\n",
       "      <td>...</td>\n",
       "      <td>2.500000</td>\n",
       "      <td>1.500000</td>\n",
       "      <td>0.0</td>\n",
       "      <td>0.0</td>\n",
       "      <td>0.0</td>\n",
       "      <td>0.0</td>\n",
       "      <td>0.000000</td>\n",
       "      <td>0.000000</td>\n",
       "      <td>0.000</td>\n",
       "      <td>0.000000</td>\n",
       "    </tr>\n",
       "    <tr>\n",
       "      <th>499</th>\n",
       "      <td>2024-06-12</td>\n",
       "      <td>12.583333</td>\n",
       "      <td>0.000000</td>\n",
       "      <td>0.000000</td>\n",
       "      <td>0.000000</td>\n",
       "      <td>0.000</td>\n",
       "      <td>0.0</td>\n",
       "      <td>0.0</td>\n",
       "      <td>0.0</td>\n",
       "      <td>0.0</td>\n",
       "      <td>...</td>\n",
       "      <td>7.000000</td>\n",
       "      <td>0.000000</td>\n",
       "      <td>0.0</td>\n",
       "      <td>0.0</td>\n",
       "      <td>0.0</td>\n",
       "      <td>0.0</td>\n",
       "      <td>0.000000</td>\n",
       "      <td>0.000000</td>\n",
       "      <td>0.000</td>\n",
       "      <td>0.000000</td>\n",
       "    </tr>\n",
       "    <tr>\n",
       "      <th>500</th>\n",
       "      <td>2024-06-13</td>\n",
       "      <td>10.666667</td>\n",
       "      <td>0.000000</td>\n",
       "      <td>0.000000</td>\n",
       "      <td>0.000000</td>\n",
       "      <td>0.000</td>\n",
       "      <td>0.0</td>\n",
       "      <td>0.0</td>\n",
       "      <td>0.0</td>\n",
       "      <td>0.0</td>\n",
       "      <td>...</td>\n",
       "      <td>9.166667</td>\n",
       "      <td>0.000000</td>\n",
       "      <td>0.0</td>\n",
       "      <td>0.0</td>\n",
       "      <td>0.0</td>\n",
       "      <td>0.0</td>\n",
       "      <td>0.000000</td>\n",
       "      <td>0.000000</td>\n",
       "      <td>0.000</td>\n",
       "      <td>0.000000</td>\n",
       "    </tr>\n",
       "    <tr>\n",
       "      <th>501</th>\n",
       "      <td>2024-06-14</td>\n",
       "      <td>9.666667</td>\n",
       "      <td>0.000000</td>\n",
       "      <td>0.000000</td>\n",
       "      <td>0.000000</td>\n",
       "      <td>0.000</td>\n",
       "      <td>0.0</td>\n",
       "      <td>0.0</td>\n",
       "      <td>0.0</td>\n",
       "      <td>0.0</td>\n",
       "      <td>...</td>\n",
       "      <td>6.833333</td>\n",
       "      <td>2.000000</td>\n",
       "      <td>0.0</td>\n",
       "      <td>0.0</td>\n",
       "      <td>0.0</td>\n",
       "      <td>0.0</td>\n",
       "      <td>0.000000</td>\n",
       "      <td>0.000000</td>\n",
       "      <td>0.000</td>\n",
       "      <td>0.000000</td>\n",
       "    </tr>\n",
       "  </tbody>\n",
       "</table>\n",
       "<p>502 rows × 60 columns</p>\n",
       "</div>"
      ],
      "text/plain": [
       "          date      total      doc1     cogs9  pp_fall22   exam  \\\n",
       "0   2022-10-21   1.800000  0.000000  0.000000   0.000000  0.525   \n",
       "1   2022-10-22   4.550000  0.000000  0.000000   0.000000  0.000   \n",
       "2   2022-10-23   2.375000  0.208333  0.000000   0.000000  0.000   \n",
       "3   2022-10-24   2.450000  0.250000  0.158333   0.000000  0.000   \n",
       "4   2022-10-25   3.691667  0.100000  0.000000   0.483333  0.000   \n",
       "..         ...        ...       ...       ...        ...    ...   \n",
       "497 2024-06-10  11.833333  0.000000  0.000000   0.000000  0.000   \n",
       "498 2024-06-11  11.833333  0.000000  0.000000   0.000000  0.000   \n",
       "499 2024-06-12  12.583333  0.000000  0.000000   0.000000  0.000   \n",
       "500 2024-06-13  10.666667  0.000000  0.000000   0.000000  0.000   \n",
       "501 2024-06-14   9.666667  0.000000  0.000000   0.000000  0.000   \n",
       "\n",
       "     reading_winter23  pp_winter23  math20c  dsc20  ...  math181a  cogs107c  \\\n",
       "0                 0.0          0.0      0.0    0.0  ...  0.000000  0.000000   \n",
       "1                 0.0          0.0      0.0    0.0  ...  0.000000  0.000000   \n",
       "2                 0.0          0.0      0.0    0.0  ...  0.000000  0.000000   \n",
       "3                 0.0          0.0      0.0    0.0  ...  0.000000  0.000000   \n",
       "4                 0.0          0.0      0.0    0.0  ...  0.000000  0.000000   \n",
       "..                ...          ...      ...    ...  ...       ...       ...   \n",
       "497               0.0          0.0      0.0    0.0  ...  0.000000  3.833333   \n",
       "498               0.0          0.0      0.0    0.0  ...  2.500000  1.500000   \n",
       "499               0.0          0.0      0.0    0.0  ...  7.000000  0.000000   \n",
       "500               0.0          0.0      0.0    0.0  ...  9.166667  0.000000   \n",
       "501               0.0          0.0      0.0    0.0  ...  6.833333  2.000000   \n",
       "\n",
       "     psyc137  dsc106  cse150b  fmp_spring24  pp_spring24    math18  dsc10  \\\n",
       "0        0.0     0.0      0.0           0.0     0.000000  1.025000  0.225   \n",
       "1        0.0     0.0      0.0           0.0     0.000000  0.608333  1.700   \n",
       "2        0.0     0.0      0.0           0.0     0.000000  0.612500  0.875   \n",
       "3        0.0     0.0      0.0           0.0     0.000000  1.475000  0.250   \n",
       "4        0.0     0.0      0.0           0.0     0.000000  1.125000  0.750   \n",
       "..       ...     ...      ...           ...          ...       ...    ...   \n",
       "497      0.0     0.0      0.0           0.0     3.833333  0.000000  0.000   \n",
       "498      0.0     0.0      0.0           0.0     0.000000  0.000000  0.000   \n",
       "499      0.0     0.0      0.0           0.0     0.000000  0.000000  0.000   \n",
       "500      0.0     0.0      0.0           0.0     0.000000  0.000000  0.000   \n",
       "501      0.0     0.0      0.0           0.0     0.000000  0.000000  0.000   \n",
       "\n",
       "      math20b  \n",
       "0    0.208333  \n",
       "1    1.125000  \n",
       "2    0.558333  \n",
       "3    0.191667  \n",
       "4    1.216667  \n",
       "..        ...  \n",
       "497  0.000000  \n",
       "498  0.000000  \n",
       "499  0.000000  \n",
       "500  0.000000  \n",
       "501  0.000000  \n",
       "\n",
       "[502 rows x 60 columns]"
      ]
     },
     "execution_count": 117,
     "metadata": {},
     "output_type": "execute_result"
    }
   ],
   "source": [
    "clean_study"
   ]
  },
  {
   "cell_type": "code",
   "execution_count": 118,
   "metadata": {},
   "outputs": [
    {
     "data": {
      "application/vnd.plotly.v1+json": {
       "config": {
        "plotlyServerURL": "https://plot.ly"
       },
       "data": [
        {
         "hovertemplate": "date=%{x}<br>total=%{y}<extra></extra>",
         "legendgroup": "",
         "marker": {
          "color": "#636efa",
          "symbol": "circle"
         },
         "mode": "markers",
         "name": "",
         "orientation": "v",
         "showlegend": false,
         "type": "scatter",
         "x": [
          "2022-10-21T00:00:00",
          "2022-10-22T00:00:00",
          "2022-10-23T00:00:00",
          "2022-10-24T00:00:00",
          "2022-10-25T00:00:00",
          "2022-10-26T00:00:00",
          "2022-10-27T00:00:00",
          "2022-10-28T00:00:00",
          "2022-10-29T00:00:00",
          "2022-10-30T00:00:00",
          "2022-10-31T00:00:00",
          "2022-11-01T00:00:00",
          "2022-11-02T00:00:00",
          "2022-11-03T00:00:00",
          "2022-11-05T00:00:00",
          "2022-11-06T00:00:00",
          "2022-11-07T00:00:00",
          "2022-11-08T00:00:00",
          "2022-11-09T00:00:00",
          "2022-11-10T00:00:00",
          "2022-11-11T00:00:00",
          "2022-11-12T00:00:00",
          "2022-11-13T00:00:00",
          "2022-11-14T00:00:00",
          "2022-11-15T00:00:00",
          "2022-11-16T00:00:00",
          "2022-11-17T00:00:00",
          "2022-11-18T00:00:00",
          "2022-11-19T00:00:00",
          "2022-11-20T00:00:00",
          "2022-11-21T00:00:00",
          "2022-11-22T00:00:00",
          "2022-11-23T00:00:00",
          "2022-11-24T00:00:00",
          "2022-11-25T00:00:00",
          "2022-11-26T00:00:00",
          "2022-11-27T00:00:00",
          "2022-11-28T00:00:00",
          "2022-11-29T00:00:00",
          "2022-11-30T00:00:00",
          "2022-12-01T00:00:00",
          "2022-12-02T00:00:00",
          "2022-12-03T00:00:00",
          "2022-12-04T00:00:00",
          "2022-12-05T00:00:00",
          "2022-12-06T00:00:00",
          "2022-12-07T00:00:00",
          "2022-12-08T00:00:00",
          "2022-12-09T00:00:00",
          "2022-12-14T00:00:00",
          "2022-12-18T00:00:00",
          "2022-12-21T00:00:00",
          "2022-12-23T00:00:00",
          "2022-12-29T00:00:00",
          "2022-12-31T00:00:00",
          "2023-01-01T00:00:00",
          "2023-01-02T00:00:00",
          "2023-01-03T00:00:00",
          "2023-01-04T00:00:00",
          "2023-01-05T00:00:00",
          "2023-01-06T00:00:00",
          "2023-01-07T00:00:00",
          "2023-01-08T00:00:00",
          "2023-01-10T00:00:00",
          "2023-01-11T00:00:00",
          "2023-01-12T00:00:00",
          "2023-01-13T00:00:00",
          "2023-01-14T00:00:00",
          "2023-01-15T00:00:00",
          "2023-01-16T00:00:00",
          "2023-01-17T00:00:00",
          "2023-01-18T00:00:00",
          "2023-01-19T00:00:00",
          "2023-01-20T00:00:00",
          "2023-01-21T00:00:00",
          "2023-01-22T00:00:00",
          "2023-01-23T00:00:00",
          "2023-01-24T00:00:00",
          "2023-01-25T00:00:00",
          "2023-01-26T00:00:00",
          "2023-01-27T00:00:00",
          "2023-01-28T00:00:00",
          "2023-01-29T00:00:00",
          "2023-01-30T00:00:00",
          "2023-01-31T00:00:00",
          "2023-02-01T00:00:00",
          "2023-02-02T00:00:00",
          "2023-02-03T00:00:00",
          "2023-02-04T00:00:00",
          "2023-02-05T00:00:00",
          "2023-02-06T00:00:00",
          "2023-02-07T00:00:00",
          "2023-02-08T00:00:00",
          "2023-02-09T00:00:00",
          "2023-02-10T00:00:00",
          "2023-02-11T00:00:00",
          "2023-02-12T00:00:00",
          "2023-02-13T00:00:00",
          "2023-02-14T00:00:00",
          "2023-02-15T00:00:00",
          "2023-02-16T00:00:00",
          "2023-02-17T00:00:00",
          "2023-02-18T00:00:00",
          "2023-02-19T00:00:00",
          "2023-02-20T00:00:00",
          "2023-02-21T00:00:00",
          "2023-02-22T00:00:00",
          "2023-02-23T00:00:00",
          "2023-02-24T00:00:00",
          "2023-02-25T00:00:00",
          "2023-02-26T00:00:00",
          "2023-02-27T00:00:00",
          "2023-02-28T00:00:00",
          "2023-03-01T00:00:00",
          "2023-03-02T00:00:00",
          "2023-03-03T00:00:00",
          "2023-03-04T00:00:00",
          "2023-03-05T00:00:00",
          "2023-03-06T00:00:00",
          "2023-03-07T00:00:00",
          "2023-03-08T00:00:00",
          "2023-03-09T00:00:00",
          "2023-03-10T00:00:00",
          "2023-03-11T00:00:00",
          "2023-03-12T00:00:00",
          "2023-03-13T00:00:00",
          "2023-03-14T00:00:00",
          "2023-03-15T00:00:00",
          "2023-03-16T00:00:00",
          "2023-03-17T00:00:00",
          "2023-03-18T00:00:00",
          "2023-03-19T00:00:00",
          "2023-03-20T00:00:00",
          "2023-03-21T00:00:00",
          "2023-03-22T00:00:00",
          "2023-03-23T00:00:00",
          "2023-04-03T00:00:00",
          "2023-04-04T00:00:00",
          "2023-04-05T00:00:00",
          "2023-04-06T00:00:00",
          "2023-04-07T00:00:00",
          "2023-04-08T00:00:00",
          "2023-04-09T00:00:00",
          "2023-04-10T00:00:00",
          "2023-04-11T00:00:00",
          "2023-04-12T00:00:00",
          "2023-04-13T00:00:00",
          "2023-04-14T00:00:00",
          "2023-04-15T00:00:00",
          "2023-04-16T00:00:00",
          "2023-04-17T00:00:00",
          "2023-04-18T00:00:00",
          "2023-04-19T00:00:00",
          "2023-04-20T00:00:00",
          "2023-04-21T00:00:00",
          "2023-04-22T00:00:00",
          "2023-04-23T00:00:00",
          "2023-04-24T00:00:00",
          "2023-04-25T00:00:00",
          "2023-04-26T00:00:00",
          "2023-04-27T00:00:00",
          "2023-04-28T00:00:00",
          "2023-04-29T00:00:00",
          "2023-04-30T00:00:00",
          "2023-05-01T00:00:00",
          "2023-05-02T00:00:00",
          "2023-05-03T00:00:00",
          "2023-05-04T00:00:00",
          "2023-05-05T00:00:00",
          "2023-05-06T00:00:00",
          "2023-05-07T00:00:00",
          "2023-05-08T00:00:00",
          "2023-05-09T00:00:00",
          "2023-05-10T00:00:00",
          "2023-05-11T00:00:00",
          "2023-05-12T00:00:00",
          "2023-05-13T00:00:00",
          "2023-05-14T00:00:00",
          "2023-05-15T00:00:00",
          "2023-05-16T00:00:00",
          "2023-05-17T00:00:00",
          "2023-05-18T00:00:00",
          "2023-05-19T00:00:00",
          "2023-05-20T00:00:00",
          "2023-05-21T00:00:00",
          "2023-05-22T00:00:00",
          "2023-05-23T00:00:00",
          "2023-05-24T00:00:00",
          "2023-05-25T00:00:00",
          "2023-05-26T00:00:00",
          "2023-05-27T00:00:00",
          "2023-05-28T00:00:00",
          "2023-05-29T00:00:00",
          "2023-05-30T00:00:00",
          "2023-05-31T00:00:00",
          "2023-06-01T00:00:00",
          "2023-06-02T00:00:00",
          "2023-06-03T00:00:00",
          "2023-06-04T00:00:00",
          "2023-06-05T00:00:00",
          "2023-06-06T00:00:00",
          "2023-06-07T00:00:00",
          "2023-06-08T00:00:00",
          "2023-06-09T00:00:00",
          "2023-06-10T00:00:00",
          "2023-06-11T00:00:00",
          "2023-06-12T00:00:00",
          "2023-06-13T00:00:00",
          "2023-06-14T00:00:00",
          "2023-06-15T00:00:00",
          "2023-06-16T00:00:00",
          "2023-06-22T00:00:00",
          "2023-06-24T00:00:00",
          "2023-06-28T00:00:00",
          "2023-07-03T00:00:00",
          "2023-07-04T00:00:00",
          "2023-07-05T00:00:00",
          "2023-07-06T00:00:00",
          "2023-07-07T00:00:00",
          "2023-07-08T00:00:00",
          "2023-07-09T00:00:00",
          "2023-07-10T00:00:00",
          "2023-07-11T00:00:00",
          "2023-07-12T00:00:00",
          "2023-07-13T00:00:00",
          "2023-07-14T00:00:00",
          "2023-07-15T00:00:00",
          "2023-07-16T00:00:00",
          "2023-07-17T00:00:00",
          "2023-07-18T00:00:00",
          "2023-07-19T00:00:00",
          "2023-07-20T00:00:00",
          "2023-07-21T00:00:00",
          "2023-07-22T00:00:00",
          "2023-07-23T00:00:00",
          "2023-07-24T00:00:00",
          "2023-07-25T00:00:00",
          "2023-07-26T00:00:00",
          "2023-07-27T00:00:00",
          "2023-07-28T00:00:00",
          "2023-07-29T00:00:00",
          "2023-07-30T00:00:00",
          "2023-07-31T00:00:00",
          "2023-08-01T00:00:00",
          "2023-08-02T00:00:00",
          "2023-08-03T00:00:00",
          "2023-08-04T00:00:00",
          "2023-08-05T00:00:00",
          "2023-08-06T00:00:00",
          "2023-08-07T00:00:00",
          "2023-08-08T00:00:00",
          "2023-08-09T00:00:00",
          "2023-08-10T00:00:00",
          "2023-08-11T00:00:00",
          "2023-08-12T00:00:00",
          "2023-08-13T00:00:00",
          "2023-08-14T00:00:00",
          "2023-08-15T00:00:00",
          "2023-08-16T00:00:00",
          "2023-08-17T00:00:00",
          "2023-08-18T00:00:00",
          "2023-08-19T00:00:00",
          "2023-08-20T00:00:00",
          "2023-09-10T00:00:00",
          "2023-10-10T00:00:00",
          "2023-10-11T00:00:00",
          "2023-10-12T00:00:00",
          "2023-10-13T00:00:00",
          "2023-10-14T00:00:00",
          "2023-10-15T00:00:00",
          "2023-10-16T00:00:00",
          "2023-10-17T00:00:00",
          "2023-10-18T00:00:00",
          "2023-10-19T00:00:00",
          "2023-10-20T00:00:00",
          "2023-10-21T00:00:00",
          "2023-10-22T00:00:00",
          "2023-10-23T00:00:00",
          "2023-10-24T00:00:00",
          "2023-10-25T00:00:00",
          "2023-10-26T00:00:00",
          "2023-10-27T00:00:00",
          "2023-10-28T00:00:00",
          "2023-10-29T00:00:00",
          "2023-10-30T00:00:00",
          "2023-10-31T00:00:00",
          "2023-11-01T00:00:00",
          "2023-11-02T00:00:00",
          "2023-11-03T00:00:00",
          "2023-11-04T00:00:00",
          "2023-11-05T00:00:00",
          "2023-11-06T00:00:00",
          "2023-11-07T00:00:00",
          "2023-11-08T00:00:00",
          "2023-11-09T00:00:00",
          "2023-11-10T00:00:00",
          "2023-11-11T00:00:00",
          "2023-11-12T00:00:00",
          "2023-11-13T00:00:00",
          "2023-11-14T00:00:00",
          "2023-11-15T00:00:00",
          "2023-11-16T00:00:00",
          "2023-11-17T00:00:00",
          "2023-11-18T00:00:00",
          "2023-11-19T00:00:00",
          "2023-11-20T00:00:00",
          "2023-11-21T00:00:00",
          "2023-11-22T00:00:00",
          "2023-11-23T00:00:00",
          "2023-11-24T00:00:00",
          "2023-11-25T00:00:00",
          "2023-11-26T00:00:00",
          "2023-11-27T00:00:00",
          "2023-11-28T00:00:00",
          "2023-11-29T00:00:00",
          "2023-11-30T00:00:00",
          "2023-12-01T00:00:00",
          "2023-12-02T00:00:00",
          "2023-12-03T00:00:00",
          "2023-12-04T00:00:00",
          "2023-12-05T00:00:00",
          "2023-12-06T00:00:00",
          "2023-12-07T00:00:00",
          "2023-12-08T00:00:00",
          "2023-12-09T00:00:00",
          "2023-12-10T00:00:00",
          "2023-12-11T00:00:00",
          "2023-12-12T00:00:00",
          "2023-12-13T00:00:00",
          "2023-12-14T00:00:00",
          "2023-12-15T00:00:00",
          "2023-12-16T00:00:00",
          "2023-12-17T00:00:00",
          "2023-12-18T00:00:00",
          "2023-12-19T00:00:00",
          "2023-12-20T00:00:00",
          "2023-12-26T00:00:00",
          "2023-12-27T00:00:00",
          "2023-12-28T00:00:00",
          "2023-12-29T00:00:00",
          "2023-12-30T00:00:00",
          "2023-12-31T00:00:00",
          "2024-01-01T00:00:00",
          "2024-01-02T00:00:00",
          "2024-01-03T00:00:00",
          "2024-01-04T00:00:00",
          "2024-01-05T00:00:00",
          "2024-01-06T00:00:00",
          "2024-01-07T00:00:00",
          "2024-01-08T00:00:00",
          "2024-01-09T00:00:00",
          "2024-01-10T00:00:00",
          "2024-01-11T00:00:00",
          "2024-01-12T00:00:00",
          "2024-01-13T00:00:00",
          "2024-01-14T00:00:00",
          "2024-01-15T00:00:00",
          "2024-01-16T00:00:00",
          "2024-01-17T00:00:00",
          "2024-01-18T00:00:00",
          "2024-01-19T00:00:00",
          "2024-01-20T00:00:00",
          "2024-01-21T00:00:00",
          "2024-01-22T00:00:00",
          "2024-01-23T00:00:00",
          "2024-01-24T00:00:00",
          "2024-01-25T00:00:00",
          "2024-01-26T00:00:00",
          "2024-01-27T00:00:00",
          "2024-01-28T00:00:00",
          "2024-01-29T00:00:00",
          "2024-01-30T00:00:00",
          "2024-01-31T00:00:00",
          "2024-02-01T00:00:00",
          "2024-02-02T00:00:00",
          "2024-02-03T00:00:00",
          "2024-02-04T00:00:00",
          "2024-02-05T00:00:00",
          "2024-02-06T00:00:00",
          "2024-02-07T00:00:00",
          "2024-02-08T00:00:00",
          "2024-02-09T00:00:00",
          "2024-02-10T00:00:00",
          "2024-02-11T00:00:00",
          "2024-02-12T00:00:00",
          "2024-02-13T00:00:00",
          "2024-02-14T00:00:00",
          "2024-02-15T00:00:00",
          "2024-02-16T00:00:00",
          "2024-02-17T00:00:00",
          "2024-02-18T00:00:00",
          "2024-02-19T00:00:00",
          "2024-02-20T00:00:00",
          "2024-02-21T00:00:00",
          "2024-02-22T00:00:00",
          "2024-02-23T00:00:00",
          "2024-02-24T00:00:00",
          "2024-02-25T00:00:00",
          "2024-02-26T00:00:00",
          "2024-02-27T00:00:00",
          "2024-02-28T00:00:00",
          "2024-02-29T00:00:00",
          "2024-03-01T00:00:00",
          "2024-03-02T00:00:00",
          "2024-03-03T00:00:00",
          "2024-03-04T00:00:00",
          "2024-03-05T00:00:00",
          "2024-03-06T00:00:00",
          "2024-03-07T00:00:00",
          "2024-03-08T00:00:00",
          "2024-03-09T00:00:00",
          "2024-03-10T00:00:00",
          "2024-03-11T00:00:00",
          "2024-03-12T00:00:00",
          "2024-03-13T00:00:00",
          "2024-03-14T00:00:00",
          "2024-03-15T00:00:00",
          "2024-03-16T00:00:00",
          "2024-03-17T00:00:00",
          "2024-03-18T00:00:00",
          "2024-03-19T00:00:00",
          "2024-03-20T00:00:00",
          "2024-03-21T00:00:00",
          "2024-03-24T00:00:00",
          "2024-03-29T00:00:00",
          "2024-03-30T00:00:00",
          "2024-03-31T00:00:00",
          "2024-04-01T00:00:00",
          "2024-04-02T00:00:00",
          "2024-04-03T00:00:00",
          "2024-04-04T00:00:00",
          "2024-04-05T00:00:00",
          "2024-04-06T00:00:00",
          "2024-04-07T00:00:00",
          "2024-04-08T00:00:00",
          "2024-04-09T00:00:00",
          "2024-04-10T00:00:00",
          "2024-04-11T00:00:00",
          "2024-04-12T00:00:00",
          "2024-04-13T00:00:00",
          "2024-04-14T00:00:00",
          "2024-04-15T00:00:00",
          "2024-04-16T00:00:00",
          "2024-04-17T00:00:00",
          "2024-04-18T00:00:00",
          "2024-04-19T00:00:00",
          "2024-04-20T00:00:00",
          "2024-04-21T00:00:00",
          "2024-04-22T00:00:00",
          "2024-04-23T00:00:00",
          "2024-04-24T00:00:00",
          "2024-04-25T00:00:00",
          "2024-04-26T00:00:00",
          "2024-04-27T00:00:00",
          "2024-04-28T00:00:00",
          "2024-04-29T00:00:00",
          "2024-04-30T00:00:00",
          "2024-05-01T00:00:00",
          "2024-05-02T00:00:00",
          "2024-05-03T00:00:00",
          "2024-05-04T00:00:00",
          "2024-05-05T00:00:00",
          "2024-05-06T00:00:00",
          "2024-05-07T00:00:00",
          "2024-05-08T00:00:00",
          "2024-05-09T00:00:00",
          "2024-05-10T00:00:00",
          "2024-05-11T00:00:00",
          "2024-05-12T00:00:00",
          "2024-05-13T00:00:00",
          "2024-05-14T00:00:00",
          "2024-05-15T00:00:00",
          "2024-05-16T00:00:00",
          "2024-05-17T00:00:00",
          "2024-05-18T00:00:00",
          "2024-05-19T00:00:00",
          "2024-05-20T00:00:00",
          "2024-05-21T00:00:00",
          "2024-05-22T00:00:00",
          "2024-05-23T00:00:00",
          "2024-05-24T00:00:00",
          "2024-05-25T00:00:00",
          "2024-05-26T00:00:00",
          "2024-05-27T00:00:00",
          "2024-05-28T00:00:00",
          "2024-05-29T00:00:00",
          "2024-05-30T00:00:00",
          "2024-05-31T00:00:00",
          "2024-06-01T00:00:00",
          "2024-06-02T00:00:00",
          "2024-06-03T00:00:00",
          "2024-06-04T00:00:00",
          "2024-06-05T00:00:00",
          "2024-06-06T00:00:00",
          "2024-06-07T00:00:00",
          "2024-06-08T00:00:00",
          "2024-06-09T00:00:00",
          "2024-06-10T00:00:00",
          "2024-06-11T00:00:00",
          "2024-06-12T00:00:00",
          "2024-06-13T00:00:00",
          "2024-06-14T00:00:00"
         ],
         "xaxis": "x",
         "y": [
          1.8,
          4.55,
          2.375,
          2.45,
          3.691666666666667,
          2.711111111111111,
          1.4958333333333333,
          1.55,
          2.433333333333333,
          1.3208333333333333,
          3.6166666666666667,
          2.691666666666667,
          3.1666666666666665,
          2.5416666666666665,
          4.166666666666667,
          3.125,
          2.825,
          3.1,
          4.716666666666667,
          4,
          2.441666666666667,
          5.366666666666666,
          2.0555555555555554,
          2.3833333333333333,
          7.933333333333334,
          4.216666666666667,
          6.2,
          2.65,
          3.5,
          5.4,
          6.05,
          4.75,
          4.75,
          3.9166666666666665,
          4.583333333333333,
          6.716666666666667,
          6.583333333333333,
          4.916666666666667,
          4.95,
          4.083333333333333,
          5.516666666666667,
          4.083333333333333,
          9,
          3,
          4.5,
          5.666666666666667,
          2.5833333333333335,
          6.016666666666667,
          1.5,
          1,
          1.1666666666666667,
          2,
          2.5,
          2,
          3,
          4.083333333333333,
          2.75,
          5.166666666666667,
          1,
          1.5833333333333333,
          2,
          1.4166666666666667,
          1.2666666666666666,
          5.666666666666667,
          1.4166666666666667,
          3.433333333333333,
          5.016666666666667,
          7,
          3.8333333333333335,
          4.266666666666667,
          6.766666666666667,
          2.8333333333333335,
          9.05,
          5.083333333333333,
          2.5,
          6,
          4.366666666666666,
          5.333333333333333,
          2.9166666666666665,
          6.666666666666667,
          6.833333333333333,
          5.333333333333333,
          7.283333333333333,
          3.75,
          7.533333333333333,
          6.166666666666667,
          5.583333333333333,
          4.416666666666667,
          3.0833333333333335,
          6.833333333333333,
          6.833333333333333,
          7.666666666666667,
          2.55,
          5.75,
          4.583333333333333,
          3.9166666666666665,
          3.9166666666666665,
          5,
          6.166666666666667,
          3.0833333333333335,
          5.833333333333333,
          4,
          3.8333333333333335,
          2.4166666666666665,
          5.166666666666667,
          5,
          5,
          5.916666666666667,
          3.0833333333333335,
          5.1,
          4.25,
          4.166666666666667,
          5.333333333333333,
          2.1666666666666665,
          7.666666666666667,
          3.6666666666666665,
          6.083333333333333,
          4.5,
          4.916666666666667,
          4.916666666666667,
          4.666666666666667,
          4.333333333333333,
          5.333333333333333,
          4,
          5.166666666666667,
          4.25,
          5.25,
          5.333333333333333,
          7.5,
          4.416666666666667,
          1.8333333333333333,
          4.25,
          3.5,
          5.833333333333333,
          4.333333333333333,
          5,
          3.5,
          3.5833333333333335,
          7.083333333333333,
          5.166666666666667,
          3.9166666666666665,
          5.25,
          4.416666666666667,
          4,
          7.416666666666667,
          5.083333333333333,
          2.25,
          5,
          6,
          5.25,
          4.416666666666667,
          8,
          5.583333333333333,
          6.333333333333333,
          3.1666666666666665,
          3.4166666666666665,
          6.333333333333333,
          5.5,
          6.666666666666667,
          3.25,
          8.75,
          4.5,
          7.666666666666667,
          8,
          6.083333333333333,
          7.166666666666667,
          9.5,
          8.5,
          3.0833333333333335,
          7.166666666666667,
          7.45,
          5.166666666666667,
          8.666666666666666,
          10.833333333333334,
          7.5,
          4.666666666666667,
          6.166666666666667,
          7.5,
          7,
          7,
          11.166666666666666,
          7.583333333333333,
          9,
          5,
          5.083333333333333,
          5.333333333333333,
          8.266666666666667,
          7.05,
          9,
          6.666666666666667,
          8.333333333333334,
          8.333333333333334,
          5,
          6.25,
          8.083333333333334,
          5.083333333333333,
          5.25,
          5.5,
          7,
          6.75,
          6.833333333333333,
          7.833333333333333,
          8.833333333333334,
          8,
          4.833333333333333,
          4.916666666666667,
          7,
          4.583333333333333,
          5.833333333333333,
          5,
          2.5,
          3,
          3,
          6.5,
          5.833333333333333,
          5.5,
          6.333333333333333,
          6.416666666666667,
          5.166666666666667,
          4.833333333333333,
          7,
          7.75,
          7.666666666666667,
          3,
          5,
          8.416666666666666,
          6.666666666666667,
          1.75,
          7.25,
          10.5,
          8,
          3,
          5.25,
          4,
          0,
          2,
          3.25,
          11.416666666666666,
          4.416666666666667,
          6.916666666666667,
          1,
          6.833333333333333,
          8.75,
          6.833333333333333,
          8.5,
          8.333333333333334,
          9.75,
          4.333333333333333,
          2.3333333333333335,
          8.5,
          5,
          7,
          7.441666666666666,
          6.583333333333333,
          2,
          4.833333333333333,
          8.833333333333334,
          10.583333333333334,
          4.75,
          5.5,
          4,
          3.25,
          8.416666666666666,
          9,
          8.233333333333333,
          6.166666666666667,
          6.5,
          5.5,
          3.8333333333333335,
          6.916666666666667,
          9.083333333333334,
          7.666666666666667,
          9,
          8.666666666666666,
          6.083333333333333,
          4.583333333333333,
          12,
          8.183333333333334,
          5.833333333333333,
          9,
          5.916666666666667,
          7,
          6,
          8.416666666666666,
          8.333333333333334,
          8.416666666666666,
          8.25,
          6.833333333333333,
          4.333333333333333,
          7.366666666666666,
          7.666666666666667,
          7.166666666666667,
          7.833333333333333,
          5.5,
          4.416666666666667,
          2.9166666666666665,
          2,
          9.666666666666666,
          8.416666666666666,
          7.5,
          8.833333333333334,
          7.25,
          6.166666666666667,
          5.583333333333333,
          5.416666666666667,
          7.916666666666667,
          7.25,
          7.083333333333333,
          4.25,
          0,
          6.333333333333333,
          4.666666666666667,
          5.083333333333333,
          7.25,
          8,
          8.916666666666666,
          7,
          7.416666666666667,
          7.416666666666667,
          6.75,
          7.166666666666667,
          9.833333333333334,
          7.75,
          6.25,
          7.75,
          8.583333333333334,
          9.966666666666667,
          6.333333333333333,
          11.25,
          7.833333333333333,
          8.833333333333334,
          4.166666666666667,
          4.5,
          6.5,
          6.083333333333333,
          4.166666666666667,
          7,
          7.7,
          7.166666666666667,
          9.916666666666666,
          6.5,
          0,
          6.5,
          7.5,
          8.25,
          3.3333333333333335,
          5.5,
          2.75,
          6.166666666666667,
          7.166666666666667,
          10.833333333333334,
          8.083333333333334,
          9.166666666666666,
          6.75,
          8.5,
          10,
          9.75,
          11.25,
          12.583333333333334,
          10.5,
          10.333333333333334,
          11.25,
          6.333333333333333,
          8.833333333333334,
          10.416666666666666,
          11.333333333333334,
          10.833333333333334,
          6.75,
          6.333333333333333,
          5.833333333333333,
          12,
          9.5,
          10,
          9.166666666666666,
          10,
          8.583333333333334,
          11.333333333333334,
          9.75,
          11.833333333333334,
          11.083333333333334,
          10.333333333333334,
          4.083333333333333,
          0,
          3.5,
          7.25,
          10.916666666666666,
          10.75,
          11.166666666666666,
          8.333333333333334,
          4.75,
          8.333333333333334,
          9.166666666666666,
          10.75,
          6.166666666666667,
          10.166666666666666,
          10.5,
          5.916666666666667,
          11,
          8.916666666666666,
          11.833333333333334,
          12,
          11.5,
          11,
          11.166666666666666,
          12.25,
          10.916666666666666,
          12.083333333333334,
          11.333333333333334,
          12.75,
          11.583333333333334,
          9.5,
          10.583333333333334,
          12.25,
          13,
          12.416666666666666,
          11.416666666666666,
          15.5,
          12.166666666666666,
          11.5,
          11.166666666666666,
          12.633333333333333,
          10.5,
          13.5,
          7.833333333333333,
          3.5,
          8.833333333333334,
          9.5,
          10.833333333333334,
          12.5,
          9.916666666666666,
          13.75,
          7.666666666666667,
          10.5,
          11.333333333333334,
          11.166666666666666,
          12.833333333333334,
          10.666666666666666,
          14.5,
          12.333333333333334,
          10.75,
          8.833333333333334,
          13.833333333333334,
          15,
          13.583333333333334,
          14.75,
          11.916666666666666,
          9.5,
          11.416666666666666,
          11.5,
          13.416666666666666,
          12.75,
          13.666666666666666,
          11.333333333333334,
          9,
          9.416666666666666,
          12.833333333333334,
          13.5,
          12.166666666666666,
          10.833333333333334,
          9.5,
          10.5,
          9.916666666666666,
          11.5,
          12.833333333333334,
          11.75,
          13,
          8.333333333333334,
          10.583333333333334,
          9.833333333333334,
          12.333333333333334,
          13.916666666666666,
          10.583333333333334,
          12.833333333333334,
          10.25,
          11.333333333333334,
          9.166666666666666,
          10.5,
          11.833333333333334,
          11.666666666666666,
          12.5,
          9.75,
          9.666666666666666,
          8,
          11.166666666666666,
          12.75,
          10.75,
          12.666666666666666,
          10.25,
          8.083333333333334,
          10.333333333333334,
          12.166666666666666,
          14.916666666666666,
          14.166666666666666,
          12,
          11.833333333333334,
          15.5,
          11.25,
          11.833333333333334,
          11.833333333333334,
          12.583333333333334,
          10.666666666666666,
          9.666666666666666
         ],
         "yaxis": "y"
        },
        {
         "hovertemplate": "<b>LOWESS trendline</b><br><br>date=%{x}<br>total=%{y} <b>(trend)</b><extra></extra>",
         "legendgroup": "",
         "marker": {
          "color": "#636efa",
          "symbol": "circle"
         },
         "mode": "lines",
         "name": "",
         "showlegend": false,
         "type": "scatter",
         "x": [
          "2022-10-21T00:00:00",
          "2022-10-22T00:00:00",
          "2022-10-23T00:00:00",
          "2022-10-24T00:00:00",
          "2022-10-25T00:00:00",
          "2022-10-26T00:00:00",
          "2022-10-27T00:00:00",
          "2022-10-28T00:00:00",
          "2022-10-29T00:00:00",
          "2022-10-30T00:00:00",
          "2022-10-31T00:00:00",
          "2022-11-01T00:00:00",
          "2022-11-02T00:00:00",
          "2022-11-03T00:00:00",
          "2022-11-05T00:00:00",
          "2022-11-06T00:00:00",
          "2022-11-07T00:00:00",
          "2022-11-08T00:00:00",
          "2022-11-09T00:00:00",
          "2022-11-10T00:00:00",
          "2022-11-11T00:00:00",
          "2022-11-12T00:00:00",
          "2022-11-13T00:00:00",
          "2022-11-14T00:00:00",
          "2022-11-15T00:00:00",
          "2022-11-16T00:00:00",
          "2022-11-17T00:00:00",
          "2022-11-18T00:00:00",
          "2022-11-19T00:00:00",
          "2022-11-20T00:00:00",
          "2022-11-21T00:00:00",
          "2022-11-22T00:00:00",
          "2022-11-23T00:00:00",
          "2022-11-24T00:00:00",
          "2022-11-25T00:00:00",
          "2022-11-26T00:00:00",
          "2022-11-27T00:00:00",
          "2022-11-28T00:00:00",
          "2022-11-29T00:00:00",
          "2022-11-30T00:00:00",
          "2022-12-01T00:00:00",
          "2022-12-02T00:00:00",
          "2022-12-03T00:00:00",
          "2022-12-04T00:00:00",
          "2022-12-05T00:00:00",
          "2022-12-06T00:00:00",
          "2022-12-07T00:00:00",
          "2022-12-08T00:00:00",
          "2022-12-09T00:00:00",
          "2022-12-14T00:00:00",
          "2022-12-18T00:00:00",
          "2022-12-21T00:00:00",
          "2022-12-23T00:00:00",
          "2022-12-29T00:00:00",
          "2022-12-31T00:00:00",
          "2023-01-01T00:00:00",
          "2023-01-02T00:00:00",
          "2023-01-03T00:00:00",
          "2023-01-04T00:00:00",
          "2023-01-05T00:00:00",
          "2023-01-06T00:00:00",
          "2023-01-07T00:00:00",
          "2023-01-08T00:00:00",
          "2023-01-10T00:00:00",
          "2023-01-11T00:00:00",
          "2023-01-12T00:00:00",
          "2023-01-13T00:00:00",
          "2023-01-14T00:00:00",
          "2023-01-15T00:00:00",
          "2023-01-16T00:00:00",
          "2023-01-17T00:00:00",
          "2023-01-18T00:00:00",
          "2023-01-19T00:00:00",
          "2023-01-20T00:00:00",
          "2023-01-21T00:00:00",
          "2023-01-22T00:00:00",
          "2023-01-23T00:00:00",
          "2023-01-24T00:00:00",
          "2023-01-25T00:00:00",
          "2023-01-26T00:00:00",
          "2023-01-27T00:00:00",
          "2023-01-28T00:00:00",
          "2023-01-29T00:00:00",
          "2023-01-30T00:00:00",
          "2023-01-31T00:00:00",
          "2023-02-01T00:00:00",
          "2023-02-02T00:00:00",
          "2023-02-03T00:00:00",
          "2023-02-04T00:00:00",
          "2023-02-05T00:00:00",
          "2023-02-06T00:00:00",
          "2023-02-07T00:00:00",
          "2023-02-08T00:00:00",
          "2023-02-09T00:00:00",
          "2023-02-10T00:00:00",
          "2023-02-11T00:00:00",
          "2023-02-12T00:00:00",
          "2023-02-13T00:00:00",
          "2023-02-14T00:00:00",
          "2023-02-15T00:00:00",
          "2023-02-16T00:00:00",
          "2023-02-17T00:00:00",
          "2023-02-18T00:00:00",
          "2023-02-19T00:00:00",
          "2023-02-20T00:00:00",
          "2023-02-21T00:00:00",
          "2023-02-22T00:00:00",
          "2023-02-23T00:00:00",
          "2023-02-24T00:00:00",
          "2023-02-25T00:00:00",
          "2023-02-26T00:00:00",
          "2023-02-27T00:00:00",
          "2023-02-28T00:00:00",
          "2023-03-01T00:00:00",
          "2023-03-02T00:00:00",
          "2023-03-03T00:00:00",
          "2023-03-04T00:00:00",
          "2023-03-05T00:00:00",
          "2023-03-06T00:00:00",
          "2023-03-07T00:00:00",
          "2023-03-08T00:00:00",
          "2023-03-09T00:00:00",
          "2023-03-10T00:00:00",
          "2023-03-11T00:00:00",
          "2023-03-12T00:00:00",
          "2023-03-13T00:00:00",
          "2023-03-14T00:00:00",
          "2023-03-15T00:00:00",
          "2023-03-16T00:00:00",
          "2023-03-17T00:00:00",
          "2023-03-18T00:00:00",
          "2023-03-19T00:00:00",
          "2023-03-20T00:00:00",
          "2023-03-21T00:00:00",
          "2023-03-22T00:00:00",
          "2023-03-23T00:00:00",
          "2023-04-03T00:00:00",
          "2023-04-04T00:00:00",
          "2023-04-05T00:00:00",
          "2023-04-06T00:00:00",
          "2023-04-07T00:00:00",
          "2023-04-08T00:00:00",
          "2023-04-09T00:00:00",
          "2023-04-10T00:00:00",
          "2023-04-11T00:00:00",
          "2023-04-12T00:00:00",
          "2023-04-13T00:00:00",
          "2023-04-14T00:00:00",
          "2023-04-15T00:00:00",
          "2023-04-16T00:00:00",
          "2023-04-17T00:00:00",
          "2023-04-18T00:00:00",
          "2023-04-19T00:00:00",
          "2023-04-20T00:00:00",
          "2023-04-21T00:00:00",
          "2023-04-22T00:00:00",
          "2023-04-23T00:00:00",
          "2023-04-24T00:00:00",
          "2023-04-25T00:00:00",
          "2023-04-26T00:00:00",
          "2023-04-27T00:00:00",
          "2023-04-28T00:00:00",
          "2023-04-29T00:00:00",
          "2023-04-30T00:00:00",
          "2023-05-01T00:00:00",
          "2023-05-02T00:00:00",
          "2023-05-03T00:00:00",
          "2023-05-04T00:00:00",
          "2023-05-05T00:00:00",
          "2023-05-06T00:00:00",
          "2023-05-07T00:00:00",
          "2023-05-08T00:00:00",
          "2023-05-09T00:00:00",
          "2023-05-10T00:00:00",
          "2023-05-11T00:00:00",
          "2023-05-12T00:00:00",
          "2023-05-13T00:00:00",
          "2023-05-14T00:00:00",
          "2023-05-15T00:00:00",
          "2023-05-16T00:00:00",
          "2023-05-17T00:00:00",
          "2023-05-18T00:00:00",
          "2023-05-19T00:00:00",
          "2023-05-20T00:00:00",
          "2023-05-21T00:00:00",
          "2023-05-22T00:00:00",
          "2023-05-23T00:00:00",
          "2023-05-24T00:00:00",
          "2023-05-25T00:00:00",
          "2023-05-26T00:00:00",
          "2023-05-27T00:00:00",
          "2023-05-28T00:00:00",
          "2023-05-29T00:00:00",
          "2023-05-30T00:00:00",
          "2023-05-31T00:00:00",
          "2023-06-01T00:00:00",
          "2023-06-02T00:00:00",
          "2023-06-03T00:00:00",
          "2023-06-04T00:00:00",
          "2023-06-05T00:00:00",
          "2023-06-06T00:00:00",
          "2023-06-07T00:00:00",
          "2023-06-08T00:00:00",
          "2023-06-09T00:00:00",
          "2023-06-10T00:00:00",
          "2023-06-11T00:00:00",
          "2023-06-12T00:00:00",
          "2023-06-13T00:00:00",
          "2023-06-14T00:00:00",
          "2023-06-15T00:00:00",
          "2023-06-16T00:00:00",
          "2023-06-22T00:00:00",
          "2023-06-24T00:00:00",
          "2023-06-28T00:00:00",
          "2023-07-03T00:00:00",
          "2023-07-04T00:00:00",
          "2023-07-05T00:00:00",
          "2023-07-06T00:00:00",
          "2023-07-07T00:00:00",
          "2023-07-08T00:00:00",
          "2023-07-09T00:00:00",
          "2023-07-10T00:00:00",
          "2023-07-11T00:00:00",
          "2023-07-12T00:00:00",
          "2023-07-13T00:00:00",
          "2023-07-14T00:00:00",
          "2023-07-15T00:00:00",
          "2023-07-16T00:00:00",
          "2023-07-17T00:00:00",
          "2023-07-18T00:00:00",
          "2023-07-19T00:00:00",
          "2023-07-20T00:00:00",
          "2023-07-21T00:00:00",
          "2023-07-22T00:00:00",
          "2023-07-23T00:00:00",
          "2023-07-24T00:00:00",
          "2023-07-25T00:00:00",
          "2023-07-26T00:00:00",
          "2023-07-27T00:00:00",
          "2023-07-28T00:00:00",
          "2023-07-29T00:00:00",
          "2023-07-30T00:00:00",
          "2023-07-31T00:00:00",
          "2023-08-01T00:00:00",
          "2023-08-02T00:00:00",
          "2023-08-03T00:00:00",
          "2023-08-04T00:00:00",
          "2023-08-05T00:00:00",
          "2023-08-06T00:00:00",
          "2023-08-07T00:00:00",
          "2023-08-08T00:00:00",
          "2023-08-09T00:00:00",
          "2023-08-10T00:00:00",
          "2023-08-11T00:00:00",
          "2023-08-12T00:00:00",
          "2023-08-13T00:00:00",
          "2023-08-14T00:00:00",
          "2023-08-15T00:00:00",
          "2023-08-16T00:00:00",
          "2023-08-17T00:00:00",
          "2023-08-18T00:00:00",
          "2023-08-19T00:00:00",
          "2023-08-20T00:00:00",
          "2023-09-10T00:00:00",
          "2023-10-10T00:00:00",
          "2023-10-11T00:00:00",
          "2023-10-12T00:00:00",
          "2023-10-13T00:00:00",
          "2023-10-14T00:00:00",
          "2023-10-15T00:00:00",
          "2023-10-16T00:00:00",
          "2023-10-17T00:00:00",
          "2023-10-18T00:00:00",
          "2023-10-19T00:00:00",
          "2023-10-20T00:00:00",
          "2023-10-21T00:00:00",
          "2023-10-22T00:00:00",
          "2023-10-23T00:00:00",
          "2023-10-24T00:00:00",
          "2023-10-25T00:00:00",
          "2023-10-26T00:00:00",
          "2023-10-27T00:00:00",
          "2023-10-28T00:00:00",
          "2023-10-29T00:00:00",
          "2023-10-30T00:00:00",
          "2023-10-31T00:00:00",
          "2023-11-01T00:00:00",
          "2023-11-02T00:00:00",
          "2023-11-03T00:00:00",
          "2023-11-04T00:00:00",
          "2023-11-05T00:00:00",
          "2023-11-06T00:00:00",
          "2023-11-07T00:00:00",
          "2023-11-08T00:00:00",
          "2023-11-09T00:00:00",
          "2023-11-10T00:00:00",
          "2023-11-11T00:00:00",
          "2023-11-12T00:00:00",
          "2023-11-13T00:00:00",
          "2023-11-14T00:00:00",
          "2023-11-15T00:00:00",
          "2023-11-16T00:00:00",
          "2023-11-17T00:00:00",
          "2023-11-18T00:00:00",
          "2023-11-19T00:00:00",
          "2023-11-20T00:00:00",
          "2023-11-21T00:00:00",
          "2023-11-22T00:00:00",
          "2023-11-23T00:00:00",
          "2023-11-24T00:00:00",
          "2023-11-25T00:00:00",
          "2023-11-26T00:00:00",
          "2023-11-27T00:00:00",
          "2023-11-28T00:00:00",
          "2023-11-29T00:00:00",
          "2023-11-30T00:00:00",
          "2023-12-01T00:00:00",
          "2023-12-02T00:00:00",
          "2023-12-03T00:00:00",
          "2023-12-04T00:00:00",
          "2023-12-05T00:00:00",
          "2023-12-06T00:00:00",
          "2023-12-07T00:00:00",
          "2023-12-08T00:00:00",
          "2023-12-09T00:00:00",
          "2023-12-10T00:00:00",
          "2023-12-11T00:00:00",
          "2023-12-12T00:00:00",
          "2023-12-13T00:00:00",
          "2023-12-14T00:00:00",
          "2023-12-15T00:00:00",
          "2023-12-16T00:00:00",
          "2023-12-17T00:00:00",
          "2023-12-18T00:00:00",
          "2023-12-19T00:00:00",
          "2023-12-20T00:00:00",
          "2023-12-26T00:00:00",
          "2023-12-27T00:00:00",
          "2023-12-28T00:00:00",
          "2023-12-29T00:00:00",
          "2023-12-30T00:00:00",
          "2023-12-31T00:00:00",
          "2024-01-01T00:00:00",
          "2024-01-02T00:00:00",
          "2024-01-03T00:00:00",
          "2024-01-04T00:00:00",
          "2024-01-05T00:00:00",
          "2024-01-06T00:00:00",
          "2024-01-07T00:00:00",
          "2024-01-08T00:00:00",
          "2024-01-09T00:00:00",
          "2024-01-10T00:00:00",
          "2024-01-11T00:00:00",
          "2024-01-12T00:00:00",
          "2024-01-13T00:00:00",
          "2024-01-14T00:00:00",
          "2024-01-15T00:00:00",
          "2024-01-16T00:00:00",
          "2024-01-17T00:00:00",
          "2024-01-18T00:00:00",
          "2024-01-19T00:00:00",
          "2024-01-20T00:00:00",
          "2024-01-21T00:00:00",
          "2024-01-22T00:00:00",
          "2024-01-23T00:00:00",
          "2024-01-24T00:00:00",
          "2024-01-25T00:00:00",
          "2024-01-26T00:00:00",
          "2024-01-27T00:00:00",
          "2024-01-28T00:00:00",
          "2024-01-29T00:00:00",
          "2024-01-30T00:00:00",
          "2024-01-31T00:00:00",
          "2024-02-01T00:00:00",
          "2024-02-02T00:00:00",
          "2024-02-03T00:00:00",
          "2024-02-04T00:00:00",
          "2024-02-05T00:00:00",
          "2024-02-06T00:00:00",
          "2024-02-07T00:00:00",
          "2024-02-08T00:00:00",
          "2024-02-09T00:00:00",
          "2024-02-10T00:00:00",
          "2024-02-11T00:00:00",
          "2024-02-12T00:00:00",
          "2024-02-13T00:00:00",
          "2024-02-14T00:00:00",
          "2024-02-15T00:00:00",
          "2024-02-16T00:00:00",
          "2024-02-17T00:00:00",
          "2024-02-18T00:00:00",
          "2024-02-19T00:00:00",
          "2024-02-20T00:00:00",
          "2024-02-21T00:00:00",
          "2024-02-22T00:00:00",
          "2024-02-23T00:00:00",
          "2024-02-24T00:00:00",
          "2024-02-25T00:00:00",
          "2024-02-26T00:00:00",
          "2024-02-27T00:00:00",
          "2024-02-28T00:00:00",
          "2024-02-29T00:00:00",
          "2024-03-01T00:00:00",
          "2024-03-02T00:00:00",
          "2024-03-03T00:00:00",
          "2024-03-04T00:00:00",
          "2024-03-05T00:00:00",
          "2024-03-06T00:00:00",
          "2024-03-07T00:00:00",
          "2024-03-08T00:00:00",
          "2024-03-09T00:00:00",
          "2024-03-10T00:00:00",
          "2024-03-11T00:00:00",
          "2024-03-12T00:00:00",
          "2024-03-13T00:00:00",
          "2024-03-14T00:00:00",
          "2024-03-15T00:00:00",
          "2024-03-16T00:00:00",
          "2024-03-17T00:00:00",
          "2024-03-18T00:00:00",
          "2024-03-19T00:00:00",
          "2024-03-20T00:00:00",
          "2024-03-21T00:00:00",
          "2024-03-24T00:00:00",
          "2024-03-29T00:00:00",
          "2024-03-30T00:00:00",
          "2024-03-31T00:00:00",
          "2024-04-01T00:00:00",
          "2024-04-02T00:00:00",
          "2024-04-03T00:00:00",
          "2024-04-04T00:00:00",
          "2024-04-05T00:00:00",
          "2024-04-06T00:00:00",
          "2024-04-07T00:00:00",
          "2024-04-08T00:00:00",
          "2024-04-09T00:00:00",
          "2024-04-10T00:00:00",
          "2024-04-11T00:00:00",
          "2024-04-12T00:00:00",
          "2024-04-13T00:00:00",
          "2024-04-14T00:00:00",
          "2024-04-15T00:00:00",
          "2024-04-16T00:00:00",
          "2024-04-17T00:00:00",
          "2024-04-18T00:00:00",
          "2024-04-19T00:00:00",
          "2024-04-20T00:00:00",
          "2024-04-21T00:00:00",
          "2024-04-22T00:00:00",
          "2024-04-23T00:00:00",
          "2024-04-24T00:00:00",
          "2024-04-25T00:00:00",
          "2024-04-26T00:00:00",
          "2024-04-27T00:00:00",
          "2024-04-28T00:00:00",
          "2024-04-29T00:00:00",
          "2024-04-30T00:00:00",
          "2024-05-01T00:00:00",
          "2024-05-02T00:00:00",
          "2024-05-03T00:00:00",
          "2024-05-04T00:00:00",
          "2024-05-05T00:00:00",
          "2024-05-06T00:00:00",
          "2024-05-07T00:00:00",
          "2024-05-08T00:00:00",
          "2024-05-09T00:00:00",
          "2024-05-10T00:00:00",
          "2024-05-11T00:00:00",
          "2024-05-12T00:00:00",
          "2024-05-13T00:00:00",
          "2024-05-14T00:00:00",
          "2024-05-15T00:00:00",
          "2024-05-16T00:00:00",
          "2024-05-17T00:00:00",
          "2024-05-18T00:00:00",
          "2024-05-19T00:00:00",
          "2024-05-20T00:00:00",
          "2024-05-21T00:00:00",
          "2024-05-22T00:00:00",
          "2024-05-23T00:00:00",
          "2024-05-24T00:00:00",
          "2024-05-25T00:00:00",
          "2024-05-26T00:00:00",
          "2024-05-27T00:00:00",
          "2024-05-28T00:00:00",
          "2024-05-29T00:00:00",
          "2024-05-30T00:00:00",
          "2024-05-31T00:00:00",
          "2024-06-01T00:00:00",
          "2024-06-02T00:00:00",
          "2024-06-03T00:00:00",
          "2024-06-04T00:00:00",
          "2024-06-05T00:00:00",
          "2024-06-06T00:00:00",
          "2024-06-07T00:00:00",
          "2024-06-08T00:00:00",
          "2024-06-09T00:00:00",
          "2024-06-10T00:00:00",
          "2024-06-11T00:00:00",
          "2024-06-12T00:00:00",
          "2024-06-13T00:00:00",
          "2024-06-14T00:00:00"
         ],
         "xaxis": "x",
         "y": [
          3.3154954024144785,
          3.327933413140015,
          3.340367904027102,
          3.3527988443098935,
          3.3652262078043105,
          3.377649973897124,
          3.3900701219519322,
          3.4024866366410813,
          3.4148995152175567,
          3.4273087677876535,
          3.4397144144905,
          3.452116486585051,
          3.464515017786826,
          3.476910045920756,
          3.501689764606367,
          3.5140745490764727,
          3.5264560098762545,
          3.5388341928703704,
          3.5512091486109303,
          3.5635809292928298,
          3.5759495810328734,
          3.588315147434867,
          3.600677675013988,
          3.613037204944524,
          3.6253937851520237,
          3.637747468475718,
          3.6500982966928994,
          3.662446302842392,
          3.674791509556981,
          3.6871339417434905,
          3.6994736242006065,
          3.711810571250229,
          3.7241447836601265,
          3.7364762530225435,
          3.7488049640349623,
          3.761130897771307,
          3.7734540277822597,
          3.7857743123743295,
          3.7980916944061223,
          3.8104061066947,
          3.822717474254291,
          3.8350257167642723,
          3.8473307449725187,
          3.8596324634215424,
          3.87193076742623,
          3.8842255523151628,
          3.8965167086020123,
          3.9088041188957168,
          3.921087666541124,
          3.9824433085711,
          4.031446443382002,
          4.068146836055839,
          4.092587580083153,
          4.165776852061405,
          4.19012689164082,
          4.2022928842204825,
          4.214452772745323,
          4.22660649640549,
          4.238753998788601,
          4.250895222913099,
          4.2630301223174385,
          4.2751586636577,
          4.287280826106959,
          4.311505997573344,
          4.323609017422705,
          4.335705665270469,
          4.3477959534897135,
          4.3598799001629445,
          4.371957519777179,
          4.384028818201176,
          4.39609380170287,
          4.408152475819964,
          4.420204839697255,
          4.432250894436543,
          4.444290633261118,
          4.45632404634203,
          4.468351128946548,
          4.480371872415956,
          4.492386266220535,
          4.504394298022772,
          4.516395958785118,
          4.528391231248176,
          4.540380087115697,
          4.552362490190344,
          4.564338394763504,
          4.576307753158181,
          4.588270506896511,
          4.600226587007014,
          4.612175917919559,
          4.624118423994125,
          4.6360540324960455,
          4.64798266092833,
          4.659904212872127,
          4.671818580408747,
          4.683725657831789,
          4.695625335011727,
          4.70751749978442,
          4.719402042021862,
          4.73127885334943,
          4.743147821489592,
          4.755008827457925,
          4.766861753982037,
          4.7787064794245735,
          4.790542882933116,
          4.802370848429488,
          4.814190267178932,
          4.826001028923527,
          4.837803020002381,
          4.849596122523512,
          4.861380213293686,
          4.873155172710271,
          4.884920880472162,
          4.8966772175283655,
          4.908424066275637,
          4.920161308443411,
          4.9318888309814595,
          4.943606512728522,
          4.955314232365611,
          4.9670118632351565,
          4.978699277424868,
          4.990376345707009,
          5.002042937412505,
          5.013698922173958,
          5.025344170811011,
          5.0369785525382476,
          5.048601939032463,
          5.060214201652912,
          5.071815213549945,
          5.083404845741471,
          5.094982962977939,
          5.106549417420733,
          5.118104062673218,
          5.129646764847532,
          5.141177398344099,
          5.152695844929137,
          5.164201984671343,
          5.289923597139622,
          5.301272794089215,
          5.31260812765292,
          5.32392949596849,
          5.335236788489204,
          5.346529894392335,
          5.35780871204662,
          5.369073144138675,
          5.3803231024541756,
          5.3915585070051035,
          5.402779267375905,
          5.413985296212639,
          5.425176525698239,
          5.436352895684646,
          5.44751434371893,
          5.458660810780973,
          5.469792243470077,
          5.48090857368151,
          5.492009726441631,
          5.503095623723055,
          5.514166208144202,
          5.525221444049528,
          5.536261296382571,
          5.547285730246441,
          5.558294710234337,
          5.569288218391275,
          5.580266229819032,
          5.5912287297995045,
          5.60217569464184,
          5.6131070877203655,
          5.624022874932617,
          5.634923019376713,
          5.645807472672418,
          5.656676190235141,
          5.667529178207789,
          5.6783664744541635,
          5.689188151831915,
          5.699994346733982,
          5.710785246224535,
          5.721561098497178,
          5.732322242077789,
          5.743069156436337,
          5.75380247034753,
          5.7645229656186086,
          5.775231602555242,
          5.785929544672734,
          5.796618176834995,
          5.807299128237248,
          5.816780750064285,
          5.826232772649527,
          5.8356558286744935,
          5.843820638771365,
          5.851935906703344,
          5.861253180740552,
          5.870544505544438,
          5.879810550157144,
          5.889051945424489,
          5.898269296942385,
          5.907463359713334,
          5.91663478273619,
          5.925784119666091,
          5.934911772941363,
          5.9440181185347205,
          5.9531035356264175,
          5.96216821079581,
          5.9712120770334,
          5.980234908537665,
          5.989236317182954,
          5.9982158665941805,
          6.007173361545619,
          6.016108746218585,
          6.025022130662164,
          6.033913572378684,
          6.042783208347383,
          6.051631471786377,
          6.104335796694417,
          6.121800398458446,
          6.156675484844924,
          6.2003439663330795,
          6.209106676727498,
          6.217883813211631,
          6.226677430892112,
          6.235489754606709,
          6.244323047730761,
          6.253179758913735,
          6.262062519746175,
          6.270973868031381,
          6.280459005084326,
          6.289897374998319,
          6.298792460812429,
          6.308162486613753,
          6.317488463168,
          6.326375438167311,
          6.335638776767511,
          6.344544516730208,
          6.353490150079294,
          6.362677428432163,
          6.371826887140722,
          6.380940666034371,
          6.389881041957894,
          6.3988675254014495,
          6.407901900029956,
          6.4169857285655425,
          6.426120123689888,
          6.435305938118179,
          6.44454400199179,
          6.453835065023325,
          6.463179435626787,
          6.4725772045889425,
          6.481599753949846,
          6.491048130746852,
          6.500548623865332,
          6.510100340417471,
          6.519702270056175,
          6.529353635708029,
          6.539053967143459,
          6.548802922696375,
          6.558600220778865,
          6.568445731497592,
          6.578339387022125,
          6.588281341359319,
          6.5982718872398625,
          6.6083112107243345,
          6.618399562650972,
          6.628537197499537,
          6.63872421417134,
          6.648960567908341,
          6.886282335222173,
          7.256425734205579,
          7.269535051056879,
          7.282701262129484,
          7.2959255474825495,
          7.309209089988845,
          7.322553162403608,
          7.335959155071836,
          7.349428546539409,
          7.362962852931062,
          7.370862147851856,
          7.37874377830925,
          7.386625509568093,
          7.394526806799132,
          7.402468366804454,
          7.416370279513195,
          7.4303705316422475,
          7.444471303450855,
          7.458674924029908,
          7.472983810730468,
          7.487400201859579,
          7.501926242462692,
          7.516563791047934,
          7.531314460806625,
          7.546179994367858,
          7.5611620632458685,
          7.5762619903433155,
          7.591480867410289,
          7.6068196505783146,
          7.62227905575416,
          7.637859614818492,
          7.65356202205705,
          7.669387015553413,
          7.685335363583813,
          7.701407381215287,
          7.717602830818832,
          7.7339212413578755,
          7.75036204027336,
          7.766924664306946,
          7.783608240931378,
          7.800411829936143,
          7.817334275954907,
          7.834374546554529,
          7.851531693655769,
          7.868804679155809,
          7.886192476540059,
          7.9036941741864215,
          7.92583535335391,
          7.947951787809593,
          7.970039734267108,
          7.9920961020969905,
          8.014118433381157,
          8.036104842826761,
          8.058053956262366,
          8.079964856319817,
          8.101837059824438,
          8.123670468163025,
          8.145465318002799,
          8.167222141088974,
          8.188941706553802,
          8.21062495019305,
          8.232272964124949,
          8.253886985240818,
          8.275468349799567,
          8.297018449775079,
          8.318538705591228,
          8.340030576012683,
          8.361495512061966,
          8.382934965394277,
          8.404350383615274,
          8.425743232080267,
          8.44711499169738,
          8.468467144716369,
          8.596249357727753,
          8.617503987619155,
          8.638749885458742,
          8.659988246229013,
          8.681220232427771,
          8.70244695859149,
          8.723669510854663,
          8.74488894142528,
          8.766106280427065,
          8.787322532207607,
          8.808538670798645,
          8.829755650464897,
          8.850974410981026,
          8.87219587150115,
          8.893420934503327,
          8.914650476333232,
          8.935885326030812,
          8.957126278546987,
          8.978374096869464,
          8.999629524307414,
          9.02089327560863,
          9.042166025373337,
          9.063448406937006,
          9.08474100567697,
          9.106044358041373,
          9.127358960351296,
          9.148685272329336,
          9.170023721284222,
          9.19137472574581,
          9.212738687546961,
          9.234115978734314,
          9.255506936880002,
          9.276911873407458,
          9.298331097172035,
          9.319764920730137,
          9.341213653899901,
          9.36267758017664,
          9.384156962173392,
          9.405652043798339,
          9.427163053975088,
          9.448690205809008,
          9.470233700409919,
          9.49179371727285,
          9.513370417135699,
          9.534963936169463,
          9.556574388451006,
          9.578201874461266,
          9.599846493284723,
          9.62150833853006,
          9.643187503604185,
          9.66488408297878,
          9.686598156871574,
          9.708329788131447,
          9.730079024826152,
          9.751845914601267,
          9.773630510545937,
          9.795432867595563,
          9.81725303611899,
          9.839091057726256,
          9.86094697630005,
          9.882820828578739,
          9.904712643285603,
          9.926622451073005,
          9.948550274318421,
          9.970496129852442,
          9.992460018924739,
          10.014441924623041,
          10.036441814666153,
          10.058459644282788,
          10.080495355609532,
          10.102548875527232,
          10.12462011905337,
          10.146708987352163,
          10.16881536873304,
          10.190939136321388,
          10.213080153210756,
          10.235238281516422,
          10.257413378373544,
          10.279605288138777,
          10.301813839800133,
          10.324038849203966,
          10.346280122348045,
          10.368537453214776,
          10.390810624802489,
          10.413099412494487,
          10.435403585051802,
          10.457722902092287,
          10.524769232001335,
          10.636792724494216,
          10.659237198994644,
          10.68169438359908,
          10.704164056144313,
          10.726646001873876,
          10.749140005386517,
          10.771645845281189,
          10.79416330014913,
          10.81669214259508,
          10.839232154314205,
          10.86178312121733,
          10.884344827667299,
          10.906917054818315,
          10.929499576548976,
          10.952092164081602,
          10.974694577505485,
          10.997306569539116,
          11.019927895928824,
          11.042558320205627,
          11.065197596255052,
          11.087845463278294,
          11.110501646664952,
          11.133165858919826,
          11.155837809649821,
          11.178517216347474,
          11.201203798536826,
          11.223897273423539,
          11.246597348758835,
          11.26930372256761,
          11.29201608330026,
          11.31473412128677,
          11.33745754081188,
          11.360186057446175,
          11.382919381685902,
          11.405657214143304,
          11.428399252215398,
          11.451145199711652,
          11.473894773401858,
          11.496647701101665,
          11.519403721404817,
          11.54216257529602,
          11.564923999130007,
          11.587687726991371,
          11.6104534908901,
          11.633221036832822,
          11.655990123509566,
          11.678760520851654,
          11.701531996896524,
          11.724304312051071,
          11.747077230682105,
          11.769850516866866,
          11.792623943648247,
          11.81539729339241,
          11.838170364599641,
          11.860942967650711,
          11.883714916942989,
          11.906486029076468,
          11.929256122116247,
          11.952025028578399,
          11.97479259988151,
          11.997558706560008,
          12.020323227714501,
          12.043086042810492,
          12.06584703808186,
          12.0886061020239,
          12.111363137031026,
          12.134118065661829,
          12.156870825046513,
          12.179621352723695,
          12.202369571975227,
          12.225115393988169,
          12.24785873065742,
          12.270599494510284,
          12.29333758753505,
          12.316072916499103,
          12.338805394782025,
          12.361534940518055,
          12.384261474940534
         ],
         "yaxis": "y"
        }
       ],
       "layout": {
        "legend": {
         "tracegroupgap": 0
        },
        "template": {
         "data": {
          "bar": [
           {
            "error_x": {
             "color": "#2a3f5f"
            },
            "error_y": {
             "color": "#2a3f5f"
            },
            "marker": {
             "line": {
              "color": "#E5ECF6",
              "width": 0.5
             },
             "pattern": {
              "fillmode": "overlay",
              "size": 10,
              "solidity": 0.2
             }
            },
            "type": "bar"
           }
          ],
          "barpolar": [
           {
            "marker": {
             "line": {
              "color": "#E5ECF6",
              "width": 0.5
             },
             "pattern": {
              "fillmode": "overlay",
              "size": 10,
              "solidity": 0.2
             }
            },
            "type": "barpolar"
           }
          ],
          "carpet": [
           {
            "aaxis": {
             "endlinecolor": "#2a3f5f",
             "gridcolor": "white",
             "linecolor": "white",
             "minorgridcolor": "white",
             "startlinecolor": "#2a3f5f"
            },
            "baxis": {
             "endlinecolor": "#2a3f5f",
             "gridcolor": "white",
             "linecolor": "white",
             "minorgridcolor": "white",
             "startlinecolor": "#2a3f5f"
            },
            "type": "carpet"
           }
          ],
          "choropleth": [
           {
            "colorbar": {
             "outlinewidth": 0,
             "ticks": ""
            },
            "type": "choropleth"
           }
          ],
          "contour": [
           {
            "colorbar": {
             "outlinewidth": 0,
             "ticks": ""
            },
            "colorscale": [
             [
              0,
              "#0d0887"
             ],
             [
              0.1111111111111111,
              "#46039f"
             ],
             [
              0.2222222222222222,
              "#7201a8"
             ],
             [
              0.3333333333333333,
              "#9c179e"
             ],
             [
              0.4444444444444444,
              "#bd3786"
             ],
             [
              0.5555555555555556,
              "#d8576b"
             ],
             [
              0.6666666666666666,
              "#ed7953"
             ],
             [
              0.7777777777777778,
              "#fb9f3a"
             ],
             [
              0.8888888888888888,
              "#fdca26"
             ],
             [
              1,
              "#f0f921"
             ]
            ],
            "type": "contour"
           }
          ],
          "contourcarpet": [
           {
            "colorbar": {
             "outlinewidth": 0,
             "ticks": ""
            },
            "type": "contourcarpet"
           }
          ],
          "heatmap": [
           {
            "colorbar": {
             "outlinewidth": 0,
             "ticks": ""
            },
            "colorscale": [
             [
              0,
              "#0d0887"
             ],
             [
              0.1111111111111111,
              "#46039f"
             ],
             [
              0.2222222222222222,
              "#7201a8"
             ],
             [
              0.3333333333333333,
              "#9c179e"
             ],
             [
              0.4444444444444444,
              "#bd3786"
             ],
             [
              0.5555555555555556,
              "#d8576b"
             ],
             [
              0.6666666666666666,
              "#ed7953"
             ],
             [
              0.7777777777777778,
              "#fb9f3a"
             ],
             [
              0.8888888888888888,
              "#fdca26"
             ],
             [
              1,
              "#f0f921"
             ]
            ],
            "type": "heatmap"
           }
          ],
          "heatmapgl": [
           {
            "colorbar": {
             "outlinewidth": 0,
             "ticks": ""
            },
            "colorscale": [
             [
              0,
              "#0d0887"
             ],
             [
              0.1111111111111111,
              "#46039f"
             ],
             [
              0.2222222222222222,
              "#7201a8"
             ],
             [
              0.3333333333333333,
              "#9c179e"
             ],
             [
              0.4444444444444444,
              "#bd3786"
             ],
             [
              0.5555555555555556,
              "#d8576b"
             ],
             [
              0.6666666666666666,
              "#ed7953"
             ],
             [
              0.7777777777777778,
              "#fb9f3a"
             ],
             [
              0.8888888888888888,
              "#fdca26"
             ],
             [
              1,
              "#f0f921"
             ]
            ],
            "type": "heatmapgl"
           }
          ],
          "histogram": [
           {
            "marker": {
             "pattern": {
              "fillmode": "overlay",
              "size": 10,
              "solidity": 0.2
             }
            },
            "type": "histogram"
           }
          ],
          "histogram2d": [
           {
            "colorbar": {
             "outlinewidth": 0,
             "ticks": ""
            },
            "colorscale": [
             [
              0,
              "#0d0887"
             ],
             [
              0.1111111111111111,
              "#46039f"
             ],
             [
              0.2222222222222222,
              "#7201a8"
             ],
             [
              0.3333333333333333,
              "#9c179e"
             ],
             [
              0.4444444444444444,
              "#bd3786"
             ],
             [
              0.5555555555555556,
              "#d8576b"
             ],
             [
              0.6666666666666666,
              "#ed7953"
             ],
             [
              0.7777777777777778,
              "#fb9f3a"
             ],
             [
              0.8888888888888888,
              "#fdca26"
             ],
             [
              1,
              "#f0f921"
             ]
            ],
            "type": "histogram2d"
           }
          ],
          "histogram2dcontour": [
           {
            "colorbar": {
             "outlinewidth": 0,
             "ticks": ""
            },
            "colorscale": [
             [
              0,
              "#0d0887"
             ],
             [
              0.1111111111111111,
              "#46039f"
             ],
             [
              0.2222222222222222,
              "#7201a8"
             ],
             [
              0.3333333333333333,
              "#9c179e"
             ],
             [
              0.4444444444444444,
              "#bd3786"
             ],
             [
              0.5555555555555556,
              "#d8576b"
             ],
             [
              0.6666666666666666,
              "#ed7953"
             ],
             [
              0.7777777777777778,
              "#fb9f3a"
             ],
             [
              0.8888888888888888,
              "#fdca26"
             ],
             [
              1,
              "#f0f921"
             ]
            ],
            "type": "histogram2dcontour"
           }
          ],
          "mesh3d": [
           {
            "colorbar": {
             "outlinewidth": 0,
             "ticks": ""
            },
            "type": "mesh3d"
           }
          ],
          "parcoords": [
           {
            "line": {
             "colorbar": {
              "outlinewidth": 0,
              "ticks": ""
             }
            },
            "type": "parcoords"
           }
          ],
          "pie": [
           {
            "automargin": true,
            "type": "pie"
           }
          ],
          "scatter": [
           {
            "fillpattern": {
             "fillmode": "overlay",
             "size": 10,
             "solidity": 0.2
            },
            "type": "scatter"
           }
          ],
          "scatter3d": [
           {
            "line": {
             "colorbar": {
              "outlinewidth": 0,
              "ticks": ""
             }
            },
            "marker": {
             "colorbar": {
              "outlinewidth": 0,
              "ticks": ""
             }
            },
            "type": "scatter3d"
           }
          ],
          "scattercarpet": [
           {
            "marker": {
             "colorbar": {
              "outlinewidth": 0,
              "ticks": ""
             }
            },
            "type": "scattercarpet"
           }
          ],
          "scattergeo": [
           {
            "marker": {
             "colorbar": {
              "outlinewidth": 0,
              "ticks": ""
             }
            },
            "type": "scattergeo"
           }
          ],
          "scattergl": [
           {
            "marker": {
             "colorbar": {
              "outlinewidth": 0,
              "ticks": ""
             }
            },
            "type": "scattergl"
           }
          ],
          "scattermapbox": [
           {
            "marker": {
             "colorbar": {
              "outlinewidth": 0,
              "ticks": ""
             }
            },
            "type": "scattermapbox"
           }
          ],
          "scatterpolar": [
           {
            "marker": {
             "colorbar": {
              "outlinewidth": 0,
              "ticks": ""
             }
            },
            "type": "scatterpolar"
           }
          ],
          "scatterpolargl": [
           {
            "marker": {
             "colorbar": {
              "outlinewidth": 0,
              "ticks": ""
             }
            },
            "type": "scatterpolargl"
           }
          ],
          "scatterternary": [
           {
            "marker": {
             "colorbar": {
              "outlinewidth": 0,
              "ticks": ""
             }
            },
            "type": "scatterternary"
           }
          ],
          "surface": [
           {
            "colorbar": {
             "outlinewidth": 0,
             "ticks": ""
            },
            "colorscale": [
             [
              0,
              "#0d0887"
             ],
             [
              0.1111111111111111,
              "#46039f"
             ],
             [
              0.2222222222222222,
              "#7201a8"
             ],
             [
              0.3333333333333333,
              "#9c179e"
             ],
             [
              0.4444444444444444,
              "#bd3786"
             ],
             [
              0.5555555555555556,
              "#d8576b"
             ],
             [
              0.6666666666666666,
              "#ed7953"
             ],
             [
              0.7777777777777778,
              "#fb9f3a"
             ],
             [
              0.8888888888888888,
              "#fdca26"
             ],
             [
              1,
              "#f0f921"
             ]
            ],
            "type": "surface"
           }
          ],
          "table": [
           {
            "cells": {
             "fill": {
              "color": "#EBF0F8"
             },
             "line": {
              "color": "white"
             }
            },
            "header": {
             "fill": {
              "color": "#C8D4E3"
             },
             "line": {
              "color": "white"
             }
            },
            "type": "table"
           }
          ]
         },
         "layout": {
          "annotationdefaults": {
           "arrowcolor": "#2a3f5f",
           "arrowhead": 0,
           "arrowwidth": 1
          },
          "autotypenumbers": "strict",
          "coloraxis": {
           "colorbar": {
            "outlinewidth": 0,
            "ticks": ""
           }
          },
          "colorscale": {
           "diverging": [
            [
             0,
             "#8e0152"
            ],
            [
             0.1,
             "#c51b7d"
            ],
            [
             0.2,
             "#de77ae"
            ],
            [
             0.3,
             "#f1b6da"
            ],
            [
             0.4,
             "#fde0ef"
            ],
            [
             0.5,
             "#f7f7f7"
            ],
            [
             0.6,
             "#e6f5d0"
            ],
            [
             0.7,
             "#b8e186"
            ],
            [
             0.8,
             "#7fbc41"
            ],
            [
             0.9,
             "#4d9221"
            ],
            [
             1,
             "#276419"
            ]
           ],
           "sequential": [
            [
             0,
             "#0d0887"
            ],
            [
             0.1111111111111111,
             "#46039f"
            ],
            [
             0.2222222222222222,
             "#7201a8"
            ],
            [
             0.3333333333333333,
             "#9c179e"
            ],
            [
             0.4444444444444444,
             "#bd3786"
            ],
            [
             0.5555555555555556,
             "#d8576b"
            ],
            [
             0.6666666666666666,
             "#ed7953"
            ],
            [
             0.7777777777777778,
             "#fb9f3a"
            ],
            [
             0.8888888888888888,
             "#fdca26"
            ],
            [
             1,
             "#f0f921"
            ]
           ],
           "sequentialminus": [
            [
             0,
             "#0d0887"
            ],
            [
             0.1111111111111111,
             "#46039f"
            ],
            [
             0.2222222222222222,
             "#7201a8"
            ],
            [
             0.3333333333333333,
             "#9c179e"
            ],
            [
             0.4444444444444444,
             "#bd3786"
            ],
            [
             0.5555555555555556,
             "#d8576b"
            ],
            [
             0.6666666666666666,
             "#ed7953"
            ],
            [
             0.7777777777777778,
             "#fb9f3a"
            ],
            [
             0.8888888888888888,
             "#fdca26"
            ],
            [
             1,
             "#f0f921"
            ]
           ]
          },
          "colorway": [
           "#636efa",
           "#EF553B",
           "#00cc96",
           "#ab63fa",
           "#FFA15A",
           "#19d3f3",
           "#FF6692",
           "#B6E880",
           "#FF97FF",
           "#FECB52"
          ],
          "font": {
           "color": "#2a3f5f"
          },
          "geo": {
           "bgcolor": "white",
           "lakecolor": "white",
           "landcolor": "#E5ECF6",
           "showlakes": true,
           "showland": true,
           "subunitcolor": "white"
          },
          "hoverlabel": {
           "align": "left"
          },
          "hovermode": "closest",
          "mapbox": {
           "style": "light"
          },
          "paper_bgcolor": "white",
          "plot_bgcolor": "#E5ECF6",
          "polar": {
           "angularaxis": {
            "gridcolor": "white",
            "linecolor": "white",
            "ticks": ""
           },
           "bgcolor": "#E5ECF6",
           "radialaxis": {
            "gridcolor": "white",
            "linecolor": "white",
            "ticks": ""
           }
          },
          "scene": {
           "xaxis": {
            "backgroundcolor": "#E5ECF6",
            "gridcolor": "white",
            "gridwidth": 2,
            "linecolor": "white",
            "showbackground": true,
            "ticks": "",
            "zerolinecolor": "white"
           },
           "yaxis": {
            "backgroundcolor": "#E5ECF6",
            "gridcolor": "white",
            "gridwidth": 2,
            "linecolor": "white",
            "showbackground": true,
            "ticks": "",
            "zerolinecolor": "white"
           },
           "zaxis": {
            "backgroundcolor": "#E5ECF6",
            "gridcolor": "white",
            "gridwidth": 2,
            "linecolor": "white",
            "showbackground": true,
            "ticks": "",
            "zerolinecolor": "white"
           }
          },
          "shapedefaults": {
           "line": {
            "color": "#2a3f5f"
           }
          },
          "ternary": {
           "aaxis": {
            "gridcolor": "white",
            "linecolor": "white",
            "ticks": ""
           },
           "baxis": {
            "gridcolor": "white",
            "linecolor": "white",
            "ticks": ""
           },
           "bgcolor": "#E5ECF6",
           "caxis": {
            "gridcolor": "white",
            "linecolor": "white",
            "ticks": ""
           }
          },
          "title": {
           "x": 0.05
          },
          "xaxis": {
           "automargin": true,
           "gridcolor": "white",
           "linecolor": "white",
           "ticks": "",
           "title": {
            "standoff": 15
           },
           "zerolinecolor": "white",
           "zerolinewidth": 2
          },
          "yaxis": {
           "automargin": true,
           "gridcolor": "white",
           "linecolor": "white",
           "ticks": "",
           "title": {
            "standoff": 15
           },
           "zerolinecolor": "white",
           "zerolinewidth": 2
          }
         }
        },
        "title": {
         "text": "total study_time over time"
        },
        "xaxis": {
         "anchor": "y",
         "domain": [
          0,
          1
         ],
         "title": {
          "text": "date"
         }
        },
        "yaxis": {
         "anchor": "x",
         "domain": [
          0,
          1
         ],
         "title": {
          "text": "total"
         }
        }
       }
      }
     },
     "metadata": {},
     "output_type": "display_data"
    }
   ],
   "source": [
    "px.scatter(clean_study, x='date',y='total', title='total study_time over time',trendline='lowess')"
   ]
  },
  {
   "cell_type": "code",
   "execution_count": 119,
   "metadata": {},
   "outputs": [
    {
     "name": "stderr",
     "output_type": "stream",
     "text": [
      "/var/folders/yt/5gdjwln55x9_stgx851x0yb80000gn/T/ipykernel_6566/1254141096.py:1: FutureWarning:\n",
      "\n",
      "Series.dt.weekofyear and Series.dt.week have been deprecated.  Please use Series.dt.isocalendar().week instead.\n",
      "\n"
     ]
    }
   ],
   "source": [
    "grouped = clean_study.assign(week_of_year = clean_study['date'].dt.weekofyear)"
   ]
  },
  {
   "cell_type": "code",
   "execution_count": 120,
   "metadata": {},
   "outputs": [
    {
     "data": {
      "application/vnd.plotly.v1+json": {
       "config": {
        "plotlyServerURL": "https://plot.ly"
       },
       "data": [
        {
         "hovertemplate": "week_of_year=%{x}<br>total=%{y}<extra></extra>",
         "legendgroup": "",
         "marker": {
          "color": "#636efa",
          "symbol": "circle"
         },
         "mode": "markers",
         "name": "",
         "orientation": "v",
         "showlegend": false,
         "type": "scatter",
         "x": [
          1,
          2,
          3,
          4,
          5,
          6,
          7,
          8,
          9,
          10,
          11,
          12,
          13,
          14,
          15,
          16,
          17,
          18,
          19,
          20,
          21,
          22,
          23,
          24,
          25,
          26,
          27,
          28,
          29,
          30,
          31,
          32,
          33,
          36,
          41,
          42,
          43,
          44,
          45,
          46,
          47,
          48,
          49,
          50,
          51,
          52
         ],
         "xaxis": "x",
         "y": [
          8.25,
          10.833333333333334,
          12.583333333333334,
          11.333333333333334,
          12,
          11.833333333333334,
          11.166666666666666,
          11,
          12.25,
          12.75,
          15.5,
          13.5,
          9.5,
          13.75,
          14.5,
          15,
          13.666666666666666,
          13.5,
          13,
          13.916666666666666,
          12.5,
          12.75,
          15.5,
          12.583333333333334,
          3,
          6.5,
          7,
          8.416666666666666,
          10.5,
          11.416666666666666,
          9.75,
          8.5,
          10.583333333333334,
          9,
          8.233333333333333,
          12,
          9,
          8.416666666666666,
          9.666666666666666,
          8.833333333333334,
          7.916666666666667,
          9,
          9.833333333333334,
          11.25,
          6.5,
          9.916666666666666
         ],
         "yaxis": "y"
        },
        {
         "hovertemplate": "<b>LOWESS trendline</b><br><br>week_of_year=%{x}<br>total=%{y} <b>(trend)</b><extra></extra>",
         "legendgroup": "",
         "marker": {
          "color": "#636efa",
          "symbol": "circle"
         },
         "mode": "lines",
         "name": "",
         "showlegend": false,
         "type": "scatter",
         "x": [
          1,
          2,
          3,
          4,
          5,
          6,
          7,
          8,
          9,
          10,
          11,
          12,
          13,
          14,
          15,
          16,
          17,
          18,
          19,
          20,
          21,
          22,
          23,
          24,
          25,
          26,
          27,
          28,
          29,
          30,
          31,
          32,
          33,
          36,
          41,
          42,
          43,
          44,
          45,
          46,
          47,
          48,
          49,
          50,
          51,
          52
         ],
         "xaxis": "x",
         "y": [
          10.909280788459707,
          11.085167772134907,
          11.258428941956032,
          11.429168844098118,
          11.59727034575303,
          11.762523644759934,
          11.924599762710757,
          12.083094128700237,
          12.23767653589406,
          12.388170327344291,
          12.534447485400353,
          12.676321365881345,
          12.81329287088257,
          12.944348058640685,
          13.06754963271486,
          13.109918518090865,
          13.103178459808765,
          13.04079515516236,
          12.926232323909105,
          12.683206145226839,
          12.527295907739266,
          12.294631086365001,
          12.06853149311503,
          11.87542271739425,
          11.662164904800804,
          11.43961442330449,
          11.22148405792595,
          11.01850425067183,
          10.835847315492925,
          10.669566557990244,
          10.510199125027238,
          10.35164981960526,
          10.19350412220328,
          9.813347593822238,
          9.464557682080553,
          9.401300898547477,
          9.340005359311188,
          9.280467391751541,
          9.22254303861757,
          9.166183413377047,
          9.11134003337729,
          9.058018347881468,
          9.006321834173994,
          8.956351861550752,
          8.908096424050335,
          8.861425280361425
         ],
         "yaxis": "y"
        }
       ],
       "layout": {
        "legend": {
         "tracegroupgap": 0
        },
        "template": {
         "data": {
          "bar": [
           {
            "error_x": {
             "color": "#2a3f5f"
            },
            "error_y": {
             "color": "#2a3f5f"
            },
            "marker": {
             "line": {
              "color": "#E5ECF6",
              "width": 0.5
             },
             "pattern": {
              "fillmode": "overlay",
              "size": 10,
              "solidity": 0.2
             }
            },
            "type": "bar"
           }
          ],
          "barpolar": [
           {
            "marker": {
             "line": {
              "color": "#E5ECF6",
              "width": 0.5
             },
             "pattern": {
              "fillmode": "overlay",
              "size": 10,
              "solidity": 0.2
             }
            },
            "type": "barpolar"
           }
          ],
          "carpet": [
           {
            "aaxis": {
             "endlinecolor": "#2a3f5f",
             "gridcolor": "white",
             "linecolor": "white",
             "minorgridcolor": "white",
             "startlinecolor": "#2a3f5f"
            },
            "baxis": {
             "endlinecolor": "#2a3f5f",
             "gridcolor": "white",
             "linecolor": "white",
             "minorgridcolor": "white",
             "startlinecolor": "#2a3f5f"
            },
            "type": "carpet"
           }
          ],
          "choropleth": [
           {
            "colorbar": {
             "outlinewidth": 0,
             "ticks": ""
            },
            "type": "choropleth"
           }
          ],
          "contour": [
           {
            "colorbar": {
             "outlinewidth": 0,
             "ticks": ""
            },
            "colorscale": [
             [
              0,
              "#0d0887"
             ],
             [
              0.1111111111111111,
              "#46039f"
             ],
             [
              0.2222222222222222,
              "#7201a8"
             ],
             [
              0.3333333333333333,
              "#9c179e"
             ],
             [
              0.4444444444444444,
              "#bd3786"
             ],
             [
              0.5555555555555556,
              "#d8576b"
             ],
             [
              0.6666666666666666,
              "#ed7953"
             ],
             [
              0.7777777777777778,
              "#fb9f3a"
             ],
             [
              0.8888888888888888,
              "#fdca26"
             ],
             [
              1,
              "#f0f921"
             ]
            ],
            "type": "contour"
           }
          ],
          "contourcarpet": [
           {
            "colorbar": {
             "outlinewidth": 0,
             "ticks": ""
            },
            "type": "contourcarpet"
           }
          ],
          "heatmap": [
           {
            "colorbar": {
             "outlinewidth": 0,
             "ticks": ""
            },
            "colorscale": [
             [
              0,
              "#0d0887"
             ],
             [
              0.1111111111111111,
              "#46039f"
             ],
             [
              0.2222222222222222,
              "#7201a8"
             ],
             [
              0.3333333333333333,
              "#9c179e"
             ],
             [
              0.4444444444444444,
              "#bd3786"
             ],
             [
              0.5555555555555556,
              "#d8576b"
             ],
             [
              0.6666666666666666,
              "#ed7953"
             ],
             [
              0.7777777777777778,
              "#fb9f3a"
             ],
             [
              0.8888888888888888,
              "#fdca26"
             ],
             [
              1,
              "#f0f921"
             ]
            ],
            "type": "heatmap"
           }
          ],
          "heatmapgl": [
           {
            "colorbar": {
             "outlinewidth": 0,
             "ticks": ""
            },
            "colorscale": [
             [
              0,
              "#0d0887"
             ],
             [
              0.1111111111111111,
              "#46039f"
             ],
             [
              0.2222222222222222,
              "#7201a8"
             ],
             [
              0.3333333333333333,
              "#9c179e"
             ],
             [
              0.4444444444444444,
              "#bd3786"
             ],
             [
              0.5555555555555556,
              "#d8576b"
             ],
             [
              0.6666666666666666,
              "#ed7953"
             ],
             [
              0.7777777777777778,
              "#fb9f3a"
             ],
             [
              0.8888888888888888,
              "#fdca26"
             ],
             [
              1,
              "#f0f921"
             ]
            ],
            "type": "heatmapgl"
           }
          ],
          "histogram": [
           {
            "marker": {
             "pattern": {
              "fillmode": "overlay",
              "size": 10,
              "solidity": 0.2
             }
            },
            "type": "histogram"
           }
          ],
          "histogram2d": [
           {
            "colorbar": {
             "outlinewidth": 0,
             "ticks": ""
            },
            "colorscale": [
             [
              0,
              "#0d0887"
             ],
             [
              0.1111111111111111,
              "#46039f"
             ],
             [
              0.2222222222222222,
              "#7201a8"
             ],
             [
              0.3333333333333333,
              "#9c179e"
             ],
             [
              0.4444444444444444,
              "#bd3786"
             ],
             [
              0.5555555555555556,
              "#d8576b"
             ],
             [
              0.6666666666666666,
              "#ed7953"
             ],
             [
              0.7777777777777778,
              "#fb9f3a"
             ],
             [
              0.8888888888888888,
              "#fdca26"
             ],
             [
              1,
              "#f0f921"
             ]
            ],
            "type": "histogram2d"
           }
          ],
          "histogram2dcontour": [
           {
            "colorbar": {
             "outlinewidth": 0,
             "ticks": ""
            },
            "colorscale": [
             [
              0,
              "#0d0887"
             ],
             [
              0.1111111111111111,
              "#46039f"
             ],
             [
              0.2222222222222222,
              "#7201a8"
             ],
             [
              0.3333333333333333,
              "#9c179e"
             ],
             [
              0.4444444444444444,
              "#bd3786"
             ],
             [
              0.5555555555555556,
              "#d8576b"
             ],
             [
              0.6666666666666666,
              "#ed7953"
             ],
             [
              0.7777777777777778,
              "#fb9f3a"
             ],
             [
              0.8888888888888888,
              "#fdca26"
             ],
             [
              1,
              "#f0f921"
             ]
            ],
            "type": "histogram2dcontour"
           }
          ],
          "mesh3d": [
           {
            "colorbar": {
             "outlinewidth": 0,
             "ticks": ""
            },
            "type": "mesh3d"
           }
          ],
          "parcoords": [
           {
            "line": {
             "colorbar": {
              "outlinewidth": 0,
              "ticks": ""
             }
            },
            "type": "parcoords"
           }
          ],
          "pie": [
           {
            "automargin": true,
            "type": "pie"
           }
          ],
          "scatter": [
           {
            "fillpattern": {
             "fillmode": "overlay",
             "size": 10,
             "solidity": 0.2
            },
            "type": "scatter"
           }
          ],
          "scatter3d": [
           {
            "line": {
             "colorbar": {
              "outlinewidth": 0,
              "ticks": ""
             }
            },
            "marker": {
             "colorbar": {
              "outlinewidth": 0,
              "ticks": ""
             }
            },
            "type": "scatter3d"
           }
          ],
          "scattercarpet": [
           {
            "marker": {
             "colorbar": {
              "outlinewidth": 0,
              "ticks": ""
             }
            },
            "type": "scattercarpet"
           }
          ],
          "scattergeo": [
           {
            "marker": {
             "colorbar": {
              "outlinewidth": 0,
              "ticks": ""
             }
            },
            "type": "scattergeo"
           }
          ],
          "scattergl": [
           {
            "marker": {
             "colorbar": {
              "outlinewidth": 0,
              "ticks": ""
             }
            },
            "type": "scattergl"
           }
          ],
          "scattermapbox": [
           {
            "marker": {
             "colorbar": {
              "outlinewidth": 0,
              "ticks": ""
             }
            },
            "type": "scattermapbox"
           }
          ],
          "scatterpolar": [
           {
            "marker": {
             "colorbar": {
              "outlinewidth": 0,
              "ticks": ""
             }
            },
            "type": "scatterpolar"
           }
          ],
          "scatterpolargl": [
           {
            "marker": {
             "colorbar": {
              "outlinewidth": 0,
              "ticks": ""
             }
            },
            "type": "scatterpolargl"
           }
          ],
          "scatterternary": [
           {
            "marker": {
             "colorbar": {
              "outlinewidth": 0,
              "ticks": ""
             }
            },
            "type": "scatterternary"
           }
          ],
          "surface": [
           {
            "colorbar": {
             "outlinewidth": 0,
             "ticks": ""
            },
            "colorscale": [
             [
              0,
              "#0d0887"
             ],
             [
              0.1111111111111111,
              "#46039f"
             ],
             [
              0.2222222222222222,
              "#7201a8"
             ],
             [
              0.3333333333333333,
              "#9c179e"
             ],
             [
              0.4444444444444444,
              "#bd3786"
             ],
             [
              0.5555555555555556,
              "#d8576b"
             ],
             [
              0.6666666666666666,
              "#ed7953"
             ],
             [
              0.7777777777777778,
              "#fb9f3a"
             ],
             [
              0.8888888888888888,
              "#fdca26"
             ],
             [
              1,
              "#f0f921"
             ]
            ],
            "type": "surface"
           }
          ],
          "table": [
           {
            "cells": {
             "fill": {
              "color": "#EBF0F8"
             },
             "line": {
              "color": "white"
             }
            },
            "header": {
             "fill": {
              "color": "#C8D4E3"
             },
             "line": {
              "color": "white"
             }
            },
            "type": "table"
           }
          ]
         },
         "layout": {
          "annotationdefaults": {
           "arrowcolor": "#2a3f5f",
           "arrowhead": 0,
           "arrowwidth": 1
          },
          "autotypenumbers": "strict",
          "coloraxis": {
           "colorbar": {
            "outlinewidth": 0,
            "ticks": ""
           }
          },
          "colorscale": {
           "diverging": [
            [
             0,
             "#8e0152"
            ],
            [
             0.1,
             "#c51b7d"
            ],
            [
             0.2,
             "#de77ae"
            ],
            [
             0.3,
             "#f1b6da"
            ],
            [
             0.4,
             "#fde0ef"
            ],
            [
             0.5,
             "#f7f7f7"
            ],
            [
             0.6,
             "#e6f5d0"
            ],
            [
             0.7,
             "#b8e186"
            ],
            [
             0.8,
             "#7fbc41"
            ],
            [
             0.9,
             "#4d9221"
            ],
            [
             1,
             "#276419"
            ]
           ],
           "sequential": [
            [
             0,
             "#0d0887"
            ],
            [
             0.1111111111111111,
             "#46039f"
            ],
            [
             0.2222222222222222,
             "#7201a8"
            ],
            [
             0.3333333333333333,
             "#9c179e"
            ],
            [
             0.4444444444444444,
             "#bd3786"
            ],
            [
             0.5555555555555556,
             "#d8576b"
            ],
            [
             0.6666666666666666,
             "#ed7953"
            ],
            [
             0.7777777777777778,
             "#fb9f3a"
            ],
            [
             0.8888888888888888,
             "#fdca26"
            ],
            [
             1,
             "#f0f921"
            ]
           ],
           "sequentialminus": [
            [
             0,
             "#0d0887"
            ],
            [
             0.1111111111111111,
             "#46039f"
            ],
            [
             0.2222222222222222,
             "#7201a8"
            ],
            [
             0.3333333333333333,
             "#9c179e"
            ],
            [
             0.4444444444444444,
             "#bd3786"
            ],
            [
             0.5555555555555556,
             "#d8576b"
            ],
            [
             0.6666666666666666,
             "#ed7953"
            ],
            [
             0.7777777777777778,
             "#fb9f3a"
            ],
            [
             0.8888888888888888,
             "#fdca26"
            ],
            [
             1,
             "#f0f921"
            ]
           ]
          },
          "colorway": [
           "#636efa",
           "#EF553B",
           "#00cc96",
           "#ab63fa",
           "#FFA15A",
           "#19d3f3",
           "#FF6692",
           "#B6E880",
           "#FF97FF",
           "#FECB52"
          ],
          "font": {
           "color": "#2a3f5f"
          },
          "geo": {
           "bgcolor": "white",
           "lakecolor": "white",
           "landcolor": "#E5ECF6",
           "showlakes": true,
           "showland": true,
           "subunitcolor": "white"
          },
          "hoverlabel": {
           "align": "left"
          },
          "hovermode": "closest",
          "mapbox": {
           "style": "light"
          },
          "paper_bgcolor": "white",
          "plot_bgcolor": "#E5ECF6",
          "polar": {
           "angularaxis": {
            "gridcolor": "white",
            "linecolor": "white",
            "ticks": ""
           },
           "bgcolor": "#E5ECF6",
           "radialaxis": {
            "gridcolor": "white",
            "linecolor": "white",
            "ticks": ""
           }
          },
          "scene": {
           "xaxis": {
            "backgroundcolor": "#E5ECF6",
            "gridcolor": "white",
            "gridwidth": 2,
            "linecolor": "white",
            "showbackground": true,
            "ticks": "",
            "zerolinecolor": "white"
           },
           "yaxis": {
            "backgroundcolor": "#E5ECF6",
            "gridcolor": "white",
            "gridwidth": 2,
            "linecolor": "white",
            "showbackground": true,
            "ticks": "",
            "zerolinecolor": "white"
           },
           "zaxis": {
            "backgroundcolor": "#E5ECF6",
            "gridcolor": "white",
            "gridwidth": 2,
            "linecolor": "white",
            "showbackground": true,
            "ticks": "",
            "zerolinecolor": "white"
           }
          },
          "shapedefaults": {
           "line": {
            "color": "#2a3f5f"
           }
          },
          "ternary": {
           "aaxis": {
            "gridcolor": "white",
            "linecolor": "white",
            "ticks": ""
           },
           "baxis": {
            "gridcolor": "white",
            "linecolor": "white",
            "ticks": ""
           },
           "bgcolor": "#E5ECF6",
           "caxis": {
            "gridcolor": "white",
            "linecolor": "white",
            "ticks": ""
           }
          },
          "title": {
           "x": 0.05
          },
          "xaxis": {
           "automargin": true,
           "gridcolor": "white",
           "linecolor": "white",
           "ticks": "",
           "title": {
            "standoff": 15
           },
           "zerolinecolor": "white",
           "zerolinewidth": 2
          },
          "yaxis": {
           "automargin": true,
           "gridcolor": "white",
           "linecolor": "white",
           "ticks": "",
           "title": {
            "standoff": 15
           },
           "zerolinecolor": "white",
           "zerolinewidth": 2
          }
         }
        },
        "title": {
         "text": "Max of single study_time over time"
        },
        "xaxis": {
         "anchor": "y",
         "domain": [
          0,
          1
         ],
         "title": {
          "text": "week_of_year"
         }
        },
        "yaxis": {
         "anchor": "x",
         "domain": [
          0,
          1
         ],
         "title": {
          "text": "total"
         }
        }
       }
      }
     },
     "metadata": {},
     "output_type": "display_data"
    }
   ],
   "source": [
    "group_by_week = grouped.groupby('week_of_year').max().reset_index()\n",
    "px.scatter(group_by_week, x='week_of_year',y='total', title='Max of single study_time over time',trendline='lowess')"
   ]
  },
  {
   "cell_type": "code",
   "execution_count": 121,
   "metadata": {},
   "outputs": [
    {
     "data": {
      "application/vnd.plotly.v1+json": {
       "config": {
        "plotlyServerURL": "https://plot.ly"
       },
       "data": [
        {
         "alignmentgroup": "True",
         "box": {
          "visible": false
         },
         "hovertemplate": "total=%{y}<extra></extra>",
         "legendgroup": "",
         "marker": {
          "color": "#636efa"
         },
         "name": "",
         "offsetgroup": "",
         "orientation": "v",
         "scalegroup": "True",
         "showlegend": false,
         "type": "violin",
         "x0": " ",
         "xaxis": "x",
         "y": [
          1.8,
          4.55,
          2.375,
          2.45,
          3.691666666666667,
          2.711111111111111,
          1.4958333333333333,
          1.55,
          2.433333333333333,
          1.3208333333333333,
          3.6166666666666667,
          2.691666666666667,
          3.1666666666666665,
          2.5416666666666665,
          4.166666666666667,
          3.125,
          2.825,
          3.1,
          4.716666666666667,
          4,
          2.441666666666667,
          5.366666666666666,
          2.0555555555555554,
          2.3833333333333333,
          7.933333333333334,
          4.216666666666667,
          6.2,
          2.65,
          3.5,
          5.4,
          6.05,
          4.75,
          4.75,
          3.9166666666666665,
          4.583333333333333,
          6.716666666666667,
          6.583333333333333,
          4.916666666666667,
          4.95,
          4.083333333333333,
          5.516666666666667,
          4.083333333333333,
          9,
          3,
          4.5,
          5.666666666666667,
          2.5833333333333335,
          6.016666666666667,
          1.5,
          1,
          1.1666666666666667,
          2,
          2.5,
          2,
          3,
          4.083333333333333,
          2.75,
          5.166666666666667,
          1,
          1.5833333333333333,
          2,
          1.4166666666666667,
          1.2666666666666666,
          5.666666666666667,
          1.4166666666666667,
          3.433333333333333,
          5.016666666666667,
          7,
          3.8333333333333335,
          4.266666666666667,
          6.766666666666667,
          2.8333333333333335,
          9.05,
          5.083333333333333,
          2.5,
          6,
          4.366666666666666,
          5.333333333333333,
          2.9166666666666665,
          6.666666666666667,
          6.833333333333333,
          5.333333333333333,
          7.283333333333333,
          3.75,
          7.533333333333333,
          6.166666666666667,
          5.583333333333333,
          4.416666666666667,
          3.0833333333333335,
          6.833333333333333,
          6.833333333333333,
          7.666666666666667,
          2.55,
          5.75,
          4.583333333333333,
          3.9166666666666665,
          3.9166666666666665,
          5,
          6.166666666666667,
          3.0833333333333335,
          5.833333333333333,
          4,
          3.8333333333333335,
          2.4166666666666665,
          5.166666666666667,
          5,
          5,
          5.916666666666667,
          3.0833333333333335,
          5.1,
          4.25,
          4.166666666666667,
          5.333333333333333,
          2.1666666666666665,
          7.666666666666667,
          3.6666666666666665,
          6.083333333333333,
          4.5,
          4.916666666666667,
          4.916666666666667,
          4.666666666666667,
          4.333333333333333,
          5.333333333333333,
          4,
          5.166666666666667,
          4.25,
          5.25,
          5.333333333333333,
          7.5,
          4.416666666666667,
          1.8333333333333333,
          4.25,
          3.5,
          5.833333333333333,
          4.333333333333333,
          5,
          3.5,
          3.5833333333333335,
          7.083333333333333,
          5.166666666666667,
          3.9166666666666665,
          5.25,
          4.416666666666667,
          4,
          7.416666666666667,
          5.083333333333333,
          2.25,
          5,
          6,
          5.25,
          4.416666666666667,
          8,
          5.583333333333333,
          6.333333333333333,
          3.1666666666666665,
          3.4166666666666665,
          6.333333333333333,
          5.5,
          6.666666666666667,
          3.25,
          8.75,
          4.5,
          7.666666666666667,
          8,
          6.083333333333333,
          7.166666666666667,
          9.5,
          8.5,
          3.0833333333333335,
          7.166666666666667,
          7.45,
          5.166666666666667,
          8.666666666666666,
          10.833333333333334,
          7.5,
          4.666666666666667,
          6.166666666666667,
          7.5,
          7,
          7,
          11.166666666666666,
          7.583333333333333,
          9,
          5,
          5.083333333333333,
          5.333333333333333,
          8.266666666666667,
          7.05,
          9,
          6.666666666666667,
          8.333333333333334,
          8.333333333333334,
          5,
          6.25,
          8.083333333333334,
          5.083333333333333,
          5.25,
          5.5,
          7,
          6.75,
          6.833333333333333,
          7.833333333333333,
          8.833333333333334,
          8,
          4.833333333333333,
          4.916666666666667,
          7,
          4.583333333333333,
          5.833333333333333,
          5,
          2.5,
          3,
          3,
          6.5,
          5.833333333333333,
          5.5,
          6.333333333333333,
          6.416666666666667,
          5.166666666666667,
          4.833333333333333,
          7,
          7.75,
          7.666666666666667,
          3,
          5,
          8.416666666666666,
          6.666666666666667,
          1.75,
          7.25,
          10.5,
          8,
          3,
          5.25,
          4,
          0,
          2,
          3.25,
          11.416666666666666,
          4.416666666666667,
          6.916666666666667,
          1,
          6.833333333333333,
          8.75,
          6.833333333333333,
          8.5,
          8.333333333333334,
          9.75,
          4.333333333333333,
          2.3333333333333335,
          8.5,
          5,
          7,
          7.441666666666666,
          6.583333333333333,
          2,
          4.833333333333333,
          8.833333333333334,
          10.583333333333334,
          4.75,
          5.5,
          4,
          3.25,
          8.416666666666666,
          9,
          8.233333333333333,
          6.166666666666667,
          6.5,
          5.5,
          3.8333333333333335,
          6.916666666666667,
          9.083333333333334,
          7.666666666666667,
          9,
          8.666666666666666,
          6.083333333333333,
          4.583333333333333,
          12,
          8.183333333333334,
          5.833333333333333,
          9,
          5.916666666666667,
          7,
          6,
          8.416666666666666,
          8.333333333333334,
          8.416666666666666,
          8.25,
          6.833333333333333,
          4.333333333333333,
          7.366666666666666,
          7.666666666666667,
          7.166666666666667,
          7.833333333333333,
          5.5,
          4.416666666666667,
          2.9166666666666665,
          2,
          9.666666666666666,
          8.416666666666666,
          7.5,
          8.833333333333334,
          7.25,
          6.166666666666667,
          5.583333333333333,
          5.416666666666667,
          7.916666666666667,
          7.25,
          7.083333333333333,
          4.25,
          0,
          6.333333333333333,
          4.666666666666667,
          5.083333333333333,
          7.25,
          8,
          8.916666666666666,
          7,
          7.416666666666667,
          7.416666666666667,
          6.75,
          7.166666666666667,
          9.833333333333334,
          7.75,
          6.25,
          7.75,
          8.583333333333334,
          9.966666666666667,
          6.333333333333333,
          11.25,
          7.833333333333333,
          8.833333333333334,
          4.166666666666667,
          4.5,
          6.5,
          6.083333333333333,
          4.166666666666667,
          7,
          7.7,
          7.166666666666667,
          9.916666666666666,
          6.5,
          0,
          6.5,
          7.5,
          8.25,
          3.3333333333333335,
          5.5,
          2.75,
          6.166666666666667,
          7.166666666666667,
          10.833333333333334,
          8.083333333333334,
          9.166666666666666,
          6.75,
          8.5,
          10,
          9.75,
          11.25,
          12.583333333333334,
          10.5,
          10.333333333333334,
          11.25,
          6.333333333333333,
          8.833333333333334,
          10.416666666666666,
          11.333333333333334,
          10.833333333333334,
          6.75,
          6.333333333333333,
          5.833333333333333,
          12,
          9.5,
          10,
          9.166666666666666,
          10,
          8.583333333333334,
          11.333333333333334,
          9.75,
          11.833333333333334,
          11.083333333333334,
          10.333333333333334,
          4.083333333333333,
          0,
          3.5,
          7.25,
          10.916666666666666,
          10.75,
          11.166666666666666,
          8.333333333333334,
          4.75,
          8.333333333333334,
          9.166666666666666,
          10.75,
          6.166666666666667,
          10.166666666666666,
          10.5,
          5.916666666666667,
          11,
          8.916666666666666,
          11.833333333333334,
          12,
          11.5,
          11,
          11.166666666666666,
          12.25,
          10.916666666666666,
          12.083333333333334,
          11.333333333333334,
          12.75,
          11.583333333333334,
          9.5,
          10.583333333333334,
          12.25,
          13,
          12.416666666666666,
          11.416666666666666,
          15.5,
          12.166666666666666,
          11.5,
          11.166666666666666,
          12.633333333333333,
          10.5,
          13.5,
          7.833333333333333,
          3.5,
          8.833333333333334,
          9.5,
          10.833333333333334,
          12.5,
          9.916666666666666,
          13.75,
          7.666666666666667,
          10.5,
          11.333333333333334,
          11.166666666666666,
          12.833333333333334,
          10.666666666666666,
          14.5,
          12.333333333333334,
          10.75,
          8.833333333333334,
          13.833333333333334,
          15,
          13.583333333333334,
          14.75,
          11.916666666666666,
          9.5,
          11.416666666666666,
          11.5,
          13.416666666666666,
          12.75,
          13.666666666666666,
          11.333333333333334,
          9,
          9.416666666666666,
          12.833333333333334,
          13.5,
          12.166666666666666,
          10.833333333333334,
          9.5,
          10.5,
          9.916666666666666,
          11.5,
          12.833333333333334,
          11.75,
          13,
          8.333333333333334,
          10.583333333333334,
          9.833333333333334,
          12.333333333333334,
          13.916666666666666,
          10.583333333333334,
          12.833333333333334,
          10.25,
          11.333333333333334,
          9.166666666666666,
          10.5,
          11.833333333333334,
          11.666666666666666,
          12.5,
          9.75,
          9.666666666666666,
          8,
          11.166666666666666,
          12.75,
          10.75,
          12.666666666666666,
          10.25,
          8.083333333333334,
          10.333333333333334,
          12.166666666666666,
          14.916666666666666,
          14.166666666666666,
          12,
          11.833333333333334,
          15.5,
          11.25,
          11.833333333333334,
          11.833333333333334,
          12.583333333333334,
          10.666666666666666,
          9.666666666666666
         ],
         "y0": " ",
         "yaxis": "y"
        }
       ],
       "layout": {
        "legend": {
         "tracegroupgap": 0
        },
        "template": {
         "data": {
          "bar": [
           {
            "error_x": {
             "color": "#2a3f5f"
            },
            "error_y": {
             "color": "#2a3f5f"
            },
            "marker": {
             "line": {
              "color": "#E5ECF6",
              "width": 0.5
             },
             "pattern": {
              "fillmode": "overlay",
              "size": 10,
              "solidity": 0.2
             }
            },
            "type": "bar"
           }
          ],
          "barpolar": [
           {
            "marker": {
             "line": {
              "color": "#E5ECF6",
              "width": 0.5
             },
             "pattern": {
              "fillmode": "overlay",
              "size": 10,
              "solidity": 0.2
             }
            },
            "type": "barpolar"
           }
          ],
          "carpet": [
           {
            "aaxis": {
             "endlinecolor": "#2a3f5f",
             "gridcolor": "white",
             "linecolor": "white",
             "minorgridcolor": "white",
             "startlinecolor": "#2a3f5f"
            },
            "baxis": {
             "endlinecolor": "#2a3f5f",
             "gridcolor": "white",
             "linecolor": "white",
             "minorgridcolor": "white",
             "startlinecolor": "#2a3f5f"
            },
            "type": "carpet"
           }
          ],
          "choropleth": [
           {
            "colorbar": {
             "outlinewidth": 0,
             "ticks": ""
            },
            "type": "choropleth"
           }
          ],
          "contour": [
           {
            "colorbar": {
             "outlinewidth": 0,
             "ticks": ""
            },
            "colorscale": [
             [
              0,
              "#0d0887"
             ],
             [
              0.1111111111111111,
              "#46039f"
             ],
             [
              0.2222222222222222,
              "#7201a8"
             ],
             [
              0.3333333333333333,
              "#9c179e"
             ],
             [
              0.4444444444444444,
              "#bd3786"
             ],
             [
              0.5555555555555556,
              "#d8576b"
             ],
             [
              0.6666666666666666,
              "#ed7953"
             ],
             [
              0.7777777777777778,
              "#fb9f3a"
             ],
             [
              0.8888888888888888,
              "#fdca26"
             ],
             [
              1,
              "#f0f921"
             ]
            ],
            "type": "contour"
           }
          ],
          "contourcarpet": [
           {
            "colorbar": {
             "outlinewidth": 0,
             "ticks": ""
            },
            "type": "contourcarpet"
           }
          ],
          "heatmap": [
           {
            "colorbar": {
             "outlinewidth": 0,
             "ticks": ""
            },
            "colorscale": [
             [
              0,
              "#0d0887"
             ],
             [
              0.1111111111111111,
              "#46039f"
             ],
             [
              0.2222222222222222,
              "#7201a8"
             ],
             [
              0.3333333333333333,
              "#9c179e"
             ],
             [
              0.4444444444444444,
              "#bd3786"
             ],
             [
              0.5555555555555556,
              "#d8576b"
             ],
             [
              0.6666666666666666,
              "#ed7953"
             ],
             [
              0.7777777777777778,
              "#fb9f3a"
             ],
             [
              0.8888888888888888,
              "#fdca26"
             ],
             [
              1,
              "#f0f921"
             ]
            ],
            "type": "heatmap"
           }
          ],
          "heatmapgl": [
           {
            "colorbar": {
             "outlinewidth": 0,
             "ticks": ""
            },
            "colorscale": [
             [
              0,
              "#0d0887"
             ],
             [
              0.1111111111111111,
              "#46039f"
             ],
             [
              0.2222222222222222,
              "#7201a8"
             ],
             [
              0.3333333333333333,
              "#9c179e"
             ],
             [
              0.4444444444444444,
              "#bd3786"
             ],
             [
              0.5555555555555556,
              "#d8576b"
             ],
             [
              0.6666666666666666,
              "#ed7953"
             ],
             [
              0.7777777777777778,
              "#fb9f3a"
             ],
             [
              0.8888888888888888,
              "#fdca26"
             ],
             [
              1,
              "#f0f921"
             ]
            ],
            "type": "heatmapgl"
           }
          ],
          "histogram": [
           {
            "marker": {
             "pattern": {
              "fillmode": "overlay",
              "size": 10,
              "solidity": 0.2
             }
            },
            "type": "histogram"
           }
          ],
          "histogram2d": [
           {
            "colorbar": {
             "outlinewidth": 0,
             "ticks": ""
            },
            "colorscale": [
             [
              0,
              "#0d0887"
             ],
             [
              0.1111111111111111,
              "#46039f"
             ],
             [
              0.2222222222222222,
              "#7201a8"
             ],
             [
              0.3333333333333333,
              "#9c179e"
             ],
             [
              0.4444444444444444,
              "#bd3786"
             ],
             [
              0.5555555555555556,
              "#d8576b"
             ],
             [
              0.6666666666666666,
              "#ed7953"
             ],
             [
              0.7777777777777778,
              "#fb9f3a"
             ],
             [
              0.8888888888888888,
              "#fdca26"
             ],
             [
              1,
              "#f0f921"
             ]
            ],
            "type": "histogram2d"
           }
          ],
          "histogram2dcontour": [
           {
            "colorbar": {
             "outlinewidth": 0,
             "ticks": ""
            },
            "colorscale": [
             [
              0,
              "#0d0887"
             ],
             [
              0.1111111111111111,
              "#46039f"
             ],
             [
              0.2222222222222222,
              "#7201a8"
             ],
             [
              0.3333333333333333,
              "#9c179e"
             ],
             [
              0.4444444444444444,
              "#bd3786"
             ],
             [
              0.5555555555555556,
              "#d8576b"
             ],
             [
              0.6666666666666666,
              "#ed7953"
             ],
             [
              0.7777777777777778,
              "#fb9f3a"
             ],
             [
              0.8888888888888888,
              "#fdca26"
             ],
             [
              1,
              "#f0f921"
             ]
            ],
            "type": "histogram2dcontour"
           }
          ],
          "mesh3d": [
           {
            "colorbar": {
             "outlinewidth": 0,
             "ticks": ""
            },
            "type": "mesh3d"
           }
          ],
          "parcoords": [
           {
            "line": {
             "colorbar": {
              "outlinewidth": 0,
              "ticks": ""
             }
            },
            "type": "parcoords"
           }
          ],
          "pie": [
           {
            "automargin": true,
            "type": "pie"
           }
          ],
          "scatter": [
           {
            "fillpattern": {
             "fillmode": "overlay",
             "size": 10,
             "solidity": 0.2
            },
            "type": "scatter"
           }
          ],
          "scatter3d": [
           {
            "line": {
             "colorbar": {
              "outlinewidth": 0,
              "ticks": ""
             }
            },
            "marker": {
             "colorbar": {
              "outlinewidth": 0,
              "ticks": ""
             }
            },
            "type": "scatter3d"
           }
          ],
          "scattercarpet": [
           {
            "marker": {
             "colorbar": {
              "outlinewidth": 0,
              "ticks": ""
             }
            },
            "type": "scattercarpet"
           }
          ],
          "scattergeo": [
           {
            "marker": {
             "colorbar": {
              "outlinewidth": 0,
              "ticks": ""
             }
            },
            "type": "scattergeo"
           }
          ],
          "scattergl": [
           {
            "marker": {
             "colorbar": {
              "outlinewidth": 0,
              "ticks": ""
             }
            },
            "type": "scattergl"
           }
          ],
          "scattermapbox": [
           {
            "marker": {
             "colorbar": {
              "outlinewidth": 0,
              "ticks": ""
             }
            },
            "type": "scattermapbox"
           }
          ],
          "scatterpolar": [
           {
            "marker": {
             "colorbar": {
              "outlinewidth": 0,
              "ticks": ""
             }
            },
            "type": "scatterpolar"
           }
          ],
          "scatterpolargl": [
           {
            "marker": {
             "colorbar": {
              "outlinewidth": 0,
              "ticks": ""
             }
            },
            "type": "scatterpolargl"
           }
          ],
          "scatterternary": [
           {
            "marker": {
             "colorbar": {
              "outlinewidth": 0,
              "ticks": ""
             }
            },
            "type": "scatterternary"
           }
          ],
          "surface": [
           {
            "colorbar": {
             "outlinewidth": 0,
             "ticks": ""
            },
            "colorscale": [
             [
              0,
              "#0d0887"
             ],
             [
              0.1111111111111111,
              "#46039f"
             ],
             [
              0.2222222222222222,
              "#7201a8"
             ],
             [
              0.3333333333333333,
              "#9c179e"
             ],
             [
              0.4444444444444444,
              "#bd3786"
             ],
             [
              0.5555555555555556,
              "#d8576b"
             ],
             [
              0.6666666666666666,
              "#ed7953"
             ],
             [
              0.7777777777777778,
              "#fb9f3a"
             ],
             [
              0.8888888888888888,
              "#fdca26"
             ],
             [
              1,
              "#f0f921"
             ]
            ],
            "type": "surface"
           }
          ],
          "table": [
           {
            "cells": {
             "fill": {
              "color": "#EBF0F8"
             },
             "line": {
              "color": "white"
             }
            },
            "header": {
             "fill": {
              "color": "#C8D4E3"
             },
             "line": {
              "color": "white"
             }
            },
            "type": "table"
           }
          ]
         },
         "layout": {
          "annotationdefaults": {
           "arrowcolor": "#2a3f5f",
           "arrowhead": 0,
           "arrowwidth": 1
          },
          "autotypenumbers": "strict",
          "coloraxis": {
           "colorbar": {
            "outlinewidth": 0,
            "ticks": ""
           }
          },
          "colorscale": {
           "diverging": [
            [
             0,
             "#8e0152"
            ],
            [
             0.1,
             "#c51b7d"
            ],
            [
             0.2,
             "#de77ae"
            ],
            [
             0.3,
             "#f1b6da"
            ],
            [
             0.4,
             "#fde0ef"
            ],
            [
             0.5,
             "#f7f7f7"
            ],
            [
             0.6,
             "#e6f5d0"
            ],
            [
             0.7,
             "#b8e186"
            ],
            [
             0.8,
             "#7fbc41"
            ],
            [
             0.9,
             "#4d9221"
            ],
            [
             1,
             "#276419"
            ]
           ],
           "sequential": [
            [
             0,
             "#0d0887"
            ],
            [
             0.1111111111111111,
             "#46039f"
            ],
            [
             0.2222222222222222,
             "#7201a8"
            ],
            [
             0.3333333333333333,
             "#9c179e"
            ],
            [
             0.4444444444444444,
             "#bd3786"
            ],
            [
             0.5555555555555556,
             "#d8576b"
            ],
            [
             0.6666666666666666,
             "#ed7953"
            ],
            [
             0.7777777777777778,
             "#fb9f3a"
            ],
            [
             0.8888888888888888,
             "#fdca26"
            ],
            [
             1,
             "#f0f921"
            ]
           ],
           "sequentialminus": [
            [
             0,
             "#0d0887"
            ],
            [
             0.1111111111111111,
             "#46039f"
            ],
            [
             0.2222222222222222,
             "#7201a8"
            ],
            [
             0.3333333333333333,
             "#9c179e"
            ],
            [
             0.4444444444444444,
             "#bd3786"
            ],
            [
             0.5555555555555556,
             "#d8576b"
            ],
            [
             0.6666666666666666,
             "#ed7953"
            ],
            [
             0.7777777777777778,
             "#fb9f3a"
            ],
            [
             0.8888888888888888,
             "#fdca26"
            ],
            [
             1,
             "#f0f921"
            ]
           ]
          },
          "colorway": [
           "#636efa",
           "#EF553B",
           "#00cc96",
           "#ab63fa",
           "#FFA15A",
           "#19d3f3",
           "#FF6692",
           "#B6E880",
           "#FF97FF",
           "#FECB52"
          ],
          "font": {
           "color": "#2a3f5f"
          },
          "geo": {
           "bgcolor": "white",
           "lakecolor": "white",
           "landcolor": "#E5ECF6",
           "showlakes": true,
           "showland": true,
           "subunitcolor": "white"
          },
          "hoverlabel": {
           "align": "left"
          },
          "hovermode": "closest",
          "mapbox": {
           "style": "light"
          },
          "paper_bgcolor": "white",
          "plot_bgcolor": "#E5ECF6",
          "polar": {
           "angularaxis": {
            "gridcolor": "white",
            "linecolor": "white",
            "ticks": ""
           },
           "bgcolor": "#E5ECF6",
           "radialaxis": {
            "gridcolor": "white",
            "linecolor": "white",
            "ticks": ""
           }
          },
          "scene": {
           "xaxis": {
            "backgroundcolor": "#E5ECF6",
            "gridcolor": "white",
            "gridwidth": 2,
            "linecolor": "white",
            "showbackground": true,
            "ticks": "",
            "zerolinecolor": "white"
           },
           "yaxis": {
            "backgroundcolor": "#E5ECF6",
            "gridcolor": "white",
            "gridwidth": 2,
            "linecolor": "white",
            "showbackground": true,
            "ticks": "",
            "zerolinecolor": "white"
           },
           "zaxis": {
            "backgroundcolor": "#E5ECF6",
            "gridcolor": "white",
            "gridwidth": 2,
            "linecolor": "white",
            "showbackground": true,
            "ticks": "",
            "zerolinecolor": "white"
           }
          },
          "shapedefaults": {
           "line": {
            "color": "#2a3f5f"
           }
          },
          "ternary": {
           "aaxis": {
            "gridcolor": "white",
            "linecolor": "white",
            "ticks": ""
           },
           "baxis": {
            "gridcolor": "white",
            "linecolor": "white",
            "ticks": ""
           },
           "bgcolor": "#E5ECF6",
           "caxis": {
            "gridcolor": "white",
            "linecolor": "white",
            "ticks": ""
           }
          },
          "title": {
           "x": 0.05
          },
          "xaxis": {
           "automargin": true,
           "gridcolor": "white",
           "linecolor": "white",
           "ticks": "",
           "title": {
            "standoff": 15
           },
           "zerolinecolor": "white",
           "zerolinewidth": 2
          },
          "yaxis": {
           "automargin": true,
           "gridcolor": "white",
           "linecolor": "white",
           "ticks": "",
           "title": {
            "standoff": 15
           },
           "zerolinecolor": "white",
           "zerolinewidth": 2
          }
         }
        },
        "title": {
         "text": "clean study study_time distribution"
        },
        "violinmode": "group",
        "xaxis": {
         "anchor": "y",
         "domain": [
          0,
          1
         ]
        },
        "yaxis": {
         "anchor": "x",
         "domain": [
          0,
          1
         ],
         "title": {
          "text": "total"
         }
        }
       }
      }
     },
     "metadata": {},
     "output_type": "display_data"
    }
   ],
   "source": [
    "px.violin(clean_study, y='total', title='clean study study_time distribution')"
   ]
  },
  {
   "cell_type": "code",
   "execution_count": 122,
   "metadata": {},
   "outputs": [
    {
     "data": {
      "text/html": [
       "<div>\n",
       "<style scoped>\n",
       "    .dataframe tbody tr th:only-of-type {\n",
       "        vertical-align: middle;\n",
       "    }\n",
       "\n",
       "    .dataframe tbody tr th {\n",
       "        vertical-align: top;\n",
       "    }\n",
       "\n",
       "    .dataframe thead th {\n",
       "        text-align: right;\n",
       "    }\n",
       "</style>\n",
       "<table border=\"1\" class=\"dataframe\">\n",
       "  <thead>\n",
       "    <tr style=\"text-align: right;\">\n",
       "      <th></th>\n",
       "      <th>count</th>\n",
       "      <th>mean</th>\n",
       "      <th>std</th>\n",
       "      <th>min</th>\n",
       "      <th>25%</th>\n",
       "      <th>50%</th>\n",
       "      <th>75%</th>\n",
       "      <th>max</th>\n",
       "    </tr>\n",
       "  </thead>\n",
       "  <tbody>\n",
       "    <tr>\n",
       "      <th>total</th>\n",
       "      <td>502.0</td>\n",
       "      <td>7.099402</td>\n",
       "      <td>3.292657</td>\n",
       "      <td>0.00</td>\n",
       "      <td>4.583333</td>\n",
       "      <td>6.833333</td>\n",
       "      <td>9.625</td>\n",
       "      <td>15.500000</td>\n",
       "    </tr>\n",
       "    <tr>\n",
       "      <th>doc1</th>\n",
       "      <td>502.0</td>\n",
       "      <td>0.019464</td>\n",
       "      <td>0.134895</td>\n",
       "      <td>0.00</td>\n",
       "      <td>0.000000</td>\n",
       "      <td>0.000000</td>\n",
       "      <td>0.000</td>\n",
       "      <td>1.833333</td>\n",
       "    </tr>\n",
       "    <tr>\n",
       "      <th>cogs9</th>\n",
       "      <td>502.0</td>\n",
       "      <td>0.040792</td>\n",
       "      <td>0.222715</td>\n",
       "      <td>0.00</td>\n",
       "      <td>0.000000</td>\n",
       "      <td>0.000000</td>\n",
       "      <td>0.000</td>\n",
       "      <td>2.583333</td>\n",
       "    </tr>\n",
       "    <tr>\n",
       "      <th>pp_fall22</th>\n",
       "      <td>502.0</td>\n",
       "      <td>0.050249</td>\n",
       "      <td>0.355480</td>\n",
       "      <td>0.00</td>\n",
       "      <td>0.000000</td>\n",
       "      <td>0.000000</td>\n",
       "      <td>0.000</td>\n",
       "      <td>5.100000</td>\n",
       "    </tr>\n",
       "    <tr>\n",
       "      <th>exam</th>\n",
       "      <td>502.0</td>\n",
       "      <td>0.121436</td>\n",
       "      <td>0.785083</td>\n",
       "      <td>0.00</td>\n",
       "      <td>0.000000</td>\n",
       "      <td>0.000000</td>\n",
       "      <td>0.000</td>\n",
       "      <td>9.000000</td>\n",
       "    </tr>\n",
       "    <tr>\n",
       "      <th>reading_winter23</th>\n",
       "      <td>502.0</td>\n",
       "      <td>0.054482</td>\n",
       "      <td>0.295215</td>\n",
       "      <td>0.00</td>\n",
       "      <td>0.000000</td>\n",
       "      <td>0.000000</td>\n",
       "      <td>0.000</td>\n",
       "      <td>3.416667</td>\n",
       "    </tr>\n",
       "    <tr>\n",
       "      <th>pp_winter23</th>\n",
       "      <td>502.0</td>\n",
       "      <td>0.253071</td>\n",
       "      <td>0.805248</td>\n",
       "      <td>0.00</td>\n",
       "      <td>0.000000</td>\n",
       "      <td>0.000000</td>\n",
       "      <td>0.000</td>\n",
       "      <td>5.333333</td>\n",
       "    </tr>\n",
       "    <tr>\n",
       "      <th>math20c</th>\n",
       "      <td>502.0</td>\n",
       "      <td>0.116318</td>\n",
       "      <td>0.403830</td>\n",
       "      <td>0.00</td>\n",
       "      <td>0.000000</td>\n",
       "      <td>0.000000</td>\n",
       "      <td>0.000</td>\n",
       "      <td>3.333333</td>\n",
       "    </tr>\n",
       "    <tr>\n",
       "      <th>dsc20</th>\n",
       "      <td>502.0</td>\n",
       "      <td>0.219190</td>\n",
       "      <td>0.713724</td>\n",
       "      <td>0.00</td>\n",
       "      <td>0.000000</td>\n",
       "      <td>0.000000</td>\n",
       "      <td>0.000</td>\n",
       "      <td>4.683333</td>\n",
       "    </tr>\n",
       "    <tr>\n",
       "      <th>bild1</th>\n",
       "      <td>502.0</td>\n",
       "      <td>0.042696</td>\n",
       "      <td>0.185005</td>\n",
       "      <td>0.00</td>\n",
       "      <td>0.000000</td>\n",
       "      <td>0.000000</td>\n",
       "      <td>0.000</td>\n",
       "      <td>1.833333</td>\n",
       "    </tr>\n",
       "    <tr>\n",
       "      <th>bild22</th>\n",
       "      <td>502.0</td>\n",
       "      <td>0.038280</td>\n",
       "      <td>0.243445</td>\n",
       "      <td>0.00</td>\n",
       "      <td>0.000000</td>\n",
       "      <td>0.000000</td>\n",
       "      <td>0.000</td>\n",
       "      <td>3.000000</td>\n",
       "    </tr>\n",
       "    <tr>\n",
       "      <th>cogs87</th>\n",
       "      <td>502.0</td>\n",
       "      <td>0.014675</td>\n",
       "      <td>0.129024</td>\n",
       "      <td>0.00</td>\n",
       "      <td>0.000000</td>\n",
       "      <td>0.000000</td>\n",
       "      <td>0.000</td>\n",
       "      <td>2.000000</td>\n",
       "    </tr>\n",
       "    <tr>\n",
       "      <th>doc2</th>\n",
       "      <td>502.0</td>\n",
       "      <td>0.031142</td>\n",
       "      <td>0.176885</td>\n",
       "      <td>0.00</td>\n",
       "      <td>0.000000</td>\n",
       "      <td>0.000000</td>\n",
       "      <td>0.000</td>\n",
       "      <td>2.000000</td>\n",
       "    </tr>\n",
       "    <tr>\n",
       "      <th>training_spring23</th>\n",
       "      <td>502.0</td>\n",
       "      <td>0.163015</td>\n",
       "      <td>0.492951</td>\n",
       "      <td>0.00</td>\n",
       "      <td>0.000000</td>\n",
       "      <td>0.000000</td>\n",
       "      <td>0.000</td>\n",
       "      <td>3.833333</td>\n",
       "    </tr>\n",
       "    <tr>\n",
       "      <th>reading</th>\n",
       "      <td>502.0</td>\n",
       "      <td>0.086985</td>\n",
       "      <td>0.467967</td>\n",
       "      <td>0.00</td>\n",
       "      <td>0.000000</td>\n",
       "      <td>0.000000</td>\n",
       "      <td>0.000</td>\n",
       "      <td>5.500000</td>\n",
       "    </tr>\n",
       "    <tr>\n",
       "      <th>pp_spring23</th>\n",
       "      <td>502.0</td>\n",
       "      <td>0.280212</td>\n",
       "      <td>0.991285</td>\n",
       "      <td>0.00</td>\n",
       "      <td>0.000000</td>\n",
       "      <td>0.000000</td>\n",
       "      <td>0.000</td>\n",
       "      <td>8.333333</td>\n",
       "    </tr>\n",
       "    <tr>\n",
       "      <th>cogs14a</th>\n",
       "      <td>502.0</td>\n",
       "      <td>0.017762</td>\n",
       "      <td>0.129303</td>\n",
       "      <td>0.00</td>\n",
       "      <td>0.000000</td>\n",
       "      <td>0.000000</td>\n",
       "      <td>0.000</td>\n",
       "      <td>1.500000</td>\n",
       "    </tr>\n",
       "    <tr>\n",
       "      <th>cogs17</th>\n",
       "      <td>502.0</td>\n",
       "      <td>0.067065</td>\n",
       "      <td>0.423920</td>\n",
       "      <td>0.00</td>\n",
       "      <td>0.000000</td>\n",
       "      <td>0.000000</td>\n",
       "      <td>0.000</td>\n",
       "      <td>7.000000</td>\n",
       "    </tr>\n",
       "    <tr>\n",
       "      <th>dsc30</th>\n",
       "      <td>502.0</td>\n",
       "      <td>0.320319</td>\n",
       "      <td>1.092629</td>\n",
       "      <td>0.00</td>\n",
       "      <td>0.000000</td>\n",
       "      <td>0.000000</td>\n",
       "      <td>0.000</td>\n",
       "      <td>8.333333</td>\n",
       "    </tr>\n",
       "    <tr>\n",
       "      <th>math20e</th>\n",
       "      <td>502.0</td>\n",
       "      <td>0.090637</td>\n",
       "      <td>0.383134</td>\n",
       "      <td>0.00</td>\n",
       "      <td>0.000000</td>\n",
       "      <td>0.000000</td>\n",
       "      <td>0.000</td>\n",
       "      <td>3.000000</td>\n",
       "    </tr>\n",
       "    <tr>\n",
       "      <th>doc3</th>\n",
       "      <td>502.0</td>\n",
       "      <td>0.045883</td>\n",
       "      <td>0.305181</td>\n",
       "      <td>-0.05</td>\n",
       "      <td>0.000000</td>\n",
       "      <td>0.000000</td>\n",
       "      <td>0.000</td>\n",
       "      <td>4.000000</td>\n",
       "    </tr>\n",
       "    <tr>\n",
       "      <th>training_summer23</th>\n",
       "      <td>502.0</td>\n",
       "      <td>0.124170</td>\n",
       "      <td>0.502040</td>\n",
       "      <td>0.00</td>\n",
       "      <td>0.000000</td>\n",
       "      <td>0.000000</td>\n",
       "      <td>0.000</td>\n",
       "      <td>4.000000</td>\n",
       "    </tr>\n",
       "    <tr>\n",
       "      <th>reading_summer23</th>\n",
       "      <td>502.0</td>\n",
       "      <td>0.036189</td>\n",
       "      <td>0.277894</td>\n",
       "      <td>0.00</td>\n",
       "      <td>0.000000</td>\n",
       "      <td>0.000000</td>\n",
       "      <td>0.000</td>\n",
       "      <td>4.000000</td>\n",
       "    </tr>\n",
       "    <tr>\n",
       "      <th>pp_summer23</th>\n",
       "      <td>502.0</td>\n",
       "      <td>0.215471</td>\n",
       "      <td>0.862560</td>\n",
       "      <td>0.00</td>\n",
       "      <td>0.000000</td>\n",
       "      <td>0.000000</td>\n",
       "      <td>0.000</td>\n",
       "      <td>6.833333</td>\n",
       "    </tr>\n",
       "    <tr>\n",
       "      <th>ds_summer_project</th>\n",
       "      <td>502.0</td>\n",
       "      <td>0.090471</td>\n",
       "      <td>0.533338</td>\n",
       "      <td>0.00</td>\n",
       "      <td>0.000000</td>\n",
       "      <td>0.000000</td>\n",
       "      <td>0.000</td>\n",
       "      <td>5.333333</td>\n",
       "    </tr>\n",
       "    <tr>\n",
       "      <th>dsc40a</th>\n",
       "      <td>502.0</td>\n",
       "      <td>0.139940</td>\n",
       "      <td>0.684854</td>\n",
       "      <td>0.00</td>\n",
       "      <td>0.000000</td>\n",
       "      <td>0.000000</td>\n",
       "      <td>0.000</td>\n",
       "      <td>5.000000</td>\n",
       "    </tr>\n",
       "    <tr>\n",
       "      <th>week</th>\n",
       "      <td>502.0</td>\n",
       "      <td>2.709163</td>\n",
       "      <td>3.667720</td>\n",
       "      <td>0.00</td>\n",
       "      <td>0.000000</td>\n",
       "      <td>0.000000</td>\n",
       "      <td>5.000</td>\n",
       "      <td>12.000000</td>\n",
       "    </tr>\n",
       "    <tr>\n",
       "      <th>training_fall23</th>\n",
       "      <td>502.0</td>\n",
       "      <td>0.168493</td>\n",
       "      <td>0.699923</td>\n",
       "      <td>0.00</td>\n",
       "      <td>0.000000</td>\n",
       "      <td>0.000000</td>\n",
       "      <td>0.000</td>\n",
       "      <td>12.000000</td>\n",
       "    </tr>\n",
       "    <tr>\n",
       "      <th>ex_phys</th>\n",
       "      <td>502.0</td>\n",
       "      <td>0.134363</td>\n",
       "      <td>0.507748</td>\n",
       "      <td>0.00</td>\n",
       "      <td>0.000000</td>\n",
       "      <td>0.000000</td>\n",
       "      <td>0.000</td>\n",
       "      <td>3.750000</td>\n",
       "    </tr>\n",
       "    <tr>\n",
       "      <th>fmp_fall23</th>\n",
       "      <td>502.0</td>\n",
       "      <td>0.112218</td>\n",
       "      <td>0.462794</td>\n",
       "      <td>0.00</td>\n",
       "      <td>0.000000</td>\n",
       "      <td>0.000000</td>\n",
       "      <td>0.000</td>\n",
       "      <td>4.166667</td>\n",
       "    </tr>\n",
       "    <tr>\n",
       "      <th>cogs153</th>\n",
       "      <td>502.0</td>\n",
       "      <td>0.043891</td>\n",
       "      <td>0.220401</td>\n",
       "      <td>0.00</td>\n",
       "      <td>0.000000</td>\n",
       "      <td>0.000000</td>\n",
       "      <td>0.000</td>\n",
       "      <td>2.250000</td>\n",
       "    </tr>\n",
       "    <tr>\n",
       "      <th>cogs107a</th>\n",
       "      <td>502.0</td>\n",
       "      <td>0.041833</td>\n",
       "      <td>0.233145</td>\n",
       "      <td>0.00</td>\n",
       "      <td>0.000000</td>\n",
       "      <td>0.000000</td>\n",
       "      <td>0.000</td>\n",
       "      <td>2.500000</td>\n",
       "    </tr>\n",
       "    <tr>\n",
       "      <th>cogs14b</th>\n",
       "      <td>502.0</td>\n",
       "      <td>0.036023</td>\n",
       "      <td>0.227574</td>\n",
       "      <td>0.00</td>\n",
       "      <td>0.000000</td>\n",
       "      <td>0.000000</td>\n",
       "      <td>0.000</td>\n",
       "      <td>2.550000</td>\n",
       "    </tr>\n",
       "    <tr>\n",
       "      <th>dsc40b</th>\n",
       "      <td>502.0</td>\n",
       "      <td>0.173639</td>\n",
       "      <td>0.662668</td>\n",
       "      <td>0.00</td>\n",
       "      <td>0.000000</td>\n",
       "      <td>0.000000</td>\n",
       "      <td>0.000</td>\n",
       "      <td>5.583333</td>\n",
       "    </tr>\n",
       "    <tr>\n",
       "      <th>math180a</th>\n",
       "      <td>502.0</td>\n",
       "      <td>0.150598</td>\n",
       "      <td>0.572833</td>\n",
       "      <td>0.00</td>\n",
       "      <td>0.000000</td>\n",
       "      <td>0.000000</td>\n",
       "      <td>0.000</td>\n",
       "      <td>5.000000</td>\n",
       "    </tr>\n",
       "    <tr>\n",
       "      <th>kdd/ds3/tnt</th>\n",
       "      <td>502.0</td>\n",
       "      <td>0.029482</td>\n",
       "      <td>0.214899</td>\n",
       "      <td>0.00</td>\n",
       "      <td>0.000000</td>\n",
       "      <td>0.000000</td>\n",
       "      <td>0.000</td>\n",
       "      <td>2.633333</td>\n",
       "    </tr>\n",
       "    <tr>\n",
       "      <th>pp_fall23</th>\n",
       "      <td>502.0</td>\n",
       "      <td>0.117364</td>\n",
       "      <td>0.574164</td>\n",
       "      <td>0.00</td>\n",
       "      <td>0.000000</td>\n",
       "      <td>0.000000</td>\n",
       "      <td>0.000</td>\n",
       "      <td>5.833333</td>\n",
       "    </tr>\n",
       "    <tr>\n",
       "      <th>training_winter24</th>\n",
       "      <td>502.0</td>\n",
       "      <td>0.145584</td>\n",
       "      <td>0.434385</td>\n",
       "      <td>0.00</td>\n",
       "      <td>0.000000</td>\n",
       "      <td>0.000000</td>\n",
       "      <td>0.000</td>\n",
       "      <td>2.000000</td>\n",
       "    </tr>\n",
       "    <tr>\n",
       "      <th>salk_winter24</th>\n",
       "      <td>502.0</td>\n",
       "      <td>0.463712</td>\n",
       "      <td>1.429162</td>\n",
       "      <td>0.00</td>\n",
       "      <td>0.000000</td>\n",
       "      <td>0.000000</td>\n",
       "      <td>0.000</td>\n",
       "      <td>8.916667</td>\n",
       "    </tr>\n",
       "    <tr>\n",
       "      <th>cse257</th>\n",
       "      <td>502.0</td>\n",
       "      <td>0.049303</td>\n",
       "      <td>0.324553</td>\n",
       "      <td>0.00</td>\n",
       "      <td>0.000000</td>\n",
       "      <td>0.000000</td>\n",
       "      <td>0.000</td>\n",
       "      <td>3.000000</td>\n",
       "    </tr>\n",
       "    <tr>\n",
       "      <th>dsc80</th>\n",
       "      <td>502.0</td>\n",
       "      <td>0.569157</td>\n",
       "      <td>1.692119</td>\n",
       "      <td>0.00</td>\n",
       "      <td>0.000000</td>\n",
       "      <td>0.000000</td>\n",
       "      <td>0.000</td>\n",
       "      <td>9.633333</td>\n",
       "    </tr>\n",
       "    <tr>\n",
       "      <th>cogs107b</th>\n",
       "      <td>502.0</td>\n",
       "      <td>0.096116</td>\n",
       "      <td>0.419224</td>\n",
       "      <td>0.00</td>\n",
       "      <td>0.000000</td>\n",
       "      <td>0.000000</td>\n",
       "      <td>0.000</td>\n",
       "      <td>3.333333</td>\n",
       "    </tr>\n",
       "    <tr>\n",
       "      <th>math180b</th>\n",
       "      <td>502.0</td>\n",
       "      <td>0.192397</td>\n",
       "      <td>0.698638</td>\n",
       "      <td>0.00</td>\n",
       "      <td>0.000000</td>\n",
       "      <td>0.000000</td>\n",
       "      <td>0.000</td>\n",
       "      <td>6.166667</td>\n",
       "    </tr>\n",
       "    <tr>\n",
       "      <th>fmp_winter24</th>\n",
       "      <td>502.0</td>\n",
       "      <td>0.018924</td>\n",
       "      <td>0.150409</td>\n",
       "      <td>0.00</td>\n",
       "      <td>0.000000</td>\n",
       "      <td>0.000000</td>\n",
       "      <td>0.000</td>\n",
       "      <td>2.000000</td>\n",
       "    </tr>\n",
       "    <tr>\n",
       "      <th>pp_winter24</th>\n",
       "      <td>502.0</td>\n",
       "      <td>0.120020</td>\n",
       "      <td>0.481092</td>\n",
       "      <td>0.00</td>\n",
       "      <td>0.000000</td>\n",
       "      <td>0.000000</td>\n",
       "      <td>0.000</td>\n",
       "      <td>5.000000</td>\n",
       "    </tr>\n",
       "    <tr>\n",
       "      <th>salk_spring24</th>\n",
       "      <td>502.0</td>\n",
       "      <td>0.237384</td>\n",
       "      <td>0.878220</td>\n",
       "      <td>0.00</td>\n",
       "      <td>0.000000</td>\n",
       "      <td>0.000000</td>\n",
       "      <td>0.000</td>\n",
       "      <td>7.500000</td>\n",
       "    </tr>\n",
       "    <tr>\n",
       "      <th>dsc140a</th>\n",
       "      <td>502.0</td>\n",
       "      <td>0.296481</td>\n",
       "      <td>1.006506</td>\n",
       "      <td>0.00</td>\n",
       "      <td>0.000000</td>\n",
       "      <td>0.000000</td>\n",
       "      <td>0.000</td>\n",
       "      <td>6.500000</td>\n",
       "    </tr>\n",
       "    <tr>\n",
       "      <th>dsc140b</th>\n",
       "      <td>502.0</td>\n",
       "      <td>0.240040</td>\n",
       "      <td>0.849794</td>\n",
       "      <td>0.00</td>\n",
       "      <td>0.000000</td>\n",
       "      <td>0.000000</td>\n",
       "      <td>0.000</td>\n",
       "      <td>7.750000</td>\n",
       "    </tr>\n",
       "    <tr>\n",
       "      <th>math180c</th>\n",
       "      <td>502.0</td>\n",
       "      <td>0.082337</td>\n",
       "      <td>0.442746</td>\n",
       "      <td>0.00</td>\n",
       "      <td>0.000000</td>\n",
       "      <td>0.000000</td>\n",
       "      <td>0.000</td>\n",
       "      <td>4.333333</td>\n",
       "    </tr>\n",
       "    <tr>\n",
       "      <th>math181a</th>\n",
       "      <td>502.0</td>\n",
       "      <td>0.218293</td>\n",
       "      <td>0.868585</td>\n",
       "      <td>0.00</td>\n",
       "      <td>0.000000</td>\n",
       "      <td>0.000000</td>\n",
       "      <td>0.000</td>\n",
       "      <td>9.166667</td>\n",
       "    </tr>\n",
       "    <tr>\n",
       "      <th>cogs107c</th>\n",
       "      <td>502.0</td>\n",
       "      <td>0.116866</td>\n",
       "      <td>0.474668</td>\n",
       "      <td>0.00</td>\n",
       "      <td>0.000000</td>\n",
       "      <td>0.000000</td>\n",
       "      <td>0.000</td>\n",
       "      <td>3.833333</td>\n",
       "    </tr>\n",
       "    <tr>\n",
       "      <th>psyc137</th>\n",
       "      <td>502.0</td>\n",
       "      <td>0.018260</td>\n",
       "      <td>0.166995</td>\n",
       "      <td>0.00</td>\n",
       "      <td>0.000000</td>\n",
       "      <td>0.000000</td>\n",
       "      <td>0.000</td>\n",
       "      <td>1.833333</td>\n",
       "    </tr>\n",
       "    <tr>\n",
       "      <th>dsc106</th>\n",
       "      <td>502.0</td>\n",
       "      <td>0.098606</td>\n",
       "      <td>0.516810</td>\n",
       "      <td>0.00</td>\n",
       "      <td>0.000000</td>\n",
       "      <td>0.000000</td>\n",
       "      <td>0.000</td>\n",
       "      <td>6.833333</td>\n",
       "    </tr>\n",
       "    <tr>\n",
       "      <th>cse150b</th>\n",
       "      <td>502.0</td>\n",
       "      <td>0.159695</td>\n",
       "      <td>0.734118</td>\n",
       "      <td>0.00</td>\n",
       "      <td>0.000000</td>\n",
       "      <td>0.000000</td>\n",
       "      <td>0.000</td>\n",
       "      <td>8.750000</td>\n",
       "    </tr>\n",
       "    <tr>\n",
       "      <th>fmp_spring24</th>\n",
       "      <td>502.0</td>\n",
       "      <td>0.022742</td>\n",
       "      <td>0.246049</td>\n",
       "      <td>0.00</td>\n",
       "      <td>0.000000</td>\n",
       "      <td>0.000000</td>\n",
       "      <td>0.000</td>\n",
       "      <td>4.333333</td>\n",
       "    </tr>\n",
       "    <tr>\n",
       "      <th>pp_spring24</th>\n",
       "      <td>502.0</td>\n",
       "      <td>0.136454</td>\n",
       "      <td>0.734698</td>\n",
       "      <td>0.00</td>\n",
       "      <td>0.000000</td>\n",
       "      <td>0.000000</td>\n",
       "      <td>0.000</td>\n",
       "      <td>8.833333</td>\n",
       "    </tr>\n",
       "    <tr>\n",
       "      <th>math18</th>\n",
       "      <td>502.0</td>\n",
       "      <td>0.110356</td>\n",
       "      <td>0.501578</td>\n",
       "      <td>0.00</td>\n",
       "      <td>0.000000</td>\n",
       "      <td>0.000000</td>\n",
       "      <td>0.000</td>\n",
       "      <td>5.166667</td>\n",
       "    </tr>\n",
       "    <tr>\n",
       "      <th>dsc10</th>\n",
       "      <td>502.0</td>\n",
       "      <td>0.095944</td>\n",
       "      <td>0.420160</td>\n",
       "      <td>0.00</td>\n",
       "      <td>0.000000</td>\n",
       "      <td>0.000000</td>\n",
       "      <td>0.000</td>\n",
       "      <td>3.033333</td>\n",
       "    </tr>\n",
       "    <tr>\n",
       "      <th>math20b</th>\n",
       "      <td>502.0</td>\n",
       "      <td>0.067801</td>\n",
       "      <td>0.338089</td>\n",
       "      <td>0.00</td>\n",
       "      <td>0.000000</td>\n",
       "      <td>0.000000</td>\n",
       "      <td>0.000</td>\n",
       "      <td>4.133333</td>\n",
       "    </tr>\n",
       "  </tbody>\n",
       "</table>\n",
       "</div>"
      ],
      "text/plain": [
       "                   count      mean       std   min       25%       50%    75%  \\\n",
       "total              502.0  7.099402  3.292657  0.00  4.583333  6.833333  9.625   \n",
       "doc1               502.0  0.019464  0.134895  0.00  0.000000  0.000000  0.000   \n",
       "cogs9              502.0  0.040792  0.222715  0.00  0.000000  0.000000  0.000   \n",
       "pp_fall22          502.0  0.050249  0.355480  0.00  0.000000  0.000000  0.000   \n",
       "exam               502.0  0.121436  0.785083  0.00  0.000000  0.000000  0.000   \n",
       "reading_winter23   502.0  0.054482  0.295215  0.00  0.000000  0.000000  0.000   \n",
       "pp_winter23        502.0  0.253071  0.805248  0.00  0.000000  0.000000  0.000   \n",
       "math20c            502.0  0.116318  0.403830  0.00  0.000000  0.000000  0.000   \n",
       "dsc20              502.0  0.219190  0.713724  0.00  0.000000  0.000000  0.000   \n",
       "bild1              502.0  0.042696  0.185005  0.00  0.000000  0.000000  0.000   \n",
       "bild22             502.0  0.038280  0.243445  0.00  0.000000  0.000000  0.000   \n",
       "cogs87             502.0  0.014675  0.129024  0.00  0.000000  0.000000  0.000   \n",
       "doc2               502.0  0.031142  0.176885  0.00  0.000000  0.000000  0.000   \n",
       "training_spring23  502.0  0.163015  0.492951  0.00  0.000000  0.000000  0.000   \n",
       "reading            502.0  0.086985  0.467967  0.00  0.000000  0.000000  0.000   \n",
       "pp_spring23        502.0  0.280212  0.991285  0.00  0.000000  0.000000  0.000   \n",
       "cogs14a            502.0  0.017762  0.129303  0.00  0.000000  0.000000  0.000   \n",
       "cogs17             502.0  0.067065  0.423920  0.00  0.000000  0.000000  0.000   \n",
       "dsc30              502.0  0.320319  1.092629  0.00  0.000000  0.000000  0.000   \n",
       "math20e            502.0  0.090637  0.383134  0.00  0.000000  0.000000  0.000   \n",
       "doc3               502.0  0.045883  0.305181 -0.05  0.000000  0.000000  0.000   \n",
       "training_summer23  502.0  0.124170  0.502040  0.00  0.000000  0.000000  0.000   \n",
       "reading_summer23   502.0  0.036189  0.277894  0.00  0.000000  0.000000  0.000   \n",
       "pp_summer23        502.0  0.215471  0.862560  0.00  0.000000  0.000000  0.000   \n",
       "ds_summer_project  502.0  0.090471  0.533338  0.00  0.000000  0.000000  0.000   \n",
       "dsc40a             502.0  0.139940  0.684854  0.00  0.000000  0.000000  0.000   \n",
       "week               502.0  2.709163  3.667720  0.00  0.000000  0.000000  5.000   \n",
       "training_fall23    502.0  0.168493  0.699923  0.00  0.000000  0.000000  0.000   \n",
       "ex_phys            502.0  0.134363  0.507748  0.00  0.000000  0.000000  0.000   \n",
       "fmp_fall23         502.0  0.112218  0.462794  0.00  0.000000  0.000000  0.000   \n",
       "cogs153            502.0  0.043891  0.220401  0.00  0.000000  0.000000  0.000   \n",
       "cogs107a           502.0  0.041833  0.233145  0.00  0.000000  0.000000  0.000   \n",
       "cogs14b            502.0  0.036023  0.227574  0.00  0.000000  0.000000  0.000   \n",
       "dsc40b             502.0  0.173639  0.662668  0.00  0.000000  0.000000  0.000   \n",
       "math180a           502.0  0.150598  0.572833  0.00  0.000000  0.000000  0.000   \n",
       "kdd/ds3/tnt        502.0  0.029482  0.214899  0.00  0.000000  0.000000  0.000   \n",
       "pp_fall23          502.0  0.117364  0.574164  0.00  0.000000  0.000000  0.000   \n",
       "training_winter24  502.0  0.145584  0.434385  0.00  0.000000  0.000000  0.000   \n",
       "salk_winter24      502.0  0.463712  1.429162  0.00  0.000000  0.000000  0.000   \n",
       "cse257             502.0  0.049303  0.324553  0.00  0.000000  0.000000  0.000   \n",
       "dsc80              502.0  0.569157  1.692119  0.00  0.000000  0.000000  0.000   \n",
       "cogs107b           502.0  0.096116  0.419224  0.00  0.000000  0.000000  0.000   \n",
       "math180b           502.0  0.192397  0.698638  0.00  0.000000  0.000000  0.000   \n",
       "fmp_winter24       502.0  0.018924  0.150409  0.00  0.000000  0.000000  0.000   \n",
       "pp_winter24        502.0  0.120020  0.481092  0.00  0.000000  0.000000  0.000   \n",
       "salk_spring24      502.0  0.237384  0.878220  0.00  0.000000  0.000000  0.000   \n",
       "dsc140a            502.0  0.296481  1.006506  0.00  0.000000  0.000000  0.000   \n",
       "dsc140b            502.0  0.240040  0.849794  0.00  0.000000  0.000000  0.000   \n",
       "math180c           502.0  0.082337  0.442746  0.00  0.000000  0.000000  0.000   \n",
       "math181a           502.0  0.218293  0.868585  0.00  0.000000  0.000000  0.000   \n",
       "cogs107c           502.0  0.116866  0.474668  0.00  0.000000  0.000000  0.000   \n",
       "psyc137            502.0  0.018260  0.166995  0.00  0.000000  0.000000  0.000   \n",
       "dsc106             502.0  0.098606  0.516810  0.00  0.000000  0.000000  0.000   \n",
       "cse150b            502.0  0.159695  0.734118  0.00  0.000000  0.000000  0.000   \n",
       "fmp_spring24       502.0  0.022742  0.246049  0.00  0.000000  0.000000  0.000   \n",
       "pp_spring24        502.0  0.136454  0.734698  0.00  0.000000  0.000000  0.000   \n",
       "math18             502.0  0.110356  0.501578  0.00  0.000000  0.000000  0.000   \n",
       "dsc10              502.0  0.095944  0.420160  0.00  0.000000  0.000000  0.000   \n",
       "math20b            502.0  0.067801  0.338089  0.00  0.000000  0.000000  0.000   \n",
       "\n",
       "                         max  \n",
       "total              15.500000  \n",
       "doc1                1.833333  \n",
       "cogs9               2.583333  \n",
       "pp_fall22           5.100000  \n",
       "exam                9.000000  \n",
       "reading_winter23    3.416667  \n",
       "pp_winter23         5.333333  \n",
       "math20c             3.333333  \n",
       "dsc20               4.683333  \n",
       "bild1               1.833333  \n",
       "bild22              3.000000  \n",
       "cogs87              2.000000  \n",
       "doc2                2.000000  \n",
       "training_spring23   3.833333  \n",
       "reading             5.500000  \n",
       "pp_spring23         8.333333  \n",
       "cogs14a             1.500000  \n",
       "cogs17              7.000000  \n",
       "dsc30               8.333333  \n",
       "math20e             3.000000  \n",
       "doc3                4.000000  \n",
       "training_summer23   4.000000  \n",
       "reading_summer23    4.000000  \n",
       "pp_summer23         6.833333  \n",
       "ds_summer_project   5.333333  \n",
       "dsc40a              5.000000  \n",
       "week               12.000000  \n",
       "training_fall23    12.000000  \n",
       "ex_phys             3.750000  \n",
       "fmp_fall23          4.166667  \n",
       "cogs153             2.250000  \n",
       "cogs107a            2.500000  \n",
       "cogs14b             2.550000  \n",
       "dsc40b              5.583333  \n",
       "math180a            5.000000  \n",
       "kdd/ds3/tnt         2.633333  \n",
       "pp_fall23           5.833333  \n",
       "training_winter24   2.000000  \n",
       "salk_winter24       8.916667  \n",
       "cse257              3.000000  \n",
       "dsc80               9.633333  \n",
       "cogs107b            3.333333  \n",
       "math180b            6.166667  \n",
       "fmp_winter24        2.000000  \n",
       "pp_winter24         5.000000  \n",
       "salk_spring24       7.500000  \n",
       "dsc140a             6.500000  \n",
       "dsc140b             7.750000  \n",
       "math180c            4.333333  \n",
       "math181a            9.166667  \n",
       "cogs107c            3.833333  \n",
       "psyc137             1.833333  \n",
       "dsc106              6.833333  \n",
       "cse150b             8.750000  \n",
       "fmp_spring24        4.333333  \n",
       "pp_spring24         8.833333  \n",
       "math18              5.166667  \n",
       "dsc10               3.033333  \n",
       "math20b             4.133333  "
      ]
     },
     "execution_count": 122,
     "metadata": {},
     "output_type": "execute_result"
    }
   ],
   "source": [
    "clean_study.describe().T"
   ]
  },
  {
   "cell_type": "code",
   "execution_count": 123,
   "metadata": {},
   "outputs": [
    {
     "data": {
      "application/vnd.plotly.v1+json": {
       "config": {
        "plotlyServerURL": "https://plot.ly"
       },
       "data": [
        {
         "dimensions": [
          {
           "axis": {
            "matches": true
           },
           "label": "total",
           "values": [
            1.8,
            4.55,
            2.375,
            2.45,
            3.691666666666667,
            2.711111111111111,
            1.4958333333333333,
            1.55,
            2.433333333333333,
            1.3208333333333333,
            3.6166666666666667,
            2.691666666666667,
            3.1666666666666665,
            2.5416666666666665,
            4.166666666666667,
            3.125,
            2.825,
            3.1,
            4.716666666666667,
            4,
            2.441666666666667,
            5.366666666666666,
            2.0555555555555554,
            2.3833333333333333,
            7.933333333333334,
            4.216666666666667,
            6.2,
            2.65,
            3.5,
            5.4,
            6.05,
            4.75,
            4.75,
            3.9166666666666665,
            4.583333333333333,
            6.716666666666667,
            6.583333333333333,
            4.916666666666667,
            4.95,
            4.083333333333333,
            5.516666666666667,
            4.083333333333333,
            9,
            3,
            4.5,
            5.666666666666667,
            2.5833333333333335,
            6.016666666666667,
            1.5,
            1,
            1.1666666666666667,
            2,
            2.5,
            2,
            3,
            4.083333333333333,
            2.75,
            5.166666666666667,
            1,
            1.5833333333333333,
            2,
            1.4166666666666667,
            1.2666666666666666,
            5.666666666666667,
            1.4166666666666667,
            3.433333333333333,
            5.016666666666667,
            7,
            3.8333333333333335,
            4.266666666666667,
            6.766666666666667,
            2.8333333333333335,
            9.05,
            5.083333333333333,
            2.5,
            6,
            4.366666666666666,
            5.333333333333333,
            2.9166666666666665,
            6.666666666666667,
            6.833333333333333,
            5.333333333333333,
            7.283333333333333,
            3.75,
            7.533333333333333,
            6.166666666666667,
            5.583333333333333,
            4.416666666666667,
            3.0833333333333335,
            6.833333333333333,
            6.833333333333333,
            7.666666666666667,
            2.55,
            5.75,
            4.583333333333333,
            3.9166666666666665,
            3.9166666666666665,
            5,
            6.166666666666667,
            3.0833333333333335,
            5.833333333333333,
            4,
            3.8333333333333335,
            2.4166666666666665,
            5.166666666666667,
            5,
            5,
            5.916666666666667,
            3.0833333333333335,
            5.1,
            4.25,
            4.166666666666667,
            5.333333333333333,
            2.1666666666666665,
            7.666666666666667,
            3.6666666666666665,
            6.083333333333333,
            4.5,
            4.916666666666667,
            4.916666666666667,
            4.666666666666667,
            4.333333333333333,
            5.333333333333333,
            4,
            5.166666666666667,
            4.25,
            5.25,
            5.333333333333333,
            7.5,
            4.416666666666667,
            1.8333333333333333,
            4.25,
            3.5,
            5.833333333333333,
            4.333333333333333,
            5,
            3.5,
            3.5833333333333335,
            7.083333333333333,
            5.166666666666667,
            3.9166666666666665,
            5.25,
            4.416666666666667,
            4,
            7.416666666666667,
            5.083333333333333,
            2.25,
            5,
            6,
            5.25,
            4.416666666666667,
            8,
            5.583333333333333,
            6.333333333333333,
            3.1666666666666665,
            3.4166666666666665,
            6.333333333333333,
            5.5,
            6.666666666666667,
            3.25,
            8.75,
            4.5,
            7.666666666666667,
            8,
            6.083333333333333,
            7.166666666666667,
            9.5,
            8.5,
            3.0833333333333335,
            7.166666666666667,
            7.45,
            5.166666666666667,
            8.666666666666666,
            10.833333333333334,
            7.5,
            4.666666666666667,
            6.166666666666667,
            7.5,
            7,
            7,
            11.166666666666666,
            7.583333333333333,
            9,
            5,
            5.083333333333333,
            5.333333333333333,
            8.266666666666667,
            7.05,
            9,
            6.666666666666667,
            8.333333333333334,
            8.333333333333334,
            5,
            6.25,
            8.083333333333334,
            5.083333333333333,
            5.25,
            5.5,
            7,
            6.75,
            6.833333333333333,
            7.833333333333333,
            8.833333333333334,
            8,
            4.833333333333333,
            4.916666666666667,
            7,
            4.583333333333333,
            5.833333333333333,
            5,
            2.5,
            3,
            3,
            6.5,
            5.833333333333333,
            5.5,
            6.333333333333333,
            6.416666666666667,
            5.166666666666667,
            4.833333333333333,
            7,
            7.75,
            7.666666666666667,
            3,
            5,
            8.416666666666666,
            6.666666666666667,
            1.75,
            7.25,
            10.5,
            8,
            3,
            5.25,
            4,
            0,
            2,
            3.25,
            11.416666666666666,
            4.416666666666667,
            6.916666666666667,
            1,
            6.833333333333333,
            8.75,
            6.833333333333333,
            8.5,
            8.333333333333334,
            9.75,
            4.333333333333333,
            2.3333333333333335,
            8.5,
            5,
            7,
            7.441666666666666,
            6.583333333333333,
            2,
            4.833333333333333,
            8.833333333333334,
            10.583333333333334,
            4.75,
            5.5,
            4,
            3.25,
            8.416666666666666,
            9,
            8.233333333333333,
            6.166666666666667,
            6.5,
            5.5,
            3.8333333333333335,
            6.916666666666667,
            9.083333333333334,
            7.666666666666667,
            9,
            8.666666666666666,
            6.083333333333333,
            4.583333333333333,
            12,
            8.183333333333334,
            5.833333333333333,
            9,
            5.916666666666667,
            7,
            6,
            8.416666666666666,
            8.333333333333334,
            8.416666666666666,
            8.25,
            6.833333333333333,
            4.333333333333333,
            7.366666666666666,
            7.666666666666667,
            7.166666666666667,
            7.833333333333333,
            5.5,
            4.416666666666667,
            2.9166666666666665,
            2,
            9.666666666666666,
            8.416666666666666,
            7.5,
            8.833333333333334,
            7.25,
            6.166666666666667,
            5.583333333333333,
            5.416666666666667,
            7.916666666666667,
            7.25,
            7.083333333333333,
            4.25,
            0,
            6.333333333333333,
            4.666666666666667,
            5.083333333333333,
            7.25,
            8,
            8.916666666666666,
            7,
            7.416666666666667,
            7.416666666666667,
            6.75,
            7.166666666666667,
            9.833333333333334,
            7.75,
            6.25,
            7.75,
            8.583333333333334,
            9.966666666666667,
            6.333333333333333,
            11.25,
            7.833333333333333,
            8.833333333333334,
            4.166666666666667,
            4.5,
            6.5,
            6.083333333333333,
            4.166666666666667,
            7,
            7.7,
            7.166666666666667,
            9.916666666666666,
            6.5,
            0,
            6.5,
            7.5,
            8.25,
            3.3333333333333335,
            5.5,
            2.75,
            6.166666666666667,
            7.166666666666667,
            10.833333333333334,
            8.083333333333334,
            9.166666666666666,
            6.75,
            8.5,
            10,
            9.75,
            11.25,
            12.583333333333334,
            10.5,
            10.333333333333334,
            11.25,
            6.333333333333333,
            8.833333333333334,
            10.416666666666666,
            11.333333333333334,
            10.833333333333334,
            6.75,
            6.333333333333333,
            5.833333333333333,
            12,
            9.5,
            10,
            9.166666666666666,
            10,
            8.583333333333334,
            11.333333333333334,
            9.75,
            11.833333333333334,
            11.083333333333334,
            10.333333333333334,
            4.083333333333333,
            0,
            3.5,
            7.25,
            10.916666666666666,
            10.75,
            11.166666666666666,
            8.333333333333334,
            4.75,
            8.333333333333334,
            9.166666666666666,
            10.75,
            6.166666666666667,
            10.166666666666666,
            10.5,
            5.916666666666667,
            11,
            8.916666666666666,
            11.833333333333334,
            12,
            11.5,
            11,
            11.166666666666666,
            12.25,
            10.916666666666666,
            12.083333333333334,
            11.333333333333334,
            12.75,
            11.583333333333334,
            9.5,
            10.583333333333334,
            12.25,
            13,
            12.416666666666666,
            11.416666666666666,
            15.5,
            12.166666666666666,
            11.5,
            11.166666666666666,
            12.633333333333333,
            10.5,
            13.5,
            7.833333333333333,
            3.5,
            8.833333333333334,
            9.5,
            10.833333333333334,
            12.5,
            9.916666666666666,
            13.75,
            7.666666666666667,
            10.5,
            11.333333333333334,
            11.166666666666666,
            12.833333333333334,
            10.666666666666666,
            14.5,
            12.333333333333334,
            10.75,
            8.833333333333334,
            13.833333333333334,
            15,
            13.583333333333334,
            14.75,
            11.916666666666666,
            9.5,
            11.416666666666666,
            11.5,
            13.416666666666666,
            12.75,
            13.666666666666666,
            11.333333333333334,
            9,
            9.416666666666666,
            12.833333333333334,
            13.5,
            12.166666666666666,
            10.833333333333334,
            9.5,
            10.5,
            9.916666666666666,
            11.5,
            12.833333333333334,
            11.75,
            13,
            8.333333333333334,
            10.583333333333334,
            9.833333333333334,
            12.333333333333334,
            13.916666666666666,
            10.583333333333334,
            12.833333333333334,
            10.25,
            11.333333333333334,
            9.166666666666666,
            10.5,
            11.833333333333334,
            11.666666666666666,
            12.5,
            9.75,
            9.666666666666666,
            8,
            11.166666666666666,
            12.75,
            10.75,
            12.666666666666666,
            10.25,
            8.083333333333334,
            10.333333333333334,
            12.166666666666666,
            14.916666666666666,
            14.166666666666666,
            12,
            11.833333333333334,
            15.5,
            11.25,
            11.833333333333334,
            11.833333333333334,
            12.583333333333334,
            10.666666666666666,
            9.666666666666666
           ]
          },
          {
           "axis": {
            "matches": true
           },
           "label": "week",
           "values": [
            0,
            0,
            0,
            0,
            0,
            0,
            0,
            0,
            0,
            0,
            0,
            0,
            0,
            0,
            0,
            0,
            0,
            0,
            0,
            0,
            0,
            0,
            0,
            0,
            0,
            0,
            0,
            0,
            0,
            0,
            0,
            0,
            0,
            0,
            0,
            0,
            0,
            0,
            0,
            0,
            0,
            0,
            0,
            0,
            0,
            0,
            0,
            0,
            0,
            0,
            0,
            0,
            0,
            0,
            0,
            0,
            0,
            0,
            0,
            0,
            0,
            0,
            0,
            0,
            0,
            0,
            0,
            0,
            0,
            0,
            0,
            0,
            0,
            0,
            0,
            0,
            0,
            0,
            0,
            0,
            0,
            0,
            0,
            0,
            0,
            0,
            0,
            0,
            0,
            0,
            0,
            0,
            0,
            0,
            0,
            0,
            0,
            0,
            0,
            0,
            0,
            0,
            0,
            0,
            0,
            0,
            0,
            0,
            0,
            0,
            0,
            0,
            0,
            0,
            0,
            0,
            0,
            0,
            0,
            0,
            0,
            0,
            0,
            0,
            0,
            0,
            0,
            0,
            0,
            0,
            0,
            0,
            0,
            0,
            0,
            0,
            0,
            0,
            0,
            0,
            0,
            0,
            0,
            0,
            0,
            0,
            0,
            0,
            0,
            0,
            0,
            0,
            0,
            0,
            0,
            0,
            0,
            0,
            0,
            0,
            0,
            0,
            0,
            0,
            0,
            0,
            0,
            0,
            0,
            0,
            0,
            0,
            0,
            0,
            0,
            0,
            0,
            0,
            0,
            0,
            0,
            0,
            0,
            0,
            0,
            0,
            0,
            0,
            0,
            0,
            0,
            0,
            0,
            0,
            0,
            0,
            0,
            0,
            0,
            0,
            0,
            0,
            0,
            0,
            0,
            0,
            0,
            0,
            0,
            0,
            0,
            0,
            0,
            0,
            0,
            0,
            0,
            0,
            0,
            0,
            0,
            0,
            0,
            0,
            0,
            0,
            0,
            0,
            0,
            0,
            0,
            0,
            0,
            0,
            0,
            0,
            0,
            0,
            0,
            0,
            0,
            0,
            0,
            0,
            0,
            0,
            0,
            0,
            0,
            0,
            0,
            0,
            1,
            0,
            0,
            0,
            0,
            0,
            0,
            0,
            0,
            0,
            0,
            2,
            2,
            2,
            2,
            2,
            2,
            2,
            3,
            3,
            3,
            3,
            3,
            3,
            3,
            4,
            4,
            4,
            4,
            4,
            4,
            4,
            5,
            5,
            5,
            5,
            5,
            5,
            5,
            6,
            6,
            6,
            6,
            6,
            6,
            6,
            7,
            7,
            7,
            7,
            7,
            7,
            7,
            8,
            8,
            8,
            8,
            8,
            8,
            8,
            9,
            9,
            9,
            9,
            9,
            9,
            9,
            10,
            10,
            10,
            10,
            10,
            10,
            10,
            11,
            11,
            11,
            11,
            11,
            11,
            11,
            12,
            12,
            0,
            0,
            0,
            0,
            0,
            0,
            0,
            0,
            0,
            0,
            0,
            0,
            0,
            0,
            1,
            1,
            1,
            1,
            1,
            1,
            1,
            2,
            2,
            2,
            2,
            2,
            2,
            2,
            3,
            3,
            3,
            3,
            3,
            3,
            3,
            4,
            4,
            4,
            4,
            4,
            4,
            4,
            5,
            5,
            5,
            5,
            5,
            5,
            5,
            6,
            6,
            6,
            6,
            6,
            6,
            6,
            7,
            7,
            7,
            7,
            7,
            7,
            7,
            8,
            8,
            8,
            8,
            8,
            8,
            8,
            9,
            9,
            9,
            9,
            9,
            9,
            9,
            10,
            10,
            10,
            10,
            10,
            10,
            10,
            11,
            11,
            11,
            11,
            11,
            0,
            0,
            0,
            1,
            1,
            1,
            1,
            1,
            1,
            1,
            2,
            2,
            2,
            2,
            2,
            2,
            2,
            3,
            3,
            3,
            3,
            3,
            3,
            3,
            4,
            4,
            4,
            4,
            4,
            4,
            4,
            5,
            5,
            5,
            5,
            5,
            5,
            5,
            6,
            6,
            6,
            6,
            6,
            6,
            6,
            7,
            7,
            7,
            7,
            7,
            7,
            7,
            8,
            8,
            8,
            8,
            8,
            8,
            8,
            9,
            9,
            9,
            9,
            9,
            9,
            9,
            10,
            10,
            10,
            10,
            10,
            10,
            10,
            11,
            11,
            11,
            11,
            11
           ]
          },
          {
           "axis": {
            "matches": true
           },
           "label": "dsc40b",
           "values": [
            0,
            0,
            0,
            0,
            0,
            0,
            0,
            0,
            0,
            0,
            0,
            0,
            0,
            0,
            0,
            0,
            0,
            0,
            0,
            0,
            0,
            0,
            0,
            0,
            0,
            0,
            0,
            0,
            0,
            0,
            0,
            0,
            0,
            0,
            0,
            0,
            0,
            0,
            0,
            0,
            0,
            0,
            0,
            0,
            0,
            0,
            0,
            0,
            0,
            0,
            0,
            0,
            0,
            0,
            0,
            0,
            0,
            0,
            0,
            0,
            0,
            0,
            0,
            0,
            0,
            0,
            0,
            0,
            0,
            0,
            0,
            0,
            0,
            0,
            0,
            0,
            0,
            0,
            0,
            0,
            0,
            0,
            0,
            0,
            0,
            0,
            0,
            0,
            0,
            0,
            0,
            0,
            0,
            0,
            0,
            0,
            0,
            0,
            0,
            0,
            0,
            0,
            0,
            0,
            0,
            0,
            0,
            0,
            0,
            0,
            0,
            0,
            0,
            0,
            0,
            0,
            0,
            0,
            0,
            0,
            0,
            0,
            0,
            0,
            0,
            0,
            0,
            0,
            0,
            0,
            0,
            0,
            0,
            0,
            0,
            0,
            0,
            0,
            0,
            0,
            0,
            0,
            0,
            0,
            0,
            0,
            0,
            0,
            0,
            0,
            0,
            0,
            0,
            0,
            0,
            0,
            0,
            0,
            0,
            0,
            0,
            0,
            0,
            0,
            0,
            0,
            0,
            0,
            0,
            0,
            0,
            0,
            0,
            0,
            0,
            0,
            0,
            0,
            0,
            0,
            0,
            0,
            0,
            0,
            0,
            0,
            0,
            0,
            0,
            0,
            0,
            0,
            0,
            0,
            0,
            0,
            0,
            0,
            0,
            0,
            0,
            0,
            0,
            0,
            0,
            0,
            0,
            0,
            0,
            0,
            0,
            0,
            0,
            0,
            0,
            0,
            0,
            0,
            0,
            0,
            0,
            0,
            0,
            0,
            0,
            0,
            0,
            0,
            0,
            0,
            0,
            0,
            0,
            0,
            0,
            0,
            0,
            0,
            0,
            0,
            0,
            0,
            0,
            0,
            0,
            0,
            0,
            0,
            0,
            0,
            0,
            0,
            0,
            0,
            0,
            0,
            0,
            0,
            0,
            0,
            0,
            0,
            0,
            1,
            0,
            0.16666666666666666,
            1.5,
            0,
            0,
            2.1666666666666665,
            1.5,
            0.6666666666666666,
            1,
            2.1666666666666665,
            1.6666666666666667,
            0.5,
            0,
            1.8333333333333333,
            0.3333333333333333,
            1,
            3.6666666666666665,
            0.3333333333333333,
            3.3333333333333335,
            3.5,
            0.3333333333333333,
            2,
            0.16666666666666666,
            0.25,
            0,
            0.25,
            1,
            0,
            0.8333333333333334,
            1.25,
            0.3333333333333333,
            0,
            0,
            4.166666666666667,
            0.75,
            0,
            1.0833333333333333,
            1.8333333333333333,
            0,
            2.25,
            0.5,
            0.5,
            0.75,
            0.6666666666666666,
            0,
            0,
            3.3333333333333335,
            1.1666666666666667,
            1.8333333333333333,
            3.5,
            2.25,
            0.75,
            0,
            0,
            0.3333333333333333,
            0,
            1.6666666666666667,
            3.5,
            3,
            0,
            0,
            5.583333333333333,
            4.416666666666667,
            2,
            3.3333333333333335,
            2.25,
            3,
            0,
            0,
            0,
            0,
            0,
            0,
            0,
            0,
            0,
            0,
            0,
            0,
            0,
            0,
            0,
            0,
            0,
            0,
            0,
            0,
            0,
            0,
            0,
            0,
            0,
            0,
            0,
            0,
            0,
            0,
            0,
            0,
            0,
            0,
            0,
            0,
            0,
            0,
            0,
            0,
            0,
            0,
            0,
            0,
            0,
            0,
            0,
            0,
            0,
            0,
            0,
            0,
            0,
            0,
            0,
            0,
            0,
            0,
            0,
            0,
            0,
            0,
            0,
            0,
            0,
            0,
            0,
            0,
            0,
            0,
            0,
            0,
            0,
            0,
            0,
            0,
            0,
            0,
            0,
            0,
            0,
            0,
            0,
            0,
            0,
            0,
            0,
            0,
            0,
            0,
            0,
            0,
            0,
            0,
            0,
            0,
            0,
            0,
            0,
            0,
            0,
            0,
            0,
            0,
            0,
            0,
            0,
            0,
            0,
            0,
            0,
            0,
            0,
            0,
            0,
            0,
            0,
            0,
            0,
            0,
            0,
            0,
            0,
            0,
            0,
            0,
            0,
            0,
            0,
            0,
            0,
            0,
            0,
            0,
            0,
            0,
            0,
            0,
            0,
            0,
            0,
            0,
            0,
            0,
            0,
            0,
            0,
            0,
            0,
            0,
            0,
            0,
            0,
            0,
            0,
            0,
            0,
            0,
            0,
            0,
            0,
            0,
            0,
            0,
            0,
            0,
            0,
            0,
            0,
            0,
            0
           ]
          }
         ],
         "hovertemplate": "%{xaxis.title.text}=%{x}<br>%{yaxis.title.text}=%{y}<extra></extra>",
         "legendgroup": "",
         "marker": {
          "color": "#636efa",
          "symbol": "circle"
         },
         "name": "",
         "showlegend": false,
         "type": "splom"
        }
       ],
       "layout": {
        "dragmode": "select",
        "legend": {
         "tracegroupgap": 0
        },
        "margin": {
         "t": 60
        },
        "template": {
         "data": {
          "bar": [
           {
            "error_x": {
             "color": "#2a3f5f"
            },
            "error_y": {
             "color": "#2a3f5f"
            },
            "marker": {
             "line": {
              "color": "#E5ECF6",
              "width": 0.5
             },
             "pattern": {
              "fillmode": "overlay",
              "size": 10,
              "solidity": 0.2
             }
            },
            "type": "bar"
           }
          ],
          "barpolar": [
           {
            "marker": {
             "line": {
              "color": "#E5ECF6",
              "width": 0.5
             },
             "pattern": {
              "fillmode": "overlay",
              "size": 10,
              "solidity": 0.2
             }
            },
            "type": "barpolar"
           }
          ],
          "carpet": [
           {
            "aaxis": {
             "endlinecolor": "#2a3f5f",
             "gridcolor": "white",
             "linecolor": "white",
             "minorgridcolor": "white",
             "startlinecolor": "#2a3f5f"
            },
            "baxis": {
             "endlinecolor": "#2a3f5f",
             "gridcolor": "white",
             "linecolor": "white",
             "minorgridcolor": "white",
             "startlinecolor": "#2a3f5f"
            },
            "type": "carpet"
           }
          ],
          "choropleth": [
           {
            "colorbar": {
             "outlinewidth": 0,
             "ticks": ""
            },
            "type": "choropleth"
           }
          ],
          "contour": [
           {
            "colorbar": {
             "outlinewidth": 0,
             "ticks": ""
            },
            "colorscale": [
             [
              0,
              "#0d0887"
             ],
             [
              0.1111111111111111,
              "#46039f"
             ],
             [
              0.2222222222222222,
              "#7201a8"
             ],
             [
              0.3333333333333333,
              "#9c179e"
             ],
             [
              0.4444444444444444,
              "#bd3786"
             ],
             [
              0.5555555555555556,
              "#d8576b"
             ],
             [
              0.6666666666666666,
              "#ed7953"
             ],
             [
              0.7777777777777778,
              "#fb9f3a"
             ],
             [
              0.8888888888888888,
              "#fdca26"
             ],
             [
              1,
              "#f0f921"
             ]
            ],
            "type": "contour"
           }
          ],
          "contourcarpet": [
           {
            "colorbar": {
             "outlinewidth": 0,
             "ticks": ""
            },
            "type": "contourcarpet"
           }
          ],
          "heatmap": [
           {
            "colorbar": {
             "outlinewidth": 0,
             "ticks": ""
            },
            "colorscale": [
             [
              0,
              "#0d0887"
             ],
             [
              0.1111111111111111,
              "#46039f"
             ],
             [
              0.2222222222222222,
              "#7201a8"
             ],
             [
              0.3333333333333333,
              "#9c179e"
             ],
             [
              0.4444444444444444,
              "#bd3786"
             ],
             [
              0.5555555555555556,
              "#d8576b"
             ],
             [
              0.6666666666666666,
              "#ed7953"
             ],
             [
              0.7777777777777778,
              "#fb9f3a"
             ],
             [
              0.8888888888888888,
              "#fdca26"
             ],
             [
              1,
              "#f0f921"
             ]
            ],
            "type": "heatmap"
           }
          ],
          "heatmapgl": [
           {
            "colorbar": {
             "outlinewidth": 0,
             "ticks": ""
            },
            "colorscale": [
             [
              0,
              "#0d0887"
             ],
             [
              0.1111111111111111,
              "#46039f"
             ],
             [
              0.2222222222222222,
              "#7201a8"
             ],
             [
              0.3333333333333333,
              "#9c179e"
             ],
             [
              0.4444444444444444,
              "#bd3786"
             ],
             [
              0.5555555555555556,
              "#d8576b"
             ],
             [
              0.6666666666666666,
              "#ed7953"
             ],
             [
              0.7777777777777778,
              "#fb9f3a"
             ],
             [
              0.8888888888888888,
              "#fdca26"
             ],
             [
              1,
              "#f0f921"
             ]
            ],
            "type": "heatmapgl"
           }
          ],
          "histogram": [
           {
            "marker": {
             "pattern": {
              "fillmode": "overlay",
              "size": 10,
              "solidity": 0.2
             }
            },
            "type": "histogram"
           }
          ],
          "histogram2d": [
           {
            "colorbar": {
             "outlinewidth": 0,
             "ticks": ""
            },
            "colorscale": [
             [
              0,
              "#0d0887"
             ],
             [
              0.1111111111111111,
              "#46039f"
             ],
             [
              0.2222222222222222,
              "#7201a8"
             ],
             [
              0.3333333333333333,
              "#9c179e"
             ],
             [
              0.4444444444444444,
              "#bd3786"
             ],
             [
              0.5555555555555556,
              "#d8576b"
             ],
             [
              0.6666666666666666,
              "#ed7953"
             ],
             [
              0.7777777777777778,
              "#fb9f3a"
             ],
             [
              0.8888888888888888,
              "#fdca26"
             ],
             [
              1,
              "#f0f921"
             ]
            ],
            "type": "histogram2d"
           }
          ],
          "histogram2dcontour": [
           {
            "colorbar": {
             "outlinewidth": 0,
             "ticks": ""
            },
            "colorscale": [
             [
              0,
              "#0d0887"
             ],
             [
              0.1111111111111111,
              "#46039f"
             ],
             [
              0.2222222222222222,
              "#7201a8"
             ],
             [
              0.3333333333333333,
              "#9c179e"
             ],
             [
              0.4444444444444444,
              "#bd3786"
             ],
             [
              0.5555555555555556,
              "#d8576b"
             ],
             [
              0.6666666666666666,
              "#ed7953"
             ],
             [
              0.7777777777777778,
              "#fb9f3a"
             ],
             [
              0.8888888888888888,
              "#fdca26"
             ],
             [
              1,
              "#f0f921"
             ]
            ],
            "type": "histogram2dcontour"
           }
          ],
          "mesh3d": [
           {
            "colorbar": {
             "outlinewidth": 0,
             "ticks": ""
            },
            "type": "mesh3d"
           }
          ],
          "parcoords": [
           {
            "line": {
             "colorbar": {
              "outlinewidth": 0,
              "ticks": ""
             }
            },
            "type": "parcoords"
           }
          ],
          "pie": [
           {
            "automargin": true,
            "type": "pie"
           }
          ],
          "scatter": [
           {
            "fillpattern": {
             "fillmode": "overlay",
             "size": 10,
             "solidity": 0.2
            },
            "type": "scatter"
           }
          ],
          "scatter3d": [
           {
            "line": {
             "colorbar": {
              "outlinewidth": 0,
              "ticks": ""
             }
            },
            "marker": {
             "colorbar": {
              "outlinewidth": 0,
              "ticks": ""
             }
            },
            "type": "scatter3d"
           }
          ],
          "scattercarpet": [
           {
            "marker": {
             "colorbar": {
              "outlinewidth": 0,
              "ticks": ""
             }
            },
            "type": "scattercarpet"
           }
          ],
          "scattergeo": [
           {
            "marker": {
             "colorbar": {
              "outlinewidth": 0,
              "ticks": ""
             }
            },
            "type": "scattergeo"
           }
          ],
          "scattergl": [
           {
            "marker": {
             "colorbar": {
              "outlinewidth": 0,
              "ticks": ""
             }
            },
            "type": "scattergl"
           }
          ],
          "scattermapbox": [
           {
            "marker": {
             "colorbar": {
              "outlinewidth": 0,
              "ticks": ""
             }
            },
            "type": "scattermapbox"
           }
          ],
          "scatterpolar": [
           {
            "marker": {
             "colorbar": {
              "outlinewidth": 0,
              "ticks": ""
             }
            },
            "type": "scatterpolar"
           }
          ],
          "scatterpolargl": [
           {
            "marker": {
             "colorbar": {
              "outlinewidth": 0,
              "ticks": ""
             }
            },
            "type": "scatterpolargl"
           }
          ],
          "scatterternary": [
           {
            "marker": {
             "colorbar": {
              "outlinewidth": 0,
              "ticks": ""
             }
            },
            "type": "scatterternary"
           }
          ],
          "surface": [
           {
            "colorbar": {
             "outlinewidth": 0,
             "ticks": ""
            },
            "colorscale": [
             [
              0,
              "#0d0887"
             ],
             [
              0.1111111111111111,
              "#46039f"
             ],
             [
              0.2222222222222222,
              "#7201a8"
             ],
             [
              0.3333333333333333,
              "#9c179e"
             ],
             [
              0.4444444444444444,
              "#bd3786"
             ],
             [
              0.5555555555555556,
              "#d8576b"
             ],
             [
              0.6666666666666666,
              "#ed7953"
             ],
             [
              0.7777777777777778,
              "#fb9f3a"
             ],
             [
              0.8888888888888888,
              "#fdca26"
             ],
             [
              1,
              "#f0f921"
             ]
            ],
            "type": "surface"
           }
          ],
          "table": [
           {
            "cells": {
             "fill": {
              "color": "#EBF0F8"
             },
             "line": {
              "color": "white"
             }
            },
            "header": {
             "fill": {
              "color": "#C8D4E3"
             },
             "line": {
              "color": "white"
             }
            },
            "type": "table"
           }
          ]
         },
         "layout": {
          "annotationdefaults": {
           "arrowcolor": "#2a3f5f",
           "arrowhead": 0,
           "arrowwidth": 1
          },
          "autotypenumbers": "strict",
          "coloraxis": {
           "colorbar": {
            "outlinewidth": 0,
            "ticks": ""
           }
          },
          "colorscale": {
           "diverging": [
            [
             0,
             "#8e0152"
            ],
            [
             0.1,
             "#c51b7d"
            ],
            [
             0.2,
             "#de77ae"
            ],
            [
             0.3,
             "#f1b6da"
            ],
            [
             0.4,
             "#fde0ef"
            ],
            [
             0.5,
             "#f7f7f7"
            ],
            [
             0.6,
             "#e6f5d0"
            ],
            [
             0.7,
             "#b8e186"
            ],
            [
             0.8,
             "#7fbc41"
            ],
            [
             0.9,
             "#4d9221"
            ],
            [
             1,
             "#276419"
            ]
           ],
           "sequential": [
            [
             0,
             "#0d0887"
            ],
            [
             0.1111111111111111,
             "#46039f"
            ],
            [
             0.2222222222222222,
             "#7201a8"
            ],
            [
             0.3333333333333333,
             "#9c179e"
            ],
            [
             0.4444444444444444,
             "#bd3786"
            ],
            [
             0.5555555555555556,
             "#d8576b"
            ],
            [
             0.6666666666666666,
             "#ed7953"
            ],
            [
             0.7777777777777778,
             "#fb9f3a"
            ],
            [
             0.8888888888888888,
             "#fdca26"
            ],
            [
             1,
             "#f0f921"
            ]
           ],
           "sequentialminus": [
            [
             0,
             "#0d0887"
            ],
            [
             0.1111111111111111,
             "#46039f"
            ],
            [
             0.2222222222222222,
             "#7201a8"
            ],
            [
             0.3333333333333333,
             "#9c179e"
            ],
            [
             0.4444444444444444,
             "#bd3786"
            ],
            [
             0.5555555555555556,
             "#d8576b"
            ],
            [
             0.6666666666666666,
             "#ed7953"
            ],
            [
             0.7777777777777778,
             "#fb9f3a"
            ],
            [
             0.8888888888888888,
             "#fdca26"
            ],
            [
             1,
             "#f0f921"
            ]
           ]
          },
          "colorway": [
           "#636efa",
           "#EF553B",
           "#00cc96",
           "#ab63fa",
           "#FFA15A",
           "#19d3f3",
           "#FF6692",
           "#B6E880",
           "#FF97FF",
           "#FECB52"
          ],
          "font": {
           "color": "#2a3f5f"
          },
          "geo": {
           "bgcolor": "white",
           "lakecolor": "white",
           "landcolor": "#E5ECF6",
           "showlakes": true,
           "showland": true,
           "subunitcolor": "white"
          },
          "hoverlabel": {
           "align": "left"
          },
          "hovermode": "closest",
          "mapbox": {
           "style": "light"
          },
          "paper_bgcolor": "white",
          "plot_bgcolor": "#E5ECF6",
          "polar": {
           "angularaxis": {
            "gridcolor": "white",
            "linecolor": "white",
            "ticks": ""
           },
           "bgcolor": "#E5ECF6",
           "radialaxis": {
            "gridcolor": "white",
            "linecolor": "white",
            "ticks": ""
           }
          },
          "scene": {
           "xaxis": {
            "backgroundcolor": "#E5ECF6",
            "gridcolor": "white",
            "gridwidth": 2,
            "linecolor": "white",
            "showbackground": true,
            "ticks": "",
            "zerolinecolor": "white"
           },
           "yaxis": {
            "backgroundcolor": "#E5ECF6",
            "gridcolor": "white",
            "gridwidth": 2,
            "linecolor": "white",
            "showbackground": true,
            "ticks": "",
            "zerolinecolor": "white"
           },
           "zaxis": {
            "backgroundcolor": "#E5ECF6",
            "gridcolor": "white",
            "gridwidth": 2,
            "linecolor": "white",
            "showbackground": true,
            "ticks": "",
            "zerolinecolor": "white"
           }
          },
          "shapedefaults": {
           "line": {
            "color": "#2a3f5f"
           }
          },
          "ternary": {
           "aaxis": {
            "gridcolor": "white",
            "linecolor": "white",
            "ticks": ""
           },
           "baxis": {
            "gridcolor": "white",
            "linecolor": "white",
            "ticks": ""
           },
           "bgcolor": "#E5ECF6",
           "caxis": {
            "gridcolor": "white",
            "linecolor": "white",
            "ticks": ""
           }
          },
          "title": {
           "x": 0.05
          },
          "xaxis": {
           "automargin": true,
           "gridcolor": "white",
           "linecolor": "white",
           "ticks": "",
           "title": {
            "standoff": 15
           },
           "zerolinecolor": "white",
           "zerolinewidth": 2
          },
          "yaxis": {
           "automargin": true,
           "gridcolor": "white",
           "linecolor": "white",
           "ticks": "",
           "title": {
            "standoff": 15
           },
           "zerolinecolor": "white",
           "zerolinewidth": 2
          }
         }
        }
       }
      }
     },
     "metadata": {},
     "output_type": "display_data"
    }
   ],
   "source": [
    "px.scatter_matrix(clean_study, ['total','week','dsc40b'])"
   ]
  },
  {
   "cell_type": "code",
   "execution_count": 124,
   "metadata": {},
   "outputs": [
    {
     "data": {
      "application/vnd.plotly.v1+json": {
       "config": {
        "plotlyServerURL": "https://plot.ly"
       },
       "data": [
        {
         "hovertemplate": "week=%{x}<br>total=%{y}<extra></extra>",
         "legendgroup": "",
         "marker": {
          "color": "#636efa",
          "symbol": "circle"
         },
         "mode": "markers",
         "name": "",
         "orientation": "v",
         "showlegend": false,
         "type": "scatter",
         "x": [
          1,
          2,
          2,
          2,
          2,
          2,
          2,
          2,
          3,
          3,
          3,
          3,
          3,
          3,
          3,
          4,
          4,
          4,
          4,
          4,
          4,
          4,
          5,
          5,
          5,
          5,
          5,
          5,
          5,
          6,
          6,
          6,
          6,
          6,
          6,
          6,
          7,
          7,
          7,
          7,
          7,
          7,
          7,
          8,
          8,
          8,
          8,
          8,
          8,
          8,
          9,
          9,
          9,
          9,
          9,
          9,
          9,
          10,
          10,
          10,
          10,
          10,
          10,
          10,
          11,
          11,
          11,
          11,
          11,
          11,
          11,
          12,
          12,
          1,
          1,
          1,
          1,
          1,
          1,
          1,
          2,
          2,
          2,
          2,
          2,
          2,
          2,
          3,
          3,
          3,
          3,
          3,
          3,
          3,
          4,
          4,
          4,
          4,
          4,
          4,
          4,
          5,
          5,
          5,
          5,
          5,
          5,
          5,
          6,
          6,
          6,
          6,
          6,
          6,
          6,
          7,
          7,
          7,
          7,
          7,
          7,
          7,
          8,
          8,
          8,
          8,
          8,
          8,
          8,
          9,
          9,
          9,
          9,
          9,
          9,
          9,
          10,
          10,
          10,
          10,
          10,
          10,
          10,
          11,
          11,
          11,
          11,
          11,
          1,
          1,
          1,
          1,
          1,
          1,
          1,
          2,
          2,
          2,
          2,
          2,
          2,
          2,
          3,
          3,
          3,
          3,
          3,
          3,
          3,
          4,
          4,
          4,
          4,
          4,
          4,
          4,
          5,
          5,
          5,
          5,
          5,
          5,
          5,
          6,
          6,
          6,
          6,
          6,
          6,
          6,
          7,
          7,
          7,
          7,
          7,
          7,
          7,
          8,
          8,
          8,
          8,
          8,
          8,
          8,
          9,
          9,
          9,
          9,
          9,
          9,
          9,
          10,
          10,
          10,
          10,
          10,
          10,
          10,
          11,
          11,
          11,
          11,
          11
         ],
         "xaxis": "x",
         "y": [
          7.441666666666666,
          9,
          8.233333333333333,
          6.166666666666667,
          6.5,
          5.5,
          3.8333333333333335,
          6.916666666666667,
          9.083333333333334,
          7.666666666666667,
          9,
          8.666666666666666,
          6.083333333333333,
          4.583333333333333,
          12,
          8.183333333333334,
          5.833333333333333,
          9,
          5.916666666666667,
          7,
          6,
          8.416666666666666,
          8.333333333333334,
          8.416666666666666,
          8.25,
          6.833333333333333,
          4.333333333333333,
          7.366666666666666,
          7.666666666666667,
          7.166666666666667,
          7.833333333333333,
          5.5,
          4.416666666666667,
          2.9166666666666665,
          2,
          9.666666666666666,
          8.416666666666666,
          7.5,
          8.833333333333334,
          7.25,
          6.166666666666667,
          5.583333333333333,
          5.416666666666667,
          7.916666666666667,
          7.25,
          7.083333333333333,
          4.25,
          0,
          6.333333333333333,
          4.666666666666667,
          5.083333333333333,
          7.25,
          8,
          8.916666666666666,
          7,
          7.416666666666667,
          7.416666666666667,
          6.75,
          7.166666666666667,
          9.833333333333334,
          7.75,
          6.25,
          7.75,
          8.583333333333334,
          9.966666666666667,
          6.333333333333333,
          11.25,
          7.833333333333333,
          8.833333333333334,
          4.166666666666667,
          4.5,
          6.5,
          6.083333333333333,
          7.166666666666667,
          10.833333333333334,
          8.083333333333334,
          9.166666666666666,
          6.75,
          8.5,
          10,
          9.75,
          11.25,
          12.583333333333334,
          10.5,
          10.333333333333334,
          11.25,
          6.333333333333333,
          8.833333333333334,
          10.416666666666666,
          11.333333333333334,
          10.833333333333334,
          6.75,
          6.333333333333333,
          5.833333333333333,
          12,
          9.5,
          10,
          9.166666666666666,
          10,
          8.583333333333334,
          11.333333333333334,
          9.75,
          11.833333333333334,
          11.083333333333334,
          10.333333333333334,
          4.083333333333333,
          0,
          3.5,
          7.25,
          10.916666666666666,
          10.75,
          11.166666666666666,
          8.333333333333334,
          4.75,
          8.333333333333334,
          9.166666666666666,
          10.75,
          6.166666666666667,
          10.166666666666666,
          10.5,
          5.916666666666667,
          11,
          8.916666666666666,
          11.833333333333334,
          12,
          11.5,
          11,
          11.166666666666666,
          12.25,
          10.916666666666666,
          12.083333333333334,
          11.333333333333334,
          12.75,
          11.583333333333334,
          9.5,
          10.583333333333334,
          12.25,
          13,
          12.416666666666666,
          11.416666666666666,
          15.5,
          12.166666666666666,
          11.5,
          11.166666666666666,
          12.633333333333333,
          10.5,
          13.5,
          7.833333333333333,
          10.833333333333334,
          12.5,
          9.916666666666666,
          13.75,
          7.666666666666667,
          10.5,
          11.333333333333334,
          11.166666666666666,
          12.833333333333334,
          10.666666666666666,
          14.5,
          12.333333333333334,
          10.75,
          8.833333333333334,
          13.833333333333334,
          15,
          13.583333333333334,
          14.75,
          11.916666666666666,
          9.5,
          11.416666666666666,
          11.5,
          13.416666666666666,
          12.75,
          13.666666666666666,
          11.333333333333334,
          9,
          9.416666666666666,
          12.833333333333334,
          13.5,
          12.166666666666666,
          10.833333333333334,
          9.5,
          10.5,
          9.916666666666666,
          11.5,
          12.833333333333334,
          11.75,
          13,
          8.333333333333334,
          10.583333333333334,
          9.833333333333334,
          12.333333333333334,
          13.916666666666666,
          10.583333333333334,
          12.833333333333334,
          10.25,
          11.333333333333334,
          9.166666666666666,
          10.5,
          11.833333333333334,
          11.666666666666666,
          12.5,
          9.75,
          9.666666666666666,
          8,
          11.166666666666666,
          12.75,
          10.75,
          12.666666666666666,
          10.25,
          8.083333333333334,
          10.333333333333334,
          12.166666666666666,
          14.916666666666666,
          14.166666666666666,
          12,
          11.833333333333334,
          15.5,
          11.25,
          11.833333333333334,
          11.833333333333334,
          12.583333333333334,
          10.666666666666666,
          9.666666666666666
         ],
         "yaxis": "y"
        },
        {
         "hovertemplate": "<b>LOWESS trendline</b><br><br>week=%{x}<br>total=%{y} <b>(trend)</b><extra></extra>",
         "legendgroup": "",
         "marker": {
          "color": "#636efa",
          "symbol": "circle"
         },
         "mode": "lines",
         "name": "",
         "showlegend": false,
         "type": "scatter",
         "x": [
          1,
          1,
          1,
          1,
          1,
          1,
          1,
          1,
          1,
          1,
          1,
          1,
          1,
          1,
          1,
          2,
          2,
          2,
          2,
          2,
          2,
          2,
          2,
          2,
          2,
          2,
          2,
          2,
          2,
          2,
          2,
          2,
          2,
          2,
          2,
          2,
          3,
          3,
          3,
          3,
          3,
          3,
          3,
          3,
          3,
          3,
          3,
          3,
          3,
          3,
          3,
          3,
          3,
          3,
          3,
          3,
          3,
          4,
          4,
          4,
          4,
          4,
          4,
          4,
          4,
          4,
          4,
          4,
          4,
          4,
          4,
          4,
          4,
          4,
          4,
          4,
          4,
          4,
          5,
          5,
          5,
          5,
          5,
          5,
          5,
          5,
          5,
          5,
          5,
          5,
          5,
          5,
          5,
          5,
          5,
          5,
          5,
          5,
          5,
          6,
          6,
          6,
          6,
          6,
          6,
          6,
          6,
          6,
          6,
          6,
          6,
          6,
          6,
          6,
          6,
          6,
          6,
          6,
          6,
          6,
          7,
          7,
          7,
          7,
          7,
          7,
          7,
          7,
          7,
          7,
          7,
          7,
          7,
          7,
          7,
          7,
          7,
          7,
          7,
          7,
          7,
          8,
          8,
          8,
          8,
          8,
          8,
          8,
          8,
          8,
          8,
          8,
          8,
          8,
          8,
          8,
          8,
          8,
          8,
          8,
          8,
          8,
          9,
          9,
          9,
          9,
          9,
          9,
          9,
          9,
          9,
          9,
          9,
          9,
          9,
          9,
          9,
          9,
          9,
          9,
          9,
          9,
          9,
          10,
          10,
          10,
          10,
          10,
          10,
          10,
          10,
          10,
          10,
          10,
          10,
          10,
          10,
          10,
          10,
          10,
          10,
          10,
          10,
          10,
          11,
          11,
          11,
          11,
          11,
          11,
          11,
          11,
          11,
          11,
          11,
          11,
          11,
          11,
          11,
          11,
          11,
          12,
          12
         ],
         "xaxis": "x",
         "y": [
          9.75204475405868,
          9.75204475405868,
          9.75204475405868,
          9.75204475405868,
          9.75204475405868,
          9.75204475405868,
          9.75204475405868,
          9.75204475405868,
          9.75204475405868,
          9.75204475405868,
          9.75204475405868,
          9.75204475405868,
          9.75204475405868,
          9.75204475405868,
          9.75204475405868,
          9.659613407325931,
          9.659613407325931,
          9.659613407325931,
          9.659613407325931,
          9.659613407325931,
          9.659613407325931,
          9.659613407325931,
          9.659613407325931,
          9.659613407325931,
          9.659613407325931,
          9.659613407325931,
          9.659613407325931,
          9.659613407325931,
          9.659613407325931,
          9.659613407325931,
          9.659613407325931,
          9.659613407325931,
          9.659613407325931,
          9.659613407325931,
          9.659613407325931,
          9.659613407325931,
          9.554563844538638,
          9.554563844538638,
          9.554563844538638,
          9.554563844538638,
          9.554563844538638,
          9.554563844538638,
          9.554563844538638,
          9.554563844538638,
          9.554563844538638,
          9.554563844538638,
          9.554563844538638,
          9.554563844538638,
          9.554563844538638,
          9.554563844538638,
          9.554563844538638,
          9.554563844538638,
          9.554563844538638,
          9.554563844538638,
          9.554563844538638,
          9.554563844538638,
          9.554563844538638,
          9.448044925847197,
          9.448044925847197,
          9.448044925847197,
          9.448044925847197,
          9.448044925847197,
          9.448044925847197,
          9.448044925847197,
          9.448044925847197,
          9.448044925847197,
          9.448044925847197,
          9.448044925847197,
          9.448044925847197,
          9.448044925847197,
          9.448044925847197,
          9.448044925847197,
          9.448044925847197,
          9.448044925847197,
          9.448044925847197,
          9.448044925847197,
          9.448044925847197,
          9.448044925847197,
          9.355417445484562,
          9.355417445484562,
          9.355417445484562,
          9.355417445484562,
          9.355417445484562,
          9.355417445484562,
          9.355417445484562,
          9.355417445484562,
          9.355417445484562,
          9.355417445484562,
          9.355417445484562,
          9.355417445484562,
          9.355417445484562,
          9.355417445484562,
          9.355417445484562,
          9.355417445484562,
          9.355417445484562,
          9.355417445484562,
          9.355417445484562,
          9.355417445484562,
          9.355417445484562,
          9.330054753171279,
          9.330054753171279,
          9.330054753171279,
          9.330054753171279,
          9.330054753171279,
          9.330054753171279,
          9.330054753171279,
          9.330054753171279,
          9.330054753171279,
          9.330054753171279,
          9.330054753171279,
          9.330054753171279,
          9.330054753171279,
          9.330054753171279,
          9.330054753171279,
          9.330054753171279,
          9.330054753171279,
          9.330054753171279,
          9.330054753171279,
          9.330054753171279,
          9.330054753171279,
          9.436315367417587,
          9.436315367417587,
          9.436315367417587,
          9.436315367417587,
          9.436315367417587,
          9.436315367417587,
          9.436315367417587,
          9.436315367417587,
          9.436315367417587,
          9.436315367417587,
          9.436315367417587,
          9.436315367417587,
          9.436315367417587,
          9.436315367417587,
          9.436315367417587,
          9.436315367417587,
          9.436315367417587,
          9.436315367417587,
          9.436315367417587,
          9.436315367417587,
          9.436315367417587,
          9.701393003064664,
          9.701393003064664,
          9.701393003064664,
          9.701393003064664,
          9.701393003064664,
          9.701393003064664,
          9.701393003064664,
          9.701393003064664,
          9.701393003064664,
          9.701393003064664,
          9.701393003064664,
          9.701393003064664,
          9.701393003064664,
          9.701393003064664,
          9.701393003064664,
          9.701393003064664,
          9.701393003064664,
          9.701393003064664,
          9.701393003064664,
          9.701393003064664,
          9.701393003064664,
          9.940828503855998,
          9.940828503855998,
          9.940828503855998,
          9.940828503855998,
          9.940828503855998,
          9.940828503855998,
          9.940828503855998,
          9.940828503855998,
          9.940828503855998,
          9.940828503855998,
          9.940828503855998,
          9.940828503855998,
          9.940828503855998,
          9.940828503855998,
          9.940828503855998,
          9.940828503855998,
          9.940828503855998,
          9.940828503855998,
          9.940828503855998,
          9.940828503855998,
          9.940828503855998,
          10.122264095840881,
          10.122264095840881,
          10.122264095840881,
          10.122264095840881,
          10.122264095840881,
          10.122264095840881,
          10.122264095840881,
          10.122264095840881,
          10.122264095840881,
          10.122264095840881,
          10.122264095840881,
          10.122264095840881,
          10.122264095840881,
          10.122264095840881,
          10.122264095840881,
          10.122264095840881,
          10.122264095840881,
          10.122264095840881,
          10.122264095840881,
          10.122264095840881,
          10.122264095840881,
          10.302374369517166,
          10.302374369517166,
          10.302374369517166,
          10.302374369517166,
          10.302374369517166,
          10.302374369517166,
          10.302374369517166,
          10.302374369517166,
          10.302374369517166,
          10.302374369517166,
          10.302374369517166,
          10.302374369517166,
          10.302374369517166,
          10.302374369517166,
          10.302374369517166,
          10.302374369517166,
          10.302374369517166,
          10.45709755589337,
          10.45709755589337
         ],
         "yaxis": "y"
        }
       ],
       "layout": {
        "legend": {
         "tracegroupgap": 0
        },
        "template": {
         "data": {
          "bar": [
           {
            "error_x": {
             "color": "#2a3f5f"
            },
            "error_y": {
             "color": "#2a3f5f"
            },
            "marker": {
             "line": {
              "color": "#E5ECF6",
              "width": 0.5
             },
             "pattern": {
              "fillmode": "overlay",
              "size": 10,
              "solidity": 0.2
             }
            },
            "type": "bar"
           }
          ],
          "barpolar": [
           {
            "marker": {
             "line": {
              "color": "#E5ECF6",
              "width": 0.5
             },
             "pattern": {
              "fillmode": "overlay",
              "size": 10,
              "solidity": 0.2
             }
            },
            "type": "barpolar"
           }
          ],
          "carpet": [
           {
            "aaxis": {
             "endlinecolor": "#2a3f5f",
             "gridcolor": "white",
             "linecolor": "white",
             "minorgridcolor": "white",
             "startlinecolor": "#2a3f5f"
            },
            "baxis": {
             "endlinecolor": "#2a3f5f",
             "gridcolor": "white",
             "linecolor": "white",
             "minorgridcolor": "white",
             "startlinecolor": "#2a3f5f"
            },
            "type": "carpet"
           }
          ],
          "choropleth": [
           {
            "colorbar": {
             "outlinewidth": 0,
             "ticks": ""
            },
            "type": "choropleth"
           }
          ],
          "contour": [
           {
            "colorbar": {
             "outlinewidth": 0,
             "ticks": ""
            },
            "colorscale": [
             [
              0,
              "#0d0887"
             ],
             [
              0.1111111111111111,
              "#46039f"
             ],
             [
              0.2222222222222222,
              "#7201a8"
             ],
             [
              0.3333333333333333,
              "#9c179e"
             ],
             [
              0.4444444444444444,
              "#bd3786"
             ],
             [
              0.5555555555555556,
              "#d8576b"
             ],
             [
              0.6666666666666666,
              "#ed7953"
             ],
             [
              0.7777777777777778,
              "#fb9f3a"
             ],
             [
              0.8888888888888888,
              "#fdca26"
             ],
             [
              1,
              "#f0f921"
             ]
            ],
            "type": "contour"
           }
          ],
          "contourcarpet": [
           {
            "colorbar": {
             "outlinewidth": 0,
             "ticks": ""
            },
            "type": "contourcarpet"
           }
          ],
          "heatmap": [
           {
            "colorbar": {
             "outlinewidth": 0,
             "ticks": ""
            },
            "colorscale": [
             [
              0,
              "#0d0887"
             ],
             [
              0.1111111111111111,
              "#46039f"
             ],
             [
              0.2222222222222222,
              "#7201a8"
             ],
             [
              0.3333333333333333,
              "#9c179e"
             ],
             [
              0.4444444444444444,
              "#bd3786"
             ],
             [
              0.5555555555555556,
              "#d8576b"
             ],
             [
              0.6666666666666666,
              "#ed7953"
             ],
             [
              0.7777777777777778,
              "#fb9f3a"
             ],
             [
              0.8888888888888888,
              "#fdca26"
             ],
             [
              1,
              "#f0f921"
             ]
            ],
            "type": "heatmap"
           }
          ],
          "heatmapgl": [
           {
            "colorbar": {
             "outlinewidth": 0,
             "ticks": ""
            },
            "colorscale": [
             [
              0,
              "#0d0887"
             ],
             [
              0.1111111111111111,
              "#46039f"
             ],
             [
              0.2222222222222222,
              "#7201a8"
             ],
             [
              0.3333333333333333,
              "#9c179e"
             ],
             [
              0.4444444444444444,
              "#bd3786"
             ],
             [
              0.5555555555555556,
              "#d8576b"
             ],
             [
              0.6666666666666666,
              "#ed7953"
             ],
             [
              0.7777777777777778,
              "#fb9f3a"
             ],
             [
              0.8888888888888888,
              "#fdca26"
             ],
             [
              1,
              "#f0f921"
             ]
            ],
            "type": "heatmapgl"
           }
          ],
          "histogram": [
           {
            "marker": {
             "pattern": {
              "fillmode": "overlay",
              "size": 10,
              "solidity": 0.2
             }
            },
            "type": "histogram"
           }
          ],
          "histogram2d": [
           {
            "colorbar": {
             "outlinewidth": 0,
             "ticks": ""
            },
            "colorscale": [
             [
              0,
              "#0d0887"
             ],
             [
              0.1111111111111111,
              "#46039f"
             ],
             [
              0.2222222222222222,
              "#7201a8"
             ],
             [
              0.3333333333333333,
              "#9c179e"
             ],
             [
              0.4444444444444444,
              "#bd3786"
             ],
             [
              0.5555555555555556,
              "#d8576b"
             ],
             [
              0.6666666666666666,
              "#ed7953"
             ],
             [
              0.7777777777777778,
              "#fb9f3a"
             ],
             [
              0.8888888888888888,
              "#fdca26"
             ],
             [
              1,
              "#f0f921"
             ]
            ],
            "type": "histogram2d"
           }
          ],
          "histogram2dcontour": [
           {
            "colorbar": {
             "outlinewidth": 0,
             "ticks": ""
            },
            "colorscale": [
             [
              0,
              "#0d0887"
             ],
             [
              0.1111111111111111,
              "#46039f"
             ],
             [
              0.2222222222222222,
              "#7201a8"
             ],
             [
              0.3333333333333333,
              "#9c179e"
             ],
             [
              0.4444444444444444,
              "#bd3786"
             ],
             [
              0.5555555555555556,
              "#d8576b"
             ],
             [
              0.6666666666666666,
              "#ed7953"
             ],
             [
              0.7777777777777778,
              "#fb9f3a"
             ],
             [
              0.8888888888888888,
              "#fdca26"
             ],
             [
              1,
              "#f0f921"
             ]
            ],
            "type": "histogram2dcontour"
           }
          ],
          "mesh3d": [
           {
            "colorbar": {
             "outlinewidth": 0,
             "ticks": ""
            },
            "type": "mesh3d"
           }
          ],
          "parcoords": [
           {
            "line": {
             "colorbar": {
              "outlinewidth": 0,
              "ticks": ""
             }
            },
            "type": "parcoords"
           }
          ],
          "pie": [
           {
            "automargin": true,
            "type": "pie"
           }
          ],
          "scatter": [
           {
            "fillpattern": {
             "fillmode": "overlay",
             "size": 10,
             "solidity": 0.2
            },
            "type": "scatter"
           }
          ],
          "scatter3d": [
           {
            "line": {
             "colorbar": {
              "outlinewidth": 0,
              "ticks": ""
             }
            },
            "marker": {
             "colorbar": {
              "outlinewidth": 0,
              "ticks": ""
             }
            },
            "type": "scatter3d"
           }
          ],
          "scattercarpet": [
           {
            "marker": {
             "colorbar": {
              "outlinewidth": 0,
              "ticks": ""
             }
            },
            "type": "scattercarpet"
           }
          ],
          "scattergeo": [
           {
            "marker": {
             "colorbar": {
              "outlinewidth": 0,
              "ticks": ""
             }
            },
            "type": "scattergeo"
           }
          ],
          "scattergl": [
           {
            "marker": {
             "colorbar": {
              "outlinewidth": 0,
              "ticks": ""
             }
            },
            "type": "scattergl"
           }
          ],
          "scattermapbox": [
           {
            "marker": {
             "colorbar": {
              "outlinewidth": 0,
              "ticks": ""
             }
            },
            "type": "scattermapbox"
           }
          ],
          "scatterpolar": [
           {
            "marker": {
             "colorbar": {
              "outlinewidth": 0,
              "ticks": ""
             }
            },
            "type": "scatterpolar"
           }
          ],
          "scatterpolargl": [
           {
            "marker": {
             "colorbar": {
              "outlinewidth": 0,
              "ticks": ""
             }
            },
            "type": "scatterpolargl"
           }
          ],
          "scatterternary": [
           {
            "marker": {
             "colorbar": {
              "outlinewidth": 0,
              "ticks": ""
             }
            },
            "type": "scatterternary"
           }
          ],
          "surface": [
           {
            "colorbar": {
             "outlinewidth": 0,
             "ticks": ""
            },
            "colorscale": [
             [
              0,
              "#0d0887"
             ],
             [
              0.1111111111111111,
              "#46039f"
             ],
             [
              0.2222222222222222,
              "#7201a8"
             ],
             [
              0.3333333333333333,
              "#9c179e"
             ],
             [
              0.4444444444444444,
              "#bd3786"
             ],
             [
              0.5555555555555556,
              "#d8576b"
             ],
             [
              0.6666666666666666,
              "#ed7953"
             ],
             [
              0.7777777777777778,
              "#fb9f3a"
             ],
             [
              0.8888888888888888,
              "#fdca26"
             ],
             [
              1,
              "#f0f921"
             ]
            ],
            "type": "surface"
           }
          ],
          "table": [
           {
            "cells": {
             "fill": {
              "color": "#EBF0F8"
             },
             "line": {
              "color": "white"
             }
            },
            "header": {
             "fill": {
              "color": "#C8D4E3"
             },
             "line": {
              "color": "white"
             }
            },
            "type": "table"
           }
          ]
         },
         "layout": {
          "annotationdefaults": {
           "arrowcolor": "#2a3f5f",
           "arrowhead": 0,
           "arrowwidth": 1
          },
          "autotypenumbers": "strict",
          "coloraxis": {
           "colorbar": {
            "outlinewidth": 0,
            "ticks": ""
           }
          },
          "colorscale": {
           "diverging": [
            [
             0,
             "#8e0152"
            ],
            [
             0.1,
             "#c51b7d"
            ],
            [
             0.2,
             "#de77ae"
            ],
            [
             0.3,
             "#f1b6da"
            ],
            [
             0.4,
             "#fde0ef"
            ],
            [
             0.5,
             "#f7f7f7"
            ],
            [
             0.6,
             "#e6f5d0"
            ],
            [
             0.7,
             "#b8e186"
            ],
            [
             0.8,
             "#7fbc41"
            ],
            [
             0.9,
             "#4d9221"
            ],
            [
             1,
             "#276419"
            ]
           ],
           "sequential": [
            [
             0,
             "#0d0887"
            ],
            [
             0.1111111111111111,
             "#46039f"
            ],
            [
             0.2222222222222222,
             "#7201a8"
            ],
            [
             0.3333333333333333,
             "#9c179e"
            ],
            [
             0.4444444444444444,
             "#bd3786"
            ],
            [
             0.5555555555555556,
             "#d8576b"
            ],
            [
             0.6666666666666666,
             "#ed7953"
            ],
            [
             0.7777777777777778,
             "#fb9f3a"
            ],
            [
             0.8888888888888888,
             "#fdca26"
            ],
            [
             1,
             "#f0f921"
            ]
           ],
           "sequentialminus": [
            [
             0,
             "#0d0887"
            ],
            [
             0.1111111111111111,
             "#46039f"
            ],
            [
             0.2222222222222222,
             "#7201a8"
            ],
            [
             0.3333333333333333,
             "#9c179e"
            ],
            [
             0.4444444444444444,
             "#bd3786"
            ],
            [
             0.5555555555555556,
             "#d8576b"
            ],
            [
             0.6666666666666666,
             "#ed7953"
            ],
            [
             0.7777777777777778,
             "#fb9f3a"
            ],
            [
             0.8888888888888888,
             "#fdca26"
            ],
            [
             1,
             "#f0f921"
            ]
           ]
          },
          "colorway": [
           "#636efa",
           "#EF553B",
           "#00cc96",
           "#ab63fa",
           "#FFA15A",
           "#19d3f3",
           "#FF6692",
           "#B6E880",
           "#FF97FF",
           "#FECB52"
          ],
          "font": {
           "color": "#2a3f5f"
          },
          "geo": {
           "bgcolor": "white",
           "lakecolor": "white",
           "landcolor": "#E5ECF6",
           "showlakes": true,
           "showland": true,
           "subunitcolor": "white"
          },
          "hoverlabel": {
           "align": "left"
          },
          "hovermode": "closest",
          "mapbox": {
           "style": "light"
          },
          "paper_bgcolor": "white",
          "plot_bgcolor": "#E5ECF6",
          "polar": {
           "angularaxis": {
            "gridcolor": "white",
            "linecolor": "white",
            "ticks": ""
           },
           "bgcolor": "#E5ECF6",
           "radialaxis": {
            "gridcolor": "white",
            "linecolor": "white",
            "ticks": ""
           }
          },
          "scene": {
           "xaxis": {
            "backgroundcolor": "#E5ECF6",
            "gridcolor": "white",
            "gridwidth": 2,
            "linecolor": "white",
            "showbackground": true,
            "ticks": "",
            "zerolinecolor": "white"
           },
           "yaxis": {
            "backgroundcolor": "#E5ECF6",
            "gridcolor": "white",
            "gridwidth": 2,
            "linecolor": "white",
            "showbackground": true,
            "ticks": "",
            "zerolinecolor": "white"
           },
           "zaxis": {
            "backgroundcolor": "#E5ECF6",
            "gridcolor": "white",
            "gridwidth": 2,
            "linecolor": "white",
            "showbackground": true,
            "ticks": "",
            "zerolinecolor": "white"
           }
          },
          "shapedefaults": {
           "line": {
            "color": "#2a3f5f"
           }
          },
          "ternary": {
           "aaxis": {
            "gridcolor": "white",
            "linecolor": "white",
            "ticks": ""
           },
           "baxis": {
            "gridcolor": "white",
            "linecolor": "white",
            "ticks": ""
           },
           "bgcolor": "#E5ECF6",
           "caxis": {
            "gridcolor": "white",
            "linecolor": "white",
            "ticks": ""
           }
          },
          "title": {
           "x": 0.05
          },
          "xaxis": {
           "automargin": true,
           "gridcolor": "white",
           "linecolor": "white",
           "ticks": "",
           "title": {
            "standoff": 15
           },
           "zerolinecolor": "white",
           "zerolinewidth": 2
          },
          "yaxis": {
           "automargin": true,
           "gridcolor": "white",
           "linecolor": "white",
           "ticks": "",
           "title": {
            "standoff": 15
           },
           "zerolinecolor": "white",
           "zerolinewidth": 2
          }
         }
        },
        "title": {
         "text": "total study_time over weeks"
        },
        "xaxis": {
         "anchor": "y",
         "domain": [
          0,
          1
         ],
         "title": {
          "text": "week"
         }
        },
        "yaxis": {
         "anchor": "x",
         "domain": [
          0,
          1
         ],
         "title": {
          "text": "total"
         }
        }
       }
      }
     },
     "metadata": {},
     "output_type": "display_data"
    }
   ],
   "source": [
    "graph = clean_study[clean_study['week']!=0]\n",
    "px.scatter(graph, x='week',y='total', title='total study_time over weeks',trendline='lowess')"
   ]
  },
  {
   "cell_type": "code",
   "execution_count": 125,
   "metadata": {},
   "outputs": [
    {
     "data": {
      "application/vnd.plotly.v1+json": {
       "config": {
        "plotlyServerURL": "https://plot.ly"
       },
       "data": [
        {
         "hovertemplate": "week=%{x}<br>total=%{y}<extra></extra>",
         "legendgroup": "",
         "marker": {
          "color": "#636efa",
          "symbol": "circle"
         },
         "mode": "markers",
         "name": "",
         "orientation": "v",
         "showlegend": false,
         "type": "scatter",
         "x": [
          0,
          1,
          2,
          3,
          4,
          5,
          6,
          7,
          8,
          9,
          10,
          11,
          12
         ],
         "xaxis": "x",
         "y": [
          104.28333333333333,
          137,
          199.23333333333335,
          207.41666666666666,
          202.01666666666665,
          181.03333333333333,
          178.83333333333334,
          193.25,
          190.08333333333334,
          205.83333333333334,
          234.16666666666666,
          165.1,
          12.583333333333332
         ],
         "yaxis": "y"
        },
        {
         "hovertemplate": "<b>OLS trendline</b><br>total = -1.57344 * week + 179.505<br>R<sup>2</sup>=0.011254<br><br>week=%{x}<br>total=%{y} <b>(trend)</b><extra></extra>",
         "legendgroup": "",
         "marker": {
          "color": "#636efa",
          "symbol": "circle"
         },
         "mode": "lines",
         "name": "",
         "showlegend": false,
         "type": "scatter",
         "x": [
          0,
          1,
          2,
          3,
          4,
          5,
          6,
          7,
          8,
          9,
          10,
          11,
          12
         ],
         "xaxis": "x",
         "y": [
          179.50476190476198,
          177.93131868131874,
          176.35787545787554,
          174.7844322344323,
          173.2109890109891,
          171.63754578754586,
          170.06410256410263,
          168.49065934065942,
          166.91721611721619,
          165.34377289377298,
          163.77032967032974,
          162.1968864468865,
          160.6234432234433
         ],
         "yaxis": "y"
        }
       ],
       "layout": {
        "legend": {
         "tracegroupgap": 0
        },
        "template": {
         "data": {
          "bar": [
           {
            "error_x": {
             "color": "#2a3f5f"
            },
            "error_y": {
             "color": "#2a3f5f"
            },
            "marker": {
             "line": {
              "color": "#E5ECF6",
              "width": 0.5
             },
             "pattern": {
              "fillmode": "overlay",
              "size": 10,
              "solidity": 0.2
             }
            },
            "type": "bar"
           }
          ],
          "barpolar": [
           {
            "marker": {
             "line": {
              "color": "#E5ECF6",
              "width": 0.5
             },
             "pattern": {
              "fillmode": "overlay",
              "size": 10,
              "solidity": 0.2
             }
            },
            "type": "barpolar"
           }
          ],
          "carpet": [
           {
            "aaxis": {
             "endlinecolor": "#2a3f5f",
             "gridcolor": "white",
             "linecolor": "white",
             "minorgridcolor": "white",
             "startlinecolor": "#2a3f5f"
            },
            "baxis": {
             "endlinecolor": "#2a3f5f",
             "gridcolor": "white",
             "linecolor": "white",
             "minorgridcolor": "white",
             "startlinecolor": "#2a3f5f"
            },
            "type": "carpet"
           }
          ],
          "choropleth": [
           {
            "colorbar": {
             "outlinewidth": 0,
             "ticks": ""
            },
            "type": "choropleth"
           }
          ],
          "contour": [
           {
            "colorbar": {
             "outlinewidth": 0,
             "ticks": ""
            },
            "colorscale": [
             [
              0,
              "#0d0887"
             ],
             [
              0.1111111111111111,
              "#46039f"
             ],
             [
              0.2222222222222222,
              "#7201a8"
             ],
             [
              0.3333333333333333,
              "#9c179e"
             ],
             [
              0.4444444444444444,
              "#bd3786"
             ],
             [
              0.5555555555555556,
              "#d8576b"
             ],
             [
              0.6666666666666666,
              "#ed7953"
             ],
             [
              0.7777777777777778,
              "#fb9f3a"
             ],
             [
              0.8888888888888888,
              "#fdca26"
             ],
             [
              1,
              "#f0f921"
             ]
            ],
            "type": "contour"
           }
          ],
          "contourcarpet": [
           {
            "colorbar": {
             "outlinewidth": 0,
             "ticks": ""
            },
            "type": "contourcarpet"
           }
          ],
          "heatmap": [
           {
            "colorbar": {
             "outlinewidth": 0,
             "ticks": ""
            },
            "colorscale": [
             [
              0,
              "#0d0887"
             ],
             [
              0.1111111111111111,
              "#46039f"
             ],
             [
              0.2222222222222222,
              "#7201a8"
             ],
             [
              0.3333333333333333,
              "#9c179e"
             ],
             [
              0.4444444444444444,
              "#bd3786"
             ],
             [
              0.5555555555555556,
              "#d8576b"
             ],
             [
              0.6666666666666666,
              "#ed7953"
             ],
             [
              0.7777777777777778,
              "#fb9f3a"
             ],
             [
              0.8888888888888888,
              "#fdca26"
             ],
             [
              1,
              "#f0f921"
             ]
            ],
            "type": "heatmap"
           }
          ],
          "heatmapgl": [
           {
            "colorbar": {
             "outlinewidth": 0,
             "ticks": ""
            },
            "colorscale": [
             [
              0,
              "#0d0887"
             ],
             [
              0.1111111111111111,
              "#46039f"
             ],
             [
              0.2222222222222222,
              "#7201a8"
             ],
             [
              0.3333333333333333,
              "#9c179e"
             ],
             [
              0.4444444444444444,
              "#bd3786"
             ],
             [
              0.5555555555555556,
              "#d8576b"
             ],
             [
              0.6666666666666666,
              "#ed7953"
             ],
             [
              0.7777777777777778,
              "#fb9f3a"
             ],
             [
              0.8888888888888888,
              "#fdca26"
             ],
             [
              1,
              "#f0f921"
             ]
            ],
            "type": "heatmapgl"
           }
          ],
          "histogram": [
           {
            "marker": {
             "pattern": {
              "fillmode": "overlay",
              "size": 10,
              "solidity": 0.2
             }
            },
            "type": "histogram"
           }
          ],
          "histogram2d": [
           {
            "colorbar": {
             "outlinewidth": 0,
             "ticks": ""
            },
            "colorscale": [
             [
              0,
              "#0d0887"
             ],
             [
              0.1111111111111111,
              "#46039f"
             ],
             [
              0.2222222222222222,
              "#7201a8"
             ],
             [
              0.3333333333333333,
              "#9c179e"
             ],
             [
              0.4444444444444444,
              "#bd3786"
             ],
             [
              0.5555555555555556,
              "#d8576b"
             ],
             [
              0.6666666666666666,
              "#ed7953"
             ],
             [
              0.7777777777777778,
              "#fb9f3a"
             ],
             [
              0.8888888888888888,
              "#fdca26"
             ],
             [
              1,
              "#f0f921"
             ]
            ],
            "type": "histogram2d"
           }
          ],
          "histogram2dcontour": [
           {
            "colorbar": {
             "outlinewidth": 0,
             "ticks": ""
            },
            "colorscale": [
             [
              0,
              "#0d0887"
             ],
             [
              0.1111111111111111,
              "#46039f"
             ],
             [
              0.2222222222222222,
              "#7201a8"
             ],
             [
              0.3333333333333333,
              "#9c179e"
             ],
             [
              0.4444444444444444,
              "#bd3786"
             ],
             [
              0.5555555555555556,
              "#d8576b"
             ],
             [
              0.6666666666666666,
              "#ed7953"
             ],
             [
              0.7777777777777778,
              "#fb9f3a"
             ],
             [
              0.8888888888888888,
              "#fdca26"
             ],
             [
              1,
              "#f0f921"
             ]
            ],
            "type": "histogram2dcontour"
           }
          ],
          "mesh3d": [
           {
            "colorbar": {
             "outlinewidth": 0,
             "ticks": ""
            },
            "type": "mesh3d"
           }
          ],
          "parcoords": [
           {
            "line": {
             "colorbar": {
              "outlinewidth": 0,
              "ticks": ""
             }
            },
            "type": "parcoords"
           }
          ],
          "pie": [
           {
            "automargin": true,
            "type": "pie"
           }
          ],
          "scatter": [
           {
            "fillpattern": {
             "fillmode": "overlay",
             "size": 10,
             "solidity": 0.2
            },
            "type": "scatter"
           }
          ],
          "scatter3d": [
           {
            "line": {
             "colorbar": {
              "outlinewidth": 0,
              "ticks": ""
             }
            },
            "marker": {
             "colorbar": {
              "outlinewidth": 0,
              "ticks": ""
             }
            },
            "type": "scatter3d"
           }
          ],
          "scattercarpet": [
           {
            "marker": {
             "colorbar": {
              "outlinewidth": 0,
              "ticks": ""
             }
            },
            "type": "scattercarpet"
           }
          ],
          "scattergeo": [
           {
            "marker": {
             "colorbar": {
              "outlinewidth": 0,
              "ticks": ""
             }
            },
            "type": "scattergeo"
           }
          ],
          "scattergl": [
           {
            "marker": {
             "colorbar": {
              "outlinewidth": 0,
              "ticks": ""
             }
            },
            "type": "scattergl"
           }
          ],
          "scattermapbox": [
           {
            "marker": {
             "colorbar": {
              "outlinewidth": 0,
              "ticks": ""
             }
            },
            "type": "scattermapbox"
           }
          ],
          "scatterpolar": [
           {
            "marker": {
             "colorbar": {
              "outlinewidth": 0,
              "ticks": ""
             }
            },
            "type": "scatterpolar"
           }
          ],
          "scatterpolargl": [
           {
            "marker": {
             "colorbar": {
              "outlinewidth": 0,
              "ticks": ""
             }
            },
            "type": "scatterpolargl"
           }
          ],
          "scatterternary": [
           {
            "marker": {
             "colorbar": {
              "outlinewidth": 0,
              "ticks": ""
             }
            },
            "type": "scatterternary"
           }
          ],
          "surface": [
           {
            "colorbar": {
             "outlinewidth": 0,
             "ticks": ""
            },
            "colorscale": [
             [
              0,
              "#0d0887"
             ],
             [
              0.1111111111111111,
              "#46039f"
             ],
             [
              0.2222222222222222,
              "#7201a8"
             ],
             [
              0.3333333333333333,
              "#9c179e"
             ],
             [
              0.4444444444444444,
              "#bd3786"
             ],
             [
              0.5555555555555556,
              "#d8576b"
             ],
             [
              0.6666666666666666,
              "#ed7953"
             ],
             [
              0.7777777777777778,
              "#fb9f3a"
             ],
             [
              0.8888888888888888,
              "#fdca26"
             ],
             [
              1,
              "#f0f921"
             ]
            ],
            "type": "surface"
           }
          ],
          "table": [
           {
            "cells": {
             "fill": {
              "color": "#EBF0F8"
             },
             "line": {
              "color": "white"
             }
            },
            "header": {
             "fill": {
              "color": "#C8D4E3"
             },
             "line": {
              "color": "white"
             }
            },
            "type": "table"
           }
          ]
         },
         "layout": {
          "annotationdefaults": {
           "arrowcolor": "#2a3f5f",
           "arrowhead": 0,
           "arrowwidth": 1
          },
          "autotypenumbers": "strict",
          "coloraxis": {
           "colorbar": {
            "outlinewidth": 0,
            "ticks": ""
           }
          },
          "colorscale": {
           "diverging": [
            [
             0,
             "#8e0152"
            ],
            [
             0.1,
             "#c51b7d"
            ],
            [
             0.2,
             "#de77ae"
            ],
            [
             0.3,
             "#f1b6da"
            ],
            [
             0.4,
             "#fde0ef"
            ],
            [
             0.5,
             "#f7f7f7"
            ],
            [
             0.6,
             "#e6f5d0"
            ],
            [
             0.7,
             "#b8e186"
            ],
            [
             0.8,
             "#7fbc41"
            ],
            [
             0.9,
             "#4d9221"
            ],
            [
             1,
             "#276419"
            ]
           ],
           "sequential": [
            [
             0,
             "#0d0887"
            ],
            [
             0.1111111111111111,
             "#46039f"
            ],
            [
             0.2222222222222222,
             "#7201a8"
            ],
            [
             0.3333333333333333,
             "#9c179e"
            ],
            [
             0.4444444444444444,
             "#bd3786"
            ],
            [
             0.5555555555555556,
             "#d8576b"
            ],
            [
             0.6666666666666666,
             "#ed7953"
            ],
            [
             0.7777777777777778,
             "#fb9f3a"
            ],
            [
             0.8888888888888888,
             "#fdca26"
            ],
            [
             1,
             "#f0f921"
            ]
           ],
           "sequentialminus": [
            [
             0,
             "#0d0887"
            ],
            [
             0.1111111111111111,
             "#46039f"
            ],
            [
             0.2222222222222222,
             "#7201a8"
            ],
            [
             0.3333333333333333,
             "#9c179e"
            ],
            [
             0.4444444444444444,
             "#bd3786"
            ],
            [
             0.5555555555555556,
             "#d8576b"
            ],
            [
             0.6666666666666666,
             "#ed7953"
            ],
            [
             0.7777777777777778,
             "#fb9f3a"
            ],
            [
             0.8888888888888888,
             "#fdca26"
            ],
            [
             1,
             "#f0f921"
            ]
           ]
          },
          "colorway": [
           "#636efa",
           "#EF553B",
           "#00cc96",
           "#ab63fa",
           "#FFA15A",
           "#19d3f3",
           "#FF6692",
           "#B6E880",
           "#FF97FF",
           "#FECB52"
          ],
          "font": {
           "color": "#2a3f5f"
          },
          "geo": {
           "bgcolor": "white",
           "lakecolor": "white",
           "landcolor": "#E5ECF6",
           "showlakes": true,
           "showland": true,
           "subunitcolor": "white"
          },
          "hoverlabel": {
           "align": "left"
          },
          "hovermode": "closest",
          "mapbox": {
           "style": "light"
          },
          "paper_bgcolor": "white",
          "plot_bgcolor": "#E5ECF6",
          "polar": {
           "angularaxis": {
            "gridcolor": "white",
            "linecolor": "white",
            "ticks": ""
           },
           "bgcolor": "#E5ECF6",
           "radialaxis": {
            "gridcolor": "white",
            "linecolor": "white",
            "ticks": ""
           }
          },
          "scene": {
           "xaxis": {
            "backgroundcolor": "#E5ECF6",
            "gridcolor": "white",
            "gridwidth": 2,
            "linecolor": "white",
            "showbackground": true,
            "ticks": "",
            "zerolinecolor": "white"
           },
           "yaxis": {
            "backgroundcolor": "#E5ECF6",
            "gridcolor": "white",
            "gridwidth": 2,
            "linecolor": "white",
            "showbackground": true,
            "ticks": "",
            "zerolinecolor": "white"
           },
           "zaxis": {
            "backgroundcolor": "#E5ECF6",
            "gridcolor": "white",
            "gridwidth": 2,
            "linecolor": "white",
            "showbackground": true,
            "ticks": "",
            "zerolinecolor": "white"
           }
          },
          "shapedefaults": {
           "line": {
            "color": "#2a3f5f"
           }
          },
          "ternary": {
           "aaxis": {
            "gridcolor": "white",
            "linecolor": "white",
            "ticks": ""
           },
           "baxis": {
            "gridcolor": "white",
            "linecolor": "white",
            "ticks": ""
           },
           "bgcolor": "#E5ECF6",
           "caxis": {
            "gridcolor": "white",
            "linecolor": "white",
            "ticks": ""
           }
          },
          "title": {
           "x": 0.05
          },
          "xaxis": {
           "automargin": true,
           "gridcolor": "white",
           "linecolor": "white",
           "ticks": "",
           "title": {
            "standoff": 15
           },
           "zerolinecolor": "white",
           "zerolinewidth": 2
          },
          "yaxis": {
           "automargin": true,
           "gridcolor": "white",
           "linecolor": "white",
           "ticks": "",
           "title": {
            "standoff": 15
           },
           "zerolinecolor": "white",
           "zerolinewidth": 2
          }
         }
        },
        "title": {
         "text": "2023 Fall weekly study_time"
        },
        "xaxis": {
         "anchor": "y",
         "domain": [
          0,
          1
         ],
         "title": {
          "text": "week"
         }
        },
        "yaxis": {
         "anchor": "x",
         "domain": [
          0,
          1
         ],
         "title": {
          "text": "total"
         }
        }
       }
      }
     },
     "metadata": {},
     "output_type": "display_data"
    }
   ],
   "source": [
    "graph_fall_2023 = clean_study[clean_study['date'] >= pd.to_datetime('2023-9-1')].groupby('week').sum().reset_index()\n",
    "px.scatter(graph_fall_2023, x='week',y='total', title='2023 Fall weekly study_time',trendline='ols')"
   ]
  },
  {
   "cell_type": "code",
   "execution_count": 126,
   "metadata": {},
   "outputs": [
    {
     "data": {
      "application/vnd.plotly.v1+json": {
       "config": {
        "plotlyServerURL": "https://plot.ly"
       },
       "data": [
        {
         "hovertemplate": "date=%{x}<br>total=%{y}<extra></extra>",
         "legendgroup": "",
         "marker": {
          "color": "#636efa",
          "symbol": "circle"
         },
         "mode": "markers",
         "name": "",
         "orientation": "v",
         "showlegend": false,
         "type": "scatter",
         "x": [
          "2023-06-22T00:00:00",
          "2023-06-24T00:00:00",
          "2023-06-28T00:00:00",
          "2023-07-03T00:00:00",
          "2023-07-04T00:00:00",
          "2023-07-05T00:00:00",
          "2023-07-06T00:00:00",
          "2023-07-07T00:00:00",
          "2023-07-08T00:00:00",
          "2023-07-09T00:00:00",
          "2023-07-10T00:00:00",
          "2023-07-11T00:00:00",
          "2023-07-12T00:00:00",
          "2023-07-13T00:00:00",
          "2023-07-14T00:00:00",
          "2023-07-15T00:00:00",
          "2023-07-16T00:00:00",
          "2023-07-17T00:00:00",
          "2023-07-18T00:00:00",
          "2023-07-19T00:00:00",
          "2023-07-20T00:00:00",
          "2023-07-21T00:00:00",
          "2023-07-22T00:00:00",
          "2023-07-23T00:00:00",
          "2023-07-24T00:00:00",
          "2023-07-25T00:00:00",
          "2023-07-26T00:00:00",
          "2023-07-27T00:00:00",
          "2023-07-28T00:00:00",
          "2023-07-29T00:00:00",
          "2023-07-30T00:00:00",
          "2023-07-31T00:00:00",
          "2023-08-01T00:00:00",
          "2023-08-02T00:00:00",
          "2023-08-03T00:00:00",
          "2023-08-04T00:00:00",
          "2023-08-05T00:00:00",
          "2023-08-06T00:00:00",
          "2023-08-07T00:00:00",
          "2023-08-08T00:00:00",
          "2023-08-09T00:00:00",
          "2023-08-10T00:00:00",
          "2023-08-11T00:00:00",
          "2023-08-12T00:00:00",
          "2023-08-13T00:00:00",
          "2023-08-14T00:00:00",
          "2023-08-15T00:00:00",
          "2023-08-16T00:00:00",
          "2023-08-17T00:00:00",
          "2023-08-18T00:00:00",
          "2023-08-19T00:00:00",
          "2023-08-20T00:00:00"
         ],
         "xaxis": "x",
         "y": [
          3,
          3,
          6.5,
          5.833333333333333,
          5.5,
          6.333333333333333,
          6.416666666666667,
          5.166666666666667,
          4.833333333333333,
          7,
          7.75,
          7.666666666666667,
          3,
          5,
          8.416666666666666,
          6.666666666666667,
          1.75,
          7.25,
          10.5,
          8,
          3,
          5.25,
          4,
          0,
          2,
          3.25,
          11.416666666666666,
          4.416666666666667,
          6.916666666666667,
          1,
          6.833333333333333,
          8.75,
          6.833333333333333,
          8.5,
          8.333333333333334,
          9.75,
          4.333333333333333,
          2.3333333333333335,
          8.5,
          5,
          7,
          7.441666666666666,
          6.583333333333333,
          2,
          4.833333333333333,
          8.833333333333334,
          10.583333333333334,
          4.75,
          5.5,
          4,
          3.25,
          8.416666666666666
         ],
         "yaxis": "y"
        },
        {
         "hovertemplate": "<b>LOWESS trendline</b><br><br>date=%{x}<br>total=%{y} <b>(trend)</b><extra></extra>",
         "legendgroup": "",
         "marker": {
          "color": "#636efa",
          "symbol": "circle"
         },
         "mode": "lines",
         "name": "",
         "showlegend": false,
         "type": "scatter",
         "x": [
          "2023-06-22T00:00:00",
          "2023-06-24T00:00:00",
          "2023-06-28T00:00:00",
          "2023-07-03T00:00:00",
          "2023-07-04T00:00:00",
          "2023-07-05T00:00:00",
          "2023-07-06T00:00:00",
          "2023-07-07T00:00:00",
          "2023-07-08T00:00:00",
          "2023-07-09T00:00:00",
          "2023-07-10T00:00:00",
          "2023-07-11T00:00:00",
          "2023-07-12T00:00:00",
          "2023-07-13T00:00:00",
          "2023-07-14T00:00:00",
          "2023-07-15T00:00:00",
          "2023-07-16T00:00:00",
          "2023-07-17T00:00:00",
          "2023-07-18T00:00:00",
          "2023-07-19T00:00:00",
          "2023-07-20T00:00:00",
          "2023-07-21T00:00:00",
          "2023-07-22T00:00:00",
          "2023-07-23T00:00:00",
          "2023-07-24T00:00:00",
          "2023-07-25T00:00:00",
          "2023-07-26T00:00:00",
          "2023-07-27T00:00:00",
          "2023-07-28T00:00:00",
          "2023-07-29T00:00:00",
          "2023-07-30T00:00:00",
          "2023-07-31T00:00:00",
          "2023-08-01T00:00:00",
          "2023-08-02T00:00:00",
          "2023-08-03T00:00:00",
          "2023-08-04T00:00:00",
          "2023-08-05T00:00:00",
          "2023-08-06T00:00:00",
          "2023-08-07T00:00:00",
          "2023-08-08T00:00:00",
          "2023-08-09T00:00:00",
          "2023-08-10T00:00:00",
          "2023-08-11T00:00:00",
          "2023-08-12T00:00:00",
          "2023-08-13T00:00:00",
          "2023-08-14T00:00:00",
          "2023-08-15T00:00:00",
          "2023-08-16T00:00:00",
          "2023-08-17T00:00:00",
          "2023-08-18T00:00:00",
          "2023-08-19T00:00:00",
          "2023-08-20T00:00:00"
         ],
         "xaxis": "x",
         "y": [
          4.668583113139816,
          4.829766925400096,
          5.116424172175781,
          5.429614636855868,
          5.488843574238169,
          5.54748442472739,
          5.605604712235152,
          5.662927506596801,
          5.718471450433747,
          5.769921996145901,
          5.812271214993162,
          5.835789566724748,
          5.827329031637834,
          5.779988201044025,
          5.729798486606798,
          5.685601144936559,
          5.636379853725422,
          5.617189183740115,
          5.577762479758584,
          5.538183894380875,
          5.55803765710469,
          5.592021125007467,
          5.630839714791204,
          5.669224452139676,
          5.703989627653822,
          5.73627249248136,
          5.769309444449728,
          5.803739857693599,
          5.836432142752905,
          5.867569407910902,
          5.904803008678541,
          5.9556435491085695,
          6.020553322864319,
          6.097586475993667,
          6.182154410953198,
          6.262387092077726,
          6.262389428440364,
          6.254431846604447,
          6.242660410410666,
          6.227851959377887,
          6.209979037594762,
          6.189108312678336,
          6.16529604569274,
          6.138536442752827,
          6.108909632779053,
          6.076802917617122,
          6.04266769044873,
          6.006641451895616,
          5.968550673040951,
          5.928304109574647,
          5.885943237918399,
          5.841769983780847
         ],
         "yaxis": "y"
        }
       ],
       "layout": {
        "legend": {
         "tracegroupgap": 0
        },
        "template": {
         "data": {
          "bar": [
           {
            "error_x": {
             "color": "#2a3f5f"
            },
            "error_y": {
             "color": "#2a3f5f"
            },
            "marker": {
             "line": {
              "color": "#E5ECF6",
              "width": 0.5
             },
             "pattern": {
              "fillmode": "overlay",
              "size": 10,
              "solidity": 0.2
             }
            },
            "type": "bar"
           }
          ],
          "barpolar": [
           {
            "marker": {
             "line": {
              "color": "#E5ECF6",
              "width": 0.5
             },
             "pattern": {
              "fillmode": "overlay",
              "size": 10,
              "solidity": 0.2
             }
            },
            "type": "barpolar"
           }
          ],
          "carpet": [
           {
            "aaxis": {
             "endlinecolor": "#2a3f5f",
             "gridcolor": "white",
             "linecolor": "white",
             "minorgridcolor": "white",
             "startlinecolor": "#2a3f5f"
            },
            "baxis": {
             "endlinecolor": "#2a3f5f",
             "gridcolor": "white",
             "linecolor": "white",
             "minorgridcolor": "white",
             "startlinecolor": "#2a3f5f"
            },
            "type": "carpet"
           }
          ],
          "choropleth": [
           {
            "colorbar": {
             "outlinewidth": 0,
             "ticks": ""
            },
            "type": "choropleth"
           }
          ],
          "contour": [
           {
            "colorbar": {
             "outlinewidth": 0,
             "ticks": ""
            },
            "colorscale": [
             [
              0,
              "#0d0887"
             ],
             [
              0.1111111111111111,
              "#46039f"
             ],
             [
              0.2222222222222222,
              "#7201a8"
             ],
             [
              0.3333333333333333,
              "#9c179e"
             ],
             [
              0.4444444444444444,
              "#bd3786"
             ],
             [
              0.5555555555555556,
              "#d8576b"
             ],
             [
              0.6666666666666666,
              "#ed7953"
             ],
             [
              0.7777777777777778,
              "#fb9f3a"
             ],
             [
              0.8888888888888888,
              "#fdca26"
             ],
             [
              1,
              "#f0f921"
             ]
            ],
            "type": "contour"
           }
          ],
          "contourcarpet": [
           {
            "colorbar": {
             "outlinewidth": 0,
             "ticks": ""
            },
            "type": "contourcarpet"
           }
          ],
          "heatmap": [
           {
            "colorbar": {
             "outlinewidth": 0,
             "ticks": ""
            },
            "colorscale": [
             [
              0,
              "#0d0887"
             ],
             [
              0.1111111111111111,
              "#46039f"
             ],
             [
              0.2222222222222222,
              "#7201a8"
             ],
             [
              0.3333333333333333,
              "#9c179e"
             ],
             [
              0.4444444444444444,
              "#bd3786"
             ],
             [
              0.5555555555555556,
              "#d8576b"
             ],
             [
              0.6666666666666666,
              "#ed7953"
             ],
             [
              0.7777777777777778,
              "#fb9f3a"
             ],
             [
              0.8888888888888888,
              "#fdca26"
             ],
             [
              1,
              "#f0f921"
             ]
            ],
            "type": "heatmap"
           }
          ],
          "heatmapgl": [
           {
            "colorbar": {
             "outlinewidth": 0,
             "ticks": ""
            },
            "colorscale": [
             [
              0,
              "#0d0887"
             ],
             [
              0.1111111111111111,
              "#46039f"
             ],
             [
              0.2222222222222222,
              "#7201a8"
             ],
             [
              0.3333333333333333,
              "#9c179e"
             ],
             [
              0.4444444444444444,
              "#bd3786"
             ],
             [
              0.5555555555555556,
              "#d8576b"
             ],
             [
              0.6666666666666666,
              "#ed7953"
             ],
             [
              0.7777777777777778,
              "#fb9f3a"
             ],
             [
              0.8888888888888888,
              "#fdca26"
             ],
             [
              1,
              "#f0f921"
             ]
            ],
            "type": "heatmapgl"
           }
          ],
          "histogram": [
           {
            "marker": {
             "pattern": {
              "fillmode": "overlay",
              "size": 10,
              "solidity": 0.2
             }
            },
            "type": "histogram"
           }
          ],
          "histogram2d": [
           {
            "colorbar": {
             "outlinewidth": 0,
             "ticks": ""
            },
            "colorscale": [
             [
              0,
              "#0d0887"
             ],
             [
              0.1111111111111111,
              "#46039f"
             ],
             [
              0.2222222222222222,
              "#7201a8"
             ],
             [
              0.3333333333333333,
              "#9c179e"
             ],
             [
              0.4444444444444444,
              "#bd3786"
             ],
             [
              0.5555555555555556,
              "#d8576b"
             ],
             [
              0.6666666666666666,
              "#ed7953"
             ],
             [
              0.7777777777777778,
              "#fb9f3a"
             ],
             [
              0.8888888888888888,
              "#fdca26"
             ],
             [
              1,
              "#f0f921"
             ]
            ],
            "type": "histogram2d"
           }
          ],
          "histogram2dcontour": [
           {
            "colorbar": {
             "outlinewidth": 0,
             "ticks": ""
            },
            "colorscale": [
             [
              0,
              "#0d0887"
             ],
             [
              0.1111111111111111,
              "#46039f"
             ],
             [
              0.2222222222222222,
              "#7201a8"
             ],
             [
              0.3333333333333333,
              "#9c179e"
             ],
             [
              0.4444444444444444,
              "#bd3786"
             ],
             [
              0.5555555555555556,
              "#d8576b"
             ],
             [
              0.6666666666666666,
              "#ed7953"
             ],
             [
              0.7777777777777778,
              "#fb9f3a"
             ],
             [
              0.8888888888888888,
              "#fdca26"
             ],
             [
              1,
              "#f0f921"
             ]
            ],
            "type": "histogram2dcontour"
           }
          ],
          "mesh3d": [
           {
            "colorbar": {
             "outlinewidth": 0,
             "ticks": ""
            },
            "type": "mesh3d"
           }
          ],
          "parcoords": [
           {
            "line": {
             "colorbar": {
              "outlinewidth": 0,
              "ticks": ""
             }
            },
            "type": "parcoords"
           }
          ],
          "pie": [
           {
            "automargin": true,
            "type": "pie"
           }
          ],
          "scatter": [
           {
            "fillpattern": {
             "fillmode": "overlay",
             "size": 10,
             "solidity": 0.2
            },
            "type": "scatter"
           }
          ],
          "scatter3d": [
           {
            "line": {
             "colorbar": {
              "outlinewidth": 0,
              "ticks": ""
             }
            },
            "marker": {
             "colorbar": {
              "outlinewidth": 0,
              "ticks": ""
             }
            },
            "type": "scatter3d"
           }
          ],
          "scattercarpet": [
           {
            "marker": {
             "colorbar": {
              "outlinewidth": 0,
              "ticks": ""
             }
            },
            "type": "scattercarpet"
           }
          ],
          "scattergeo": [
           {
            "marker": {
             "colorbar": {
              "outlinewidth": 0,
              "ticks": ""
             }
            },
            "type": "scattergeo"
           }
          ],
          "scattergl": [
           {
            "marker": {
             "colorbar": {
              "outlinewidth": 0,
              "ticks": ""
             }
            },
            "type": "scattergl"
           }
          ],
          "scattermapbox": [
           {
            "marker": {
             "colorbar": {
              "outlinewidth": 0,
              "ticks": ""
             }
            },
            "type": "scattermapbox"
           }
          ],
          "scatterpolar": [
           {
            "marker": {
             "colorbar": {
              "outlinewidth": 0,
              "ticks": ""
             }
            },
            "type": "scatterpolar"
           }
          ],
          "scatterpolargl": [
           {
            "marker": {
             "colorbar": {
              "outlinewidth": 0,
              "ticks": ""
             }
            },
            "type": "scatterpolargl"
           }
          ],
          "scatterternary": [
           {
            "marker": {
             "colorbar": {
              "outlinewidth": 0,
              "ticks": ""
             }
            },
            "type": "scatterternary"
           }
          ],
          "surface": [
           {
            "colorbar": {
             "outlinewidth": 0,
             "ticks": ""
            },
            "colorscale": [
             [
              0,
              "#0d0887"
             ],
             [
              0.1111111111111111,
              "#46039f"
             ],
             [
              0.2222222222222222,
              "#7201a8"
             ],
             [
              0.3333333333333333,
              "#9c179e"
             ],
             [
              0.4444444444444444,
              "#bd3786"
             ],
             [
              0.5555555555555556,
              "#d8576b"
             ],
             [
              0.6666666666666666,
              "#ed7953"
             ],
             [
              0.7777777777777778,
              "#fb9f3a"
             ],
             [
              0.8888888888888888,
              "#fdca26"
             ],
             [
              1,
              "#f0f921"
             ]
            ],
            "type": "surface"
           }
          ],
          "table": [
           {
            "cells": {
             "fill": {
              "color": "#EBF0F8"
             },
             "line": {
              "color": "white"
             }
            },
            "header": {
             "fill": {
              "color": "#C8D4E3"
             },
             "line": {
              "color": "white"
             }
            },
            "type": "table"
           }
          ]
         },
         "layout": {
          "annotationdefaults": {
           "arrowcolor": "#2a3f5f",
           "arrowhead": 0,
           "arrowwidth": 1
          },
          "autotypenumbers": "strict",
          "coloraxis": {
           "colorbar": {
            "outlinewidth": 0,
            "ticks": ""
           }
          },
          "colorscale": {
           "diverging": [
            [
             0,
             "#8e0152"
            ],
            [
             0.1,
             "#c51b7d"
            ],
            [
             0.2,
             "#de77ae"
            ],
            [
             0.3,
             "#f1b6da"
            ],
            [
             0.4,
             "#fde0ef"
            ],
            [
             0.5,
             "#f7f7f7"
            ],
            [
             0.6,
             "#e6f5d0"
            ],
            [
             0.7,
             "#b8e186"
            ],
            [
             0.8,
             "#7fbc41"
            ],
            [
             0.9,
             "#4d9221"
            ],
            [
             1,
             "#276419"
            ]
           ],
           "sequential": [
            [
             0,
             "#0d0887"
            ],
            [
             0.1111111111111111,
             "#46039f"
            ],
            [
             0.2222222222222222,
             "#7201a8"
            ],
            [
             0.3333333333333333,
             "#9c179e"
            ],
            [
             0.4444444444444444,
             "#bd3786"
            ],
            [
             0.5555555555555556,
             "#d8576b"
            ],
            [
             0.6666666666666666,
             "#ed7953"
            ],
            [
             0.7777777777777778,
             "#fb9f3a"
            ],
            [
             0.8888888888888888,
             "#fdca26"
            ],
            [
             1,
             "#f0f921"
            ]
           ],
           "sequentialminus": [
            [
             0,
             "#0d0887"
            ],
            [
             0.1111111111111111,
             "#46039f"
            ],
            [
             0.2222222222222222,
             "#7201a8"
            ],
            [
             0.3333333333333333,
             "#9c179e"
            ],
            [
             0.4444444444444444,
             "#bd3786"
            ],
            [
             0.5555555555555556,
             "#d8576b"
            ],
            [
             0.6666666666666666,
             "#ed7953"
            ],
            [
             0.7777777777777778,
             "#fb9f3a"
            ],
            [
             0.8888888888888888,
             "#fdca26"
            ],
            [
             1,
             "#f0f921"
            ]
           ]
          },
          "colorway": [
           "#636efa",
           "#EF553B",
           "#00cc96",
           "#ab63fa",
           "#FFA15A",
           "#19d3f3",
           "#FF6692",
           "#B6E880",
           "#FF97FF",
           "#FECB52"
          ],
          "font": {
           "color": "#2a3f5f"
          },
          "geo": {
           "bgcolor": "white",
           "lakecolor": "white",
           "landcolor": "#E5ECF6",
           "showlakes": true,
           "showland": true,
           "subunitcolor": "white"
          },
          "hoverlabel": {
           "align": "left"
          },
          "hovermode": "closest",
          "mapbox": {
           "style": "light"
          },
          "paper_bgcolor": "white",
          "plot_bgcolor": "#E5ECF6",
          "polar": {
           "angularaxis": {
            "gridcolor": "white",
            "linecolor": "white",
            "ticks": ""
           },
           "bgcolor": "#E5ECF6",
           "radialaxis": {
            "gridcolor": "white",
            "linecolor": "white",
            "ticks": ""
           }
          },
          "scene": {
           "xaxis": {
            "backgroundcolor": "#E5ECF6",
            "gridcolor": "white",
            "gridwidth": 2,
            "linecolor": "white",
            "showbackground": true,
            "ticks": "",
            "zerolinecolor": "white"
           },
           "yaxis": {
            "backgroundcolor": "#E5ECF6",
            "gridcolor": "white",
            "gridwidth": 2,
            "linecolor": "white",
            "showbackground": true,
            "ticks": "",
            "zerolinecolor": "white"
           },
           "zaxis": {
            "backgroundcolor": "#E5ECF6",
            "gridcolor": "white",
            "gridwidth": 2,
            "linecolor": "white",
            "showbackground": true,
            "ticks": "",
            "zerolinecolor": "white"
           }
          },
          "shapedefaults": {
           "line": {
            "color": "#2a3f5f"
           }
          },
          "ternary": {
           "aaxis": {
            "gridcolor": "white",
            "linecolor": "white",
            "ticks": ""
           },
           "baxis": {
            "gridcolor": "white",
            "linecolor": "white",
            "ticks": ""
           },
           "bgcolor": "#E5ECF6",
           "caxis": {
            "gridcolor": "white",
            "linecolor": "white",
            "ticks": ""
           }
          },
          "title": {
           "x": 0.05
          },
          "xaxis": {
           "automargin": true,
           "gridcolor": "white",
           "linecolor": "white",
           "ticks": "",
           "title": {
            "standoff": 15
           },
           "zerolinecolor": "white",
           "zerolinewidth": 2
          },
          "yaxis": {
           "automargin": true,
           "gridcolor": "white",
           "linecolor": "white",
           "ticks": "",
           "title": {
            "standoff": 15
           },
           "zerolinecolor": "white",
           "zerolinewidth": 2
          }
         }
        },
        "title": {
         "text": "2023 Summer weekly study_time"
        },
        "xaxis": {
         "anchor": "y",
         "domain": [
          0,
          1
         ],
         "title": {
          "text": "date"
         }
        },
        "yaxis": {
         "anchor": "x",
         "domain": [
          0,
          1
         ],
         "title": {
          "text": "total"
         }
        }
       }
      }
     },
     "metadata": {},
     "output_type": "display_data"
    }
   ],
   "source": [
    "graph_fall_2023 = clean_study[(clean_study['date'] >= pd.to_datetime('2023-6-20'))&(clean_study['date'] <= pd.to_datetime('2023-9-1'))]\n",
    "px.scatter(graph_fall_2023, x='date',y='total', title='2023 Summer weekly study_time',trendline='lowess')"
   ]
  },
  {
   "cell_type": "code",
   "execution_count": 127,
   "metadata": {},
   "outputs": [
    {
     "data": {
      "application/vnd.plotly.v1+json": {
       "config": {
        "plotlyServerURL": "https://plot.ly"
       },
       "data": [
        {
         "hovertemplate": "date=%{x}<br>total=%{y}<extra></extra>",
         "legendgroup": "",
         "marker": {
          "color": "#636efa",
          "symbol": "circle"
         },
         "mode": "markers",
         "name": "",
         "orientation": "v",
         "showlegend": false,
         "type": "scatter",
         "x": [
          "2023-04-03T00:00:00",
          "2023-04-04T00:00:00",
          "2023-04-05T00:00:00",
          "2023-04-06T00:00:00",
          "2023-04-07T00:00:00",
          "2023-04-08T00:00:00",
          "2023-04-09T00:00:00",
          "2023-04-10T00:00:00",
          "2023-04-11T00:00:00",
          "2023-04-12T00:00:00",
          "2023-04-13T00:00:00",
          "2023-04-14T00:00:00",
          "2023-04-15T00:00:00",
          "2023-04-16T00:00:00",
          "2023-04-17T00:00:00",
          "2023-04-18T00:00:00",
          "2023-04-19T00:00:00",
          "2023-04-20T00:00:00",
          "2023-04-21T00:00:00",
          "2023-04-22T00:00:00",
          "2023-04-23T00:00:00",
          "2023-04-24T00:00:00",
          "2023-04-25T00:00:00",
          "2023-04-26T00:00:00",
          "2023-04-27T00:00:00",
          "2023-04-28T00:00:00",
          "2023-04-29T00:00:00",
          "2023-04-30T00:00:00",
          "2023-05-01T00:00:00",
          "2023-05-02T00:00:00",
          "2023-05-03T00:00:00",
          "2023-05-04T00:00:00",
          "2023-05-05T00:00:00",
          "2023-05-06T00:00:00",
          "2023-05-07T00:00:00",
          "2023-05-08T00:00:00",
          "2023-05-09T00:00:00",
          "2023-05-10T00:00:00",
          "2023-05-11T00:00:00",
          "2023-05-12T00:00:00",
          "2023-05-13T00:00:00",
          "2023-05-14T00:00:00",
          "2023-05-15T00:00:00",
          "2023-05-16T00:00:00",
          "2023-05-17T00:00:00",
          "2023-05-18T00:00:00",
          "2023-05-19T00:00:00",
          "2023-05-20T00:00:00",
          "2023-05-21T00:00:00",
          "2023-05-22T00:00:00",
          "2023-05-23T00:00:00",
          "2023-05-24T00:00:00",
          "2023-05-25T00:00:00",
          "2023-05-26T00:00:00",
          "2023-05-27T00:00:00",
          "2023-05-28T00:00:00",
          "2023-05-29T00:00:00",
          "2023-05-30T00:00:00",
          "2023-05-31T00:00:00",
          "2023-06-01T00:00:00",
          "2023-06-02T00:00:00",
          "2023-06-03T00:00:00",
          "2023-06-04T00:00:00",
          "2023-06-05T00:00:00",
          "2023-06-06T00:00:00",
          "2023-06-07T00:00:00",
          "2023-06-08T00:00:00",
          "2023-06-09T00:00:00",
          "2023-06-10T00:00:00",
          "2023-06-11T00:00:00",
          "2023-06-12T00:00:00",
          "2023-06-13T00:00:00",
          "2023-06-14T00:00:00",
          "2023-06-15T00:00:00",
          "2023-06-16T00:00:00"
         ],
         "xaxis": "x",
         "y": [
          3.5,
          3.5833333333333335,
          7.083333333333333,
          5.166666666666667,
          3.9166666666666665,
          5.25,
          4.416666666666667,
          4,
          7.416666666666667,
          5.083333333333333,
          2.25,
          5,
          6,
          5.25,
          4.416666666666667,
          8,
          5.583333333333333,
          6.333333333333333,
          3.1666666666666665,
          3.4166666666666665,
          6.333333333333333,
          5.5,
          6.666666666666667,
          3.25,
          8.75,
          4.5,
          7.666666666666667,
          8,
          6.083333333333333,
          7.166666666666667,
          9.5,
          8.5,
          3.0833333333333335,
          7.166666666666667,
          7.45,
          5.166666666666667,
          8.666666666666666,
          10.833333333333334,
          7.5,
          4.666666666666667,
          6.166666666666667,
          7.5,
          7,
          7,
          11.166666666666666,
          7.583333333333333,
          9,
          5,
          5.083333333333333,
          5.333333333333333,
          8.266666666666667,
          7.05,
          9,
          6.666666666666667,
          8.333333333333334,
          8.333333333333334,
          5,
          6.25,
          8.083333333333334,
          5.083333333333333,
          5.25,
          5.5,
          7,
          6.75,
          6.833333333333333,
          7.833333333333333,
          8.833333333333334,
          8,
          4.833333333333333,
          4.916666666666667,
          7,
          4.583333333333333,
          5.833333333333333,
          5,
          2.5
         ],
         "yaxis": "y"
        },
        {
         "hovertemplate": "<b>LOWESS trendline</b><br><br>date=%{x}<br>total=%{y} <b>(trend)</b><extra></extra>",
         "legendgroup": "",
         "marker": {
          "color": "#636efa",
          "symbol": "circle"
         },
         "mode": "lines",
         "name": "",
         "showlegend": false,
         "type": "scatter",
         "x": [
          "2023-04-03T00:00:00",
          "2023-04-04T00:00:00",
          "2023-04-05T00:00:00",
          "2023-04-06T00:00:00",
          "2023-04-07T00:00:00",
          "2023-04-08T00:00:00",
          "2023-04-09T00:00:00",
          "2023-04-10T00:00:00",
          "2023-04-11T00:00:00",
          "2023-04-12T00:00:00",
          "2023-04-13T00:00:00",
          "2023-04-14T00:00:00",
          "2023-04-15T00:00:00",
          "2023-04-16T00:00:00",
          "2023-04-17T00:00:00",
          "2023-04-18T00:00:00",
          "2023-04-19T00:00:00",
          "2023-04-20T00:00:00",
          "2023-04-21T00:00:00",
          "2023-04-22T00:00:00",
          "2023-04-23T00:00:00",
          "2023-04-24T00:00:00",
          "2023-04-25T00:00:00",
          "2023-04-26T00:00:00",
          "2023-04-27T00:00:00",
          "2023-04-28T00:00:00",
          "2023-04-29T00:00:00",
          "2023-04-30T00:00:00",
          "2023-05-01T00:00:00",
          "2023-05-02T00:00:00",
          "2023-05-03T00:00:00",
          "2023-05-04T00:00:00",
          "2023-05-05T00:00:00",
          "2023-05-06T00:00:00",
          "2023-05-07T00:00:00",
          "2023-05-08T00:00:00",
          "2023-05-09T00:00:00",
          "2023-05-10T00:00:00",
          "2023-05-11T00:00:00",
          "2023-05-12T00:00:00",
          "2023-05-13T00:00:00",
          "2023-05-14T00:00:00",
          "2023-05-15T00:00:00",
          "2023-05-16T00:00:00",
          "2023-05-17T00:00:00",
          "2023-05-18T00:00:00",
          "2023-05-19T00:00:00",
          "2023-05-20T00:00:00",
          "2023-05-21T00:00:00",
          "2023-05-22T00:00:00",
          "2023-05-23T00:00:00",
          "2023-05-24T00:00:00",
          "2023-05-25T00:00:00",
          "2023-05-26T00:00:00",
          "2023-05-27T00:00:00",
          "2023-05-28T00:00:00",
          "2023-05-29T00:00:00",
          "2023-05-30T00:00:00",
          "2023-05-31T00:00:00",
          "2023-06-01T00:00:00",
          "2023-06-02T00:00:00",
          "2023-06-03T00:00:00",
          "2023-06-04T00:00:00",
          "2023-06-05T00:00:00",
          "2023-06-06T00:00:00",
          "2023-06-07T00:00:00",
          "2023-06-08T00:00:00",
          "2023-06-09T00:00:00",
          "2023-06-10T00:00:00",
          "2023-06-11T00:00:00",
          "2023-06-12T00:00:00",
          "2023-06-13T00:00:00",
          "2023-06-14T00:00:00",
          "2023-06-15T00:00:00",
          "2023-06-16T00:00:00"
         ],
         "xaxis": "x",
         "y": [
          4.239384024397535,
          4.321745254916542,
          4.404375114834863,
          4.487330140682717,
          4.570619332176025,
          4.6542246298684145,
          4.738132111626877,
          4.822315889376168,
          4.9067529965981,
          4.991424918637302,
          5.076270430975524,
          5.161214879595571,
          5.246214113411352,
          5.331227446769,
          5.416191947513359,
          5.501036670449913,
          5.585692334517526,
          5.670034725197499,
          5.753892543445175,
          5.837045190915972,
          5.919299916531141,
          6.00054651181082,
          6.080784491339024,
          6.160367359441608,
          6.240528278372684,
          6.31528333443547,
          6.3884673348499,
          6.458660870357569,
          6.525326191224711,
          6.5885000436696055,
          6.648632903387034,
          6.706132134920987,
          6.761334646427332,
          6.8141359542224755,
          6.864264567848597,
          6.911441922227206,
          6.9551059546881,
          6.9941076861206,
          7.027050896096964,
          7.052402391826018,
          7.068825565362701,
          7.0761705668980985,
          7.075276682290738,
          7.068026963049288,
          7.056587699008214,
          7.042631608584049,
          7.02700962012756,
          7.009988727073837,
          6.991819345645675,
          6.972101324591572,
          6.950798894031627,
          6.919934778707316,
          6.880946689238538,
          6.8360335668774415,
          6.787329468439243,
          6.736134233509862,
          6.683149567710593,
          6.628768325380415,
          6.573286500651711,
          6.516926057670471,
          6.459831525882667,
          6.402137768872848,
          6.343977988458004,
          6.285468832602241,
          6.226684393783802,
          6.167660591131939,
          6.108395858213332,
          6.048836681345443,
          5.988871849476697,
          5.928356144946729,
          5.867172630213289,
          5.80523166147856,
          5.742435632621617,
          5.67871312131355,
          5.614005362230699
         ],
         "yaxis": "y"
        }
       ],
       "layout": {
        "legend": {
         "tracegroupgap": 0
        },
        "template": {
         "data": {
          "bar": [
           {
            "error_x": {
             "color": "#2a3f5f"
            },
            "error_y": {
             "color": "#2a3f5f"
            },
            "marker": {
             "line": {
              "color": "#E5ECF6",
              "width": 0.5
             },
             "pattern": {
              "fillmode": "overlay",
              "size": 10,
              "solidity": 0.2
             }
            },
            "type": "bar"
           }
          ],
          "barpolar": [
           {
            "marker": {
             "line": {
              "color": "#E5ECF6",
              "width": 0.5
             },
             "pattern": {
              "fillmode": "overlay",
              "size": 10,
              "solidity": 0.2
             }
            },
            "type": "barpolar"
           }
          ],
          "carpet": [
           {
            "aaxis": {
             "endlinecolor": "#2a3f5f",
             "gridcolor": "white",
             "linecolor": "white",
             "minorgridcolor": "white",
             "startlinecolor": "#2a3f5f"
            },
            "baxis": {
             "endlinecolor": "#2a3f5f",
             "gridcolor": "white",
             "linecolor": "white",
             "minorgridcolor": "white",
             "startlinecolor": "#2a3f5f"
            },
            "type": "carpet"
           }
          ],
          "choropleth": [
           {
            "colorbar": {
             "outlinewidth": 0,
             "ticks": ""
            },
            "type": "choropleth"
           }
          ],
          "contour": [
           {
            "colorbar": {
             "outlinewidth": 0,
             "ticks": ""
            },
            "colorscale": [
             [
              0,
              "#0d0887"
             ],
             [
              0.1111111111111111,
              "#46039f"
             ],
             [
              0.2222222222222222,
              "#7201a8"
             ],
             [
              0.3333333333333333,
              "#9c179e"
             ],
             [
              0.4444444444444444,
              "#bd3786"
             ],
             [
              0.5555555555555556,
              "#d8576b"
             ],
             [
              0.6666666666666666,
              "#ed7953"
             ],
             [
              0.7777777777777778,
              "#fb9f3a"
             ],
             [
              0.8888888888888888,
              "#fdca26"
             ],
             [
              1,
              "#f0f921"
             ]
            ],
            "type": "contour"
           }
          ],
          "contourcarpet": [
           {
            "colorbar": {
             "outlinewidth": 0,
             "ticks": ""
            },
            "type": "contourcarpet"
           }
          ],
          "heatmap": [
           {
            "colorbar": {
             "outlinewidth": 0,
             "ticks": ""
            },
            "colorscale": [
             [
              0,
              "#0d0887"
             ],
             [
              0.1111111111111111,
              "#46039f"
             ],
             [
              0.2222222222222222,
              "#7201a8"
             ],
             [
              0.3333333333333333,
              "#9c179e"
             ],
             [
              0.4444444444444444,
              "#bd3786"
             ],
             [
              0.5555555555555556,
              "#d8576b"
             ],
             [
              0.6666666666666666,
              "#ed7953"
             ],
             [
              0.7777777777777778,
              "#fb9f3a"
             ],
             [
              0.8888888888888888,
              "#fdca26"
             ],
             [
              1,
              "#f0f921"
             ]
            ],
            "type": "heatmap"
           }
          ],
          "heatmapgl": [
           {
            "colorbar": {
             "outlinewidth": 0,
             "ticks": ""
            },
            "colorscale": [
             [
              0,
              "#0d0887"
             ],
             [
              0.1111111111111111,
              "#46039f"
             ],
             [
              0.2222222222222222,
              "#7201a8"
             ],
             [
              0.3333333333333333,
              "#9c179e"
             ],
             [
              0.4444444444444444,
              "#bd3786"
             ],
             [
              0.5555555555555556,
              "#d8576b"
             ],
             [
              0.6666666666666666,
              "#ed7953"
             ],
             [
              0.7777777777777778,
              "#fb9f3a"
             ],
             [
              0.8888888888888888,
              "#fdca26"
             ],
             [
              1,
              "#f0f921"
             ]
            ],
            "type": "heatmapgl"
           }
          ],
          "histogram": [
           {
            "marker": {
             "pattern": {
              "fillmode": "overlay",
              "size": 10,
              "solidity": 0.2
             }
            },
            "type": "histogram"
           }
          ],
          "histogram2d": [
           {
            "colorbar": {
             "outlinewidth": 0,
             "ticks": ""
            },
            "colorscale": [
             [
              0,
              "#0d0887"
             ],
             [
              0.1111111111111111,
              "#46039f"
             ],
             [
              0.2222222222222222,
              "#7201a8"
             ],
             [
              0.3333333333333333,
              "#9c179e"
             ],
             [
              0.4444444444444444,
              "#bd3786"
             ],
             [
              0.5555555555555556,
              "#d8576b"
             ],
             [
              0.6666666666666666,
              "#ed7953"
             ],
             [
              0.7777777777777778,
              "#fb9f3a"
             ],
             [
              0.8888888888888888,
              "#fdca26"
             ],
             [
              1,
              "#f0f921"
             ]
            ],
            "type": "histogram2d"
           }
          ],
          "histogram2dcontour": [
           {
            "colorbar": {
             "outlinewidth": 0,
             "ticks": ""
            },
            "colorscale": [
             [
              0,
              "#0d0887"
             ],
             [
              0.1111111111111111,
              "#46039f"
             ],
             [
              0.2222222222222222,
              "#7201a8"
             ],
             [
              0.3333333333333333,
              "#9c179e"
             ],
             [
              0.4444444444444444,
              "#bd3786"
             ],
             [
              0.5555555555555556,
              "#d8576b"
             ],
             [
              0.6666666666666666,
              "#ed7953"
             ],
             [
              0.7777777777777778,
              "#fb9f3a"
             ],
             [
              0.8888888888888888,
              "#fdca26"
             ],
             [
              1,
              "#f0f921"
             ]
            ],
            "type": "histogram2dcontour"
           }
          ],
          "mesh3d": [
           {
            "colorbar": {
             "outlinewidth": 0,
             "ticks": ""
            },
            "type": "mesh3d"
           }
          ],
          "parcoords": [
           {
            "line": {
             "colorbar": {
              "outlinewidth": 0,
              "ticks": ""
             }
            },
            "type": "parcoords"
           }
          ],
          "pie": [
           {
            "automargin": true,
            "type": "pie"
           }
          ],
          "scatter": [
           {
            "fillpattern": {
             "fillmode": "overlay",
             "size": 10,
             "solidity": 0.2
            },
            "type": "scatter"
           }
          ],
          "scatter3d": [
           {
            "line": {
             "colorbar": {
              "outlinewidth": 0,
              "ticks": ""
             }
            },
            "marker": {
             "colorbar": {
              "outlinewidth": 0,
              "ticks": ""
             }
            },
            "type": "scatter3d"
           }
          ],
          "scattercarpet": [
           {
            "marker": {
             "colorbar": {
              "outlinewidth": 0,
              "ticks": ""
             }
            },
            "type": "scattercarpet"
           }
          ],
          "scattergeo": [
           {
            "marker": {
             "colorbar": {
              "outlinewidth": 0,
              "ticks": ""
             }
            },
            "type": "scattergeo"
           }
          ],
          "scattergl": [
           {
            "marker": {
             "colorbar": {
              "outlinewidth": 0,
              "ticks": ""
             }
            },
            "type": "scattergl"
           }
          ],
          "scattermapbox": [
           {
            "marker": {
             "colorbar": {
              "outlinewidth": 0,
              "ticks": ""
             }
            },
            "type": "scattermapbox"
           }
          ],
          "scatterpolar": [
           {
            "marker": {
             "colorbar": {
              "outlinewidth": 0,
              "ticks": ""
             }
            },
            "type": "scatterpolar"
           }
          ],
          "scatterpolargl": [
           {
            "marker": {
             "colorbar": {
              "outlinewidth": 0,
              "ticks": ""
             }
            },
            "type": "scatterpolargl"
           }
          ],
          "scatterternary": [
           {
            "marker": {
             "colorbar": {
              "outlinewidth": 0,
              "ticks": ""
             }
            },
            "type": "scatterternary"
           }
          ],
          "surface": [
           {
            "colorbar": {
             "outlinewidth": 0,
             "ticks": ""
            },
            "colorscale": [
             [
              0,
              "#0d0887"
             ],
             [
              0.1111111111111111,
              "#46039f"
             ],
             [
              0.2222222222222222,
              "#7201a8"
             ],
             [
              0.3333333333333333,
              "#9c179e"
             ],
             [
              0.4444444444444444,
              "#bd3786"
             ],
             [
              0.5555555555555556,
              "#d8576b"
             ],
             [
              0.6666666666666666,
              "#ed7953"
             ],
             [
              0.7777777777777778,
              "#fb9f3a"
             ],
             [
              0.8888888888888888,
              "#fdca26"
             ],
             [
              1,
              "#f0f921"
             ]
            ],
            "type": "surface"
           }
          ],
          "table": [
           {
            "cells": {
             "fill": {
              "color": "#EBF0F8"
             },
             "line": {
              "color": "white"
             }
            },
            "header": {
             "fill": {
              "color": "#C8D4E3"
             },
             "line": {
              "color": "white"
             }
            },
            "type": "table"
           }
          ]
         },
         "layout": {
          "annotationdefaults": {
           "arrowcolor": "#2a3f5f",
           "arrowhead": 0,
           "arrowwidth": 1
          },
          "autotypenumbers": "strict",
          "coloraxis": {
           "colorbar": {
            "outlinewidth": 0,
            "ticks": ""
           }
          },
          "colorscale": {
           "diverging": [
            [
             0,
             "#8e0152"
            ],
            [
             0.1,
             "#c51b7d"
            ],
            [
             0.2,
             "#de77ae"
            ],
            [
             0.3,
             "#f1b6da"
            ],
            [
             0.4,
             "#fde0ef"
            ],
            [
             0.5,
             "#f7f7f7"
            ],
            [
             0.6,
             "#e6f5d0"
            ],
            [
             0.7,
             "#b8e186"
            ],
            [
             0.8,
             "#7fbc41"
            ],
            [
             0.9,
             "#4d9221"
            ],
            [
             1,
             "#276419"
            ]
           ],
           "sequential": [
            [
             0,
             "#0d0887"
            ],
            [
             0.1111111111111111,
             "#46039f"
            ],
            [
             0.2222222222222222,
             "#7201a8"
            ],
            [
             0.3333333333333333,
             "#9c179e"
            ],
            [
             0.4444444444444444,
             "#bd3786"
            ],
            [
             0.5555555555555556,
             "#d8576b"
            ],
            [
             0.6666666666666666,
             "#ed7953"
            ],
            [
             0.7777777777777778,
             "#fb9f3a"
            ],
            [
             0.8888888888888888,
             "#fdca26"
            ],
            [
             1,
             "#f0f921"
            ]
           ],
           "sequentialminus": [
            [
             0,
             "#0d0887"
            ],
            [
             0.1111111111111111,
             "#46039f"
            ],
            [
             0.2222222222222222,
             "#7201a8"
            ],
            [
             0.3333333333333333,
             "#9c179e"
            ],
            [
             0.4444444444444444,
             "#bd3786"
            ],
            [
             0.5555555555555556,
             "#d8576b"
            ],
            [
             0.6666666666666666,
             "#ed7953"
            ],
            [
             0.7777777777777778,
             "#fb9f3a"
            ],
            [
             0.8888888888888888,
             "#fdca26"
            ],
            [
             1,
             "#f0f921"
            ]
           ]
          },
          "colorway": [
           "#636efa",
           "#EF553B",
           "#00cc96",
           "#ab63fa",
           "#FFA15A",
           "#19d3f3",
           "#FF6692",
           "#B6E880",
           "#FF97FF",
           "#FECB52"
          ],
          "font": {
           "color": "#2a3f5f"
          },
          "geo": {
           "bgcolor": "white",
           "lakecolor": "white",
           "landcolor": "#E5ECF6",
           "showlakes": true,
           "showland": true,
           "subunitcolor": "white"
          },
          "hoverlabel": {
           "align": "left"
          },
          "hovermode": "closest",
          "mapbox": {
           "style": "light"
          },
          "paper_bgcolor": "white",
          "plot_bgcolor": "#E5ECF6",
          "polar": {
           "angularaxis": {
            "gridcolor": "white",
            "linecolor": "white",
            "ticks": ""
           },
           "bgcolor": "#E5ECF6",
           "radialaxis": {
            "gridcolor": "white",
            "linecolor": "white",
            "ticks": ""
           }
          },
          "scene": {
           "xaxis": {
            "backgroundcolor": "#E5ECF6",
            "gridcolor": "white",
            "gridwidth": 2,
            "linecolor": "white",
            "showbackground": true,
            "ticks": "",
            "zerolinecolor": "white"
           },
           "yaxis": {
            "backgroundcolor": "#E5ECF6",
            "gridcolor": "white",
            "gridwidth": 2,
            "linecolor": "white",
            "showbackground": true,
            "ticks": "",
            "zerolinecolor": "white"
           },
           "zaxis": {
            "backgroundcolor": "#E5ECF6",
            "gridcolor": "white",
            "gridwidth": 2,
            "linecolor": "white",
            "showbackground": true,
            "ticks": "",
            "zerolinecolor": "white"
           }
          },
          "shapedefaults": {
           "line": {
            "color": "#2a3f5f"
           }
          },
          "ternary": {
           "aaxis": {
            "gridcolor": "white",
            "linecolor": "white",
            "ticks": ""
           },
           "baxis": {
            "gridcolor": "white",
            "linecolor": "white",
            "ticks": ""
           },
           "bgcolor": "#E5ECF6",
           "caxis": {
            "gridcolor": "white",
            "linecolor": "white",
            "ticks": ""
           }
          },
          "title": {
           "x": 0.05
          },
          "xaxis": {
           "automargin": true,
           "gridcolor": "white",
           "linecolor": "white",
           "ticks": "",
           "title": {
            "standoff": 15
           },
           "zerolinecolor": "white",
           "zerolinewidth": 2
          },
          "yaxis": {
           "automargin": true,
           "gridcolor": "white",
           "linecolor": "white",
           "ticks": "",
           "title": {
            "standoff": 15
           },
           "zerolinecolor": "white",
           "zerolinewidth": 2
          }
         }
        },
        "title": {
         "text": "2023 Spring study_time"
        },
        "xaxis": {
         "anchor": "y",
         "domain": [
          0,
          1
         ],
         "title": {
          "text": "date"
         }
        },
        "yaxis": {
         "anchor": "x",
         "domain": [
          0,
          1
         ],
         "title": {
          "text": "total"
         }
        }
       }
      }
     },
     "metadata": {},
     "output_type": "display_data"
    }
   ],
   "source": [
    "graph_fall_2023 = clean_study[(clean_study['date'] >= pd.to_datetime('2023-4-1'))&(clean_study['date'] <= pd.to_datetime('2023-6-20'))]\n",
    "px.scatter(graph_fall_2023, x='date',y='total', title='2023 Spring study_time',trendline='lowess')"
   ]
  },
  {
   "cell_type": "code",
   "execution_count": 128,
   "metadata": {},
   "outputs": [
    {
     "ename": "ValueError",
     "evalue": "Value of 'y' is not the name of a column in 'data_frame'. Expected one of ['date', 'total', 'doc1', 'cogs9', 'pp_fall22', 'exam', 'reading_winter23', 'pp_winter23', 'math20c', 'dsc20', 'bild1', 'bild22', 'cogs87', 'doc2', 'training_spring23', 'reading', 'pp_spring23', 'cogs14a', 'cogs17', 'dsc30', 'math20e', 'doc3', 'training_summer23', 'reading_summer23', 'pp_summer23', 'ds_summer_project', 'dsc40a', 'week', 'training_fall23', 'ex_phys', 'fmp_fall23', 'cogs153', 'cogs107a', 'cogs14b', 'dsc40b', 'math180a', 'kdd/ds3/tnt', 'pp_fall23', 'training_winter24', 'salk_winter24', 'cse257', 'dsc80', 'cogs107b', 'math180b', 'fmp_winter24', 'pp_winter24', 'salk_spring24', 'dsc140a', 'dsc140b', 'math180c', 'math181a', 'cogs107c', 'psyc137', 'dsc106', 'cse150b', 'fmp_spring24', 'pp_spring24', 'math18', 'dsc10', 'math20b'] but received: salk",
     "output_type": "error",
     "traceback": [
      "\u001b[0;31m---------------------------------------------------------------------------\u001b[0m",
      "\u001b[0;31mValueError\u001b[0m                                Traceback (most recent call last)",
      "Cell \u001b[0;32mIn[128], line 1\u001b[0m\n\u001b[0;32m----> 1\u001b[0m \u001b[43mpx\u001b[49m\u001b[38;5;241;43m.\u001b[39;49m\u001b[43mscatter_3d\u001b[49m\u001b[43m(\u001b[49m\u001b[43mclean_study\u001b[49m\u001b[43m,\u001b[49m\u001b[43mx\u001b[49m\u001b[38;5;241;43m=\u001b[39;49m\u001b[38;5;124;43m'\u001b[39;49m\u001b[38;5;124;43mdsc80\u001b[39;49m\u001b[38;5;124;43m'\u001b[39;49m\u001b[43m,\u001b[49m\u001b[43my\u001b[49m\u001b[38;5;241;43m=\u001b[39;49m\u001b[38;5;124;43m'\u001b[39;49m\u001b[38;5;124;43msalk\u001b[39;49m\u001b[38;5;124;43m'\u001b[39;49m\u001b[43m,\u001b[49m\u001b[43mz\u001b[49m\u001b[38;5;241;43m=\u001b[39;49m\u001b[38;5;124;43m'\u001b[39;49m\u001b[38;5;124;43mweek\u001b[39;49m\u001b[38;5;124;43m'\u001b[39;49m\u001b[43m)\u001b[49m\n",
      "File \u001b[0;32m~/miniforge3/envs/dsc80/lib/python3.8/site-packages/plotly/express/_chart_types.py:776\u001b[0m, in \u001b[0;36mscatter_3d\u001b[0;34m(data_frame, x, y, z, color, symbol, size, text, hover_name, hover_data, custom_data, error_x, error_x_minus, error_y, error_y_minus, error_z, error_z_minus, animation_frame, animation_group, category_orders, labels, size_max, color_discrete_sequence, color_discrete_map, color_continuous_scale, range_color, color_continuous_midpoint, symbol_sequence, symbol_map, opacity, log_x, log_y, log_z, range_x, range_y, range_z, title, template, width, height)\u001b[0m\n\u001b[1;32m    730\u001b[0m \u001b[38;5;28;01mdef\u001b[39;00m \u001b[38;5;21mscatter_3d\u001b[39m(\n\u001b[1;32m    731\u001b[0m     data_frame\u001b[38;5;241m=\u001b[39m\u001b[38;5;28;01mNone\u001b[39;00m,\n\u001b[1;32m    732\u001b[0m     x\u001b[38;5;241m=\u001b[39m\u001b[38;5;28;01mNone\u001b[39;00m,\n\u001b[0;32m   (...)\u001b[0m\n\u001b[1;32m    770\u001b[0m     height\u001b[38;5;241m=\u001b[39m\u001b[38;5;28;01mNone\u001b[39;00m,\n\u001b[1;32m    771\u001b[0m ) \u001b[38;5;241m-\u001b[39m\u001b[38;5;241m>\u001b[39m go\u001b[38;5;241m.\u001b[39mFigure:\n\u001b[1;32m    772\u001b[0m \u001b[38;5;250m    \u001b[39m\u001b[38;5;124;03m\"\"\"\u001b[39;00m\n\u001b[1;32m    773\u001b[0m \u001b[38;5;124;03m    In a 3D scatter plot, each row of `data_frame` is represented by a\u001b[39;00m\n\u001b[1;32m    774\u001b[0m \u001b[38;5;124;03m    symbol mark in 3D space.\u001b[39;00m\n\u001b[1;32m    775\u001b[0m \u001b[38;5;124;03m    \"\"\"\u001b[39;00m\n\u001b[0;32m--> 776\u001b[0m     \u001b[38;5;28;01mreturn\u001b[39;00m \u001b[43mmake_figure\u001b[49m\u001b[43m(\u001b[49m\u001b[43margs\u001b[49m\u001b[38;5;241;43m=\u001b[39;49m\u001b[38;5;28;43mlocals\u001b[39;49m\u001b[43m(\u001b[49m\u001b[43m)\u001b[49m\u001b[43m,\u001b[49m\u001b[43m \u001b[49m\u001b[43mconstructor\u001b[49m\u001b[38;5;241;43m=\u001b[39;49m\u001b[43mgo\u001b[49m\u001b[38;5;241;43m.\u001b[39;49m\u001b[43mScatter3d\u001b[49m\u001b[43m)\u001b[49m\n",
      "File \u001b[0;32m~/miniforge3/envs/dsc80/lib/python3.8/site-packages/plotly/express/_core.py:2076\u001b[0m, in \u001b[0;36mmake_figure\u001b[0;34m(args, constructor, trace_patch, layout_patch)\u001b[0m\n\u001b[1;32m   2073\u001b[0m layout_patch \u001b[38;5;241m=\u001b[39m layout_patch \u001b[38;5;129;01mor\u001b[39;00m {}\n\u001b[1;32m   2074\u001b[0m apply_default_cascade(args)\n\u001b[0;32m-> 2076\u001b[0m args \u001b[38;5;241m=\u001b[39m \u001b[43mbuild_dataframe\u001b[49m\u001b[43m(\u001b[49m\u001b[43margs\u001b[49m\u001b[43m,\u001b[49m\u001b[43m \u001b[49m\u001b[43mconstructor\u001b[49m\u001b[43m)\u001b[49m\n\u001b[1;32m   2077\u001b[0m \u001b[38;5;28;01mif\u001b[39;00m constructor \u001b[38;5;129;01min\u001b[39;00m [go\u001b[38;5;241m.\u001b[39mTreemap, go\u001b[38;5;241m.\u001b[39mSunburst, go\u001b[38;5;241m.\u001b[39mIcicle] \u001b[38;5;129;01mand\u001b[39;00m args[\u001b[38;5;124m\"\u001b[39m\u001b[38;5;124mpath\u001b[39m\u001b[38;5;124m\"\u001b[39m] \u001b[38;5;129;01mis\u001b[39;00m \u001b[38;5;129;01mnot\u001b[39;00m \u001b[38;5;28;01mNone\u001b[39;00m:\n\u001b[1;32m   2078\u001b[0m     args \u001b[38;5;241m=\u001b[39m process_dataframe_hierarchy(args)\n",
      "File \u001b[0;32m~/miniforge3/envs/dsc80/lib/python3.8/site-packages/plotly/express/_core.py:1485\u001b[0m, in \u001b[0;36mbuild_dataframe\u001b[0;34m(args, constructor)\u001b[0m\n\u001b[1;32m   1482\u001b[0m     args[\u001b[38;5;124m\"\u001b[39m\u001b[38;5;124mcolor\u001b[39m\u001b[38;5;124m\"\u001b[39m] \u001b[38;5;241m=\u001b[39m \u001b[38;5;28;01mNone\u001b[39;00m\n\u001b[1;32m   1483\u001b[0m \u001b[38;5;66;03m# now that things have been prepped, we do the systematic rewriting of `args`\u001b[39;00m\n\u001b[0;32m-> 1485\u001b[0m df_output, wide_id_vars \u001b[38;5;241m=\u001b[39m \u001b[43mprocess_args_into_dataframe\u001b[49m\u001b[43m(\u001b[49m\n\u001b[1;32m   1486\u001b[0m \u001b[43m    \u001b[49m\u001b[43margs\u001b[49m\u001b[43m,\u001b[49m\u001b[43m \u001b[49m\u001b[43mwide_mode\u001b[49m\u001b[43m,\u001b[49m\u001b[43m \u001b[49m\u001b[43mvar_name\u001b[49m\u001b[43m,\u001b[49m\u001b[43m \u001b[49m\u001b[43mvalue_name\u001b[49m\n\u001b[1;32m   1487\u001b[0m \u001b[43m\u001b[49m\u001b[43m)\u001b[49m\n\u001b[1;32m   1489\u001b[0m \u001b[38;5;66;03m# now that `df_output` exists and `args` contains only references, we complete\u001b[39;00m\n\u001b[1;32m   1490\u001b[0m \u001b[38;5;66;03m# the special-case and wide-mode handling by further rewriting args and/or mutating\u001b[39;00m\n\u001b[1;32m   1491\u001b[0m \u001b[38;5;66;03m# df_output\u001b[39;00m\n\u001b[1;32m   1493\u001b[0m count_name \u001b[38;5;241m=\u001b[39m _escape_col_name(df_output, \u001b[38;5;124m\"\u001b[39m\u001b[38;5;124mcount\u001b[39m\u001b[38;5;124m\"\u001b[39m, [var_name, value_name])\n",
      "File \u001b[0;32m~/miniforge3/envs/dsc80/lib/python3.8/site-packages/plotly/express/_core.py:1210\u001b[0m, in \u001b[0;36mprocess_args_into_dataframe\u001b[0;34m(args, wide_mode, var_name, value_name)\u001b[0m\n\u001b[1;32m   1208\u001b[0m         \u001b[38;5;28;01mif\u001b[39;00m argument \u001b[38;5;241m==\u001b[39m \u001b[38;5;124m\"\u001b[39m\u001b[38;5;124mindex\u001b[39m\u001b[38;5;124m\"\u001b[39m:\n\u001b[1;32m   1209\u001b[0m             err_msg \u001b[38;5;241m+\u001b[39m\u001b[38;5;241m=\u001b[39m \u001b[38;5;124m\"\u001b[39m\u001b[38;5;130;01m\\n\u001b[39;00m\u001b[38;5;124m To use the index, pass it in directly as `df.index`.\u001b[39m\u001b[38;5;124m\"\u001b[39m\n\u001b[0;32m-> 1210\u001b[0m         \u001b[38;5;28;01mraise\u001b[39;00m \u001b[38;5;167;01mValueError\u001b[39;00m(err_msg)\n\u001b[1;32m   1211\u001b[0m \u001b[38;5;28;01melif\u001b[39;00m length \u001b[38;5;129;01mand\u001b[39;00m \u001b[38;5;28mlen\u001b[39m(df_input[argument]) \u001b[38;5;241m!=\u001b[39m length:\n\u001b[1;32m   1212\u001b[0m     \u001b[38;5;28;01mraise\u001b[39;00m \u001b[38;5;167;01mValueError\u001b[39;00m(\n\u001b[1;32m   1213\u001b[0m         \u001b[38;5;124m\"\u001b[39m\u001b[38;5;124mAll arguments should have the same length. \u001b[39m\u001b[38;5;124m\"\u001b[39m\n\u001b[1;32m   1214\u001b[0m         \u001b[38;5;124m\"\u001b[39m\u001b[38;5;124mThe length of column argument `df[\u001b[39m\u001b[38;5;132;01m%s\u001b[39;00m\u001b[38;5;124m]` is \u001b[39m\u001b[38;5;132;01m%d\u001b[39;00m\u001b[38;5;124m, whereas the \u001b[39m\u001b[38;5;124m\"\u001b[39m\n\u001b[0;32m   (...)\u001b[0m\n\u001b[1;32m   1221\u001b[0m         )\n\u001b[1;32m   1222\u001b[0m     )\n",
      "\u001b[0;31mValueError\u001b[0m: Value of 'y' is not the name of a column in 'data_frame'. Expected one of ['date', 'total', 'doc1', 'cogs9', 'pp_fall22', 'exam', 'reading_winter23', 'pp_winter23', 'math20c', 'dsc20', 'bild1', 'bild22', 'cogs87', 'doc2', 'training_spring23', 'reading', 'pp_spring23', 'cogs14a', 'cogs17', 'dsc30', 'math20e', 'doc3', 'training_summer23', 'reading_summer23', 'pp_summer23', 'ds_summer_project', 'dsc40a', 'week', 'training_fall23', 'ex_phys', 'fmp_fall23', 'cogs153', 'cogs107a', 'cogs14b', 'dsc40b', 'math180a', 'kdd/ds3/tnt', 'pp_fall23', 'training_winter24', 'salk_winter24', 'cse257', 'dsc80', 'cogs107b', 'math180b', 'fmp_winter24', 'pp_winter24', 'salk_spring24', 'dsc140a', 'dsc140b', 'math180c', 'math181a', 'cogs107c', 'psyc137', 'dsc106', 'cse150b', 'fmp_spring24', 'pp_spring24', 'math18', 'dsc10', 'math20b'] but received: salk"
     ]
    }
   ],
   "source": [
    "px.scatter_3d(clean_study,x='dsc80',y='salk',z='week')"
   ]
  },
  {
   "cell_type": "code",
   "execution_count": null,
   "metadata": {},
   "outputs": [
    {
     "data": {
      "application/vnd.plotly.v1+json": {
       "config": {
        "plotlyServerURL": "https://plot.ly"
       },
       "data": [
        {
         "dimensions": [
          {
           "axis": {
            "matches": true
           },
           "label": "week",
           "values": [
            0,
            1,
            2,
            3,
            4,
            5,
            6,
            7,
            8,
            9,
            10,
            11,
            12
           ]
          },
          {
           "axis": {
            "matches": true
           },
           "label": "total",
           "values": [
            5.1741847826086955,
            8.492708333333333,
            8.439285714285715,
            8.386904761904763,
            8.638095238095238,
            7.270238095238095,
            7.214285714285714,
            8.059523809523808,
            8.297619047619047,
            9.273809523809524,
            10.166666666666668,
            9.043055555555556,
            6.291666666666666
           ]
          },
          {
           "axis": {
            "matches": true
           },
           "label": "training",
           "values": [
            0.2910628019323671,
            1.0833333333333333,
            0.8214285714285714,
            1.9523809523809523,
            0.75,
            0.8571428571428571,
            0.7797619047619048,
            1.1071428571428572,
            0.9166666666666667,
            0.8333333333333333,
            0.8333333333333333,
            1.222222222222222,
            1.0833333333333333
           ]
          }
         ],
         "hovertemplate": "%{xaxis.title.text}=%{x}<br>%{yaxis.title.text}=%{y}<extra></extra>",
         "legendgroup": "",
         "marker": {
          "color": "#636efa",
          "symbol": "circle"
         },
         "name": "",
         "showlegend": false,
         "type": "splom"
        }
       ],
       "layout": {
        "dragmode": "select",
        "legend": {
         "tracegroupgap": 0
        },
        "margin": {
         "t": 60
        },
        "template": {
         "data": {
          "bar": [
           {
            "error_x": {
             "color": "#2a3f5f"
            },
            "error_y": {
             "color": "#2a3f5f"
            },
            "marker": {
             "line": {
              "color": "#E5ECF6",
              "width": 0.5
             },
             "pattern": {
              "fillmode": "overlay",
              "size": 10,
              "solidity": 0.2
             }
            },
            "type": "bar"
           }
          ],
          "barpolar": [
           {
            "marker": {
             "line": {
              "color": "#E5ECF6",
              "width": 0.5
             },
             "pattern": {
              "fillmode": "overlay",
              "size": 10,
              "solidity": 0.2
             }
            },
            "type": "barpolar"
           }
          ],
          "carpet": [
           {
            "aaxis": {
             "endlinecolor": "#2a3f5f",
             "gridcolor": "white",
             "linecolor": "white",
             "minorgridcolor": "white",
             "startlinecolor": "#2a3f5f"
            },
            "baxis": {
             "endlinecolor": "#2a3f5f",
             "gridcolor": "white",
             "linecolor": "white",
             "minorgridcolor": "white",
             "startlinecolor": "#2a3f5f"
            },
            "type": "carpet"
           }
          ],
          "choropleth": [
           {
            "colorbar": {
             "outlinewidth": 0,
             "ticks": ""
            },
            "type": "choropleth"
           }
          ],
          "contour": [
           {
            "colorbar": {
             "outlinewidth": 0,
             "ticks": ""
            },
            "colorscale": [
             [
              0,
              "#0d0887"
             ],
             [
              0.1111111111111111,
              "#46039f"
             ],
             [
              0.2222222222222222,
              "#7201a8"
             ],
             [
              0.3333333333333333,
              "#9c179e"
             ],
             [
              0.4444444444444444,
              "#bd3786"
             ],
             [
              0.5555555555555556,
              "#d8576b"
             ],
             [
              0.6666666666666666,
              "#ed7953"
             ],
             [
              0.7777777777777778,
              "#fb9f3a"
             ],
             [
              0.8888888888888888,
              "#fdca26"
             ],
             [
              1,
              "#f0f921"
             ]
            ],
            "type": "contour"
           }
          ],
          "contourcarpet": [
           {
            "colorbar": {
             "outlinewidth": 0,
             "ticks": ""
            },
            "type": "contourcarpet"
           }
          ],
          "heatmap": [
           {
            "colorbar": {
             "outlinewidth": 0,
             "ticks": ""
            },
            "colorscale": [
             [
              0,
              "#0d0887"
             ],
             [
              0.1111111111111111,
              "#46039f"
             ],
             [
              0.2222222222222222,
              "#7201a8"
             ],
             [
              0.3333333333333333,
              "#9c179e"
             ],
             [
              0.4444444444444444,
              "#bd3786"
             ],
             [
              0.5555555555555556,
              "#d8576b"
             ],
             [
              0.6666666666666666,
              "#ed7953"
             ],
             [
              0.7777777777777778,
              "#fb9f3a"
             ],
             [
              0.8888888888888888,
              "#fdca26"
             ],
             [
              1,
              "#f0f921"
             ]
            ],
            "type": "heatmap"
           }
          ],
          "heatmapgl": [
           {
            "colorbar": {
             "outlinewidth": 0,
             "ticks": ""
            },
            "colorscale": [
             [
              0,
              "#0d0887"
             ],
             [
              0.1111111111111111,
              "#46039f"
             ],
             [
              0.2222222222222222,
              "#7201a8"
             ],
             [
              0.3333333333333333,
              "#9c179e"
             ],
             [
              0.4444444444444444,
              "#bd3786"
             ],
             [
              0.5555555555555556,
              "#d8576b"
             ],
             [
              0.6666666666666666,
              "#ed7953"
             ],
             [
              0.7777777777777778,
              "#fb9f3a"
             ],
             [
              0.8888888888888888,
              "#fdca26"
             ],
             [
              1,
              "#f0f921"
             ]
            ],
            "type": "heatmapgl"
           }
          ],
          "histogram": [
           {
            "marker": {
             "pattern": {
              "fillmode": "overlay",
              "size": 10,
              "solidity": 0.2
             }
            },
            "type": "histogram"
           }
          ],
          "histogram2d": [
           {
            "colorbar": {
             "outlinewidth": 0,
             "ticks": ""
            },
            "colorscale": [
             [
              0,
              "#0d0887"
             ],
             [
              0.1111111111111111,
              "#46039f"
             ],
             [
              0.2222222222222222,
              "#7201a8"
             ],
             [
              0.3333333333333333,
              "#9c179e"
             ],
             [
              0.4444444444444444,
              "#bd3786"
             ],
             [
              0.5555555555555556,
              "#d8576b"
             ],
             [
              0.6666666666666666,
              "#ed7953"
             ],
             [
              0.7777777777777778,
              "#fb9f3a"
             ],
             [
              0.8888888888888888,
              "#fdca26"
             ],
             [
              1,
              "#f0f921"
             ]
            ],
            "type": "histogram2d"
           }
          ],
          "histogram2dcontour": [
           {
            "colorbar": {
             "outlinewidth": 0,
             "ticks": ""
            },
            "colorscale": [
             [
              0,
              "#0d0887"
             ],
             [
              0.1111111111111111,
              "#46039f"
             ],
             [
              0.2222222222222222,
              "#7201a8"
             ],
             [
              0.3333333333333333,
              "#9c179e"
             ],
             [
              0.4444444444444444,
              "#bd3786"
             ],
             [
              0.5555555555555556,
              "#d8576b"
             ],
             [
              0.6666666666666666,
              "#ed7953"
             ],
             [
              0.7777777777777778,
              "#fb9f3a"
             ],
             [
              0.8888888888888888,
              "#fdca26"
             ],
             [
              1,
              "#f0f921"
             ]
            ],
            "type": "histogram2dcontour"
           }
          ],
          "mesh3d": [
           {
            "colorbar": {
             "outlinewidth": 0,
             "ticks": ""
            },
            "type": "mesh3d"
           }
          ],
          "parcoords": [
           {
            "line": {
             "colorbar": {
              "outlinewidth": 0,
              "ticks": ""
             }
            },
            "type": "parcoords"
           }
          ],
          "pie": [
           {
            "automargin": true,
            "type": "pie"
           }
          ],
          "scatter": [
           {
            "fillpattern": {
             "fillmode": "overlay",
             "size": 10,
             "solidity": 0.2
            },
            "type": "scatter"
           }
          ],
          "scatter3d": [
           {
            "line": {
             "colorbar": {
              "outlinewidth": 0,
              "ticks": ""
             }
            },
            "marker": {
             "colorbar": {
              "outlinewidth": 0,
              "ticks": ""
             }
            },
            "type": "scatter3d"
           }
          ],
          "scattercarpet": [
           {
            "marker": {
             "colorbar": {
              "outlinewidth": 0,
              "ticks": ""
             }
            },
            "type": "scattercarpet"
           }
          ],
          "scattergeo": [
           {
            "marker": {
             "colorbar": {
              "outlinewidth": 0,
              "ticks": ""
             }
            },
            "type": "scattergeo"
           }
          ],
          "scattergl": [
           {
            "marker": {
             "colorbar": {
              "outlinewidth": 0,
              "ticks": ""
             }
            },
            "type": "scattergl"
           }
          ],
          "scattermapbox": [
           {
            "marker": {
             "colorbar": {
              "outlinewidth": 0,
              "ticks": ""
             }
            },
            "type": "scattermapbox"
           }
          ],
          "scatterpolar": [
           {
            "marker": {
             "colorbar": {
              "outlinewidth": 0,
              "ticks": ""
             }
            },
            "type": "scatterpolar"
           }
          ],
          "scatterpolargl": [
           {
            "marker": {
             "colorbar": {
              "outlinewidth": 0,
              "ticks": ""
             }
            },
            "type": "scatterpolargl"
           }
          ],
          "scatterternary": [
           {
            "marker": {
             "colorbar": {
              "outlinewidth": 0,
              "ticks": ""
             }
            },
            "type": "scatterternary"
           }
          ],
          "surface": [
           {
            "colorbar": {
             "outlinewidth": 0,
             "ticks": ""
            },
            "colorscale": [
             [
              0,
              "#0d0887"
             ],
             [
              0.1111111111111111,
              "#46039f"
             ],
             [
              0.2222222222222222,
              "#7201a8"
             ],
             [
              0.3333333333333333,
              "#9c179e"
             ],
             [
              0.4444444444444444,
              "#bd3786"
             ],
             [
              0.5555555555555556,
              "#d8576b"
             ],
             [
              0.6666666666666666,
              "#ed7953"
             ],
             [
              0.7777777777777778,
              "#fb9f3a"
             ],
             [
              0.8888888888888888,
              "#fdca26"
             ],
             [
              1,
              "#f0f921"
             ]
            ],
            "type": "surface"
           }
          ],
          "table": [
           {
            "cells": {
             "fill": {
              "color": "#EBF0F8"
             },
             "line": {
              "color": "white"
             }
            },
            "header": {
             "fill": {
              "color": "#C8D4E3"
             },
             "line": {
              "color": "white"
             }
            },
            "type": "table"
           }
          ]
         },
         "layout": {
          "annotationdefaults": {
           "arrowcolor": "#2a3f5f",
           "arrowhead": 0,
           "arrowwidth": 1
          },
          "autotypenumbers": "strict",
          "coloraxis": {
           "colorbar": {
            "outlinewidth": 0,
            "ticks": ""
           }
          },
          "colorscale": {
           "diverging": [
            [
             0,
             "#8e0152"
            ],
            [
             0.1,
             "#c51b7d"
            ],
            [
             0.2,
             "#de77ae"
            ],
            [
             0.3,
             "#f1b6da"
            ],
            [
             0.4,
             "#fde0ef"
            ],
            [
             0.5,
             "#f7f7f7"
            ],
            [
             0.6,
             "#e6f5d0"
            ],
            [
             0.7,
             "#b8e186"
            ],
            [
             0.8,
             "#7fbc41"
            ],
            [
             0.9,
             "#4d9221"
            ],
            [
             1,
             "#276419"
            ]
           ],
           "sequential": [
            [
             0,
             "#0d0887"
            ],
            [
             0.1111111111111111,
             "#46039f"
            ],
            [
             0.2222222222222222,
             "#7201a8"
            ],
            [
             0.3333333333333333,
             "#9c179e"
            ],
            [
             0.4444444444444444,
             "#bd3786"
            ],
            [
             0.5555555555555556,
             "#d8576b"
            ],
            [
             0.6666666666666666,
             "#ed7953"
            ],
            [
             0.7777777777777778,
             "#fb9f3a"
            ],
            [
             0.8888888888888888,
             "#fdca26"
            ],
            [
             1,
             "#f0f921"
            ]
           ],
           "sequentialminus": [
            [
             0,
             "#0d0887"
            ],
            [
             0.1111111111111111,
             "#46039f"
            ],
            [
             0.2222222222222222,
             "#7201a8"
            ],
            [
             0.3333333333333333,
             "#9c179e"
            ],
            [
             0.4444444444444444,
             "#bd3786"
            ],
            [
             0.5555555555555556,
             "#d8576b"
            ],
            [
             0.6666666666666666,
             "#ed7953"
            ],
            [
             0.7777777777777778,
             "#fb9f3a"
            ],
            [
             0.8888888888888888,
             "#fdca26"
            ],
            [
             1,
             "#f0f921"
            ]
           ]
          },
          "colorway": [
           "#636efa",
           "#EF553B",
           "#00cc96",
           "#ab63fa",
           "#FFA15A",
           "#19d3f3",
           "#FF6692",
           "#B6E880",
           "#FF97FF",
           "#FECB52"
          ],
          "font": {
           "color": "#2a3f5f"
          },
          "geo": {
           "bgcolor": "white",
           "lakecolor": "white",
           "landcolor": "#E5ECF6",
           "showlakes": true,
           "showland": true,
           "subunitcolor": "white"
          },
          "hoverlabel": {
           "align": "left"
          },
          "hovermode": "closest",
          "mapbox": {
           "style": "light"
          },
          "paper_bgcolor": "white",
          "plot_bgcolor": "#E5ECF6",
          "polar": {
           "angularaxis": {
            "gridcolor": "white",
            "linecolor": "white",
            "ticks": ""
           },
           "bgcolor": "#E5ECF6",
           "radialaxis": {
            "gridcolor": "white",
            "linecolor": "white",
            "ticks": ""
           }
          },
          "scene": {
           "xaxis": {
            "backgroundcolor": "#E5ECF6",
            "gridcolor": "white",
            "gridwidth": 2,
            "linecolor": "white",
            "showbackground": true,
            "ticks": "",
            "zerolinecolor": "white"
           },
           "yaxis": {
            "backgroundcolor": "#E5ECF6",
            "gridcolor": "white",
            "gridwidth": 2,
            "linecolor": "white",
            "showbackground": true,
            "ticks": "",
            "zerolinecolor": "white"
           },
           "zaxis": {
            "backgroundcolor": "#E5ECF6",
            "gridcolor": "white",
            "gridwidth": 2,
            "linecolor": "white",
            "showbackground": true,
            "ticks": "",
            "zerolinecolor": "white"
           }
          },
          "shapedefaults": {
           "line": {
            "color": "#2a3f5f"
           }
          },
          "ternary": {
           "aaxis": {
            "gridcolor": "white",
            "linecolor": "white",
            "ticks": ""
           },
           "baxis": {
            "gridcolor": "white",
            "linecolor": "white",
            "ticks": ""
           },
           "bgcolor": "#E5ECF6",
           "caxis": {
            "gridcolor": "white",
            "linecolor": "white",
            "ticks": ""
           }
          },
          "title": {
           "x": 0.05
          },
          "xaxis": {
           "automargin": true,
           "gridcolor": "white",
           "linecolor": "white",
           "ticks": "",
           "title": {
            "standoff": 15
           },
           "zerolinecolor": "white",
           "zerolinewidth": 2
          },
          "yaxis": {
           "automargin": true,
           "gridcolor": "white",
           "linecolor": "white",
           "ticks": "",
           "title": {
            "standoff": 15
           },
           "zerolinecolor": "white",
           "zerolinewidth": 2
          }
         }
        }
       }
      }
     },
     "metadata": {},
     "output_type": "display_data"
    }
   ],
   "source": [
    "grouped_week = clean_study.groupby('week').mean().reset_index()\n",
    "px.scatter_matrix(grouped_week, ['week','total','training'])"
   ]
  },
  {
   "cell_type": "code",
   "execution_count": null,
   "metadata": {},
   "outputs": [],
   "source": [
    "dict = {'doc1':1,'cogs9':2,'pp':5,'exam':2,'reading':2,'math20c':3,'dsc20':4,'bild1':2,'bild22':4,'cogs87':1,'doc2':2,\n",
    "  'training':3,'cogs14a':1,'cogs17':3,'dsc30':4,'math20e':4,'doc3':3,'ds_summer_project':2,'dsc40a':3,'ex_phys':3,\n",
    "  'fmp':3,'cogs153':1,'cogs107a':3,'cogs14b':1,'dsc40b':4,'math180a':3,'kdd/ds3/tnt':1,'salk':5,'cse257':3,\n",
    "  'dsc80':5,'cogs107b':3,'math180b':5,'math18':2,'dsc10':2,'math20b':2}"
   ]
  },
  {
   "cell_type": "code",
   "execution_count": null,
   "metadata": {},
   "outputs": [],
   "source": [
    "hardness_class = pd.DataFrame(pd.Series(dict)).rename(columns={0:'hardness'})"
   ]
  },
  {
   "cell_type": "code",
   "execution_count": null,
   "metadata": {},
   "outputs": [
    {
     "data": {
      "text/html": [
       "<div>\n",
       "<style scoped>\n",
       "    .dataframe tbody tr th:only-of-type {\n",
       "        vertical-align: middle;\n",
       "    }\n",
       "\n",
       "    .dataframe tbody tr th {\n",
       "        vertical-align: top;\n",
       "    }\n",
       "\n",
       "    .dataframe thead th {\n",
       "        text-align: right;\n",
       "    }\n",
       "</style>\n",
       "<table border=\"1\" class=\"dataframe\">\n",
       "  <thead>\n",
       "    <tr style=\"text-align: right;\">\n",
       "      <th></th>\n",
       "      <th>0</th>\n",
       "      <th>1</th>\n",
       "      <th>2</th>\n",
       "      <th>3</th>\n",
       "      <th>4</th>\n",
       "      <th>5</th>\n",
       "      <th>6</th>\n",
       "      <th>7</th>\n",
       "      <th>8</th>\n",
       "      <th>9</th>\n",
       "      <th>...</th>\n",
       "      <th>415</th>\n",
       "      <th>416</th>\n",
       "      <th>417</th>\n",
       "      <th>418</th>\n",
       "      <th>419</th>\n",
       "      <th>420</th>\n",
       "      <th>421</th>\n",
       "      <th>422</th>\n",
       "      <th>423</th>\n",
       "      <th>hardness</th>\n",
       "    </tr>\n",
       "  </thead>\n",
       "  <tbody>\n",
       "    <tr>\n",
       "      <th>bild1</th>\n",
       "      <td>0.0</td>\n",
       "      <td>0.0</td>\n",
       "      <td>0.0</td>\n",
       "      <td>0.0</td>\n",
       "      <td>0.0</td>\n",
       "      <td>0.0</td>\n",
       "      <td>0.0</td>\n",
       "      <td>0.0</td>\n",
       "      <td>0.0</td>\n",
       "      <td>0.0</td>\n",
       "      <td>...</td>\n",
       "      <td>0.0</td>\n",
       "      <td>0.0</td>\n",
       "      <td>0.0</td>\n",
       "      <td>0.0</td>\n",
       "      <td>0.0</td>\n",
       "      <td>0.0</td>\n",
       "      <td>0.0</td>\n",
       "      <td>0.0</td>\n",
       "      <td>0.0</td>\n",
       "      <td>2.0</td>\n",
       "    </tr>\n",
       "    <tr>\n",
       "      <th>bild22</th>\n",
       "      <td>0.0</td>\n",
       "      <td>0.0</td>\n",
       "      <td>0.0</td>\n",
       "      <td>0.0</td>\n",
       "      <td>0.0</td>\n",
       "      <td>0.0</td>\n",
       "      <td>0.0</td>\n",
       "      <td>0.0</td>\n",
       "      <td>0.0</td>\n",
       "      <td>0.0</td>\n",
       "      <td>...</td>\n",
       "      <td>0.0</td>\n",
       "      <td>0.0</td>\n",
       "      <td>0.0</td>\n",
       "      <td>0.0</td>\n",
       "      <td>0.0</td>\n",
       "      <td>0.0</td>\n",
       "      <td>0.0</td>\n",
       "      <td>0.0</td>\n",
       "      <td>0.0</td>\n",
       "      <td>4.0</td>\n",
       "    </tr>\n",
       "    <tr>\n",
       "      <th>cogs107a</th>\n",
       "      <td>0.0</td>\n",
       "      <td>0.0</td>\n",
       "      <td>0.0</td>\n",
       "      <td>0.0</td>\n",
       "      <td>0.0</td>\n",
       "      <td>0.0</td>\n",
       "      <td>0.0</td>\n",
       "      <td>0.0</td>\n",
       "      <td>0.0</td>\n",
       "      <td>0.0</td>\n",
       "      <td>...</td>\n",
       "      <td>0.0</td>\n",
       "      <td>0.0</td>\n",
       "      <td>0.0</td>\n",
       "      <td>0.0</td>\n",
       "      <td>0.0</td>\n",
       "      <td>0.0</td>\n",
       "      <td>0.0</td>\n",
       "      <td>0.0</td>\n",
       "      <td>0.0</td>\n",
       "      <td>3.0</td>\n",
       "    </tr>\n",
       "    <tr>\n",
       "      <th>cogs107b</th>\n",
       "      <td>0.0</td>\n",
       "      <td>0.0</td>\n",
       "      <td>0.0</td>\n",
       "      <td>0.0</td>\n",
       "      <td>0.0</td>\n",
       "      <td>0.0</td>\n",
       "      <td>0.0</td>\n",
       "      <td>0.0</td>\n",
       "      <td>0.0</td>\n",
       "      <td>0.0</td>\n",
       "      <td>...</td>\n",
       "      <td>0.0</td>\n",
       "      <td>0.0</td>\n",
       "      <td>3.333333</td>\n",
       "      <td>1.5</td>\n",
       "      <td>0.0</td>\n",
       "      <td>1.5</td>\n",
       "      <td>0.0</td>\n",
       "      <td>0.0</td>\n",
       "      <td>0.0</td>\n",
       "      <td>3.0</td>\n",
       "    </tr>\n",
       "    <tr>\n",
       "      <th>cogs14a</th>\n",
       "      <td>0.0</td>\n",
       "      <td>0.0</td>\n",
       "      <td>0.0</td>\n",
       "      <td>0.0</td>\n",
       "      <td>0.0</td>\n",
       "      <td>0.0</td>\n",
       "      <td>0.0</td>\n",
       "      <td>0.0</td>\n",
       "      <td>0.0</td>\n",
       "      <td>0.0</td>\n",
       "      <td>...</td>\n",
       "      <td>0.0</td>\n",
       "      <td>0.0</td>\n",
       "      <td>0.0</td>\n",
       "      <td>0.0</td>\n",
       "      <td>0.0</td>\n",
       "      <td>0.0</td>\n",
       "      <td>0.0</td>\n",
       "      <td>0.0</td>\n",
       "      <td>0.0</td>\n",
       "      <td>1.0</td>\n",
       "    </tr>\n",
       "    <tr>\n",
       "      <th>cogs14b</th>\n",
       "      <td>0.0</td>\n",
       "      <td>0.0</td>\n",
       "      <td>0.0</td>\n",
       "      <td>0.0</td>\n",
       "      <td>0.0</td>\n",
       "      <td>0.0</td>\n",
       "      <td>0.0</td>\n",
       "      <td>0.0</td>\n",
       "      <td>0.0</td>\n",
       "      <td>0.0</td>\n",
       "      <td>...</td>\n",
       "      <td>0.0</td>\n",
       "      <td>0.0</td>\n",
       "      <td>0.0</td>\n",
       "      <td>0.0</td>\n",
       "      <td>0.0</td>\n",
       "      <td>0.0</td>\n",
       "      <td>0.0</td>\n",
       "      <td>0.0</td>\n",
       "      <td>0.0</td>\n",
       "      <td>1.0</td>\n",
       "    </tr>\n",
       "    <tr>\n",
       "      <th>cogs153</th>\n",
       "      <td>0.0</td>\n",
       "      <td>0.0</td>\n",
       "      <td>0.0</td>\n",
       "      <td>0.0</td>\n",
       "      <td>0.0</td>\n",
       "      <td>0.0</td>\n",
       "      <td>0.0</td>\n",
       "      <td>0.0</td>\n",
       "      <td>0.0</td>\n",
       "      <td>0.0</td>\n",
       "      <td>...</td>\n",
       "      <td>0.0</td>\n",
       "      <td>0.0</td>\n",
       "      <td>0.0</td>\n",
       "      <td>0.0</td>\n",
       "      <td>0.0</td>\n",
       "      <td>0.0</td>\n",
       "      <td>0.0</td>\n",
       "      <td>0.0</td>\n",
       "      <td>0.0</td>\n",
       "      <td>1.0</td>\n",
       "    </tr>\n",
       "    <tr>\n",
       "      <th>cogs17</th>\n",
       "      <td>0.0</td>\n",
       "      <td>0.0</td>\n",
       "      <td>0.0</td>\n",
       "      <td>0.0</td>\n",
       "      <td>0.0</td>\n",
       "      <td>0.0</td>\n",
       "      <td>0.0</td>\n",
       "      <td>0.0</td>\n",
       "      <td>0.0</td>\n",
       "      <td>0.0</td>\n",
       "      <td>...</td>\n",
       "      <td>0.0</td>\n",
       "      <td>0.0</td>\n",
       "      <td>0.0</td>\n",
       "      <td>0.0</td>\n",
       "      <td>0.0</td>\n",
       "      <td>0.0</td>\n",
       "      <td>0.0</td>\n",
       "      <td>0.0</td>\n",
       "      <td>0.0</td>\n",
       "      <td>3.0</td>\n",
       "    </tr>\n",
       "    <tr>\n",
       "      <th>cogs87</th>\n",
       "      <td>0.0</td>\n",
       "      <td>0.0</td>\n",
       "      <td>0.0</td>\n",
       "      <td>0.0</td>\n",
       "      <td>0.0</td>\n",
       "      <td>0.0</td>\n",
       "      <td>0.0</td>\n",
       "      <td>0.0</td>\n",
       "      <td>0.0</td>\n",
       "      <td>0.0</td>\n",
       "      <td>...</td>\n",
       "      <td>0.0</td>\n",
       "      <td>0.0</td>\n",
       "      <td>0.0</td>\n",
       "      <td>0.0</td>\n",
       "      <td>0.0</td>\n",
       "      <td>0.0</td>\n",
       "      <td>0.0</td>\n",
       "      <td>0.0</td>\n",
       "      <td>0.0</td>\n",
       "      <td>1.0</td>\n",
       "    </tr>\n",
       "    <tr>\n",
       "      <th>cogs9</th>\n",
       "      <td>0.0</td>\n",
       "      <td>0.0</td>\n",
       "      <td>0.0</td>\n",
       "      <td>0.158333</td>\n",
       "      <td>0.0</td>\n",
       "      <td>0.627778</td>\n",
       "      <td>0.0</td>\n",
       "      <td>0.75</td>\n",
       "      <td>0.0</td>\n",
       "      <td>0.0</td>\n",
       "      <td>...</td>\n",
       "      <td>0.0</td>\n",
       "      <td>0.0</td>\n",
       "      <td>0.0</td>\n",
       "      <td>0.0</td>\n",
       "      <td>0.0</td>\n",
       "      <td>0.0</td>\n",
       "      <td>0.0</td>\n",
       "      <td>0.0</td>\n",
       "      <td>0.0</td>\n",
       "      <td>2.0</td>\n",
       "    </tr>\n",
       "    <tr>\n",
       "      <th>cse257</th>\n",
       "      <td>0.0</td>\n",
       "      <td>0.0</td>\n",
       "      <td>0.0</td>\n",
       "      <td>0.0</td>\n",
       "      <td>0.0</td>\n",
       "      <td>0.0</td>\n",
       "      <td>0.0</td>\n",
       "      <td>0.0</td>\n",
       "      <td>0.0</td>\n",
       "      <td>0.0</td>\n",
       "      <td>...</td>\n",
       "      <td>2.0</td>\n",
       "      <td>0.0</td>\n",
       "      <td>0.0</td>\n",
       "      <td>0.0</td>\n",
       "      <td>0.0</td>\n",
       "      <td>0.0</td>\n",
       "      <td>0.0</td>\n",
       "      <td>0.0</td>\n",
       "      <td>0.0</td>\n",
       "      <td>3.0</td>\n",
       "    </tr>\n",
       "    <tr>\n",
       "      <th>date</th>\n",
       "      <td>2022-10-21 00:00:00</td>\n",
       "      <td>2022-10-22 00:00:00</td>\n",
       "      <td>2022-10-23 00:00:00</td>\n",
       "      <td>2022-10-24 00:00:00</td>\n",
       "      <td>2022-10-25 00:00:00</td>\n",
       "      <td>2022-10-26 00:00:00</td>\n",
       "      <td>2022-10-27 00:00:00</td>\n",
       "      <td>2022-10-28 00:00:00</td>\n",
       "      <td>2022-10-29 00:00:00</td>\n",
       "      <td>2022-10-30 00:00:00</td>\n",
       "      <td>...</td>\n",
       "      <td>2024-03-14 00:00:00</td>\n",
       "      <td>2024-03-15 00:00:00</td>\n",
       "      <td>2024-03-16 00:00:00</td>\n",
       "      <td>2024-03-17 00:00:00</td>\n",
       "      <td>2024-03-18 00:00:00</td>\n",
       "      <td>2024-03-19 00:00:00</td>\n",
       "      <td>2024-03-20 00:00:00</td>\n",
       "      <td>2024-03-21 00:00:00</td>\n",
       "      <td>2024-03-24 00:00:00</td>\n",
       "      <td>NaN</td>\n",
       "    </tr>\n",
       "    <tr>\n",
       "      <th>doc1</th>\n",
       "      <td>0.0</td>\n",
       "      <td>0.0</td>\n",
       "      <td>0.208333</td>\n",
       "      <td>0.25</td>\n",
       "      <td>0.1</td>\n",
       "      <td>0.0</td>\n",
       "      <td>0.529167</td>\n",
       "      <td>0.0</td>\n",
       "      <td>0.0</td>\n",
       "      <td>0.0</td>\n",
       "      <td>...</td>\n",
       "      <td>0.0</td>\n",
       "      <td>0.0</td>\n",
       "      <td>0.0</td>\n",
       "      <td>0.0</td>\n",
       "      <td>0.0</td>\n",
       "      <td>0.0</td>\n",
       "      <td>0.0</td>\n",
       "      <td>0.0</td>\n",
       "      <td>0.0</td>\n",
       "      <td>1.0</td>\n",
       "    </tr>\n",
       "    <tr>\n",
       "      <th>doc2</th>\n",
       "      <td>0.0</td>\n",
       "      <td>0.0</td>\n",
       "      <td>0.0</td>\n",
       "      <td>0.0</td>\n",
       "      <td>0.0</td>\n",
       "      <td>0.0</td>\n",
       "      <td>0.0</td>\n",
       "      <td>0.0</td>\n",
       "      <td>0.0</td>\n",
       "      <td>0.0</td>\n",
       "      <td>...</td>\n",
       "      <td>0.0</td>\n",
       "      <td>0.0</td>\n",
       "      <td>0.0</td>\n",
       "      <td>0.0</td>\n",
       "      <td>0.0</td>\n",
       "      <td>0.0</td>\n",
       "      <td>0.0</td>\n",
       "      <td>0.0</td>\n",
       "      <td>0.0</td>\n",
       "      <td>2.0</td>\n",
       "    </tr>\n",
       "    <tr>\n",
       "      <th>doc3</th>\n",
       "      <td>0.0</td>\n",
       "      <td>0.0</td>\n",
       "      <td>0.0</td>\n",
       "      <td>0.0</td>\n",
       "      <td>0.0</td>\n",
       "      <td>0.0</td>\n",
       "      <td>0.0</td>\n",
       "      <td>0.0</td>\n",
       "      <td>0.0</td>\n",
       "      <td>0.0</td>\n",
       "      <td>...</td>\n",
       "      <td>0.0</td>\n",
       "      <td>0.0</td>\n",
       "      <td>0.0</td>\n",
       "      <td>0.0</td>\n",
       "      <td>0.0</td>\n",
       "      <td>0.0</td>\n",
       "      <td>0.0</td>\n",
       "      <td>0.0</td>\n",
       "      <td>0.0</td>\n",
       "      <td>3.0</td>\n",
       "    </tr>\n",
       "    <tr>\n",
       "      <th>ds_summer_project</th>\n",
       "      <td>0.0</td>\n",
       "      <td>0.0</td>\n",
       "      <td>0.0</td>\n",
       "      <td>0.0</td>\n",
       "      <td>0.0</td>\n",
       "      <td>0.0</td>\n",
       "      <td>0.0</td>\n",
       "      <td>0.0</td>\n",
       "      <td>0.0</td>\n",
       "      <td>0.0</td>\n",
       "      <td>...</td>\n",
       "      <td>0.0</td>\n",
       "      <td>0.0</td>\n",
       "      <td>0.0</td>\n",
       "      <td>0.0</td>\n",
       "      <td>0.0</td>\n",
       "      <td>0.0</td>\n",
       "      <td>0.0</td>\n",
       "      <td>0.0</td>\n",
       "      <td>0.0</td>\n",
       "      <td>2.0</td>\n",
       "    </tr>\n",
       "    <tr>\n",
       "      <th>dsc10</th>\n",
       "      <td>0.225</td>\n",
       "      <td>1.7</td>\n",
       "      <td>0.875</td>\n",
       "      <td>0.25</td>\n",
       "      <td>0.75</td>\n",
       "      <td>0.35</td>\n",
       "      <td>0.904167</td>\n",
       "      <td>0.0</td>\n",
       "      <td>0.0</td>\n",
       "      <td>0.8125</td>\n",
       "      <td>...</td>\n",
       "      <td>0.0</td>\n",
       "      <td>0.0</td>\n",
       "      <td>0.0</td>\n",
       "      <td>0.0</td>\n",
       "      <td>0.0</td>\n",
       "      <td>0.0</td>\n",
       "      <td>0.0</td>\n",
       "      <td>0.0</td>\n",
       "      <td>0.0</td>\n",
       "      <td>2.0</td>\n",
       "    </tr>\n",
       "    <tr>\n",
       "      <th>dsc20</th>\n",
       "      <td>0.0</td>\n",
       "      <td>0.0</td>\n",
       "      <td>0.0</td>\n",
       "      <td>0.0</td>\n",
       "      <td>0.0</td>\n",
       "      <td>0.0</td>\n",
       "      <td>0.0</td>\n",
       "      <td>0.0</td>\n",
       "      <td>0.0</td>\n",
       "      <td>0.0</td>\n",
       "      <td>...</td>\n",
       "      <td>0.0</td>\n",
       "      <td>0.0</td>\n",
       "      <td>0.0</td>\n",
       "      <td>0.0</td>\n",
       "      <td>0.0</td>\n",
       "      <td>0.0</td>\n",
       "      <td>0.0</td>\n",
       "      <td>0.0</td>\n",
       "      <td>0.0</td>\n",
       "      <td>4.0</td>\n",
       "    </tr>\n",
       "    <tr>\n",
       "      <th>dsc30</th>\n",
       "      <td>0.0</td>\n",
       "      <td>0.0</td>\n",
       "      <td>0.0</td>\n",
       "      <td>0.0</td>\n",
       "      <td>0.0</td>\n",
       "      <td>0.0</td>\n",
       "      <td>0.0</td>\n",
       "      <td>0.0</td>\n",
       "      <td>0.0</td>\n",
       "      <td>0.0</td>\n",
       "      <td>...</td>\n",
       "      <td>0.0</td>\n",
       "      <td>0.0</td>\n",
       "      <td>0.0</td>\n",
       "      <td>0.0</td>\n",
       "      <td>0.0</td>\n",
       "      <td>0.0</td>\n",
       "      <td>0.0</td>\n",
       "      <td>0.0</td>\n",
       "      <td>0.0</td>\n",
       "      <td>4.0</td>\n",
       "    </tr>\n",
       "    <tr>\n",
       "      <th>dsc40a</th>\n",
       "      <td>0.0</td>\n",
       "      <td>0.0</td>\n",
       "      <td>0.0</td>\n",
       "      <td>0.0</td>\n",
       "      <td>0.0</td>\n",
       "      <td>0.0</td>\n",
       "      <td>0.0</td>\n",
       "      <td>0.0</td>\n",
       "      <td>0.0</td>\n",
       "      <td>0.0</td>\n",
       "      <td>...</td>\n",
       "      <td>0.0</td>\n",
       "      <td>0.0</td>\n",
       "      <td>0.0</td>\n",
       "      <td>0.0</td>\n",
       "      <td>0.0</td>\n",
       "      <td>0.0</td>\n",
       "      <td>0.0</td>\n",
       "      <td>0.0</td>\n",
       "      <td>0.0</td>\n",
       "      <td>3.0</td>\n",
       "    </tr>\n",
       "    <tr>\n",
       "      <th>dsc40b</th>\n",
       "      <td>0.0</td>\n",
       "      <td>0.0</td>\n",
       "      <td>0.0</td>\n",
       "      <td>0.0</td>\n",
       "      <td>0.0</td>\n",
       "      <td>0.0</td>\n",
       "      <td>0.0</td>\n",
       "      <td>0.0</td>\n",
       "      <td>0.0</td>\n",
       "      <td>0.0</td>\n",
       "      <td>...</td>\n",
       "      <td>0.0</td>\n",
       "      <td>0.0</td>\n",
       "      <td>0.0</td>\n",
       "      <td>0.0</td>\n",
       "      <td>0.0</td>\n",
       "      <td>0.0</td>\n",
       "      <td>0.0</td>\n",
       "      <td>0.0</td>\n",
       "      <td>0.0</td>\n",
       "      <td>4.0</td>\n",
       "    </tr>\n",
       "    <tr>\n",
       "      <th>dsc80</th>\n",
       "      <td>0.0</td>\n",
       "      <td>0.0</td>\n",
       "      <td>0.0</td>\n",
       "      <td>0.0</td>\n",
       "      <td>0.0</td>\n",
       "      <td>0.0</td>\n",
       "      <td>0.0</td>\n",
       "      <td>0.0</td>\n",
       "      <td>0.0</td>\n",
       "      <td>0.0</td>\n",
       "      <td>...</td>\n",
       "      <td>5.0</td>\n",
       "      <td>5.5</td>\n",
       "      <td>5.333333</td>\n",
       "      <td>8.0</td>\n",
       "      <td>7.0</td>\n",
       "      <td>9.633333</td>\n",
       "      <td>2.416667</td>\n",
       "      <td>7.666667</td>\n",
       "      <td>1.0</td>\n",
       "      <td>5.0</td>\n",
       "    </tr>\n",
       "    <tr>\n",
       "      <th>ex_phys</th>\n",
       "      <td>0.0</td>\n",
       "      <td>0.0</td>\n",
       "      <td>0.0</td>\n",
       "      <td>0.0</td>\n",
       "      <td>0.0</td>\n",
       "      <td>0.0</td>\n",
       "      <td>0.0</td>\n",
       "      <td>0.0</td>\n",
       "      <td>0.0</td>\n",
       "      <td>0.0</td>\n",
       "      <td>...</td>\n",
       "      <td>0.0</td>\n",
       "      <td>0.0</td>\n",
       "      <td>0.0</td>\n",
       "      <td>0.0</td>\n",
       "      <td>0.0</td>\n",
       "      <td>0.0</td>\n",
       "      <td>0.0</td>\n",
       "      <td>0.0</td>\n",
       "      <td>0.0</td>\n",
       "      <td>3.0</td>\n",
       "    </tr>\n",
       "    <tr>\n",
       "      <th>exam</th>\n",
       "      <td>0.525</td>\n",
       "      <td>0.0</td>\n",
       "      <td>0.0</td>\n",
       "      <td>0.0</td>\n",
       "      <td>0.0</td>\n",
       "      <td>0.0</td>\n",
       "      <td>0.0</td>\n",
       "      <td>0.0</td>\n",
       "      <td>0.0</td>\n",
       "      <td>0.0</td>\n",
       "      <td>...</td>\n",
       "      <td>0.0</td>\n",
       "      <td>0.0</td>\n",
       "      <td>0.0</td>\n",
       "      <td>0.0</td>\n",
       "      <td>0.0</td>\n",
       "      <td>0.0</td>\n",
       "      <td>0.0</td>\n",
       "      <td>0.0</td>\n",
       "      <td>0.0</td>\n",
       "      <td>2.0</td>\n",
       "    </tr>\n",
       "    <tr>\n",
       "      <th>fmp</th>\n",
       "      <td>0.0</td>\n",
       "      <td>0.0</td>\n",
       "      <td>0.0</td>\n",
       "      <td>0.0</td>\n",
       "      <td>0.0</td>\n",
       "      <td>0.0</td>\n",
       "      <td>0.0</td>\n",
       "      <td>0.0</td>\n",
       "      <td>0.0</td>\n",
       "      <td>0.0</td>\n",
       "      <td>...</td>\n",
       "      <td>0.0</td>\n",
       "      <td>0.0</td>\n",
       "      <td>0.0</td>\n",
       "      <td>0.0</td>\n",
       "      <td>0.0</td>\n",
       "      <td>0.0</td>\n",
       "      <td>1.166667</td>\n",
       "      <td>0.0</td>\n",
       "      <td>0.0</td>\n",
       "      <td>3.0</td>\n",
       "    </tr>\n",
       "    <tr>\n",
       "      <th>kdd/ds3/tnt</th>\n",
       "      <td>0.0</td>\n",
       "      <td>0.0</td>\n",
       "      <td>0.0</td>\n",
       "      <td>0.0</td>\n",
       "      <td>0.0</td>\n",
       "      <td>0.0</td>\n",
       "      <td>0.0</td>\n",
       "      <td>0.0</td>\n",
       "      <td>0.0</td>\n",
       "      <td>0.0</td>\n",
       "      <td>...</td>\n",
       "      <td>0.0</td>\n",
       "      <td>0.0</td>\n",
       "      <td>0.0</td>\n",
       "      <td>0.0</td>\n",
       "      <td>0.0</td>\n",
       "      <td>0.0</td>\n",
       "      <td>0.0</td>\n",
       "      <td>0.0</td>\n",
       "      <td>0.0</td>\n",
       "      <td>1.0</td>\n",
       "    </tr>\n",
       "    <tr>\n",
       "      <th>math18</th>\n",
       "      <td>1.025</td>\n",
       "      <td>0.608333</td>\n",
       "      <td>0.6125</td>\n",
       "      <td>1.475</td>\n",
       "      <td>1.125</td>\n",
       "      <td>0.727778</td>\n",
       "      <td>0.0</td>\n",
       "      <td>0.45</td>\n",
       "      <td>1.125</td>\n",
       "      <td>0.0</td>\n",
       "      <td>...</td>\n",
       "      <td>0.0</td>\n",
       "      <td>0.0</td>\n",
       "      <td>0.0</td>\n",
       "      <td>0.0</td>\n",
       "      <td>0.0</td>\n",
       "      <td>0.0</td>\n",
       "      <td>0.0</td>\n",
       "      <td>0.0</td>\n",
       "      <td>0.0</td>\n",
       "      <td>2.0</td>\n",
       "    </tr>\n",
       "    <tr>\n",
       "      <th>math180a</th>\n",
       "      <td>0.0</td>\n",
       "      <td>0.0</td>\n",
       "      <td>0.0</td>\n",
       "      <td>0.0</td>\n",
       "      <td>0.0</td>\n",
       "      <td>0.0</td>\n",
       "      <td>0.0</td>\n",
       "      <td>0.0</td>\n",
       "      <td>0.0</td>\n",
       "      <td>0.0</td>\n",
       "      <td>...</td>\n",
       "      <td>0.0</td>\n",
       "      <td>0.0</td>\n",
       "      <td>0.0</td>\n",
       "      <td>0.0</td>\n",
       "      <td>0.0</td>\n",
       "      <td>0.0</td>\n",
       "      <td>0.0</td>\n",
       "      <td>0.0</td>\n",
       "      <td>0.0</td>\n",
       "      <td>3.0</td>\n",
       "    </tr>\n",
       "    <tr>\n",
       "      <th>math180b</th>\n",
       "      <td>0.0</td>\n",
       "      <td>0.0</td>\n",
       "      <td>0.0</td>\n",
       "      <td>0.0</td>\n",
       "      <td>0.0</td>\n",
       "      <td>0.0</td>\n",
       "      <td>0.0</td>\n",
       "      <td>0.0</td>\n",
       "      <td>0.0</td>\n",
       "      <td>0.0</td>\n",
       "      <td>...</td>\n",
       "      <td>2.083333</td>\n",
       "      <td>2.0</td>\n",
       "      <td>0.0</td>\n",
       "      <td>0.0</td>\n",
       "      <td>3.416667</td>\n",
       "      <td>0.0</td>\n",
       "      <td>4.5</td>\n",
       "      <td>3.333333</td>\n",
       "      <td>0.0</td>\n",
       "      <td>5.0</td>\n",
       "    </tr>\n",
       "    <tr>\n",
       "      <th>math20b</th>\n",
       "      <td>0.208333</td>\n",
       "      <td>1.125</td>\n",
       "      <td>0.558333</td>\n",
       "      <td>0.191667</td>\n",
       "      <td>1.216667</td>\n",
       "      <td>0.95</td>\n",
       "      <td>0.0</td>\n",
       "      <td>0.25</td>\n",
       "      <td>0.5</td>\n",
       "      <td>0.508333</td>\n",
       "      <td>...</td>\n",
       "      <td>0.0</td>\n",
       "      <td>0.0</td>\n",
       "      <td>0.0</td>\n",
       "      <td>0.0</td>\n",
       "      <td>0.0</td>\n",
       "      <td>0.0</td>\n",
       "      <td>0.0</td>\n",
       "      <td>0.0</td>\n",
       "      <td>0.0</td>\n",
       "      <td>2.0</td>\n",
       "    </tr>\n",
       "    <tr>\n",
       "      <th>math20c</th>\n",
       "      <td>0.0</td>\n",
       "      <td>0.0</td>\n",
       "      <td>0.0</td>\n",
       "      <td>0.0</td>\n",
       "      <td>0.0</td>\n",
       "      <td>0.0</td>\n",
       "      <td>0.0</td>\n",
       "      <td>0.0</td>\n",
       "      <td>0.0</td>\n",
       "      <td>0.0</td>\n",
       "      <td>...</td>\n",
       "      <td>0.0</td>\n",
       "      <td>0.0</td>\n",
       "      <td>0.0</td>\n",
       "      <td>0.0</td>\n",
       "      <td>0.0</td>\n",
       "      <td>0.0</td>\n",
       "      <td>0.0</td>\n",
       "      <td>0.0</td>\n",
       "      <td>0.0</td>\n",
       "      <td>3.0</td>\n",
       "    </tr>\n",
       "    <tr>\n",
       "      <th>math20e</th>\n",
       "      <td>0.0</td>\n",
       "      <td>0.0</td>\n",
       "      <td>0.0</td>\n",
       "      <td>0.0</td>\n",
       "      <td>0.0</td>\n",
       "      <td>0.0</td>\n",
       "      <td>0.0</td>\n",
       "      <td>0.0</td>\n",
       "      <td>0.0</td>\n",
       "      <td>0.0</td>\n",
       "      <td>...</td>\n",
       "      <td>0.0</td>\n",
       "      <td>0.0</td>\n",
       "      <td>0.0</td>\n",
       "      <td>0.0</td>\n",
       "      <td>0.0</td>\n",
       "      <td>0.0</td>\n",
       "      <td>0.0</td>\n",
       "      <td>0.0</td>\n",
       "      <td>0.0</td>\n",
       "      <td>4.0</td>\n",
       "    </tr>\n",
       "    <tr>\n",
       "      <th>pp</th>\n",
       "      <td>0.0</td>\n",
       "      <td>0.0</td>\n",
       "      <td>0.0</td>\n",
       "      <td>0.0</td>\n",
       "      <td>0.483333</td>\n",
       "      <td>0.0</td>\n",
       "      <td>0.0</td>\n",
       "      <td>0.0</td>\n",
       "      <td>0.183333</td>\n",
       "      <td>0.0</td>\n",
       "      <td>...</td>\n",
       "      <td>0.333333</td>\n",
       "      <td>0.0</td>\n",
       "      <td>3.0</td>\n",
       "      <td>0.5</td>\n",
       "      <td>0.0</td>\n",
       "      <td>0.0</td>\n",
       "      <td>0.0</td>\n",
       "      <td>0.0</td>\n",
       "      <td>1.0</td>\n",
       "      <td>5.0</td>\n",
       "    </tr>\n",
       "    <tr>\n",
       "      <th>reading</th>\n",
       "      <td>0.0</td>\n",
       "      <td>0.0</td>\n",
       "      <td>0.0</td>\n",
       "      <td>0.0</td>\n",
       "      <td>0.0</td>\n",
       "      <td>0.0</td>\n",
       "      <td>0.0</td>\n",
       "      <td>0.0</td>\n",
       "      <td>0.0</td>\n",
       "      <td>0.0</td>\n",
       "      <td>...</td>\n",
       "      <td>0.0</td>\n",
       "      <td>0.0</td>\n",
       "      <td>0.0</td>\n",
       "      <td>0.0</td>\n",
       "      <td>0.0</td>\n",
       "      <td>0.0</td>\n",
       "      <td>0.0</td>\n",
       "      <td>0.0</td>\n",
       "      <td>0.0</td>\n",
       "      <td>2.0</td>\n",
       "    </tr>\n",
       "    <tr>\n",
       "      <th>salk</th>\n",
       "      <td>0.0</td>\n",
       "      <td>0.0</td>\n",
       "      <td>0.0</td>\n",
       "      <td>0.0</td>\n",
       "      <td>0.0</td>\n",
       "      <td>0.0</td>\n",
       "      <td>0.0</td>\n",
       "      <td>0.0</td>\n",
       "      <td>0.0</td>\n",
       "      <td>0.0</td>\n",
       "      <td>...</td>\n",
       "      <td>2.0</td>\n",
       "      <td>8.0</td>\n",
       "      <td>0.0</td>\n",
       "      <td>0.0</td>\n",
       "      <td>0.75</td>\n",
       "      <td>0.0</td>\n",
       "      <td>0.916667</td>\n",
       "      <td>2.5</td>\n",
       "      <td>3.833333</td>\n",
       "      <td>5.0</td>\n",
       "    </tr>\n",
       "    <tr>\n",
       "      <th>total</th>\n",
       "      <td>1.8</td>\n",
       "      <td>4.55</td>\n",
       "      <td>2.375</td>\n",
       "      <td>2.45</td>\n",
       "      <td>3.691667</td>\n",
       "      <td>2.711111</td>\n",
       "      <td>1.495833</td>\n",
       "      <td>1.55</td>\n",
       "      <td>2.433333</td>\n",
       "      <td>1.320833</td>\n",
       "      <td>...</td>\n",
       "      <td>11.416667</td>\n",
       "      <td>15.5</td>\n",
       "      <td>12.166667</td>\n",
       "      <td>11.5</td>\n",
       "      <td>11.166667</td>\n",
       "      <td>12.633333</td>\n",
       "      <td>10.5</td>\n",
       "      <td>13.5</td>\n",
       "      <td>7.833333</td>\n",
       "      <td>NaN</td>\n",
       "    </tr>\n",
       "    <tr>\n",
       "      <th>training</th>\n",
       "      <td>0.0</td>\n",
       "      <td>0.0</td>\n",
       "      <td>0.0</td>\n",
       "      <td>0.0</td>\n",
       "      <td>0.0</td>\n",
       "      <td>0.0</td>\n",
       "      <td>0.0</td>\n",
       "      <td>0.0</td>\n",
       "      <td>0.0</td>\n",
       "      <td>0.0</td>\n",
       "      <td>...</td>\n",
       "      <td>0.0</td>\n",
       "      <td>0.0</td>\n",
       "      <td>0.5</td>\n",
       "      <td>1.5</td>\n",
       "      <td>0.0</td>\n",
       "      <td>1.5</td>\n",
       "      <td>1.5</td>\n",
       "      <td>0.0</td>\n",
       "      <td>2.0</td>\n",
       "      <td>3.0</td>\n",
       "    </tr>\n",
       "    <tr>\n",
       "      <th>week</th>\n",
       "      <td>0.0</td>\n",
       "      <td>0.0</td>\n",
       "      <td>0.0</td>\n",
       "      <td>0.0</td>\n",
       "      <td>0.0</td>\n",
       "      <td>0.0</td>\n",
       "      <td>0.0</td>\n",
       "      <td>0.0</td>\n",
       "      <td>0.0</td>\n",
       "      <td>0.0</td>\n",
       "      <td>...</td>\n",
       "      <td>10.0</td>\n",
       "      <td>10.0</td>\n",
       "      <td>10.0</td>\n",
       "      <td>10.0</td>\n",
       "      <td>11.0</td>\n",
       "      <td>11.0</td>\n",
       "      <td>11.0</td>\n",
       "      <td>11.0</td>\n",
       "      <td>11.0</td>\n",
       "      <td>NaN</td>\n",
       "    </tr>\n",
       "  </tbody>\n",
       "</table>\n",
       "<p>38 rows × 425 columns</p>\n",
       "</div>"
      ],
      "text/plain": [
       "                                     0                    1  \\\n",
       "bild1                              0.0                  0.0   \n",
       "bild22                             0.0                  0.0   \n",
       "cogs107a                           0.0                  0.0   \n",
       "cogs107b                           0.0                  0.0   \n",
       "cogs14a                            0.0                  0.0   \n",
       "cogs14b                            0.0                  0.0   \n",
       "cogs153                            0.0                  0.0   \n",
       "cogs17                             0.0                  0.0   \n",
       "cogs87                             0.0                  0.0   \n",
       "cogs9                              0.0                  0.0   \n",
       "cse257                             0.0                  0.0   \n",
       "date               2022-10-21 00:00:00  2022-10-22 00:00:00   \n",
       "doc1                               0.0                  0.0   \n",
       "doc2                               0.0                  0.0   \n",
       "doc3                               0.0                  0.0   \n",
       "ds_summer_project                  0.0                  0.0   \n",
       "dsc10                            0.225                  1.7   \n",
       "dsc20                              0.0                  0.0   \n",
       "dsc30                              0.0                  0.0   \n",
       "dsc40a                             0.0                  0.0   \n",
       "dsc40b                             0.0                  0.0   \n",
       "dsc80                              0.0                  0.0   \n",
       "ex_phys                            0.0                  0.0   \n",
       "exam                             0.525                  0.0   \n",
       "fmp                                0.0                  0.0   \n",
       "kdd/ds3/tnt                        0.0                  0.0   \n",
       "math18                           1.025             0.608333   \n",
       "math180a                           0.0                  0.0   \n",
       "math180b                           0.0                  0.0   \n",
       "math20b                       0.208333                1.125   \n",
       "math20c                            0.0                  0.0   \n",
       "math20e                            0.0                  0.0   \n",
       "pp                                 0.0                  0.0   \n",
       "reading                            0.0                  0.0   \n",
       "salk                               0.0                  0.0   \n",
       "total                              1.8                 4.55   \n",
       "training                           0.0                  0.0   \n",
       "week                               0.0                  0.0   \n",
       "\n",
       "                                     2                    3  \\\n",
       "bild1                              0.0                  0.0   \n",
       "bild22                             0.0                  0.0   \n",
       "cogs107a                           0.0                  0.0   \n",
       "cogs107b                           0.0                  0.0   \n",
       "cogs14a                            0.0                  0.0   \n",
       "cogs14b                            0.0                  0.0   \n",
       "cogs153                            0.0                  0.0   \n",
       "cogs17                             0.0                  0.0   \n",
       "cogs87                             0.0                  0.0   \n",
       "cogs9                              0.0             0.158333   \n",
       "cse257                             0.0                  0.0   \n",
       "date               2022-10-23 00:00:00  2022-10-24 00:00:00   \n",
       "doc1                          0.208333                 0.25   \n",
       "doc2                               0.0                  0.0   \n",
       "doc3                               0.0                  0.0   \n",
       "ds_summer_project                  0.0                  0.0   \n",
       "dsc10                            0.875                 0.25   \n",
       "dsc20                              0.0                  0.0   \n",
       "dsc30                              0.0                  0.0   \n",
       "dsc40a                             0.0                  0.0   \n",
       "dsc40b                             0.0                  0.0   \n",
       "dsc80                              0.0                  0.0   \n",
       "ex_phys                            0.0                  0.0   \n",
       "exam                               0.0                  0.0   \n",
       "fmp                                0.0                  0.0   \n",
       "kdd/ds3/tnt                        0.0                  0.0   \n",
       "math18                          0.6125                1.475   \n",
       "math180a                           0.0                  0.0   \n",
       "math180b                           0.0                  0.0   \n",
       "math20b                       0.558333             0.191667   \n",
       "math20c                            0.0                  0.0   \n",
       "math20e                            0.0                  0.0   \n",
       "pp                                 0.0                  0.0   \n",
       "reading                            0.0                  0.0   \n",
       "salk                               0.0                  0.0   \n",
       "total                            2.375                 2.45   \n",
       "training                           0.0                  0.0   \n",
       "week                               0.0                  0.0   \n",
       "\n",
       "                                     4                    5  \\\n",
       "bild1                              0.0                  0.0   \n",
       "bild22                             0.0                  0.0   \n",
       "cogs107a                           0.0                  0.0   \n",
       "cogs107b                           0.0                  0.0   \n",
       "cogs14a                            0.0                  0.0   \n",
       "cogs14b                            0.0                  0.0   \n",
       "cogs153                            0.0                  0.0   \n",
       "cogs17                             0.0                  0.0   \n",
       "cogs87                             0.0                  0.0   \n",
       "cogs9                              0.0             0.627778   \n",
       "cse257                             0.0                  0.0   \n",
       "date               2022-10-25 00:00:00  2022-10-26 00:00:00   \n",
       "doc1                               0.1                  0.0   \n",
       "doc2                               0.0                  0.0   \n",
       "doc3                               0.0                  0.0   \n",
       "ds_summer_project                  0.0                  0.0   \n",
       "dsc10                             0.75                 0.35   \n",
       "dsc20                              0.0                  0.0   \n",
       "dsc30                              0.0                  0.0   \n",
       "dsc40a                             0.0                  0.0   \n",
       "dsc40b                             0.0                  0.0   \n",
       "dsc80                              0.0                  0.0   \n",
       "ex_phys                            0.0                  0.0   \n",
       "exam                               0.0                  0.0   \n",
       "fmp                                0.0                  0.0   \n",
       "kdd/ds3/tnt                        0.0                  0.0   \n",
       "math18                           1.125             0.727778   \n",
       "math180a                           0.0                  0.0   \n",
       "math180b                           0.0                  0.0   \n",
       "math20b                       1.216667                 0.95   \n",
       "math20c                            0.0                  0.0   \n",
       "math20e                            0.0                  0.0   \n",
       "pp                            0.483333                  0.0   \n",
       "reading                            0.0                  0.0   \n",
       "salk                               0.0                  0.0   \n",
       "total                         3.691667             2.711111   \n",
       "training                           0.0                  0.0   \n",
       "week                               0.0                  0.0   \n",
       "\n",
       "                                     6                    7  \\\n",
       "bild1                              0.0                  0.0   \n",
       "bild22                             0.0                  0.0   \n",
       "cogs107a                           0.0                  0.0   \n",
       "cogs107b                           0.0                  0.0   \n",
       "cogs14a                            0.0                  0.0   \n",
       "cogs14b                            0.0                  0.0   \n",
       "cogs153                            0.0                  0.0   \n",
       "cogs17                             0.0                  0.0   \n",
       "cogs87                             0.0                  0.0   \n",
       "cogs9                              0.0                 0.75   \n",
       "cse257                             0.0                  0.0   \n",
       "date               2022-10-27 00:00:00  2022-10-28 00:00:00   \n",
       "doc1                          0.529167                  0.0   \n",
       "doc2                               0.0                  0.0   \n",
       "doc3                               0.0                  0.0   \n",
       "ds_summer_project                  0.0                  0.0   \n",
       "dsc10                         0.904167                  0.0   \n",
       "dsc20                              0.0                  0.0   \n",
       "dsc30                              0.0                  0.0   \n",
       "dsc40a                             0.0                  0.0   \n",
       "dsc40b                             0.0                  0.0   \n",
       "dsc80                              0.0                  0.0   \n",
       "ex_phys                            0.0                  0.0   \n",
       "exam                               0.0                  0.0   \n",
       "fmp                                0.0                  0.0   \n",
       "kdd/ds3/tnt                        0.0                  0.0   \n",
       "math18                             0.0                 0.45   \n",
       "math180a                           0.0                  0.0   \n",
       "math180b                           0.0                  0.0   \n",
       "math20b                            0.0                 0.25   \n",
       "math20c                            0.0                  0.0   \n",
       "math20e                            0.0                  0.0   \n",
       "pp                                 0.0                  0.0   \n",
       "reading                            0.0                  0.0   \n",
       "salk                               0.0                  0.0   \n",
       "total                         1.495833                 1.55   \n",
       "training                           0.0                  0.0   \n",
       "week                               0.0                  0.0   \n",
       "\n",
       "                                     8                    9  ...  \\\n",
       "bild1                              0.0                  0.0  ...   \n",
       "bild22                             0.0                  0.0  ...   \n",
       "cogs107a                           0.0                  0.0  ...   \n",
       "cogs107b                           0.0                  0.0  ...   \n",
       "cogs14a                            0.0                  0.0  ...   \n",
       "cogs14b                            0.0                  0.0  ...   \n",
       "cogs153                            0.0                  0.0  ...   \n",
       "cogs17                             0.0                  0.0  ...   \n",
       "cogs87                             0.0                  0.0  ...   \n",
       "cogs9                              0.0                  0.0  ...   \n",
       "cse257                             0.0                  0.0  ...   \n",
       "date               2022-10-29 00:00:00  2022-10-30 00:00:00  ...   \n",
       "doc1                               0.0                  0.0  ...   \n",
       "doc2                               0.0                  0.0  ...   \n",
       "doc3                               0.0                  0.0  ...   \n",
       "ds_summer_project                  0.0                  0.0  ...   \n",
       "dsc10                              0.0               0.8125  ...   \n",
       "dsc20                              0.0                  0.0  ...   \n",
       "dsc30                              0.0                  0.0  ...   \n",
       "dsc40a                             0.0                  0.0  ...   \n",
       "dsc40b                             0.0                  0.0  ...   \n",
       "dsc80                              0.0                  0.0  ...   \n",
       "ex_phys                            0.0                  0.0  ...   \n",
       "exam                               0.0                  0.0  ...   \n",
       "fmp                                0.0                  0.0  ...   \n",
       "kdd/ds3/tnt                        0.0                  0.0  ...   \n",
       "math18                           1.125                  0.0  ...   \n",
       "math180a                           0.0                  0.0  ...   \n",
       "math180b                           0.0                  0.0  ...   \n",
       "math20b                            0.5             0.508333  ...   \n",
       "math20c                            0.0                  0.0  ...   \n",
       "math20e                            0.0                  0.0  ...   \n",
       "pp                            0.183333                  0.0  ...   \n",
       "reading                            0.0                  0.0  ...   \n",
       "salk                               0.0                  0.0  ...   \n",
       "total                         2.433333             1.320833  ...   \n",
       "training                           0.0                  0.0  ...   \n",
       "week                               0.0                  0.0  ...   \n",
       "\n",
       "                                   415                  416  \\\n",
       "bild1                              0.0                  0.0   \n",
       "bild22                             0.0                  0.0   \n",
       "cogs107a                           0.0                  0.0   \n",
       "cogs107b                           0.0                  0.0   \n",
       "cogs14a                            0.0                  0.0   \n",
       "cogs14b                            0.0                  0.0   \n",
       "cogs153                            0.0                  0.0   \n",
       "cogs17                             0.0                  0.0   \n",
       "cogs87                             0.0                  0.0   \n",
       "cogs9                              0.0                  0.0   \n",
       "cse257                             2.0                  0.0   \n",
       "date               2024-03-14 00:00:00  2024-03-15 00:00:00   \n",
       "doc1                               0.0                  0.0   \n",
       "doc2                               0.0                  0.0   \n",
       "doc3                               0.0                  0.0   \n",
       "ds_summer_project                  0.0                  0.0   \n",
       "dsc10                              0.0                  0.0   \n",
       "dsc20                              0.0                  0.0   \n",
       "dsc30                              0.0                  0.0   \n",
       "dsc40a                             0.0                  0.0   \n",
       "dsc40b                             0.0                  0.0   \n",
       "dsc80                              5.0                  5.5   \n",
       "ex_phys                            0.0                  0.0   \n",
       "exam                               0.0                  0.0   \n",
       "fmp                                0.0                  0.0   \n",
       "kdd/ds3/tnt                        0.0                  0.0   \n",
       "math18                             0.0                  0.0   \n",
       "math180a                           0.0                  0.0   \n",
       "math180b                      2.083333                  2.0   \n",
       "math20b                            0.0                  0.0   \n",
       "math20c                            0.0                  0.0   \n",
       "math20e                            0.0                  0.0   \n",
       "pp                            0.333333                  0.0   \n",
       "reading                            0.0                  0.0   \n",
       "salk                               2.0                  8.0   \n",
       "total                        11.416667                 15.5   \n",
       "training                           0.0                  0.0   \n",
       "week                              10.0                 10.0   \n",
       "\n",
       "                                   417                  418  \\\n",
       "bild1                              0.0                  0.0   \n",
       "bild22                             0.0                  0.0   \n",
       "cogs107a                           0.0                  0.0   \n",
       "cogs107b                      3.333333                  1.5   \n",
       "cogs14a                            0.0                  0.0   \n",
       "cogs14b                            0.0                  0.0   \n",
       "cogs153                            0.0                  0.0   \n",
       "cogs17                             0.0                  0.0   \n",
       "cogs87                             0.0                  0.0   \n",
       "cogs9                              0.0                  0.0   \n",
       "cse257                             0.0                  0.0   \n",
       "date               2024-03-16 00:00:00  2024-03-17 00:00:00   \n",
       "doc1                               0.0                  0.0   \n",
       "doc2                               0.0                  0.0   \n",
       "doc3                               0.0                  0.0   \n",
       "ds_summer_project                  0.0                  0.0   \n",
       "dsc10                              0.0                  0.0   \n",
       "dsc20                              0.0                  0.0   \n",
       "dsc30                              0.0                  0.0   \n",
       "dsc40a                             0.0                  0.0   \n",
       "dsc40b                             0.0                  0.0   \n",
       "dsc80                         5.333333                  8.0   \n",
       "ex_phys                            0.0                  0.0   \n",
       "exam                               0.0                  0.0   \n",
       "fmp                                0.0                  0.0   \n",
       "kdd/ds3/tnt                        0.0                  0.0   \n",
       "math18                             0.0                  0.0   \n",
       "math180a                           0.0                  0.0   \n",
       "math180b                           0.0                  0.0   \n",
       "math20b                            0.0                  0.0   \n",
       "math20c                            0.0                  0.0   \n",
       "math20e                            0.0                  0.0   \n",
       "pp                                 3.0                  0.5   \n",
       "reading                            0.0                  0.0   \n",
       "salk                               0.0                  0.0   \n",
       "total                        12.166667                 11.5   \n",
       "training                           0.5                  1.5   \n",
       "week                              10.0                 10.0   \n",
       "\n",
       "                                   419                  420  \\\n",
       "bild1                              0.0                  0.0   \n",
       "bild22                             0.0                  0.0   \n",
       "cogs107a                           0.0                  0.0   \n",
       "cogs107b                           0.0                  1.5   \n",
       "cogs14a                            0.0                  0.0   \n",
       "cogs14b                            0.0                  0.0   \n",
       "cogs153                            0.0                  0.0   \n",
       "cogs17                             0.0                  0.0   \n",
       "cogs87                             0.0                  0.0   \n",
       "cogs9                              0.0                  0.0   \n",
       "cse257                             0.0                  0.0   \n",
       "date               2024-03-18 00:00:00  2024-03-19 00:00:00   \n",
       "doc1                               0.0                  0.0   \n",
       "doc2                               0.0                  0.0   \n",
       "doc3                               0.0                  0.0   \n",
       "ds_summer_project                  0.0                  0.0   \n",
       "dsc10                              0.0                  0.0   \n",
       "dsc20                              0.0                  0.0   \n",
       "dsc30                              0.0                  0.0   \n",
       "dsc40a                             0.0                  0.0   \n",
       "dsc40b                             0.0                  0.0   \n",
       "dsc80                              7.0             9.633333   \n",
       "ex_phys                            0.0                  0.0   \n",
       "exam                               0.0                  0.0   \n",
       "fmp                                0.0                  0.0   \n",
       "kdd/ds3/tnt                        0.0                  0.0   \n",
       "math18                             0.0                  0.0   \n",
       "math180a                           0.0                  0.0   \n",
       "math180b                      3.416667                  0.0   \n",
       "math20b                            0.0                  0.0   \n",
       "math20c                            0.0                  0.0   \n",
       "math20e                            0.0                  0.0   \n",
       "pp                                 0.0                  0.0   \n",
       "reading                            0.0                  0.0   \n",
       "salk                              0.75                  0.0   \n",
       "total                        11.166667            12.633333   \n",
       "training                           0.0                  1.5   \n",
       "week                              11.0                 11.0   \n",
       "\n",
       "                                   421                  422  \\\n",
       "bild1                              0.0                  0.0   \n",
       "bild22                             0.0                  0.0   \n",
       "cogs107a                           0.0                  0.0   \n",
       "cogs107b                           0.0                  0.0   \n",
       "cogs14a                            0.0                  0.0   \n",
       "cogs14b                            0.0                  0.0   \n",
       "cogs153                            0.0                  0.0   \n",
       "cogs17                             0.0                  0.0   \n",
       "cogs87                             0.0                  0.0   \n",
       "cogs9                              0.0                  0.0   \n",
       "cse257                             0.0                  0.0   \n",
       "date               2024-03-20 00:00:00  2024-03-21 00:00:00   \n",
       "doc1                               0.0                  0.0   \n",
       "doc2                               0.0                  0.0   \n",
       "doc3                               0.0                  0.0   \n",
       "ds_summer_project                  0.0                  0.0   \n",
       "dsc10                              0.0                  0.0   \n",
       "dsc20                              0.0                  0.0   \n",
       "dsc30                              0.0                  0.0   \n",
       "dsc40a                             0.0                  0.0   \n",
       "dsc40b                             0.0                  0.0   \n",
       "dsc80                         2.416667             7.666667   \n",
       "ex_phys                            0.0                  0.0   \n",
       "exam                               0.0                  0.0   \n",
       "fmp                           1.166667                  0.0   \n",
       "kdd/ds3/tnt                        0.0                  0.0   \n",
       "math18                             0.0                  0.0   \n",
       "math180a                           0.0                  0.0   \n",
       "math180b                           4.5             3.333333   \n",
       "math20b                            0.0                  0.0   \n",
       "math20c                            0.0                  0.0   \n",
       "math20e                            0.0                  0.0   \n",
       "pp                                 0.0                  0.0   \n",
       "reading                            0.0                  0.0   \n",
       "salk                          0.916667                  2.5   \n",
       "total                             10.5                 13.5   \n",
       "training                           1.5                  0.0   \n",
       "week                              11.0                 11.0   \n",
       "\n",
       "                                   423 hardness  \n",
       "bild1                              0.0      2.0  \n",
       "bild22                             0.0      4.0  \n",
       "cogs107a                           0.0      3.0  \n",
       "cogs107b                           0.0      3.0  \n",
       "cogs14a                            0.0      1.0  \n",
       "cogs14b                            0.0      1.0  \n",
       "cogs153                            0.0      1.0  \n",
       "cogs17                             0.0      3.0  \n",
       "cogs87                             0.0      1.0  \n",
       "cogs9                              0.0      2.0  \n",
       "cse257                             0.0      3.0  \n",
       "date               2024-03-24 00:00:00      NaN  \n",
       "doc1                               0.0      1.0  \n",
       "doc2                               0.0      2.0  \n",
       "doc3                               0.0      3.0  \n",
       "ds_summer_project                  0.0      2.0  \n",
       "dsc10                              0.0      2.0  \n",
       "dsc20                              0.0      4.0  \n",
       "dsc30                              0.0      4.0  \n",
       "dsc40a                             0.0      3.0  \n",
       "dsc40b                             0.0      4.0  \n",
       "dsc80                              1.0      5.0  \n",
       "ex_phys                            0.0      3.0  \n",
       "exam                               0.0      2.0  \n",
       "fmp                                0.0      3.0  \n",
       "kdd/ds3/tnt                        0.0      1.0  \n",
       "math18                             0.0      2.0  \n",
       "math180a                           0.0      3.0  \n",
       "math180b                           0.0      5.0  \n",
       "math20b                            0.0      2.0  \n",
       "math20c                            0.0      3.0  \n",
       "math20e                            0.0      4.0  \n",
       "pp                                 1.0      5.0  \n",
       "reading                            0.0      2.0  \n",
       "salk                          3.833333      5.0  \n",
       "total                         7.833333      NaN  \n",
       "training                           2.0      3.0  \n",
       "week                              11.0      NaN  \n",
       "\n",
       "[38 rows x 425 columns]"
      ]
     },
     "execution_count": 27,
     "metadata": {},
     "output_type": "execute_result"
    }
   ],
   "source": [
    "clean_study.T.merge(hardness_class, left_index=True, right_index=True, how='outer')"
   ]
  },
  {
   "cell_type": "code",
   "execution_count": null,
   "metadata": {},
   "outputs": [],
   "source": []
  },
  {
   "cell_type": "code",
   "execution_count": null,
   "metadata": {},
   "outputs": [],
   "source": []
  }
 ],
 "metadata": {
  "kernelspec": {
   "display_name": "dsc80",
   "language": "python",
   "name": "python3"
  },
  "language_info": {
   "codemirror_mode": {
    "name": "ipython",
    "version": 3
   },
   "file_extension": ".py",
   "mimetype": "text/x-python",
   "name": "python",
   "nbconvert_exporter": "python",
   "pygments_lexer": "ipython3",
   "version": "3.8.18"
  }
 },
 "nbformat": 4,
 "nbformat_minor": 2
}
