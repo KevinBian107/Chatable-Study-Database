{
 "cells": [
  {
   "cell_type": "markdown",
   "metadata": {},
   "source": [
    "# Explorative Data Analysis"
   ]
  },
  {
   "cell_type": "code",
   "execution_count": 204,
   "metadata": {},
   "outputs": [],
   "source": [
    "import pandas as pd\n",
    "import numpy as np\n",
    "from pathlib import Path\n",
    "import plotly.express as px\n",
    "pd.options.plotting.backend = 'plotly'\n",
    "from itertools import chain\n",
    "import re"
   ]
  },
  {
   "cell_type": "code",
   "execution_count": 148,
   "metadata": {},
   "outputs": [],
   "source": [
    "# study time\n",
    "fall_2022 = pd.read_csv('2022_fall_study.csv')\n",
    "winter_2023 = pd.read_csv('2023_winter_study.csv')\n",
    "spring_2023 = pd.read_csv('2023_spring_study.csv')\n",
    "summer_2023 = pd.read_csv('2023_summer_study.csv')\n",
    "fall_2023 = pd.read_csv('2023_fall_study.csv')"
   ]
  },
  {
   "cell_type": "code",
   "execution_count": 152,
   "metadata": {},
   "outputs": [],
   "source": [
    "# text data\n",
    "fall_2022_text = pd.read_csv('2022_fall_text.csv')\n",
    "winter_2023_text = pd.read_csv('2023_winter_text.csv')\n",
    "spring_2023_text = pd.read_csv('2023_spring_text.csv')\n",
    "summer_2023_text = pd.read_csv('2023_summer_text.csv')\n",
    "fall_2023_text = pd.read_csv('2023_fall_text.csv')"
   ]
  },
  {
   "cell_type": "code",
   "execution_count": 153,
   "metadata": {},
   "outputs": [],
   "source": [
    "df = pd.concat([fall_2022, winter_2023, spring_2023, summer_2023, fall_2023], axis=0)\n",
    "text = pd.concat([fall_2022_text, winter_2023_text, spring_2023_text, summer_2023_text, fall_2023_text], axis=0)"
   ]
  },
  {
   "cell_type": "code",
   "execution_count": 137,
   "metadata": {},
   "outputs": [],
   "source": [
    "format = '%m/%d/%y'\n",
    "df['date'] = pd.to_datetime(df['date'],format=format)"
   ]
  },
  {
   "cell_type": "code",
   "execution_count": 164,
   "metadata": {},
   "outputs": [],
   "source": [
    "grouped = df.groupby('date').mean().fillna(0).reset_index()\n",
    "grouped_text = text.groupby('Time').sum().reset_index()[['Time', 'Study Materials']]"
   ]
  },
  {
   "cell_type": "code",
   "execution_count": 207,
   "metadata": {},
   "outputs": [
    {
     "data": {
      "text/plain": [
       "0      Intro to stat reading, New Year Resolution, Sp...\n",
       "1      DSC 20 Note, BILD 22 Note, Scheduling and Cale...\n",
       "2      Math 20C Note Lecture 1, Math 20C textbook pur...\n",
       "3      Math 20C Note  Lecture 2, DSC 20 Note Lecture ...\n",
       "4      DSC20 zybooks c1 (50m), DSC20 zybooks c2 (33m)...\n",
       "                             ...                        \n",
       "331             Bio Notes (120m), Reflection Notes (20m)\n",
       "332    Training (120m), bio notes and understanding (...\n",
       "333    Reading (30m), Training (60m), Bio notes (90m)...\n",
       "334    Reading (60m), Intel meeting (120m), Notes (60...\n",
       "335    Tri Train (120m), Ex-Phys Class (100m), Cogs 1...\n",
       "Name: Study Materials, Length: 336, dtype: object"
      ]
     },
     "execution_count": 207,
     "metadata": {},
     "output_type": "execute_result"
    }
   ],
   "source": [
    "grouped_text['Study Materials']"
   ]
  },
  {
   "cell_type": "code",
   "execution_count": 255,
   "metadata": {},
   "outputs": [],
   "source": [
    "split_text = (grouped_text['Study Materials']\n",
    "              .str.lower()\n",
    "              .str.replace(r'\\([\\d]*m\\)','',regex=True)\n",
    "              .str.replace(',','')\n",
    "              .str.strip()\n",
    "              .str.split(' '))\n",
    "\n",
    "tokens = split_text.explode().to_list()"
   ]
  },
  {
   "cell_type": "code",
   "execution_count": 257,
   "metadata": {},
   "outputs": [
    {
     "data": {
      "text/plain": [
       "7632"
      ]
     },
     "execution_count": 257,
     "metadata": {},
     "output_type": "execute_result"
    }
   ],
   "source": [
    "len(tokens)"
   ]
  },
  {
   "cell_type": "code",
   "execution_count": 183,
   "metadata": {},
   "outputs": [],
   "source": [
    "# px.scatter(grouped,x='date',y='total', title='total study_time over time',trendline='lowess')"
   ]
  },
  {
   "cell_type": "code",
   "execution_count": 181,
   "metadata": {},
   "outputs": [],
   "source": [
    "# px.scatter_matrix(df, ['total','week','training'])"
   ]
  }
 ],
 "metadata": {
  "kernelspec": {
   "display_name": "dsc80",
   "language": "python",
   "name": "python3"
  },
  "language_info": {
   "codemirror_mode": {
    "name": "ipython",
    "version": 3
   },
   "file_extension": ".py",
   "mimetype": "text/x-python",
   "name": "python",
   "nbconvert_exporter": "python",
   "pygments_lexer": "ipython3",
   "version": "3.8.18"
  }
 },
 "nbformat": 4,
 "nbformat_minor": 2
}
