{
 "cells": [
  {
   "cell_type": "markdown",
   "metadata": {},
   "source": [
    "# Textual Analysis\n",
    "You should create an seperate `yaml` for each of the project you are working on, this is a good practice in general. Thesre migt be weird issues that causes a dependency problem. For the same reason a new `yaml` file would record all the dependencies that would ensure this pipeline works for future references."
   ]
  },
  {
   "cell_type": "code",
   "execution_count": 1,
   "metadata": {},
   "outputs": [
    {
     "name": "stdout",
     "output_type": "stream",
     "text": [
      "/Users/kevinb/Desktop/dsc80/Chatable-Study-Database\n"
     ]
    },
    {
     "name": "stderr",
     "output_type": "stream",
     "text": [
      "[nltk_data] Downloading package punkt to /Users/kevinb/nltk_data...\n",
      "[nltk_data]   Package punkt is already up-to-date!\n",
      "/Users/kevinb/miniforge3/envs/ucsd_study/lib/python3.8/site-packages/tqdm/auto.py:21: TqdmWarning:\n",
      "\n",
      "IProgress not found. Please update jupyter and ipywidgets. See https://ipywidgets.readthedocs.io/en/stable/user_install.html\n",
      "\n"
     ]
    }
   ],
   "source": [
    "%load_ext autoreload\n",
    "%autoreload 2\n",
    "\n",
    "from pathlib import Path\n",
    "import sys\n",
    "\n",
    "current_folder = Path.cwd()\n",
    "parent_folder = current_folder.parent\n",
    "sys.path.insert(0, str(parent_folder))\n",
    "print(parent_folder)\n",
    "\n",
    "import plotly.io as pio\n",
    "pio.renderers.keys()\n",
    "pio.renderers.default = 'notebook' \n",
    "\n",
    "import pandas as pd\n",
    "import numpy as np\n",
    "import os\n",
    "import glob\n",
    "import nltk\n",
    "nltk.download('punkt')\n",
    "from utils.clean_text import transform_text"
   ]
  },
  {
   "cell_type": "code",
   "execution_count": 2,
   "metadata": {},
   "outputs": [
    {
     "name": "stdout",
     "output_type": "stream",
     "text": [
      "/Users/kevinb/Desktop/dsc80/Chatable-Study-Database\n",
      "Total Texts: 689\n"
     ]
    }
   ],
   "source": [
    "current_folder = Path.cwd()\n",
    "parent_folder = current_folder.parent\n",
    "os.chdir(parent_folder)\n",
    "print(parent_folder)\n",
    "\n",
    "# text data\n",
    "fall_2022_text = pd.read_csv('data/2022_fall_text.csv')\n",
    "winter_2023_text = pd.read_csv('data/2023_winter_text.csv')\n",
    "spring_2023_text = pd.read_csv('data/2023_spring_text.csv')\n",
    "summer_2023_text = pd.read_csv('data/2023_summer_text.csv')\n",
    "fall_2023_text = pd.read_csv('data/2023_fall_text.csv')\n",
    "winter_2024_text = pd.read_csv('data/2024_winter_text.csv')\n",
    "spring_2024_text = pd.read_csv('data/2024_spring_text.csv')\n",
    "summer_2024_text = pd.read_csv('data/2024_summer_text.csv')\n",
    "fall_2024_text = pd.read_csv('data/2024_fall_text.csv')\n",
    "text = pd.concat([fall_2022_text, winter_2023_text, spring_2023_text, summer_2023_text, fall_2023_text, winter_2024_text, spring_2024_text, summer_2024_text, fall_2024_text], axis=0)\n",
    "\n",
    "data_dir = 'data'\n",
    "file_pattern = os.path.join(data_dir, '*_text.csv')\n",
    "csv_files = glob.glob(file_pattern)\n",
    "csv_files.sort()\n",
    "df_list = [pd.read_csv(file) for file in csv_files]\n",
    "text = pd.concat(df_list, axis=0, ignore_index=True)\n",
    "print(f\"Total Texts: {text.shape[0]}\")"
   ]
  },
  {
   "cell_type": "code",
   "execution_count": 3,
   "metadata": {},
   "outputs": [
    {
     "data": {
      "text/html": [
       "<div>\n",
       "<style scoped>\n",
       "    .dataframe tbody tr th:only-of-type {\n",
       "        vertical-align: middle;\n",
       "    }\n",
       "\n",
       "    .dataframe tbody tr th {\n",
       "        vertical-align: top;\n",
       "    }\n",
       "\n",
       "    .dataframe thead th {\n",
       "        text-align: right;\n",
       "    }\n",
       "</style>\n",
       "<table border=\"1\" class=\"dataframe\">\n",
       "  <thead>\n",
       "    <tr style=\"text-align: right;\">\n",
       "      <th></th>\n",
       "      <th>Time</th>\n",
       "      <th>Quarter</th>\n",
       "      <th>Month</th>\n",
       "      <th>Study Materials</th>\n",
       "    </tr>\n",
       "  </thead>\n",
       "  <tbody>\n",
       "    <tr>\n",
       "      <th>0</th>\n",
       "      <td>2022-02-14</td>\n",
       "      <td>2022Q1</td>\n",
       "      <td>February</td>\n",
       "      <td>2022-02-14 | 2022Q1 | February | Book read (30...</td>\n",
       "    </tr>\n",
       "    <tr>\n",
       "      <th>1</th>\n",
       "      <td>2022-02-15</td>\n",
       "      <td>2022Q1</td>\n",
       "      <td>February</td>\n",
       "      <td>2022-02-15 | 2022Q1 | February | Nutrition rea...</td>\n",
       "    </tr>\n",
       "    <tr>\n",
       "      <th>2</th>\n",
       "      <td>2022-10-21</td>\n",
       "      <td>2022Q4</td>\n",
       "      <td>October</td>\n",
       "      <td>2022-10-21 | 2022Q4 | October |</td>\n",
       "    </tr>\n",
       "    <tr>\n",
       "      <th>3</th>\n",
       "      <td>2022-10-22</td>\n",
       "      <td>2022Q4</td>\n",
       "      <td>October</td>\n",
       "      <td>2022-10-22 | 2022Q4 | October | After consecut...</td>\n",
       "    </tr>\n",
       "    <tr>\n",
       "      <th>4</th>\n",
       "      <td>2022-10-23</td>\n",
       "      <td>2022Q4</td>\n",
       "      <td>October</td>\n",
       "      <td>2022-10-23 | 2022Q4 | October | Wolfram good t...</td>\n",
       "    </tr>\n",
       "    <tr>\n",
       "      <th>...</th>\n",
       "      <td>...</td>\n",
       "      <td>...</td>\n",
       "      <td>...</td>\n",
       "      <td>...</td>\n",
       "    </tr>\n",
       "    <tr>\n",
       "      <th>628</th>\n",
       "      <td>2024-12-11</td>\n",
       "      <td>2024Q4</td>\n",
       "      <td>December</td>\n",
       "      <td>2024-12-11 | 2024Q4 | December | RPLH eval + p...</td>\n",
       "    </tr>\n",
       "    <tr>\n",
       "      <th>629</th>\n",
       "      <td>2024-12-12</td>\n",
       "      <td>2024Q4</td>\n",
       "      <td>December</td>\n",
       "      <td>2024-12-12 | 2024Q4 | December | track-mjx mee...</td>\n",
       "    </tr>\n",
       "    <tr>\n",
       "      <th>630</th>\n",
       "      <td>2024-12-13</td>\n",
       "      <td>2024Q4</td>\n",
       "      <td>December</td>\n",
       "      <td>2024-12-13 | 2024Q4 | December | constraint ar...</td>\n",
       "    </tr>\n",
       "    <tr>\n",
       "      <th>631</th>\n",
       "      <td>2024-12-14</td>\n",
       "      <td>2024Q4</td>\n",
       "      <td>December</td>\n",
       "      <td>2024-12-14 | 2024Q4 | December | chill</td>\n",
       "    </tr>\n",
       "    <tr>\n",
       "      <th>632</th>\n",
       "      <td>2024-12-15</td>\n",
       "      <td>2024Q4</td>\n",
       "      <td>December</td>\n",
       "      <td>2024-12-15 | 2024Q4 | December | training, rpl...</td>\n",
       "    </tr>\n",
       "  </tbody>\n",
       "</table>\n",
       "<p>633 rows × 4 columns</p>\n",
       "</div>"
      ],
      "text/plain": [
       "          Time Quarter     Month  \\\n",
       "0   2022-02-14  2022Q1  February   \n",
       "1   2022-02-15  2022Q1  February   \n",
       "2   2022-10-21  2022Q4   October   \n",
       "3   2022-10-22  2022Q4   October   \n",
       "4   2022-10-23  2022Q4   October   \n",
       "..         ...     ...       ...   \n",
       "628 2024-12-11  2024Q4  December   \n",
       "629 2024-12-12  2024Q4  December   \n",
       "630 2024-12-13  2024Q4  December   \n",
       "631 2024-12-14  2024Q4  December   \n",
       "632 2024-12-15  2024Q4  December   \n",
       "\n",
       "                                       Study Materials  \n",
       "0    2022-02-14 | 2022Q1 | February | Book read (30...  \n",
       "1    2022-02-15 | 2022Q1 | February | Nutrition rea...  \n",
       "2                     2022-10-21 | 2022Q4 | October |   \n",
       "3    2022-10-22 | 2022Q4 | October | After consecut...  \n",
       "4    2022-10-23 | 2022Q4 | October | Wolfram good t...  \n",
       "..                                                 ...  \n",
       "628  2024-12-11 | 2024Q4 | December | RPLH eval + p...  \n",
       "629  2024-12-12 | 2024Q4 | December | track-mjx mee...  \n",
       "630  2024-12-13 | 2024Q4 | December | constraint ar...  \n",
       "631             2024-12-14 | 2024Q4 | December | chill  \n",
       "632  2024-12-15 | 2024Q4 | December | training, rpl...  \n",
       "\n",
       "[633 rows x 4 columns]"
      ]
     },
     "execution_count": 3,
     "metadata": {},
     "output_type": "execute_result"
    }
   ],
   "source": [
    "clean_text = text.pipe(transform_text)\n",
    "clean_text"
   ]
  },
  {
   "cell_type": "code",
   "execution_count": 4,
   "metadata": {},
   "outputs": [
    {
     "data": {
      "text/plain": [
       "18487"
      ]
     },
     "execution_count": 4,
     "metadata": {},
     "output_type": "execute_result"
    }
   ],
   "source": [
    "pre_process = (clean_text['Study Materials']\n",
    "              .str.lower()\n",
    "              .str.replace(r'\\([\\d]*m\\)','',regex=True)\n",
    "              .str.replace(',','')\n",
    "              .str.strip())\n",
    "\n",
    "corpus = ' '.join(pre_process.astype(str).to_list())\n",
    "tokens = nltk.tokenize.word_tokenize(corpus, language='english')\n",
    "len(tokens)"
   ]
  },
  {
   "cell_type": "markdown",
   "metadata": {},
   "source": [
    "# Making Chat Familier With My Data"
   ]
  },
  {
   "cell_type": "markdown",
   "metadata": {},
   "source": [
    "Using either of `sentence-transformer`, `nltk`, `openai`, `langchain`, or related stuff has many dependency issue if just pyt in a big environment, need to have a seperated contained environment."
   ]
  },
  {
   "cell_type": "code",
   "execution_count": 5,
   "metadata": {},
   "outputs": [
    {
     "name": "stderr",
     "output_type": "stream",
     "text": [
      "[nltk_data] Downloading package punkt to /Users/kevinb/nltk_data...\n",
      "[nltk_data]   Package punkt is already up-to-date!\n"
     ]
    }
   ],
   "source": [
    "import nltk\n",
    "from nltk.tokenize import sent_tokenize\n",
    "from sentence_transformers import SentenceTransformer\n",
    "import faiss\n",
    "import ast\n",
    "import openai\n",
    "import os\n",
    "\n",
    "nltk.download('punkt')\n",
    "model = SentenceTransformer('all-MiniLM-L6-v2')"
   ]
  },
  {
   "cell_type": "code",
   "execution_count": 6,
   "metadata": {},
   "outputs": [
    {
     "name": "stdout",
     "output_type": "stream",
     "text": [
      "Total chunks created: 633\n"
     ]
    },
    {
     "name": "stderr",
     "output_type": "stream",
     "text": [
      "Batches: 100%|██████████| 20/20 [00:02<00:00,  7.53it/s]"
     ]
    },
    {
     "name": "stdout",
     "output_type": "stream",
     "text": [
      "Embeddings saved to embeddings.csv\n"
     ]
    },
    {
     "name": "stderr",
     "output_type": "stream",
     "text": [
      "\n"
     ]
    }
   ],
   "source": [
    "from utils.clean_text import split_text_nltk, get_similar_chunks, generate_response\n",
    "\n",
    "documents = clean_text['Study Materials'].tolist()\n",
    "all_chunks = []\n",
    "for doc in documents:\n",
    "    chunks = split_text_nltk(doc)\n",
    "    all_chunks.extend(chunks)\n",
    "\n",
    "print(f\"Total chunks created: {len(all_chunks)}\")\n",
    "embeddings = model.encode(all_chunks, show_progress_bar=True, convert_to_tensor=False)\n",
    "\n",
    "embedding_df = pd.DataFrame({\n",
    "    'chunk': all_chunks,\n",
    "    'embedding': embeddings.tolist(),\n",
    "    'quarter': clean_text['Quarter'],\n",
    "    'time': clean_text['Time'],\n",
    "    'month':clean_text['Month']\n",
    "})\n",
    "\n",
    "embedding_df.to_csv('embeddings/embeddings.csv', index=False)\n",
    "print(\"Embeddings saved to embeddings.csv\")"
   ]
  },
  {
   "cell_type": "code",
   "execution_count": 7,
   "metadata": {},
   "outputs": [
    {
     "name": "stdout",
     "output_type": "stream",
     "text": [
      "FAISS index has 633 vectors.\n"
     ]
    }
   ],
   "source": [
    "embedding_df = pd.read_csv('embeddings/embeddings.csv')\n",
    "embedding_df['embedding'] = embedding_df['embedding'].apply(ast.literal_eval)\n",
    "\n",
    "# Convert embeddings to a NumPy array of type float32\n",
    "embeddings = np.array(embedding_df['embedding'].tolist()).astype('float32')\n",
    "\n",
    "# Initialize FAISS index and using L2 distance, can also use cosine similarity\n",
    "dimension = embeddings.shape[1]\n",
    "index = faiss.IndexFlatL2(dimension)\n",
    "\n",
    "# Add embeddings to the index\n",
    "index.add(embeddings)\n",
    "print(f\"FAISS index has {index.ntotal} vectors.\")"
   ]
  },
  {
   "cell_type": "code",
   "execution_count": 8,
   "metadata": {},
   "outputs": [
    {
     "data": {
      "text/html": [
       "<div>\n",
       "<style scoped>\n",
       "    .dataframe tbody tr th:only-of-type {\n",
       "        vertical-align: middle;\n",
       "    }\n",
       "\n",
       "    .dataframe tbody tr th {\n",
       "        vertical-align: top;\n",
       "    }\n",
       "\n",
       "    .dataframe thead th {\n",
       "        text-align: right;\n",
       "    }\n",
       "</style>\n",
       "<table border=\"1\" class=\"dataframe\">\n",
       "  <thead>\n",
       "    <tr style=\"text-align: right;\">\n",
       "      <th></th>\n",
       "      <th>chunk</th>\n",
       "      <th>embedding</th>\n",
       "      <th>quarter</th>\n",
       "      <th>time</th>\n",
       "      <th>month</th>\n",
       "    </tr>\n",
       "  </thead>\n",
       "  <tbody>\n",
       "    <tr>\n",
       "      <th>0</th>\n",
       "      <td>2022-02-14 | 2022Q1 | February | Book read (30...</td>\n",
       "      <td>[-0.03661457449197769, -0.006186727900058031, ...</td>\n",
       "      <td>2022Q1</td>\n",
       "      <td>2022-02-14</td>\n",
       "      <td>February</td>\n",
       "    </tr>\n",
       "    <tr>\n",
       "      <th>1</th>\n",
       "      <td>2022-02-15 | 2022Q1 | February | Nutrition rea...</td>\n",
       "      <td>[-0.0576658695936203, -0.05012887343764305, 0....</td>\n",
       "      <td>2022Q1</td>\n",
       "      <td>2022-02-15</td>\n",
       "      <td>February</td>\n",
       "    </tr>\n",
       "    <tr>\n",
       "      <th>2</th>\n",
       "      <td>2022-10-21 | 2022Q4 | October |</td>\n",
       "      <td>[-0.0364847257733345, -0.021536780521273613, 0...</td>\n",
       "      <td>2022Q4</td>\n",
       "      <td>2022-10-21</td>\n",
       "      <td>October</td>\n",
       "    </tr>\n",
       "    <tr>\n",
       "      <th>3</th>\n",
       "      <td>2022-10-22 | 2022Q4 | October | After consecut...</td>\n",
       "      <td>[-0.08645892143249512, -0.028704402968287468, ...</td>\n",
       "      <td>2022Q4</td>\n",
       "      <td>2022-10-22</td>\n",
       "      <td>October</td>\n",
       "    </tr>\n",
       "    <tr>\n",
       "      <th>4</th>\n",
       "      <td>2022-10-23 | 2022Q4 | October | Wolfram good t...</td>\n",
       "      <td>[-0.05059235915541649, 0.02907039225101471, -0...</td>\n",
       "      <td>2022Q4</td>\n",
       "      <td>2022-10-23</td>\n",
       "      <td>October</td>\n",
       "    </tr>\n",
       "    <tr>\n",
       "      <th>...</th>\n",
       "      <td>...</td>\n",
       "      <td>...</td>\n",
       "      <td>...</td>\n",
       "      <td>...</td>\n",
       "      <td>...</td>\n",
       "    </tr>\n",
       "    <tr>\n",
       "      <th>628</th>\n",
       "      <td>2024-12-11 | 2024Q4 | December | RPLH eval + p...</td>\n",
       "      <td>[-0.08534425497055054, 0.06758847087621689, 0....</td>\n",
       "      <td>2024Q4</td>\n",
       "      <td>2024-12-11</td>\n",
       "      <td>December</td>\n",
       "    </tr>\n",
       "    <tr>\n",
       "      <th>629</th>\n",
       "      <td>2024-12-12 | 2024Q4 | December | track-mjx mee...</td>\n",
       "      <td>[-0.030629420652985573, 0.00898802001029253, 0...</td>\n",
       "      <td>2024Q4</td>\n",
       "      <td>2024-12-12</td>\n",
       "      <td>December</td>\n",
       "    </tr>\n",
       "    <tr>\n",
       "      <th>630</th>\n",
       "      <td>2024-12-13 | 2024Q4 | December | constraint ar...</td>\n",
       "      <td>[-0.08368362486362457, 0.008619057945907116, 0...</td>\n",
       "      <td>2024Q4</td>\n",
       "      <td>2024-12-13</td>\n",
       "      <td>December</td>\n",
       "    </tr>\n",
       "    <tr>\n",
       "      <th>631</th>\n",
       "      <td>2024-12-14 | 2024Q4 | December | chill</td>\n",
       "      <td>[-0.04731657728552818, -0.005331708118319511, ...</td>\n",
       "      <td>2024Q4</td>\n",
       "      <td>2024-12-14</td>\n",
       "      <td>December</td>\n",
       "    </tr>\n",
       "    <tr>\n",
       "      <th>632</th>\n",
       "      <td>2024-12-15 | 2024Q4 | December | training, rpl...</td>\n",
       "      <td>[-0.04320665821433067, 0.013727918267250061, 0...</td>\n",
       "      <td>2024Q4</td>\n",
       "      <td>2024-12-15</td>\n",
       "      <td>December</td>\n",
       "    </tr>\n",
       "  </tbody>\n",
       "</table>\n",
       "<p>633 rows × 5 columns</p>\n",
       "</div>"
      ],
      "text/plain": [
       "                                                 chunk  \\\n",
       "0    2022-02-14 | 2022Q1 | February | Book read (30...   \n",
       "1    2022-02-15 | 2022Q1 | February | Nutrition rea...   \n",
       "2                      2022-10-21 | 2022Q4 | October |   \n",
       "3    2022-10-22 | 2022Q4 | October | After consecut...   \n",
       "4    2022-10-23 | 2022Q4 | October | Wolfram good t...   \n",
       "..                                                 ...   \n",
       "628  2024-12-11 | 2024Q4 | December | RPLH eval + p...   \n",
       "629  2024-12-12 | 2024Q4 | December | track-mjx mee...   \n",
       "630  2024-12-13 | 2024Q4 | December | constraint ar...   \n",
       "631             2024-12-14 | 2024Q4 | December | chill   \n",
       "632  2024-12-15 | 2024Q4 | December | training, rpl...   \n",
       "\n",
       "                                             embedding quarter        time  \\\n",
       "0    [-0.03661457449197769, -0.006186727900058031, ...  2022Q1  2022-02-14   \n",
       "1    [-0.0576658695936203, -0.05012887343764305, 0....  2022Q1  2022-02-15   \n",
       "2    [-0.0364847257733345, -0.021536780521273613, 0...  2022Q4  2022-10-21   \n",
       "3    [-0.08645892143249512, -0.028704402968287468, ...  2022Q4  2022-10-22   \n",
       "4    [-0.05059235915541649, 0.02907039225101471, -0...  2022Q4  2022-10-23   \n",
       "..                                                 ...     ...         ...   \n",
       "628  [-0.08534425497055054, 0.06758847087621689, 0....  2024Q4  2024-12-11   \n",
       "629  [-0.030629420652985573, 0.00898802001029253, 0...  2024Q4  2024-12-12   \n",
       "630  [-0.08368362486362457, 0.008619057945907116, 0...  2024Q4  2024-12-13   \n",
       "631  [-0.04731657728552818, -0.005331708118319511, ...  2024Q4  2024-12-14   \n",
       "632  [-0.04320665821433067, 0.013727918267250061, 0...  2024Q4  2024-12-15   \n",
       "\n",
       "        month  \n",
       "0    February  \n",
       "1    February  \n",
       "2     October  \n",
       "3     October  \n",
       "4     October  \n",
       "..        ...  \n",
       "628  December  \n",
       "629  December  \n",
       "630  December  \n",
       "631  December  \n",
       "632  December  \n",
       "\n",
       "[633 rows x 5 columns]"
      ]
     },
     "execution_count": 8,
     "metadata": {},
     "output_type": "execute_result"
    }
   ],
   "source": [
    "embedding_df"
   ]
  },
  {
   "cell_type": "code",
   "execution_count": 9,
   "metadata": {},
   "outputs": [],
   "source": [
    "api_key = \"...\" #os.getenv('OPENAI_API_KEY')"
   ]
  },
  {
   "cell_type": "code",
   "execution_count": 10,
   "metadata": {},
   "outputs": [],
   "source": [
    "# user_prompt = \"What did I mainly do in 2022 fall quarter?\"\n",
    "# similar_chunks = get_similar_chunks(user_prompt, index, embedding_df, top_k=5)\n",
    "# generate_response(user_prompt, similar_chunks, api_key=api_key)"
   ]
  },
  {
   "cell_type": "code",
   "execution_count": 11,
   "metadata": {},
   "outputs": [],
   "source": [
    "# user_prompt = \"What did I mainly do in 2023 fall quarter?\"\n",
    "# similar_chunks = get_similar_chunks(user_prompt, index, embedding_df, top_k=5)\n",
    "# generate_response(user_prompt, similar_chunks, api_key=api_key)"
   ]
  },
  {
   "cell_type": "code",
   "execution_count": 12,
   "metadata": {},
   "outputs": [],
   "source": [
    "# user_prompt = \"What did I mainly do in 2024 fall quarter?\"\n",
    "# similar_chunks = get_similar_chunks(user_prompt, index, embedding_df, top_k=5)\n",
    "# generate_response(user_prompt, similar_chunks, api_key=api_key)"
   ]
  }
 ],
 "metadata": {
  "kernelspec": {
   "display_name": "dsc80",
   "language": "python",
   "name": "python3"
  },
  "language_info": {
   "codemirror_mode": {
    "name": "ipython",
    "version": 3
   },
   "file_extension": ".py",
   "mimetype": "text/x-python",
   "name": "python",
   "nbconvert_exporter": "python",
   "pygments_lexer": "ipython3",
   "version": "3.8.20"
  }
 },
 "nbformat": 4,
 "nbformat_minor": 2
}
